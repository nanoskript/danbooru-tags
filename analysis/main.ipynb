{
 "cells": [
  {
   "cell_type": "code",
   "execution_count": 1,
   "metadata": {
    "collapsed": true
   },
   "outputs": [],
   "source": [
    "import simdjson\n",
    "\n",
    "\n",
    "# Lazy loaded proxy object.\n",
    "def load_json(path):\n",
    "    parser = simdjson.Parser()\n",
    "    return parser.load(path)"
   ]
  },
  {
   "cell_type": "code",
   "execution_count": 2,
   "outputs": [],
   "source": [
    "# Load datasets.\n",
    "tags = load_json(\"processed/tags.json\")\n",
    "posts = load_json(\"processed/posts.json\")\n",
    "tag_names_to_ids = load_json(\"processed/tag_names_to_ids.json\")\n",
    "tags_with_rankings = load_json(\"processed/tags_with_rankings.json\")\n",
    "tags_with_average_score = load_json(\"processed/tags_with_average_score.json\")"
   ],
   "metadata": {
    "collapsed": false
   }
  },
  {
   "cell_type": "code",
   "execution_count": 89,
   "outputs": [],
   "source": [
    "from collections import defaultdict\n",
    "from datetime import datetime\n",
    "import plotly.express as px\n",
    "import pandas as pd\n",
    "\n",
    "\n",
    "def plot(name, figure):\n",
    "    figure.update_layout(title_x=0.5)\n",
    "    figure.write_json(f\"processed/plots/{name}.json\")\n",
    "    figure.show()"
   ],
   "metadata": {
    "collapsed": false
   }
  },
  {
   "cell_type": "code",
   "execution_count": 4,
   "outputs": [],
   "source": [
    "# Tag category counts.\n",
    "tag_category_counts = defaultdict(int)\n",
    "for tag in tags.values():\n",
    "    tag_category_counts[tag[\"category\"]] += 1"
   ],
   "metadata": {
    "collapsed": false
   }
  },
  {
   "cell_type": "code",
   "execution_count": 5,
   "outputs": [
    {
     "data": {
      "text/plain": "defaultdict(int, {1: 245719, 4: 162764, 0: 58053, 3: 31932, 5: 392})"
     },
     "execution_count": 5,
     "metadata": {},
     "output_type": "execute_result"
    }
   ],
   "source": [
    "tag_category_counts"
   ],
   "metadata": {
    "collapsed": false
   }
  },
  {
   "cell_type": "code",
   "execution_count": 6,
   "outputs": [],
   "source": [
    "def reindex_ratings(df):\n",
    "    return df.reindex([\"s\", \"q\", \"e\"]).rename({\n",
    "        \"s\": \"Safe\",\n",
    "        \"q\": \"Questionable\",\n",
    "        \"e\": \"Explicit\",\n",
    "    })"
   ],
   "metadata": {
    "collapsed": false
   }
  },
  {
   "cell_type": "code",
   "execution_count": 7,
   "outputs": [],
   "source": [
    "# Post rating counts.\n",
    "post_rating_counts = defaultdict(int)\n",
    "for post in posts.values():\n",
    "    post_rating_counts[post[\"rating\"]] += 1"
   ],
   "metadata": {
    "collapsed": false
   }
  },
  {
   "cell_type": "code",
   "execution_count": 91,
   "outputs": [
    {
     "data": {
      "application/vnd.plotly.v1+json": {
       "data": [
        {
         "alignmentgroup": "True",
         "hovertemplate": "variable=count<br>index=%{x}<br>value=%{y}<extra></extra>",
         "legendgroup": "count",
         "marker": {
          "color": "#636efa",
          "pattern": {
           "shape": ""
          }
         },
         "name": "count",
         "offsetgroup": "count",
         "orientation": "v",
         "showlegend": true,
         "textposition": "auto",
         "x": [
          "Safe",
          "Questionable",
          "Explicit"
         ],
         "xaxis": "x",
         "y": [
          3842956,
          645706,
          389406
         ],
         "yaxis": "y",
         "type": "bar"
        }
       ],
       "layout": {
        "template": {
         "data": {
          "histogram2dcontour": [
           {
            "type": "histogram2dcontour",
            "colorbar": {
             "outlinewidth": 0,
             "ticks": ""
            },
            "colorscale": [
             [
              0.0,
              "#0d0887"
             ],
             [
              0.1111111111111111,
              "#46039f"
             ],
             [
              0.2222222222222222,
              "#7201a8"
             ],
             [
              0.3333333333333333,
              "#9c179e"
             ],
             [
              0.4444444444444444,
              "#bd3786"
             ],
             [
              0.5555555555555556,
              "#d8576b"
             ],
             [
              0.6666666666666666,
              "#ed7953"
             ],
             [
              0.7777777777777778,
              "#fb9f3a"
             ],
             [
              0.8888888888888888,
              "#fdca26"
             ],
             [
              1.0,
              "#f0f921"
             ]
            ]
           }
          ],
          "choropleth": [
           {
            "type": "choropleth",
            "colorbar": {
             "outlinewidth": 0,
             "ticks": ""
            }
           }
          ],
          "histogram2d": [
           {
            "type": "histogram2d",
            "colorbar": {
             "outlinewidth": 0,
             "ticks": ""
            },
            "colorscale": [
             [
              0.0,
              "#0d0887"
             ],
             [
              0.1111111111111111,
              "#46039f"
             ],
             [
              0.2222222222222222,
              "#7201a8"
             ],
             [
              0.3333333333333333,
              "#9c179e"
             ],
             [
              0.4444444444444444,
              "#bd3786"
             ],
             [
              0.5555555555555556,
              "#d8576b"
             ],
             [
              0.6666666666666666,
              "#ed7953"
             ],
             [
              0.7777777777777778,
              "#fb9f3a"
             ],
             [
              0.8888888888888888,
              "#fdca26"
             ],
             [
              1.0,
              "#f0f921"
             ]
            ]
           }
          ],
          "heatmap": [
           {
            "type": "heatmap",
            "colorbar": {
             "outlinewidth": 0,
             "ticks": ""
            },
            "colorscale": [
             [
              0.0,
              "#0d0887"
             ],
             [
              0.1111111111111111,
              "#46039f"
             ],
             [
              0.2222222222222222,
              "#7201a8"
             ],
             [
              0.3333333333333333,
              "#9c179e"
             ],
             [
              0.4444444444444444,
              "#bd3786"
             ],
             [
              0.5555555555555556,
              "#d8576b"
             ],
             [
              0.6666666666666666,
              "#ed7953"
             ],
             [
              0.7777777777777778,
              "#fb9f3a"
             ],
             [
              0.8888888888888888,
              "#fdca26"
             ],
             [
              1.0,
              "#f0f921"
             ]
            ]
           }
          ],
          "heatmapgl": [
           {
            "type": "heatmapgl",
            "colorbar": {
             "outlinewidth": 0,
             "ticks": ""
            },
            "colorscale": [
             [
              0.0,
              "#0d0887"
             ],
             [
              0.1111111111111111,
              "#46039f"
             ],
             [
              0.2222222222222222,
              "#7201a8"
             ],
             [
              0.3333333333333333,
              "#9c179e"
             ],
             [
              0.4444444444444444,
              "#bd3786"
             ],
             [
              0.5555555555555556,
              "#d8576b"
             ],
             [
              0.6666666666666666,
              "#ed7953"
             ],
             [
              0.7777777777777778,
              "#fb9f3a"
             ],
             [
              0.8888888888888888,
              "#fdca26"
             ],
             [
              1.0,
              "#f0f921"
             ]
            ]
           }
          ],
          "contourcarpet": [
           {
            "type": "contourcarpet",
            "colorbar": {
             "outlinewidth": 0,
             "ticks": ""
            }
           }
          ],
          "contour": [
           {
            "type": "contour",
            "colorbar": {
             "outlinewidth": 0,
             "ticks": ""
            },
            "colorscale": [
             [
              0.0,
              "#0d0887"
             ],
             [
              0.1111111111111111,
              "#46039f"
             ],
             [
              0.2222222222222222,
              "#7201a8"
             ],
             [
              0.3333333333333333,
              "#9c179e"
             ],
             [
              0.4444444444444444,
              "#bd3786"
             ],
             [
              0.5555555555555556,
              "#d8576b"
             ],
             [
              0.6666666666666666,
              "#ed7953"
             ],
             [
              0.7777777777777778,
              "#fb9f3a"
             ],
             [
              0.8888888888888888,
              "#fdca26"
             ],
             [
              1.0,
              "#f0f921"
             ]
            ]
           }
          ],
          "surface": [
           {
            "type": "surface",
            "colorbar": {
             "outlinewidth": 0,
             "ticks": ""
            },
            "colorscale": [
             [
              0.0,
              "#0d0887"
             ],
             [
              0.1111111111111111,
              "#46039f"
             ],
             [
              0.2222222222222222,
              "#7201a8"
             ],
             [
              0.3333333333333333,
              "#9c179e"
             ],
             [
              0.4444444444444444,
              "#bd3786"
             ],
             [
              0.5555555555555556,
              "#d8576b"
             ],
             [
              0.6666666666666666,
              "#ed7953"
             ],
             [
              0.7777777777777778,
              "#fb9f3a"
             ],
             [
              0.8888888888888888,
              "#fdca26"
             ],
             [
              1.0,
              "#f0f921"
             ]
            ]
           }
          ],
          "mesh3d": [
           {
            "type": "mesh3d",
            "colorbar": {
             "outlinewidth": 0,
             "ticks": ""
            }
           }
          ],
          "scatter": [
           {
            "marker": {
             "line": {
              "color": "#283442"
             }
            },
            "type": "scatter"
           }
          ],
          "parcoords": [
           {
            "type": "parcoords",
            "line": {
             "colorbar": {
              "outlinewidth": 0,
              "ticks": ""
             }
            }
           }
          ],
          "scatterpolargl": [
           {
            "type": "scatterpolargl",
            "marker": {
             "colorbar": {
              "outlinewidth": 0,
              "ticks": ""
             }
            }
           }
          ],
          "bar": [
           {
            "error_x": {
             "color": "#f2f5fa"
            },
            "error_y": {
             "color": "#f2f5fa"
            },
            "marker": {
             "line": {
              "color": "rgb(17,17,17)",
              "width": 0.5
             },
             "pattern": {
              "fillmode": "overlay",
              "size": 10,
              "solidity": 0.2
             }
            },
            "type": "bar"
           }
          ],
          "scattergeo": [
           {
            "type": "scattergeo",
            "marker": {
             "colorbar": {
              "outlinewidth": 0,
              "ticks": ""
             }
            }
           }
          ],
          "scatterpolar": [
           {
            "type": "scatterpolar",
            "marker": {
             "colorbar": {
              "outlinewidth": 0,
              "ticks": ""
             }
            }
           }
          ],
          "histogram": [
           {
            "marker": {
             "pattern": {
              "fillmode": "overlay",
              "size": 10,
              "solidity": 0.2
             }
            },
            "type": "histogram"
           }
          ],
          "scattergl": [
           {
            "marker": {
             "line": {
              "color": "#283442"
             }
            },
            "type": "scattergl"
           }
          ],
          "scatter3d": [
           {
            "type": "scatter3d",
            "line": {
             "colorbar": {
              "outlinewidth": 0,
              "ticks": ""
             }
            },
            "marker": {
             "colorbar": {
              "outlinewidth": 0,
              "ticks": ""
             }
            }
           }
          ],
          "scattermapbox": [
           {
            "type": "scattermapbox",
            "marker": {
             "colorbar": {
              "outlinewidth": 0,
              "ticks": ""
             }
            }
           }
          ],
          "scatterternary": [
           {
            "type": "scatterternary",
            "marker": {
             "colorbar": {
              "outlinewidth": 0,
              "ticks": ""
             }
            }
           }
          ],
          "scattercarpet": [
           {
            "type": "scattercarpet",
            "marker": {
             "colorbar": {
              "outlinewidth": 0,
              "ticks": ""
             }
            }
           }
          ],
          "carpet": [
           {
            "aaxis": {
             "endlinecolor": "#A2B1C6",
             "gridcolor": "#506784",
             "linecolor": "#506784",
             "minorgridcolor": "#506784",
             "startlinecolor": "#A2B1C6"
            },
            "baxis": {
             "endlinecolor": "#A2B1C6",
             "gridcolor": "#506784",
             "linecolor": "#506784",
             "minorgridcolor": "#506784",
             "startlinecolor": "#A2B1C6"
            },
            "type": "carpet"
           }
          ],
          "table": [
           {
            "cells": {
             "fill": {
              "color": "#506784"
             },
             "line": {
              "color": "rgb(17,17,17)"
             }
            },
            "header": {
             "fill": {
              "color": "#2a3f5f"
             },
             "line": {
              "color": "rgb(17,17,17)"
             }
            },
            "type": "table"
           }
          ],
          "barpolar": [
           {
            "marker": {
             "line": {
              "color": "rgb(17,17,17)",
              "width": 0.5
             },
             "pattern": {
              "fillmode": "overlay",
              "size": 10,
              "solidity": 0.2
             }
            },
            "type": "barpolar"
           }
          ],
          "pie": [
           {
            "automargin": true,
            "type": "pie"
           }
          ]
         },
         "layout": {
          "autotypenumbers": "strict",
          "colorway": [
           "#636efa",
           "#EF553B",
           "#00cc96",
           "#ab63fa",
           "#FFA15A",
           "#19d3f3",
           "#FF6692",
           "#B6E880",
           "#FF97FF",
           "#FECB52"
          ],
          "font": {
           "color": "#f2f5fa"
          },
          "hovermode": "closest",
          "hoverlabel": {
           "align": "left"
          },
          "paper_bgcolor": "rgb(17,17,17)",
          "plot_bgcolor": "rgb(17,17,17)",
          "polar": {
           "bgcolor": "rgb(17,17,17)",
           "angularaxis": {
            "gridcolor": "#506784",
            "linecolor": "#506784",
            "ticks": ""
           },
           "radialaxis": {
            "gridcolor": "#506784",
            "linecolor": "#506784",
            "ticks": ""
           }
          },
          "ternary": {
           "bgcolor": "rgb(17,17,17)",
           "aaxis": {
            "gridcolor": "#506784",
            "linecolor": "#506784",
            "ticks": ""
           },
           "baxis": {
            "gridcolor": "#506784",
            "linecolor": "#506784",
            "ticks": ""
           },
           "caxis": {
            "gridcolor": "#506784",
            "linecolor": "#506784",
            "ticks": ""
           }
          },
          "coloraxis": {
           "colorbar": {
            "outlinewidth": 0,
            "ticks": ""
           }
          },
          "colorscale": {
           "sequential": [
            [
             0.0,
             "#0d0887"
            ],
            [
             0.1111111111111111,
             "#46039f"
            ],
            [
             0.2222222222222222,
             "#7201a8"
            ],
            [
             0.3333333333333333,
             "#9c179e"
            ],
            [
             0.4444444444444444,
             "#bd3786"
            ],
            [
             0.5555555555555556,
             "#d8576b"
            ],
            [
             0.6666666666666666,
             "#ed7953"
            ],
            [
             0.7777777777777778,
             "#fb9f3a"
            ],
            [
             0.8888888888888888,
             "#fdca26"
            ],
            [
             1.0,
             "#f0f921"
            ]
           ],
           "sequentialminus": [
            [
             0.0,
             "#0d0887"
            ],
            [
             0.1111111111111111,
             "#46039f"
            ],
            [
             0.2222222222222222,
             "#7201a8"
            ],
            [
             0.3333333333333333,
             "#9c179e"
            ],
            [
             0.4444444444444444,
             "#bd3786"
            ],
            [
             0.5555555555555556,
             "#d8576b"
            ],
            [
             0.6666666666666666,
             "#ed7953"
            ],
            [
             0.7777777777777778,
             "#fb9f3a"
            ],
            [
             0.8888888888888888,
             "#fdca26"
            ],
            [
             1.0,
             "#f0f921"
            ]
           ],
           "diverging": [
            [
             0,
             "#8e0152"
            ],
            [
             0.1,
             "#c51b7d"
            ],
            [
             0.2,
             "#de77ae"
            ],
            [
             0.3,
             "#f1b6da"
            ],
            [
             0.4,
             "#fde0ef"
            ],
            [
             0.5,
             "#f7f7f7"
            ],
            [
             0.6,
             "#e6f5d0"
            ],
            [
             0.7,
             "#b8e186"
            ],
            [
             0.8,
             "#7fbc41"
            ],
            [
             0.9,
             "#4d9221"
            ],
            [
             1,
             "#276419"
            ]
           ]
          },
          "xaxis": {
           "gridcolor": "#283442",
           "linecolor": "#506784",
           "ticks": "",
           "title": {
            "standoff": 15
           },
           "zerolinecolor": "#283442",
           "automargin": true,
           "zerolinewidth": 2
          },
          "yaxis": {
           "gridcolor": "#283442",
           "linecolor": "#506784",
           "ticks": "",
           "title": {
            "standoff": 15
           },
           "zerolinecolor": "#283442",
           "automargin": true,
           "zerolinewidth": 2
          },
          "scene": {
           "xaxis": {
            "backgroundcolor": "rgb(17,17,17)",
            "gridcolor": "#506784",
            "linecolor": "#506784",
            "showbackground": true,
            "ticks": "",
            "zerolinecolor": "#C8D4E3",
            "gridwidth": 2
           },
           "yaxis": {
            "backgroundcolor": "rgb(17,17,17)",
            "gridcolor": "#506784",
            "linecolor": "#506784",
            "showbackground": true,
            "ticks": "",
            "zerolinecolor": "#C8D4E3",
            "gridwidth": 2
           },
           "zaxis": {
            "backgroundcolor": "rgb(17,17,17)",
            "gridcolor": "#506784",
            "linecolor": "#506784",
            "showbackground": true,
            "ticks": "",
            "zerolinecolor": "#C8D4E3",
            "gridwidth": 2
           }
          },
          "shapedefaults": {
           "line": {
            "color": "#f2f5fa"
           }
          },
          "annotationdefaults": {
           "arrowcolor": "#f2f5fa",
           "arrowhead": 0,
           "arrowwidth": 1
          },
          "geo": {
           "bgcolor": "rgb(17,17,17)",
           "landcolor": "rgb(17,17,17)",
           "subunitcolor": "#506784",
           "showland": true,
           "showlakes": true,
           "lakecolor": "rgb(17,17,17)"
          },
          "title": {
           "x": 0.05
          },
          "updatemenudefaults": {
           "bgcolor": "#506784",
           "borderwidth": 0
          },
          "sliderdefaults": {
           "bgcolor": "#C8D4E3",
           "borderwidth": 1,
           "bordercolor": "rgb(17,17,17)",
           "tickwidth": 0
          },
          "mapbox": {
           "style": "dark"
          }
         }
        },
        "xaxis": {
         "anchor": "y",
         "domain": [
          0.0,
          1.0
         ],
         "title": {
          "text": "Rating category"
         }
        },
        "yaxis": {
         "anchor": "x",
         "domain": [
          0.0,
          1.0
         ],
         "title": {
          "text": "Post count"
         }
        },
        "legend": {
         "title": {
          "text": "variable"
         },
         "tracegroupgap": 0
        },
        "margin": {
         "t": 60
        },
        "barmode": "relative",
        "title": {
         "text": "Post count for each rating category",
         "x": 0.5
        },
        "showlegend": false
       },
       "config": {
        "plotlyServerURL": "https://plot.ly"
       }
      },
      "text/html": "<div>                            <div id=\"16701408-c433-481c-a64f-24b620dd6d27\" class=\"plotly-graph-div\" style=\"height:525px; width:100%;\"></div>            <script type=\"text/javascript\">                require([\"plotly\"], function(Plotly) {                    window.PLOTLYENV=window.PLOTLYENV || {};                                    if (document.getElementById(\"16701408-c433-481c-a64f-24b620dd6d27\")) {                    Plotly.newPlot(                        \"16701408-c433-481c-a64f-24b620dd6d27\",                        [{\"alignmentgroup\":\"True\",\"hovertemplate\":\"variable=count<br>index=%{x}<br>value=%{y}<extra></extra>\",\"legendgroup\":\"count\",\"marker\":{\"color\":\"#636efa\",\"pattern\":{\"shape\":\"\"}},\"name\":\"count\",\"offsetgroup\":\"count\",\"orientation\":\"v\",\"showlegend\":true,\"textposition\":\"auto\",\"x\":[\"Safe\",\"Questionable\",\"Explicit\"],\"xaxis\":\"x\",\"y\":[3842956,645706,389406],\"yaxis\":\"y\",\"type\":\"bar\"}],                        {\"template\":{\"data\":{\"histogram2dcontour\":[{\"type\":\"histogram2dcontour\",\"colorbar\":{\"outlinewidth\":0,\"ticks\":\"\"},\"colorscale\":[[0.0,\"#0d0887\"],[0.1111111111111111,\"#46039f\"],[0.2222222222222222,\"#7201a8\"],[0.3333333333333333,\"#9c179e\"],[0.4444444444444444,\"#bd3786\"],[0.5555555555555556,\"#d8576b\"],[0.6666666666666666,\"#ed7953\"],[0.7777777777777778,\"#fb9f3a\"],[0.8888888888888888,\"#fdca26\"],[1.0,\"#f0f921\"]]}],\"choropleth\":[{\"type\":\"choropleth\",\"colorbar\":{\"outlinewidth\":0,\"ticks\":\"\"}}],\"histogram2d\":[{\"type\":\"histogram2d\",\"colorbar\":{\"outlinewidth\":0,\"ticks\":\"\"},\"colorscale\":[[0.0,\"#0d0887\"],[0.1111111111111111,\"#46039f\"],[0.2222222222222222,\"#7201a8\"],[0.3333333333333333,\"#9c179e\"],[0.4444444444444444,\"#bd3786\"],[0.5555555555555556,\"#d8576b\"],[0.6666666666666666,\"#ed7953\"],[0.7777777777777778,\"#fb9f3a\"],[0.8888888888888888,\"#fdca26\"],[1.0,\"#f0f921\"]]}],\"heatmap\":[{\"type\":\"heatmap\",\"colorbar\":{\"outlinewidth\":0,\"ticks\":\"\"},\"colorscale\":[[0.0,\"#0d0887\"],[0.1111111111111111,\"#46039f\"],[0.2222222222222222,\"#7201a8\"],[0.3333333333333333,\"#9c179e\"],[0.4444444444444444,\"#bd3786\"],[0.5555555555555556,\"#d8576b\"],[0.6666666666666666,\"#ed7953\"],[0.7777777777777778,\"#fb9f3a\"],[0.8888888888888888,\"#fdca26\"],[1.0,\"#f0f921\"]]}],\"heatmapgl\":[{\"type\":\"heatmapgl\",\"colorbar\":{\"outlinewidth\":0,\"ticks\":\"\"},\"colorscale\":[[0.0,\"#0d0887\"],[0.1111111111111111,\"#46039f\"],[0.2222222222222222,\"#7201a8\"],[0.3333333333333333,\"#9c179e\"],[0.4444444444444444,\"#bd3786\"],[0.5555555555555556,\"#d8576b\"],[0.6666666666666666,\"#ed7953\"],[0.7777777777777778,\"#fb9f3a\"],[0.8888888888888888,\"#fdca26\"],[1.0,\"#f0f921\"]]}],\"contourcarpet\":[{\"type\":\"contourcarpet\",\"colorbar\":{\"outlinewidth\":0,\"ticks\":\"\"}}],\"contour\":[{\"type\":\"contour\",\"colorbar\":{\"outlinewidth\":0,\"ticks\":\"\"},\"colorscale\":[[0.0,\"#0d0887\"],[0.1111111111111111,\"#46039f\"],[0.2222222222222222,\"#7201a8\"],[0.3333333333333333,\"#9c179e\"],[0.4444444444444444,\"#bd3786\"],[0.5555555555555556,\"#d8576b\"],[0.6666666666666666,\"#ed7953\"],[0.7777777777777778,\"#fb9f3a\"],[0.8888888888888888,\"#fdca26\"],[1.0,\"#f0f921\"]]}],\"surface\":[{\"type\":\"surface\",\"colorbar\":{\"outlinewidth\":0,\"ticks\":\"\"},\"colorscale\":[[0.0,\"#0d0887\"],[0.1111111111111111,\"#46039f\"],[0.2222222222222222,\"#7201a8\"],[0.3333333333333333,\"#9c179e\"],[0.4444444444444444,\"#bd3786\"],[0.5555555555555556,\"#d8576b\"],[0.6666666666666666,\"#ed7953\"],[0.7777777777777778,\"#fb9f3a\"],[0.8888888888888888,\"#fdca26\"],[1.0,\"#f0f921\"]]}],\"mesh3d\":[{\"type\":\"mesh3d\",\"colorbar\":{\"outlinewidth\":0,\"ticks\":\"\"}}],\"scatter\":[{\"marker\":{\"line\":{\"color\":\"#283442\"}},\"type\":\"scatter\"}],\"parcoords\":[{\"type\":\"parcoords\",\"line\":{\"colorbar\":{\"outlinewidth\":0,\"ticks\":\"\"}}}],\"scatterpolargl\":[{\"type\":\"scatterpolargl\",\"marker\":{\"colorbar\":{\"outlinewidth\":0,\"ticks\":\"\"}}}],\"bar\":[{\"error_x\":{\"color\":\"#f2f5fa\"},\"error_y\":{\"color\":\"#f2f5fa\"},\"marker\":{\"line\":{\"color\":\"rgb(17,17,17)\",\"width\":0.5},\"pattern\":{\"fillmode\":\"overlay\",\"size\":10,\"solidity\":0.2}},\"type\":\"bar\"}],\"scattergeo\":[{\"type\":\"scattergeo\",\"marker\":{\"colorbar\":{\"outlinewidth\":0,\"ticks\":\"\"}}}],\"scatterpolar\":[{\"type\":\"scatterpolar\",\"marker\":{\"colorbar\":{\"outlinewidth\":0,\"ticks\":\"\"}}}],\"histogram\":[{\"marker\":{\"pattern\":{\"fillmode\":\"overlay\",\"size\":10,\"solidity\":0.2}},\"type\":\"histogram\"}],\"scattergl\":[{\"marker\":{\"line\":{\"color\":\"#283442\"}},\"type\":\"scattergl\"}],\"scatter3d\":[{\"type\":\"scatter3d\",\"line\":{\"colorbar\":{\"outlinewidth\":0,\"ticks\":\"\"}},\"marker\":{\"colorbar\":{\"outlinewidth\":0,\"ticks\":\"\"}}}],\"scattermapbox\":[{\"type\":\"scattermapbox\",\"marker\":{\"colorbar\":{\"outlinewidth\":0,\"ticks\":\"\"}}}],\"scatterternary\":[{\"type\":\"scatterternary\",\"marker\":{\"colorbar\":{\"outlinewidth\":0,\"ticks\":\"\"}}}],\"scattercarpet\":[{\"type\":\"scattercarpet\",\"marker\":{\"colorbar\":{\"outlinewidth\":0,\"ticks\":\"\"}}}],\"carpet\":[{\"aaxis\":{\"endlinecolor\":\"#A2B1C6\",\"gridcolor\":\"#506784\",\"linecolor\":\"#506784\",\"minorgridcolor\":\"#506784\",\"startlinecolor\":\"#A2B1C6\"},\"baxis\":{\"endlinecolor\":\"#A2B1C6\",\"gridcolor\":\"#506784\",\"linecolor\":\"#506784\",\"minorgridcolor\":\"#506784\",\"startlinecolor\":\"#A2B1C6\"},\"type\":\"carpet\"}],\"table\":[{\"cells\":{\"fill\":{\"color\":\"#506784\"},\"line\":{\"color\":\"rgb(17,17,17)\"}},\"header\":{\"fill\":{\"color\":\"#2a3f5f\"},\"line\":{\"color\":\"rgb(17,17,17)\"}},\"type\":\"table\"}],\"barpolar\":[{\"marker\":{\"line\":{\"color\":\"rgb(17,17,17)\",\"width\":0.5},\"pattern\":{\"fillmode\":\"overlay\",\"size\":10,\"solidity\":0.2}},\"type\":\"barpolar\"}],\"pie\":[{\"automargin\":true,\"type\":\"pie\"}]},\"layout\":{\"autotypenumbers\":\"strict\",\"colorway\":[\"#636efa\",\"#EF553B\",\"#00cc96\",\"#ab63fa\",\"#FFA15A\",\"#19d3f3\",\"#FF6692\",\"#B6E880\",\"#FF97FF\",\"#FECB52\"],\"font\":{\"color\":\"#f2f5fa\"},\"hovermode\":\"closest\",\"hoverlabel\":{\"align\":\"left\"},\"paper_bgcolor\":\"rgb(17,17,17)\",\"plot_bgcolor\":\"rgb(17,17,17)\",\"polar\":{\"bgcolor\":\"rgb(17,17,17)\",\"angularaxis\":{\"gridcolor\":\"#506784\",\"linecolor\":\"#506784\",\"ticks\":\"\"},\"radialaxis\":{\"gridcolor\":\"#506784\",\"linecolor\":\"#506784\",\"ticks\":\"\"}},\"ternary\":{\"bgcolor\":\"rgb(17,17,17)\",\"aaxis\":{\"gridcolor\":\"#506784\",\"linecolor\":\"#506784\",\"ticks\":\"\"},\"baxis\":{\"gridcolor\":\"#506784\",\"linecolor\":\"#506784\",\"ticks\":\"\"},\"caxis\":{\"gridcolor\":\"#506784\",\"linecolor\":\"#506784\",\"ticks\":\"\"}},\"coloraxis\":{\"colorbar\":{\"outlinewidth\":0,\"ticks\":\"\"}},\"colorscale\":{\"sequential\":[[0.0,\"#0d0887\"],[0.1111111111111111,\"#46039f\"],[0.2222222222222222,\"#7201a8\"],[0.3333333333333333,\"#9c179e\"],[0.4444444444444444,\"#bd3786\"],[0.5555555555555556,\"#d8576b\"],[0.6666666666666666,\"#ed7953\"],[0.7777777777777778,\"#fb9f3a\"],[0.8888888888888888,\"#fdca26\"],[1.0,\"#f0f921\"]],\"sequentialminus\":[[0.0,\"#0d0887\"],[0.1111111111111111,\"#46039f\"],[0.2222222222222222,\"#7201a8\"],[0.3333333333333333,\"#9c179e\"],[0.4444444444444444,\"#bd3786\"],[0.5555555555555556,\"#d8576b\"],[0.6666666666666666,\"#ed7953\"],[0.7777777777777778,\"#fb9f3a\"],[0.8888888888888888,\"#fdca26\"],[1.0,\"#f0f921\"]],\"diverging\":[[0,\"#8e0152\"],[0.1,\"#c51b7d\"],[0.2,\"#de77ae\"],[0.3,\"#f1b6da\"],[0.4,\"#fde0ef\"],[0.5,\"#f7f7f7\"],[0.6,\"#e6f5d0\"],[0.7,\"#b8e186\"],[0.8,\"#7fbc41\"],[0.9,\"#4d9221\"],[1,\"#276419\"]]},\"xaxis\":{\"gridcolor\":\"#283442\",\"linecolor\":\"#506784\",\"ticks\":\"\",\"title\":{\"standoff\":15},\"zerolinecolor\":\"#283442\",\"automargin\":true,\"zerolinewidth\":2},\"yaxis\":{\"gridcolor\":\"#283442\",\"linecolor\":\"#506784\",\"ticks\":\"\",\"title\":{\"standoff\":15},\"zerolinecolor\":\"#283442\",\"automargin\":true,\"zerolinewidth\":2},\"scene\":{\"xaxis\":{\"backgroundcolor\":\"rgb(17,17,17)\",\"gridcolor\":\"#506784\",\"linecolor\":\"#506784\",\"showbackground\":true,\"ticks\":\"\",\"zerolinecolor\":\"#C8D4E3\",\"gridwidth\":2},\"yaxis\":{\"backgroundcolor\":\"rgb(17,17,17)\",\"gridcolor\":\"#506784\",\"linecolor\":\"#506784\",\"showbackground\":true,\"ticks\":\"\",\"zerolinecolor\":\"#C8D4E3\",\"gridwidth\":2},\"zaxis\":{\"backgroundcolor\":\"rgb(17,17,17)\",\"gridcolor\":\"#506784\",\"linecolor\":\"#506784\",\"showbackground\":true,\"ticks\":\"\",\"zerolinecolor\":\"#C8D4E3\",\"gridwidth\":2}},\"shapedefaults\":{\"line\":{\"color\":\"#f2f5fa\"}},\"annotationdefaults\":{\"arrowcolor\":\"#f2f5fa\",\"arrowhead\":0,\"arrowwidth\":1},\"geo\":{\"bgcolor\":\"rgb(17,17,17)\",\"landcolor\":\"rgb(17,17,17)\",\"subunitcolor\":\"#506784\",\"showland\":true,\"showlakes\":true,\"lakecolor\":\"rgb(17,17,17)\"},\"title\":{\"x\":0.05},\"updatemenudefaults\":{\"bgcolor\":\"#506784\",\"borderwidth\":0},\"sliderdefaults\":{\"bgcolor\":\"#C8D4E3\",\"borderwidth\":1,\"bordercolor\":\"rgb(17,17,17)\",\"tickwidth\":0},\"mapbox\":{\"style\":\"dark\"}}},\"xaxis\":{\"anchor\":\"y\",\"domain\":[0.0,1.0],\"title\":{\"text\":\"Rating category\"}},\"yaxis\":{\"anchor\":\"x\",\"domain\":[0.0,1.0],\"title\":{\"text\":\"Post count\"}},\"legend\":{\"title\":{\"text\":\"variable\"},\"tracegroupgap\":0},\"margin\":{\"t\":60},\"barmode\":\"relative\",\"title\":{\"text\":\"Post count for each rating category\",\"x\":0.5},\"showlegend\":false},                        {\"responsive\": true}                    ).then(function(){\n                            \nvar gd = document.getElementById('16701408-c433-481c-a64f-24b620dd6d27');\nvar x = new MutationObserver(function (mutations, observer) {{\n        var display = window.getComputedStyle(gd).display;\n        if (!display || display === 'none') {{\n            console.log([gd, 'removed!']);\n            Plotly.purge(gd);\n            observer.disconnect();\n        }}\n}});\n\n// Listen for the removal of the full notebook cells\nvar notebookContainer = gd.closest('#notebook-container');\nif (notebookContainer) {{\n    x.observe(notebookContainer, {childList: true});\n}}\n\n// Listen for the clearing of the current output cell\nvar outputEl = gd.closest('.output');\nif (outputEl) {{\n    x.observe(outputEl, {childList: true});\n}}\n\n                        })                };                });            </script>        </div>"
     },
     "metadata": {},
     "output_type": "display_data"
    }
   ],
   "source": [
    "post_rating_counts_df = reindex_ratings(pd.DataFrame(post_rating_counts, index=[\"count\"]).T)\n",
    "plot(\"post_rating_counts\", px.bar(post_rating_counts_df).update_layout(\n",
    "    title=\"Post count for each rating category\",\n",
    "    xaxis_title=\"Rating category\",\n",
    "    yaxis_title=\"Post count\",\n",
    "    showlegend=False,\n",
    "))"
   ],
   "metadata": {
    "collapsed": false
   }
  },
  {
   "cell_type": "code",
   "execution_count": 24,
   "outputs": [],
   "source": [
    "# Post rating cumulative scores.\n",
    "post_rating_cumulative_scores = defaultdict(int)\n",
    "for post in posts.values():\n",
    "    post_rating_cumulative_scores[post[\"rating\"]] += post[\"score\"]"
   ],
   "metadata": {
    "collapsed": false
   }
  },
  {
   "cell_type": "code",
   "execution_count": 26,
   "outputs": [],
   "source": [
    "# Post rating average scores.\n",
    "post_rating_average_scores = {\n",
    "    k: post_rating_cumulative_scores[k] / post_rating_counts[k]\n",
    "    for k in post_rating_counts.keys()\n",
    "}"
   ],
   "metadata": {
    "collapsed": false
   }
  },
  {
   "cell_type": "code",
   "execution_count": 92,
   "outputs": [
    {
     "data": {
      "application/vnd.plotly.v1+json": {
       "data": [
        {
         "alignmentgroup": "True",
         "hovertemplate": "variable=count<br>index=%{x}<br>value=%{y}<extra></extra>",
         "legendgroup": "count",
         "marker": {
          "color": "#636efa",
          "pattern": {
           "shape": ""
          }
         },
         "name": "count",
         "offsetgroup": "count",
         "orientation": "v",
         "showlegend": true,
         "textposition": "auto",
         "x": [
          "Safe",
          "Questionable",
          "Explicit"
         ],
         "xaxis": "x",
         "y": [
          9.300131461302184,
          21.89821373814089,
          29.167074980868296
         ],
         "yaxis": "y",
         "type": "bar"
        }
       ],
       "layout": {
        "template": {
         "data": {
          "histogram2dcontour": [
           {
            "type": "histogram2dcontour",
            "colorbar": {
             "outlinewidth": 0,
             "ticks": ""
            },
            "colorscale": [
             [
              0.0,
              "#0d0887"
             ],
             [
              0.1111111111111111,
              "#46039f"
             ],
             [
              0.2222222222222222,
              "#7201a8"
             ],
             [
              0.3333333333333333,
              "#9c179e"
             ],
             [
              0.4444444444444444,
              "#bd3786"
             ],
             [
              0.5555555555555556,
              "#d8576b"
             ],
             [
              0.6666666666666666,
              "#ed7953"
             ],
             [
              0.7777777777777778,
              "#fb9f3a"
             ],
             [
              0.8888888888888888,
              "#fdca26"
             ],
             [
              1.0,
              "#f0f921"
             ]
            ]
           }
          ],
          "choropleth": [
           {
            "type": "choropleth",
            "colorbar": {
             "outlinewidth": 0,
             "ticks": ""
            }
           }
          ],
          "histogram2d": [
           {
            "type": "histogram2d",
            "colorbar": {
             "outlinewidth": 0,
             "ticks": ""
            },
            "colorscale": [
             [
              0.0,
              "#0d0887"
             ],
             [
              0.1111111111111111,
              "#46039f"
             ],
             [
              0.2222222222222222,
              "#7201a8"
             ],
             [
              0.3333333333333333,
              "#9c179e"
             ],
             [
              0.4444444444444444,
              "#bd3786"
             ],
             [
              0.5555555555555556,
              "#d8576b"
             ],
             [
              0.6666666666666666,
              "#ed7953"
             ],
             [
              0.7777777777777778,
              "#fb9f3a"
             ],
             [
              0.8888888888888888,
              "#fdca26"
             ],
             [
              1.0,
              "#f0f921"
             ]
            ]
           }
          ],
          "heatmap": [
           {
            "type": "heatmap",
            "colorbar": {
             "outlinewidth": 0,
             "ticks": ""
            },
            "colorscale": [
             [
              0.0,
              "#0d0887"
             ],
             [
              0.1111111111111111,
              "#46039f"
             ],
             [
              0.2222222222222222,
              "#7201a8"
             ],
             [
              0.3333333333333333,
              "#9c179e"
             ],
             [
              0.4444444444444444,
              "#bd3786"
             ],
             [
              0.5555555555555556,
              "#d8576b"
             ],
             [
              0.6666666666666666,
              "#ed7953"
             ],
             [
              0.7777777777777778,
              "#fb9f3a"
             ],
             [
              0.8888888888888888,
              "#fdca26"
             ],
             [
              1.0,
              "#f0f921"
             ]
            ]
           }
          ],
          "heatmapgl": [
           {
            "type": "heatmapgl",
            "colorbar": {
             "outlinewidth": 0,
             "ticks": ""
            },
            "colorscale": [
             [
              0.0,
              "#0d0887"
             ],
             [
              0.1111111111111111,
              "#46039f"
             ],
             [
              0.2222222222222222,
              "#7201a8"
             ],
             [
              0.3333333333333333,
              "#9c179e"
             ],
             [
              0.4444444444444444,
              "#bd3786"
             ],
             [
              0.5555555555555556,
              "#d8576b"
             ],
             [
              0.6666666666666666,
              "#ed7953"
             ],
             [
              0.7777777777777778,
              "#fb9f3a"
             ],
             [
              0.8888888888888888,
              "#fdca26"
             ],
             [
              1.0,
              "#f0f921"
             ]
            ]
           }
          ],
          "contourcarpet": [
           {
            "type": "contourcarpet",
            "colorbar": {
             "outlinewidth": 0,
             "ticks": ""
            }
           }
          ],
          "contour": [
           {
            "type": "contour",
            "colorbar": {
             "outlinewidth": 0,
             "ticks": ""
            },
            "colorscale": [
             [
              0.0,
              "#0d0887"
             ],
             [
              0.1111111111111111,
              "#46039f"
             ],
             [
              0.2222222222222222,
              "#7201a8"
             ],
             [
              0.3333333333333333,
              "#9c179e"
             ],
             [
              0.4444444444444444,
              "#bd3786"
             ],
             [
              0.5555555555555556,
              "#d8576b"
             ],
             [
              0.6666666666666666,
              "#ed7953"
             ],
             [
              0.7777777777777778,
              "#fb9f3a"
             ],
             [
              0.8888888888888888,
              "#fdca26"
             ],
             [
              1.0,
              "#f0f921"
             ]
            ]
           }
          ],
          "surface": [
           {
            "type": "surface",
            "colorbar": {
             "outlinewidth": 0,
             "ticks": ""
            },
            "colorscale": [
             [
              0.0,
              "#0d0887"
             ],
             [
              0.1111111111111111,
              "#46039f"
             ],
             [
              0.2222222222222222,
              "#7201a8"
             ],
             [
              0.3333333333333333,
              "#9c179e"
             ],
             [
              0.4444444444444444,
              "#bd3786"
             ],
             [
              0.5555555555555556,
              "#d8576b"
             ],
             [
              0.6666666666666666,
              "#ed7953"
             ],
             [
              0.7777777777777778,
              "#fb9f3a"
             ],
             [
              0.8888888888888888,
              "#fdca26"
             ],
             [
              1.0,
              "#f0f921"
             ]
            ]
           }
          ],
          "mesh3d": [
           {
            "type": "mesh3d",
            "colorbar": {
             "outlinewidth": 0,
             "ticks": ""
            }
           }
          ],
          "scatter": [
           {
            "marker": {
             "line": {
              "color": "#283442"
             }
            },
            "type": "scatter"
           }
          ],
          "parcoords": [
           {
            "type": "parcoords",
            "line": {
             "colorbar": {
              "outlinewidth": 0,
              "ticks": ""
             }
            }
           }
          ],
          "scatterpolargl": [
           {
            "type": "scatterpolargl",
            "marker": {
             "colorbar": {
              "outlinewidth": 0,
              "ticks": ""
             }
            }
           }
          ],
          "bar": [
           {
            "error_x": {
             "color": "#f2f5fa"
            },
            "error_y": {
             "color": "#f2f5fa"
            },
            "marker": {
             "line": {
              "color": "rgb(17,17,17)",
              "width": 0.5
             },
             "pattern": {
              "fillmode": "overlay",
              "size": 10,
              "solidity": 0.2
             }
            },
            "type": "bar"
           }
          ],
          "scattergeo": [
           {
            "type": "scattergeo",
            "marker": {
             "colorbar": {
              "outlinewidth": 0,
              "ticks": ""
             }
            }
           }
          ],
          "scatterpolar": [
           {
            "type": "scatterpolar",
            "marker": {
             "colorbar": {
              "outlinewidth": 0,
              "ticks": ""
             }
            }
           }
          ],
          "histogram": [
           {
            "marker": {
             "pattern": {
              "fillmode": "overlay",
              "size": 10,
              "solidity": 0.2
             }
            },
            "type": "histogram"
           }
          ],
          "scattergl": [
           {
            "marker": {
             "line": {
              "color": "#283442"
             }
            },
            "type": "scattergl"
           }
          ],
          "scatter3d": [
           {
            "type": "scatter3d",
            "line": {
             "colorbar": {
              "outlinewidth": 0,
              "ticks": ""
             }
            },
            "marker": {
             "colorbar": {
              "outlinewidth": 0,
              "ticks": ""
             }
            }
           }
          ],
          "scattermapbox": [
           {
            "type": "scattermapbox",
            "marker": {
             "colorbar": {
              "outlinewidth": 0,
              "ticks": ""
             }
            }
           }
          ],
          "scatterternary": [
           {
            "type": "scatterternary",
            "marker": {
             "colorbar": {
              "outlinewidth": 0,
              "ticks": ""
             }
            }
           }
          ],
          "scattercarpet": [
           {
            "type": "scattercarpet",
            "marker": {
             "colorbar": {
              "outlinewidth": 0,
              "ticks": ""
             }
            }
           }
          ],
          "carpet": [
           {
            "aaxis": {
             "endlinecolor": "#A2B1C6",
             "gridcolor": "#506784",
             "linecolor": "#506784",
             "minorgridcolor": "#506784",
             "startlinecolor": "#A2B1C6"
            },
            "baxis": {
             "endlinecolor": "#A2B1C6",
             "gridcolor": "#506784",
             "linecolor": "#506784",
             "minorgridcolor": "#506784",
             "startlinecolor": "#A2B1C6"
            },
            "type": "carpet"
           }
          ],
          "table": [
           {
            "cells": {
             "fill": {
              "color": "#506784"
             },
             "line": {
              "color": "rgb(17,17,17)"
             }
            },
            "header": {
             "fill": {
              "color": "#2a3f5f"
             },
             "line": {
              "color": "rgb(17,17,17)"
             }
            },
            "type": "table"
           }
          ],
          "barpolar": [
           {
            "marker": {
             "line": {
              "color": "rgb(17,17,17)",
              "width": 0.5
             },
             "pattern": {
              "fillmode": "overlay",
              "size": 10,
              "solidity": 0.2
             }
            },
            "type": "barpolar"
           }
          ],
          "pie": [
           {
            "automargin": true,
            "type": "pie"
           }
          ]
         },
         "layout": {
          "autotypenumbers": "strict",
          "colorway": [
           "#636efa",
           "#EF553B",
           "#00cc96",
           "#ab63fa",
           "#FFA15A",
           "#19d3f3",
           "#FF6692",
           "#B6E880",
           "#FF97FF",
           "#FECB52"
          ],
          "font": {
           "color": "#f2f5fa"
          },
          "hovermode": "closest",
          "hoverlabel": {
           "align": "left"
          },
          "paper_bgcolor": "rgb(17,17,17)",
          "plot_bgcolor": "rgb(17,17,17)",
          "polar": {
           "bgcolor": "rgb(17,17,17)",
           "angularaxis": {
            "gridcolor": "#506784",
            "linecolor": "#506784",
            "ticks": ""
           },
           "radialaxis": {
            "gridcolor": "#506784",
            "linecolor": "#506784",
            "ticks": ""
           }
          },
          "ternary": {
           "bgcolor": "rgb(17,17,17)",
           "aaxis": {
            "gridcolor": "#506784",
            "linecolor": "#506784",
            "ticks": ""
           },
           "baxis": {
            "gridcolor": "#506784",
            "linecolor": "#506784",
            "ticks": ""
           },
           "caxis": {
            "gridcolor": "#506784",
            "linecolor": "#506784",
            "ticks": ""
           }
          },
          "coloraxis": {
           "colorbar": {
            "outlinewidth": 0,
            "ticks": ""
           }
          },
          "colorscale": {
           "sequential": [
            [
             0.0,
             "#0d0887"
            ],
            [
             0.1111111111111111,
             "#46039f"
            ],
            [
             0.2222222222222222,
             "#7201a8"
            ],
            [
             0.3333333333333333,
             "#9c179e"
            ],
            [
             0.4444444444444444,
             "#bd3786"
            ],
            [
             0.5555555555555556,
             "#d8576b"
            ],
            [
             0.6666666666666666,
             "#ed7953"
            ],
            [
             0.7777777777777778,
             "#fb9f3a"
            ],
            [
             0.8888888888888888,
             "#fdca26"
            ],
            [
             1.0,
             "#f0f921"
            ]
           ],
           "sequentialminus": [
            [
             0.0,
             "#0d0887"
            ],
            [
             0.1111111111111111,
             "#46039f"
            ],
            [
             0.2222222222222222,
             "#7201a8"
            ],
            [
             0.3333333333333333,
             "#9c179e"
            ],
            [
             0.4444444444444444,
             "#bd3786"
            ],
            [
             0.5555555555555556,
             "#d8576b"
            ],
            [
             0.6666666666666666,
             "#ed7953"
            ],
            [
             0.7777777777777778,
             "#fb9f3a"
            ],
            [
             0.8888888888888888,
             "#fdca26"
            ],
            [
             1.0,
             "#f0f921"
            ]
           ],
           "diverging": [
            [
             0,
             "#8e0152"
            ],
            [
             0.1,
             "#c51b7d"
            ],
            [
             0.2,
             "#de77ae"
            ],
            [
             0.3,
             "#f1b6da"
            ],
            [
             0.4,
             "#fde0ef"
            ],
            [
             0.5,
             "#f7f7f7"
            ],
            [
             0.6,
             "#e6f5d0"
            ],
            [
             0.7,
             "#b8e186"
            ],
            [
             0.8,
             "#7fbc41"
            ],
            [
             0.9,
             "#4d9221"
            ],
            [
             1,
             "#276419"
            ]
           ]
          },
          "xaxis": {
           "gridcolor": "#283442",
           "linecolor": "#506784",
           "ticks": "",
           "title": {
            "standoff": 15
           },
           "zerolinecolor": "#283442",
           "automargin": true,
           "zerolinewidth": 2
          },
          "yaxis": {
           "gridcolor": "#283442",
           "linecolor": "#506784",
           "ticks": "",
           "title": {
            "standoff": 15
           },
           "zerolinecolor": "#283442",
           "automargin": true,
           "zerolinewidth": 2
          },
          "scene": {
           "xaxis": {
            "backgroundcolor": "rgb(17,17,17)",
            "gridcolor": "#506784",
            "linecolor": "#506784",
            "showbackground": true,
            "ticks": "",
            "zerolinecolor": "#C8D4E3",
            "gridwidth": 2
           },
           "yaxis": {
            "backgroundcolor": "rgb(17,17,17)",
            "gridcolor": "#506784",
            "linecolor": "#506784",
            "showbackground": true,
            "ticks": "",
            "zerolinecolor": "#C8D4E3",
            "gridwidth": 2
           },
           "zaxis": {
            "backgroundcolor": "rgb(17,17,17)",
            "gridcolor": "#506784",
            "linecolor": "#506784",
            "showbackground": true,
            "ticks": "",
            "zerolinecolor": "#C8D4E3",
            "gridwidth": 2
           }
          },
          "shapedefaults": {
           "line": {
            "color": "#f2f5fa"
           }
          },
          "annotationdefaults": {
           "arrowcolor": "#f2f5fa",
           "arrowhead": 0,
           "arrowwidth": 1
          },
          "geo": {
           "bgcolor": "rgb(17,17,17)",
           "landcolor": "rgb(17,17,17)",
           "subunitcolor": "#506784",
           "showland": true,
           "showlakes": true,
           "lakecolor": "rgb(17,17,17)"
          },
          "title": {
           "x": 0.05
          },
          "updatemenudefaults": {
           "bgcolor": "#506784",
           "borderwidth": 0
          },
          "sliderdefaults": {
           "bgcolor": "#C8D4E3",
           "borderwidth": 1,
           "bordercolor": "rgb(17,17,17)",
           "tickwidth": 0
          },
          "mapbox": {
           "style": "dark"
          }
         }
        },
        "xaxis": {
         "anchor": "y",
         "domain": [
          0.0,
          1.0
         ],
         "title": {
          "text": "Rating category"
         }
        },
        "yaxis": {
         "anchor": "x",
         "domain": [
          0.0,
          1.0
         ],
         "title": {
          "text": "Average score"
         }
        },
        "legend": {
         "title": {
          "text": "variable"
         },
         "tracegroupgap": 0
        },
        "margin": {
         "t": 60
        },
        "barmode": "relative",
        "title": {
         "text": "Average score for each rating category",
         "x": 0.5
        },
        "showlegend": false
       },
       "config": {
        "plotlyServerURL": "https://plot.ly"
       }
      },
      "text/html": "<div>                            <div id=\"ed2c6f66-cf77-4f13-8830-0ba06928b6e8\" class=\"plotly-graph-div\" style=\"height:525px; width:100%;\"></div>            <script type=\"text/javascript\">                require([\"plotly\"], function(Plotly) {                    window.PLOTLYENV=window.PLOTLYENV || {};                                    if (document.getElementById(\"ed2c6f66-cf77-4f13-8830-0ba06928b6e8\")) {                    Plotly.newPlot(                        \"ed2c6f66-cf77-4f13-8830-0ba06928b6e8\",                        [{\"alignmentgroup\":\"True\",\"hovertemplate\":\"variable=count<br>index=%{x}<br>value=%{y}<extra></extra>\",\"legendgroup\":\"count\",\"marker\":{\"color\":\"#636efa\",\"pattern\":{\"shape\":\"\"}},\"name\":\"count\",\"offsetgroup\":\"count\",\"orientation\":\"v\",\"showlegend\":true,\"textposition\":\"auto\",\"x\":[\"Safe\",\"Questionable\",\"Explicit\"],\"xaxis\":\"x\",\"y\":[9.300131461302184,21.89821373814089,29.167074980868296],\"yaxis\":\"y\",\"type\":\"bar\"}],                        {\"template\":{\"data\":{\"histogram2dcontour\":[{\"type\":\"histogram2dcontour\",\"colorbar\":{\"outlinewidth\":0,\"ticks\":\"\"},\"colorscale\":[[0.0,\"#0d0887\"],[0.1111111111111111,\"#46039f\"],[0.2222222222222222,\"#7201a8\"],[0.3333333333333333,\"#9c179e\"],[0.4444444444444444,\"#bd3786\"],[0.5555555555555556,\"#d8576b\"],[0.6666666666666666,\"#ed7953\"],[0.7777777777777778,\"#fb9f3a\"],[0.8888888888888888,\"#fdca26\"],[1.0,\"#f0f921\"]]}],\"choropleth\":[{\"type\":\"choropleth\",\"colorbar\":{\"outlinewidth\":0,\"ticks\":\"\"}}],\"histogram2d\":[{\"type\":\"histogram2d\",\"colorbar\":{\"outlinewidth\":0,\"ticks\":\"\"},\"colorscale\":[[0.0,\"#0d0887\"],[0.1111111111111111,\"#46039f\"],[0.2222222222222222,\"#7201a8\"],[0.3333333333333333,\"#9c179e\"],[0.4444444444444444,\"#bd3786\"],[0.5555555555555556,\"#d8576b\"],[0.6666666666666666,\"#ed7953\"],[0.7777777777777778,\"#fb9f3a\"],[0.8888888888888888,\"#fdca26\"],[1.0,\"#f0f921\"]]}],\"heatmap\":[{\"type\":\"heatmap\",\"colorbar\":{\"outlinewidth\":0,\"ticks\":\"\"},\"colorscale\":[[0.0,\"#0d0887\"],[0.1111111111111111,\"#46039f\"],[0.2222222222222222,\"#7201a8\"],[0.3333333333333333,\"#9c179e\"],[0.4444444444444444,\"#bd3786\"],[0.5555555555555556,\"#d8576b\"],[0.6666666666666666,\"#ed7953\"],[0.7777777777777778,\"#fb9f3a\"],[0.8888888888888888,\"#fdca26\"],[1.0,\"#f0f921\"]]}],\"heatmapgl\":[{\"type\":\"heatmapgl\",\"colorbar\":{\"outlinewidth\":0,\"ticks\":\"\"},\"colorscale\":[[0.0,\"#0d0887\"],[0.1111111111111111,\"#46039f\"],[0.2222222222222222,\"#7201a8\"],[0.3333333333333333,\"#9c179e\"],[0.4444444444444444,\"#bd3786\"],[0.5555555555555556,\"#d8576b\"],[0.6666666666666666,\"#ed7953\"],[0.7777777777777778,\"#fb9f3a\"],[0.8888888888888888,\"#fdca26\"],[1.0,\"#f0f921\"]]}],\"contourcarpet\":[{\"type\":\"contourcarpet\",\"colorbar\":{\"outlinewidth\":0,\"ticks\":\"\"}}],\"contour\":[{\"type\":\"contour\",\"colorbar\":{\"outlinewidth\":0,\"ticks\":\"\"},\"colorscale\":[[0.0,\"#0d0887\"],[0.1111111111111111,\"#46039f\"],[0.2222222222222222,\"#7201a8\"],[0.3333333333333333,\"#9c179e\"],[0.4444444444444444,\"#bd3786\"],[0.5555555555555556,\"#d8576b\"],[0.6666666666666666,\"#ed7953\"],[0.7777777777777778,\"#fb9f3a\"],[0.8888888888888888,\"#fdca26\"],[1.0,\"#f0f921\"]]}],\"surface\":[{\"type\":\"surface\",\"colorbar\":{\"outlinewidth\":0,\"ticks\":\"\"},\"colorscale\":[[0.0,\"#0d0887\"],[0.1111111111111111,\"#46039f\"],[0.2222222222222222,\"#7201a8\"],[0.3333333333333333,\"#9c179e\"],[0.4444444444444444,\"#bd3786\"],[0.5555555555555556,\"#d8576b\"],[0.6666666666666666,\"#ed7953\"],[0.7777777777777778,\"#fb9f3a\"],[0.8888888888888888,\"#fdca26\"],[1.0,\"#f0f921\"]]}],\"mesh3d\":[{\"type\":\"mesh3d\",\"colorbar\":{\"outlinewidth\":0,\"ticks\":\"\"}}],\"scatter\":[{\"marker\":{\"line\":{\"color\":\"#283442\"}},\"type\":\"scatter\"}],\"parcoords\":[{\"type\":\"parcoords\",\"line\":{\"colorbar\":{\"outlinewidth\":0,\"ticks\":\"\"}}}],\"scatterpolargl\":[{\"type\":\"scatterpolargl\",\"marker\":{\"colorbar\":{\"outlinewidth\":0,\"ticks\":\"\"}}}],\"bar\":[{\"error_x\":{\"color\":\"#f2f5fa\"},\"error_y\":{\"color\":\"#f2f5fa\"},\"marker\":{\"line\":{\"color\":\"rgb(17,17,17)\",\"width\":0.5},\"pattern\":{\"fillmode\":\"overlay\",\"size\":10,\"solidity\":0.2}},\"type\":\"bar\"}],\"scattergeo\":[{\"type\":\"scattergeo\",\"marker\":{\"colorbar\":{\"outlinewidth\":0,\"ticks\":\"\"}}}],\"scatterpolar\":[{\"type\":\"scatterpolar\",\"marker\":{\"colorbar\":{\"outlinewidth\":0,\"ticks\":\"\"}}}],\"histogram\":[{\"marker\":{\"pattern\":{\"fillmode\":\"overlay\",\"size\":10,\"solidity\":0.2}},\"type\":\"histogram\"}],\"scattergl\":[{\"marker\":{\"line\":{\"color\":\"#283442\"}},\"type\":\"scattergl\"}],\"scatter3d\":[{\"type\":\"scatter3d\",\"line\":{\"colorbar\":{\"outlinewidth\":0,\"ticks\":\"\"}},\"marker\":{\"colorbar\":{\"outlinewidth\":0,\"ticks\":\"\"}}}],\"scattermapbox\":[{\"type\":\"scattermapbox\",\"marker\":{\"colorbar\":{\"outlinewidth\":0,\"ticks\":\"\"}}}],\"scatterternary\":[{\"type\":\"scatterternary\",\"marker\":{\"colorbar\":{\"outlinewidth\":0,\"ticks\":\"\"}}}],\"scattercarpet\":[{\"type\":\"scattercarpet\",\"marker\":{\"colorbar\":{\"outlinewidth\":0,\"ticks\":\"\"}}}],\"carpet\":[{\"aaxis\":{\"endlinecolor\":\"#A2B1C6\",\"gridcolor\":\"#506784\",\"linecolor\":\"#506784\",\"minorgridcolor\":\"#506784\",\"startlinecolor\":\"#A2B1C6\"},\"baxis\":{\"endlinecolor\":\"#A2B1C6\",\"gridcolor\":\"#506784\",\"linecolor\":\"#506784\",\"minorgridcolor\":\"#506784\",\"startlinecolor\":\"#A2B1C6\"},\"type\":\"carpet\"}],\"table\":[{\"cells\":{\"fill\":{\"color\":\"#506784\"},\"line\":{\"color\":\"rgb(17,17,17)\"}},\"header\":{\"fill\":{\"color\":\"#2a3f5f\"},\"line\":{\"color\":\"rgb(17,17,17)\"}},\"type\":\"table\"}],\"barpolar\":[{\"marker\":{\"line\":{\"color\":\"rgb(17,17,17)\",\"width\":0.5},\"pattern\":{\"fillmode\":\"overlay\",\"size\":10,\"solidity\":0.2}},\"type\":\"barpolar\"}],\"pie\":[{\"automargin\":true,\"type\":\"pie\"}]},\"layout\":{\"autotypenumbers\":\"strict\",\"colorway\":[\"#636efa\",\"#EF553B\",\"#00cc96\",\"#ab63fa\",\"#FFA15A\",\"#19d3f3\",\"#FF6692\",\"#B6E880\",\"#FF97FF\",\"#FECB52\"],\"font\":{\"color\":\"#f2f5fa\"},\"hovermode\":\"closest\",\"hoverlabel\":{\"align\":\"left\"},\"paper_bgcolor\":\"rgb(17,17,17)\",\"plot_bgcolor\":\"rgb(17,17,17)\",\"polar\":{\"bgcolor\":\"rgb(17,17,17)\",\"angularaxis\":{\"gridcolor\":\"#506784\",\"linecolor\":\"#506784\",\"ticks\":\"\"},\"radialaxis\":{\"gridcolor\":\"#506784\",\"linecolor\":\"#506784\",\"ticks\":\"\"}},\"ternary\":{\"bgcolor\":\"rgb(17,17,17)\",\"aaxis\":{\"gridcolor\":\"#506784\",\"linecolor\":\"#506784\",\"ticks\":\"\"},\"baxis\":{\"gridcolor\":\"#506784\",\"linecolor\":\"#506784\",\"ticks\":\"\"},\"caxis\":{\"gridcolor\":\"#506784\",\"linecolor\":\"#506784\",\"ticks\":\"\"}},\"coloraxis\":{\"colorbar\":{\"outlinewidth\":0,\"ticks\":\"\"}},\"colorscale\":{\"sequential\":[[0.0,\"#0d0887\"],[0.1111111111111111,\"#46039f\"],[0.2222222222222222,\"#7201a8\"],[0.3333333333333333,\"#9c179e\"],[0.4444444444444444,\"#bd3786\"],[0.5555555555555556,\"#d8576b\"],[0.6666666666666666,\"#ed7953\"],[0.7777777777777778,\"#fb9f3a\"],[0.8888888888888888,\"#fdca26\"],[1.0,\"#f0f921\"]],\"sequentialminus\":[[0.0,\"#0d0887\"],[0.1111111111111111,\"#46039f\"],[0.2222222222222222,\"#7201a8\"],[0.3333333333333333,\"#9c179e\"],[0.4444444444444444,\"#bd3786\"],[0.5555555555555556,\"#d8576b\"],[0.6666666666666666,\"#ed7953\"],[0.7777777777777778,\"#fb9f3a\"],[0.8888888888888888,\"#fdca26\"],[1.0,\"#f0f921\"]],\"diverging\":[[0,\"#8e0152\"],[0.1,\"#c51b7d\"],[0.2,\"#de77ae\"],[0.3,\"#f1b6da\"],[0.4,\"#fde0ef\"],[0.5,\"#f7f7f7\"],[0.6,\"#e6f5d0\"],[0.7,\"#b8e186\"],[0.8,\"#7fbc41\"],[0.9,\"#4d9221\"],[1,\"#276419\"]]},\"xaxis\":{\"gridcolor\":\"#283442\",\"linecolor\":\"#506784\",\"ticks\":\"\",\"title\":{\"standoff\":15},\"zerolinecolor\":\"#283442\",\"automargin\":true,\"zerolinewidth\":2},\"yaxis\":{\"gridcolor\":\"#283442\",\"linecolor\":\"#506784\",\"ticks\":\"\",\"title\":{\"standoff\":15},\"zerolinecolor\":\"#283442\",\"automargin\":true,\"zerolinewidth\":2},\"scene\":{\"xaxis\":{\"backgroundcolor\":\"rgb(17,17,17)\",\"gridcolor\":\"#506784\",\"linecolor\":\"#506784\",\"showbackground\":true,\"ticks\":\"\",\"zerolinecolor\":\"#C8D4E3\",\"gridwidth\":2},\"yaxis\":{\"backgroundcolor\":\"rgb(17,17,17)\",\"gridcolor\":\"#506784\",\"linecolor\":\"#506784\",\"showbackground\":true,\"ticks\":\"\",\"zerolinecolor\":\"#C8D4E3\",\"gridwidth\":2},\"zaxis\":{\"backgroundcolor\":\"rgb(17,17,17)\",\"gridcolor\":\"#506784\",\"linecolor\":\"#506784\",\"showbackground\":true,\"ticks\":\"\",\"zerolinecolor\":\"#C8D4E3\",\"gridwidth\":2}},\"shapedefaults\":{\"line\":{\"color\":\"#f2f5fa\"}},\"annotationdefaults\":{\"arrowcolor\":\"#f2f5fa\",\"arrowhead\":0,\"arrowwidth\":1},\"geo\":{\"bgcolor\":\"rgb(17,17,17)\",\"landcolor\":\"rgb(17,17,17)\",\"subunitcolor\":\"#506784\",\"showland\":true,\"showlakes\":true,\"lakecolor\":\"rgb(17,17,17)\"},\"title\":{\"x\":0.05},\"updatemenudefaults\":{\"bgcolor\":\"#506784\",\"borderwidth\":0},\"sliderdefaults\":{\"bgcolor\":\"#C8D4E3\",\"borderwidth\":1,\"bordercolor\":\"rgb(17,17,17)\",\"tickwidth\":0},\"mapbox\":{\"style\":\"dark\"}}},\"xaxis\":{\"anchor\":\"y\",\"domain\":[0.0,1.0],\"title\":{\"text\":\"Rating category\"}},\"yaxis\":{\"anchor\":\"x\",\"domain\":[0.0,1.0],\"title\":{\"text\":\"Average score\"}},\"legend\":{\"title\":{\"text\":\"variable\"},\"tracegroupgap\":0},\"margin\":{\"t\":60},\"barmode\":\"relative\",\"title\":{\"text\":\"Average score for each rating category\",\"x\":0.5},\"showlegend\":false},                        {\"responsive\": true}                    ).then(function(){\n                            \nvar gd = document.getElementById('ed2c6f66-cf77-4f13-8830-0ba06928b6e8');\nvar x = new MutationObserver(function (mutations, observer) {{\n        var display = window.getComputedStyle(gd).display;\n        if (!display || display === 'none') {{\n            console.log([gd, 'removed!']);\n            Plotly.purge(gd);\n            observer.disconnect();\n        }}\n}});\n\n// Listen for the removal of the full notebook cells\nvar notebookContainer = gd.closest('#notebook-container');\nif (notebookContainer) {{\n    x.observe(notebookContainer, {childList: true});\n}}\n\n// Listen for the clearing of the current output cell\nvar outputEl = gd.closest('.output');\nif (outputEl) {{\n    x.observe(outputEl, {childList: true});\n}}\n\n                        })                };                });            </script>        </div>"
     },
     "metadata": {},
     "output_type": "display_data"
    }
   ],
   "source": [
    "post_rating_average_scores_df = reindex_ratings(pd.DataFrame(post_rating_average_scores, index=[\"count\"]).T)\n",
    "plot(\"post_rating_average_scores\", px.bar(post_rating_average_scores_df).update_layout(\n",
    "    title=\"Average score for each rating category\",\n",
    "    xaxis_title=\"Rating category\",\n",
    "    yaxis_title=\"Average score\",\n",
    "    showlegend=False,\n",
    "))"
   ],
   "metadata": {
    "collapsed": false
   }
  },
  {
   "cell_type": "code",
   "execution_count": 45,
   "outputs": [],
   "source": [
    "def timestamp_to_date(timestamp):\n",
    "    return datetime.fromisoformat(timestamp.split(\" \")[0])"
   ],
   "metadata": {
    "collapsed": false
   }
  },
  {
   "cell_type": "code",
   "execution_count": 46,
   "outputs": [],
   "source": [
    "# Post scores against time.\n",
    "post_scores_and_time = [\n",
    "    {\n",
    "        \"created_at\": timestamp_to_date(post[\"created_at\"]),\n",
    "        \"score\": post[\"score\"],\n",
    "    }\n",
    "    for post in posts.values()\n",
    "]"
   ],
   "metadata": {
    "collapsed": false
   }
  },
  {
   "cell_type": "code",
   "execution_count": 47,
   "outputs": [],
   "source": [
    "post_scores_and_time_df = pd.DataFrame(post_scores_and_time)\n",
    "post_scores_and_time_df = post_scores_and_time_df.resample(\"1W\", on=\"created_at\").mean()"
   ],
   "metadata": {
    "collapsed": false
   }
  },
  {
   "cell_type": "code",
   "execution_count": 93,
   "outputs": [
    {
     "data": {
      "application/vnd.plotly.v1+json": {
       "data": [
        {
         "hovertemplate": "variable=score<br>created_at=%{x}<br>value=%{y}<extra></extra>",
         "legendgroup": "score",
         "marker": {
          "color": "#636efa",
          "symbol": "circle"
         },
         "mode": "markers",
         "name": "score",
         "orientation": "v",
         "showlegend": true,
         "x": [
          "2005-05-29T00:00:00",
          "2005-06-05T00:00:00",
          "2005-06-12T00:00:00",
          "2005-06-19T00:00:00",
          "2005-06-26T00:00:00",
          "2005-07-03T00:00:00",
          "2005-07-10T00:00:00",
          "2005-07-17T00:00:00",
          "2005-07-24T00:00:00",
          "2005-07-31T00:00:00",
          "2005-08-07T00:00:00",
          "2005-08-14T00:00:00",
          "2005-08-21T00:00:00",
          "2005-08-28T00:00:00",
          "2005-09-04T00:00:00",
          "2005-09-11T00:00:00",
          "2005-09-18T00:00:00",
          "2005-09-25T00:00:00",
          "2005-10-02T00:00:00",
          "2005-10-09T00:00:00",
          "2005-10-16T00:00:00",
          "2005-10-23T00:00:00",
          "2005-10-30T00:00:00",
          "2005-11-06T00:00:00",
          "2005-11-13T00:00:00",
          "2005-11-20T00:00:00",
          "2005-11-27T00:00:00",
          "2005-12-04T00:00:00",
          "2005-12-11T00:00:00",
          "2005-12-18T00:00:00",
          "2005-12-25T00:00:00",
          "2006-01-01T00:00:00",
          "2006-01-08T00:00:00",
          "2006-01-15T00:00:00",
          "2006-01-22T00:00:00",
          "2006-01-29T00:00:00",
          "2006-02-05T00:00:00",
          "2006-02-12T00:00:00",
          "2006-02-19T00:00:00",
          "2006-02-26T00:00:00",
          "2006-03-05T00:00:00",
          "2006-03-12T00:00:00",
          "2006-03-19T00:00:00",
          "2006-03-26T00:00:00",
          "2006-04-02T00:00:00",
          "2006-04-09T00:00:00",
          "2006-04-16T00:00:00",
          "2006-04-23T00:00:00",
          "2006-04-30T00:00:00",
          "2006-05-07T00:00:00",
          "2006-05-14T00:00:00",
          "2006-05-21T00:00:00",
          "2006-05-28T00:00:00",
          "2006-06-04T00:00:00",
          "2006-06-11T00:00:00",
          "2006-06-18T00:00:00",
          "2006-06-25T00:00:00",
          "2006-07-02T00:00:00",
          "2006-07-09T00:00:00",
          "2006-07-16T00:00:00",
          "2006-07-23T00:00:00",
          "2006-07-30T00:00:00",
          "2006-08-06T00:00:00",
          "2006-08-13T00:00:00",
          "2006-08-20T00:00:00",
          "2006-08-27T00:00:00",
          "2006-09-03T00:00:00",
          "2006-09-10T00:00:00",
          "2006-09-17T00:00:00",
          "2006-09-24T00:00:00",
          "2006-10-01T00:00:00",
          "2006-10-08T00:00:00",
          "2006-10-15T00:00:00",
          "2006-10-22T00:00:00",
          "2006-10-29T00:00:00",
          "2006-11-05T00:00:00",
          "2006-11-12T00:00:00",
          "2006-11-19T00:00:00",
          "2006-11-26T00:00:00",
          "2006-12-03T00:00:00",
          "2006-12-10T00:00:00",
          "2006-12-17T00:00:00",
          "2006-12-24T00:00:00",
          "2006-12-31T00:00:00",
          "2007-01-07T00:00:00",
          "2007-01-14T00:00:00",
          "2007-01-21T00:00:00",
          "2007-01-28T00:00:00",
          "2007-02-04T00:00:00",
          "2007-02-11T00:00:00",
          "2007-02-18T00:00:00",
          "2007-02-25T00:00:00",
          "2007-03-04T00:00:00",
          "2007-03-11T00:00:00",
          "2007-03-18T00:00:00",
          "2007-03-25T00:00:00",
          "2007-04-01T00:00:00",
          "2007-04-08T00:00:00",
          "2007-04-15T00:00:00",
          "2007-04-22T00:00:00",
          "2007-04-29T00:00:00",
          "2007-05-06T00:00:00",
          "2007-05-13T00:00:00",
          "2007-05-20T00:00:00",
          "2007-05-27T00:00:00",
          "2007-06-03T00:00:00",
          "2007-06-10T00:00:00",
          "2007-06-17T00:00:00",
          "2007-06-24T00:00:00",
          "2007-07-01T00:00:00",
          "2007-07-08T00:00:00",
          "2007-07-15T00:00:00",
          "2007-07-22T00:00:00",
          "2007-07-29T00:00:00",
          "2007-08-05T00:00:00",
          "2007-08-12T00:00:00",
          "2007-08-19T00:00:00",
          "2007-08-26T00:00:00",
          "2007-09-02T00:00:00",
          "2007-09-09T00:00:00",
          "2007-09-16T00:00:00",
          "2007-09-23T00:00:00",
          "2007-09-30T00:00:00",
          "2007-10-07T00:00:00",
          "2007-10-14T00:00:00",
          "2007-10-21T00:00:00",
          "2007-10-28T00:00:00",
          "2007-11-04T00:00:00",
          "2007-11-11T00:00:00",
          "2007-11-18T00:00:00",
          "2007-11-25T00:00:00",
          "2007-12-02T00:00:00",
          "2007-12-09T00:00:00",
          "2007-12-16T00:00:00",
          "2007-12-23T00:00:00",
          "2007-12-30T00:00:00",
          "2008-01-06T00:00:00",
          "2008-01-13T00:00:00",
          "2008-01-20T00:00:00",
          "2008-01-27T00:00:00",
          "2008-02-03T00:00:00",
          "2008-02-10T00:00:00",
          "2008-02-17T00:00:00",
          "2008-02-24T00:00:00",
          "2008-03-02T00:00:00",
          "2008-03-09T00:00:00",
          "2008-03-16T00:00:00",
          "2008-03-23T00:00:00",
          "2008-03-30T00:00:00",
          "2008-04-06T00:00:00",
          "2008-04-13T00:00:00",
          "2008-04-20T00:00:00",
          "2008-04-27T00:00:00",
          "2008-05-04T00:00:00",
          "2008-05-11T00:00:00",
          "2008-05-18T00:00:00",
          "2008-05-25T00:00:00",
          "2008-06-01T00:00:00",
          "2008-06-08T00:00:00",
          "2008-06-15T00:00:00",
          "2008-06-22T00:00:00",
          "2008-06-29T00:00:00",
          "2008-07-06T00:00:00",
          "2008-07-13T00:00:00",
          "2008-07-20T00:00:00",
          "2008-07-27T00:00:00",
          "2008-08-03T00:00:00",
          "2008-08-10T00:00:00",
          "2008-08-17T00:00:00",
          "2008-08-24T00:00:00",
          "2008-08-31T00:00:00",
          "2008-09-07T00:00:00",
          "2008-09-14T00:00:00",
          "2008-09-21T00:00:00",
          "2008-09-28T00:00:00",
          "2008-10-05T00:00:00",
          "2008-10-12T00:00:00",
          "2008-10-19T00:00:00",
          "2008-10-26T00:00:00",
          "2008-11-02T00:00:00",
          "2008-11-09T00:00:00",
          "2008-11-16T00:00:00",
          "2008-11-23T00:00:00",
          "2008-11-30T00:00:00",
          "2008-12-07T00:00:00",
          "2008-12-14T00:00:00",
          "2008-12-21T00:00:00",
          "2008-12-28T00:00:00",
          "2009-01-04T00:00:00",
          "2009-01-11T00:00:00",
          "2009-01-18T00:00:00",
          "2009-01-25T00:00:00",
          "2009-02-01T00:00:00",
          "2009-02-08T00:00:00",
          "2009-02-15T00:00:00",
          "2009-02-22T00:00:00",
          "2009-03-01T00:00:00",
          "2009-03-08T00:00:00",
          "2009-03-15T00:00:00",
          "2009-03-22T00:00:00",
          "2009-03-29T00:00:00",
          "2009-04-05T00:00:00",
          "2009-04-12T00:00:00",
          "2009-04-19T00:00:00",
          "2009-04-26T00:00:00",
          "2009-05-03T00:00:00",
          "2009-05-10T00:00:00",
          "2009-05-17T00:00:00",
          "2009-05-24T00:00:00",
          "2009-05-31T00:00:00",
          "2009-06-07T00:00:00",
          "2009-06-14T00:00:00",
          "2009-06-21T00:00:00",
          "2009-06-28T00:00:00",
          "2009-07-05T00:00:00",
          "2009-07-12T00:00:00",
          "2009-07-19T00:00:00",
          "2009-07-26T00:00:00",
          "2009-08-02T00:00:00",
          "2009-08-09T00:00:00",
          "2009-08-16T00:00:00",
          "2009-08-23T00:00:00",
          "2009-08-30T00:00:00",
          "2009-09-06T00:00:00",
          "2009-09-13T00:00:00",
          "2009-09-20T00:00:00",
          "2009-09-27T00:00:00",
          "2009-10-04T00:00:00",
          "2009-10-11T00:00:00",
          "2009-10-18T00:00:00",
          "2009-10-25T00:00:00",
          "2009-11-01T00:00:00",
          "2009-11-08T00:00:00",
          "2009-11-15T00:00:00",
          "2009-11-22T00:00:00",
          "2009-11-29T00:00:00",
          "2009-12-06T00:00:00",
          "2009-12-13T00:00:00",
          "2009-12-20T00:00:00",
          "2009-12-27T00:00:00",
          "2010-01-03T00:00:00",
          "2010-01-10T00:00:00",
          "2010-01-17T00:00:00",
          "2010-01-24T00:00:00",
          "2010-01-31T00:00:00",
          "2010-02-07T00:00:00",
          "2010-02-14T00:00:00",
          "2010-02-21T00:00:00",
          "2010-02-28T00:00:00",
          "2010-03-07T00:00:00",
          "2010-03-14T00:00:00",
          "2010-03-21T00:00:00",
          "2010-03-28T00:00:00",
          "2010-04-04T00:00:00",
          "2010-04-11T00:00:00",
          "2010-04-18T00:00:00",
          "2010-04-25T00:00:00",
          "2010-05-02T00:00:00",
          "2010-05-09T00:00:00",
          "2010-05-16T00:00:00",
          "2010-05-23T00:00:00",
          "2010-05-30T00:00:00",
          "2010-06-06T00:00:00",
          "2010-06-13T00:00:00",
          "2010-06-20T00:00:00",
          "2010-06-27T00:00:00",
          "2010-07-04T00:00:00",
          "2010-07-11T00:00:00",
          "2010-07-18T00:00:00",
          "2010-07-25T00:00:00",
          "2010-08-01T00:00:00",
          "2010-08-08T00:00:00",
          "2010-08-15T00:00:00",
          "2010-08-22T00:00:00",
          "2010-08-29T00:00:00",
          "2010-09-05T00:00:00",
          "2010-09-12T00:00:00",
          "2010-09-19T00:00:00",
          "2010-09-26T00:00:00",
          "2010-10-03T00:00:00",
          "2010-10-10T00:00:00",
          "2010-10-17T00:00:00",
          "2010-10-24T00:00:00",
          "2010-10-31T00:00:00",
          "2010-11-07T00:00:00",
          "2010-11-14T00:00:00",
          "2010-11-21T00:00:00",
          "2010-11-28T00:00:00",
          "2010-12-05T00:00:00",
          "2010-12-12T00:00:00",
          "2010-12-19T00:00:00",
          "2010-12-26T00:00:00",
          "2011-01-02T00:00:00",
          "2011-01-09T00:00:00",
          "2011-01-16T00:00:00",
          "2011-01-23T00:00:00",
          "2011-01-30T00:00:00",
          "2011-02-06T00:00:00",
          "2011-02-13T00:00:00",
          "2011-02-20T00:00:00",
          "2011-02-27T00:00:00",
          "2011-03-06T00:00:00",
          "2011-03-13T00:00:00",
          "2011-03-20T00:00:00",
          "2011-03-27T00:00:00",
          "2011-04-03T00:00:00",
          "2011-04-10T00:00:00",
          "2011-04-17T00:00:00",
          "2011-04-24T00:00:00",
          "2011-05-01T00:00:00",
          "2011-05-08T00:00:00",
          "2011-05-15T00:00:00",
          "2011-05-22T00:00:00",
          "2011-05-29T00:00:00",
          "2011-06-05T00:00:00",
          "2011-06-12T00:00:00",
          "2011-06-19T00:00:00",
          "2011-06-26T00:00:00",
          "2011-07-03T00:00:00",
          "2011-07-10T00:00:00",
          "2011-07-17T00:00:00",
          "2011-07-24T00:00:00",
          "2011-07-31T00:00:00",
          "2011-08-07T00:00:00",
          "2011-08-14T00:00:00",
          "2011-08-21T00:00:00",
          "2011-08-28T00:00:00",
          "2011-09-04T00:00:00",
          "2011-09-11T00:00:00",
          "2011-09-18T00:00:00",
          "2011-09-25T00:00:00",
          "2011-10-02T00:00:00",
          "2011-10-09T00:00:00",
          "2011-10-16T00:00:00",
          "2011-10-23T00:00:00",
          "2011-10-30T00:00:00",
          "2011-11-06T00:00:00",
          "2011-11-13T00:00:00",
          "2011-11-20T00:00:00",
          "2011-11-27T00:00:00",
          "2011-12-04T00:00:00",
          "2011-12-11T00:00:00",
          "2011-12-18T00:00:00",
          "2011-12-25T00:00:00",
          "2012-01-01T00:00:00",
          "2012-01-08T00:00:00",
          "2012-01-15T00:00:00",
          "2012-01-22T00:00:00",
          "2012-01-29T00:00:00",
          "2012-02-05T00:00:00",
          "2012-02-12T00:00:00",
          "2012-02-19T00:00:00",
          "2012-02-26T00:00:00",
          "2012-03-04T00:00:00",
          "2012-03-11T00:00:00",
          "2012-03-18T00:00:00",
          "2012-03-25T00:00:00",
          "2012-04-01T00:00:00",
          "2012-04-08T00:00:00",
          "2012-04-15T00:00:00",
          "2012-04-22T00:00:00",
          "2012-04-29T00:00:00",
          "2012-05-06T00:00:00",
          "2012-05-13T00:00:00",
          "2012-05-20T00:00:00",
          "2012-05-27T00:00:00",
          "2012-06-03T00:00:00",
          "2012-06-10T00:00:00",
          "2012-06-17T00:00:00",
          "2012-06-24T00:00:00",
          "2012-07-01T00:00:00",
          "2012-07-08T00:00:00",
          "2012-07-15T00:00:00",
          "2012-07-22T00:00:00",
          "2012-07-29T00:00:00",
          "2012-08-05T00:00:00",
          "2012-08-12T00:00:00",
          "2012-08-19T00:00:00",
          "2012-08-26T00:00:00",
          "2012-09-02T00:00:00",
          "2012-09-09T00:00:00",
          "2012-09-16T00:00:00",
          "2012-09-23T00:00:00",
          "2012-09-30T00:00:00",
          "2012-10-07T00:00:00",
          "2012-10-14T00:00:00",
          "2012-10-21T00:00:00",
          "2012-10-28T00:00:00",
          "2012-11-04T00:00:00",
          "2012-11-11T00:00:00",
          "2012-11-18T00:00:00",
          "2012-11-25T00:00:00",
          "2012-12-02T00:00:00",
          "2012-12-09T00:00:00",
          "2012-12-16T00:00:00",
          "2012-12-23T00:00:00",
          "2012-12-30T00:00:00",
          "2013-01-06T00:00:00",
          "2013-01-13T00:00:00",
          "2013-01-20T00:00:00",
          "2013-01-27T00:00:00",
          "2013-02-03T00:00:00",
          "2013-02-10T00:00:00",
          "2013-02-17T00:00:00",
          "2013-02-24T00:00:00",
          "2013-03-03T00:00:00",
          "2013-03-10T00:00:00",
          "2013-03-17T00:00:00",
          "2013-03-24T00:00:00",
          "2013-03-31T00:00:00",
          "2013-04-07T00:00:00",
          "2013-04-14T00:00:00",
          "2013-04-21T00:00:00",
          "2013-04-28T00:00:00",
          "2013-05-05T00:00:00",
          "2013-05-12T00:00:00",
          "2013-05-19T00:00:00",
          "2013-05-26T00:00:00",
          "2013-06-02T00:00:00",
          "2013-06-09T00:00:00",
          "2013-06-16T00:00:00",
          "2013-06-23T00:00:00",
          "2013-06-30T00:00:00",
          "2013-07-07T00:00:00",
          "2013-07-14T00:00:00",
          "2013-07-21T00:00:00",
          "2013-07-28T00:00:00",
          "2013-08-04T00:00:00",
          "2013-08-11T00:00:00",
          "2013-08-18T00:00:00",
          "2013-08-25T00:00:00",
          "2013-09-01T00:00:00",
          "2013-09-08T00:00:00",
          "2013-09-15T00:00:00",
          "2013-09-22T00:00:00",
          "2013-09-29T00:00:00",
          "2013-10-06T00:00:00",
          "2013-10-13T00:00:00",
          "2013-10-20T00:00:00",
          "2013-10-27T00:00:00",
          "2013-11-03T00:00:00",
          "2013-11-10T00:00:00",
          "2013-11-17T00:00:00",
          "2013-11-24T00:00:00",
          "2013-12-01T00:00:00",
          "2013-12-08T00:00:00",
          "2013-12-15T00:00:00",
          "2013-12-22T00:00:00",
          "2013-12-29T00:00:00",
          "2014-01-05T00:00:00",
          "2014-01-12T00:00:00",
          "2014-01-19T00:00:00",
          "2014-01-26T00:00:00",
          "2014-02-02T00:00:00",
          "2014-02-09T00:00:00",
          "2014-02-16T00:00:00",
          "2014-02-23T00:00:00",
          "2014-03-02T00:00:00",
          "2014-03-09T00:00:00",
          "2014-03-16T00:00:00",
          "2014-03-23T00:00:00",
          "2014-03-30T00:00:00",
          "2014-04-06T00:00:00",
          "2014-04-13T00:00:00",
          "2014-04-20T00:00:00",
          "2014-04-27T00:00:00",
          "2014-05-04T00:00:00",
          "2014-05-11T00:00:00",
          "2014-05-18T00:00:00",
          "2014-05-25T00:00:00",
          "2014-06-01T00:00:00",
          "2014-06-08T00:00:00",
          "2014-06-15T00:00:00",
          "2014-06-22T00:00:00",
          "2014-06-29T00:00:00",
          "2014-07-06T00:00:00",
          "2014-07-13T00:00:00",
          "2014-07-20T00:00:00",
          "2014-07-27T00:00:00",
          "2014-08-03T00:00:00",
          "2014-08-10T00:00:00",
          "2014-08-17T00:00:00",
          "2014-08-24T00:00:00",
          "2014-08-31T00:00:00",
          "2014-09-07T00:00:00",
          "2014-09-14T00:00:00",
          "2014-09-21T00:00:00",
          "2014-09-28T00:00:00",
          "2014-10-05T00:00:00",
          "2014-10-12T00:00:00",
          "2014-10-19T00:00:00",
          "2014-10-26T00:00:00",
          "2014-11-02T00:00:00",
          "2014-11-09T00:00:00",
          "2014-11-16T00:00:00",
          "2014-11-23T00:00:00",
          "2014-11-30T00:00:00",
          "2014-12-07T00:00:00",
          "2014-12-14T00:00:00",
          "2014-12-21T00:00:00",
          "2014-12-28T00:00:00",
          "2015-01-04T00:00:00",
          "2015-01-11T00:00:00",
          "2015-01-18T00:00:00",
          "2015-01-25T00:00:00",
          "2015-02-01T00:00:00",
          "2015-02-08T00:00:00",
          "2015-02-15T00:00:00",
          "2015-02-22T00:00:00",
          "2015-03-01T00:00:00",
          "2015-03-08T00:00:00",
          "2015-03-15T00:00:00",
          "2015-03-22T00:00:00",
          "2015-03-29T00:00:00",
          "2015-04-05T00:00:00",
          "2015-04-12T00:00:00",
          "2015-04-19T00:00:00",
          "2015-04-26T00:00:00",
          "2015-05-03T00:00:00",
          "2015-05-10T00:00:00",
          "2015-05-17T00:00:00",
          "2015-05-24T00:00:00",
          "2015-05-31T00:00:00",
          "2015-06-07T00:00:00",
          "2015-06-14T00:00:00",
          "2015-06-21T00:00:00",
          "2015-06-28T00:00:00",
          "2015-07-05T00:00:00",
          "2015-07-12T00:00:00",
          "2015-07-19T00:00:00",
          "2015-07-26T00:00:00",
          "2015-08-02T00:00:00",
          "2015-08-09T00:00:00",
          "2015-08-16T00:00:00",
          "2015-08-23T00:00:00",
          "2015-08-30T00:00:00",
          "2015-09-06T00:00:00",
          "2015-09-13T00:00:00",
          "2015-09-20T00:00:00",
          "2015-09-27T00:00:00",
          "2015-10-04T00:00:00",
          "2015-10-11T00:00:00",
          "2015-10-18T00:00:00",
          "2015-10-25T00:00:00",
          "2015-11-01T00:00:00",
          "2015-11-08T00:00:00",
          "2015-11-15T00:00:00",
          "2015-11-22T00:00:00",
          "2015-11-29T00:00:00",
          "2015-12-06T00:00:00",
          "2015-12-13T00:00:00",
          "2015-12-20T00:00:00",
          "2015-12-27T00:00:00",
          "2016-01-03T00:00:00",
          "2016-01-10T00:00:00",
          "2016-01-17T00:00:00",
          "2016-01-24T00:00:00",
          "2016-01-31T00:00:00",
          "2016-02-07T00:00:00",
          "2016-02-14T00:00:00",
          "2016-02-21T00:00:00",
          "2016-02-28T00:00:00",
          "2016-03-06T00:00:00",
          "2016-03-13T00:00:00",
          "2016-03-20T00:00:00",
          "2016-03-27T00:00:00",
          "2016-04-03T00:00:00",
          "2016-04-10T00:00:00",
          "2016-04-17T00:00:00",
          "2016-04-24T00:00:00",
          "2016-05-01T00:00:00",
          "2016-05-08T00:00:00",
          "2016-05-15T00:00:00",
          "2016-05-22T00:00:00",
          "2016-05-29T00:00:00",
          "2016-06-05T00:00:00",
          "2016-06-12T00:00:00",
          "2016-06-19T00:00:00",
          "2016-06-26T00:00:00",
          "2016-07-03T00:00:00",
          "2016-07-10T00:00:00",
          "2016-07-17T00:00:00",
          "2016-07-24T00:00:00",
          "2016-07-31T00:00:00",
          "2016-08-07T00:00:00",
          "2016-08-14T00:00:00",
          "2016-08-21T00:00:00",
          "2016-08-28T00:00:00",
          "2016-09-04T00:00:00",
          "2016-09-11T00:00:00",
          "2016-09-18T00:00:00",
          "2016-09-25T00:00:00",
          "2016-10-02T00:00:00",
          "2016-10-09T00:00:00",
          "2016-10-16T00:00:00",
          "2016-10-23T00:00:00",
          "2016-10-30T00:00:00",
          "2016-11-06T00:00:00",
          "2016-11-13T00:00:00",
          "2016-11-20T00:00:00",
          "2016-11-27T00:00:00",
          "2016-12-04T00:00:00",
          "2016-12-11T00:00:00",
          "2016-12-18T00:00:00",
          "2016-12-25T00:00:00",
          "2017-01-01T00:00:00",
          "2017-01-08T00:00:00",
          "2017-01-15T00:00:00",
          "2017-01-22T00:00:00",
          "2017-01-29T00:00:00",
          "2017-02-05T00:00:00",
          "2017-02-12T00:00:00",
          "2017-02-19T00:00:00",
          "2017-02-26T00:00:00",
          "2017-03-05T00:00:00",
          "2017-03-12T00:00:00",
          "2017-03-19T00:00:00",
          "2017-03-26T00:00:00",
          "2017-04-02T00:00:00",
          "2017-04-09T00:00:00",
          "2017-04-16T00:00:00",
          "2017-04-23T00:00:00",
          "2017-04-30T00:00:00",
          "2017-05-07T00:00:00",
          "2017-05-14T00:00:00",
          "2017-05-21T00:00:00",
          "2017-05-28T00:00:00",
          "2017-06-04T00:00:00",
          "2017-06-11T00:00:00",
          "2017-06-18T00:00:00",
          "2017-06-25T00:00:00",
          "2017-07-02T00:00:00",
          "2017-07-09T00:00:00",
          "2017-07-16T00:00:00",
          "2017-07-23T00:00:00",
          "2017-07-30T00:00:00",
          "2017-08-06T00:00:00",
          "2017-08-13T00:00:00",
          "2017-08-20T00:00:00",
          "2017-08-27T00:00:00",
          "2017-09-03T00:00:00",
          "2017-09-10T00:00:00",
          "2017-09-17T00:00:00",
          "2017-09-24T00:00:00",
          "2017-10-01T00:00:00",
          "2017-10-08T00:00:00",
          "2017-10-15T00:00:00",
          "2017-10-22T00:00:00",
          "2017-10-29T00:00:00",
          "2017-11-05T00:00:00",
          "2017-11-12T00:00:00",
          "2017-11-19T00:00:00",
          "2017-11-26T00:00:00",
          "2017-12-03T00:00:00",
          "2017-12-10T00:00:00",
          "2017-12-17T00:00:00",
          "2017-12-24T00:00:00",
          "2017-12-31T00:00:00",
          "2018-01-07T00:00:00",
          "2018-01-14T00:00:00",
          "2018-01-21T00:00:00",
          "2018-01-28T00:00:00",
          "2018-02-04T00:00:00",
          "2018-02-11T00:00:00",
          "2018-02-18T00:00:00",
          "2018-02-25T00:00:00",
          "2018-03-04T00:00:00",
          "2018-03-11T00:00:00",
          "2018-03-18T00:00:00",
          "2018-03-25T00:00:00",
          "2018-04-01T00:00:00",
          "2018-04-08T00:00:00",
          "2018-04-15T00:00:00",
          "2018-04-22T00:00:00",
          "2018-04-29T00:00:00",
          "2018-05-06T00:00:00",
          "2018-05-13T00:00:00",
          "2018-05-20T00:00:00",
          "2018-05-27T00:00:00",
          "2018-06-03T00:00:00",
          "2018-06-10T00:00:00",
          "2018-06-17T00:00:00",
          "2018-06-24T00:00:00",
          "2018-07-01T00:00:00",
          "2018-07-08T00:00:00",
          "2018-07-15T00:00:00",
          "2018-07-22T00:00:00",
          "2018-07-29T00:00:00",
          "2018-08-05T00:00:00",
          "2018-08-12T00:00:00",
          "2018-08-19T00:00:00",
          "2018-08-26T00:00:00",
          "2018-09-02T00:00:00",
          "2018-09-09T00:00:00",
          "2018-09-16T00:00:00",
          "2018-09-23T00:00:00",
          "2018-09-30T00:00:00",
          "2018-10-07T00:00:00",
          "2018-10-14T00:00:00",
          "2018-10-21T00:00:00",
          "2018-10-28T00:00:00",
          "2018-11-04T00:00:00",
          "2018-11-11T00:00:00",
          "2018-11-18T00:00:00",
          "2018-11-25T00:00:00",
          "2018-12-02T00:00:00",
          "2018-12-09T00:00:00",
          "2018-12-16T00:00:00",
          "2018-12-23T00:00:00",
          "2018-12-30T00:00:00",
          "2019-01-06T00:00:00",
          "2019-01-13T00:00:00",
          "2019-01-20T00:00:00",
          "2019-01-27T00:00:00",
          "2019-02-03T00:00:00",
          "2019-02-10T00:00:00",
          "2019-02-17T00:00:00",
          "2019-02-24T00:00:00",
          "2019-03-03T00:00:00",
          "2019-03-10T00:00:00",
          "2019-03-17T00:00:00",
          "2019-03-24T00:00:00",
          "2019-03-31T00:00:00",
          "2019-04-07T00:00:00",
          "2019-04-14T00:00:00",
          "2019-04-21T00:00:00",
          "2019-04-28T00:00:00",
          "2019-05-05T00:00:00",
          "2019-05-12T00:00:00",
          "2019-05-19T00:00:00",
          "2019-05-26T00:00:00",
          "2019-06-02T00:00:00",
          "2019-06-09T00:00:00",
          "2019-06-16T00:00:00",
          "2019-06-23T00:00:00",
          "2019-06-30T00:00:00",
          "2019-07-07T00:00:00",
          "2019-07-14T00:00:00",
          "2019-07-21T00:00:00",
          "2019-07-28T00:00:00",
          "2019-08-04T00:00:00",
          "2019-08-11T00:00:00",
          "2019-08-18T00:00:00",
          "2019-08-25T00:00:00",
          "2019-09-01T00:00:00",
          "2019-09-08T00:00:00",
          "2019-09-15T00:00:00",
          "2019-09-22T00:00:00",
          "2019-09-29T00:00:00",
          "2019-10-06T00:00:00",
          "2019-10-13T00:00:00",
          "2019-10-20T00:00:00",
          "2019-10-27T00:00:00",
          "2019-11-03T00:00:00",
          "2019-11-10T00:00:00",
          "2019-11-17T00:00:00",
          "2019-11-24T00:00:00",
          "2019-12-01T00:00:00",
          "2019-12-08T00:00:00",
          "2019-12-15T00:00:00",
          "2019-12-22T00:00:00",
          "2019-12-29T00:00:00",
          "2020-01-05T00:00:00",
          "2020-01-12T00:00:00",
          "2020-01-19T00:00:00",
          "2020-01-26T00:00:00",
          "2020-02-02T00:00:00",
          "2020-02-09T00:00:00",
          "2020-02-16T00:00:00",
          "2020-02-23T00:00:00",
          "2020-03-01T00:00:00",
          "2020-03-08T00:00:00",
          "2020-03-15T00:00:00",
          "2020-03-22T00:00:00",
          "2020-03-29T00:00:00",
          "2020-04-05T00:00:00",
          "2020-04-12T00:00:00",
          "2020-04-19T00:00:00",
          "2020-04-26T00:00:00",
          "2020-05-03T00:00:00",
          "2020-05-10T00:00:00",
          "2020-05-17T00:00:00",
          "2020-05-24T00:00:00",
          "2020-05-31T00:00:00",
          "2020-06-07T00:00:00",
          "2020-06-14T00:00:00",
          "2020-06-21T00:00:00",
          "2020-06-28T00:00:00",
          "2020-07-05T00:00:00",
          "2020-07-12T00:00:00",
          "2020-07-19T00:00:00",
          "2020-07-26T00:00:00",
          "2020-08-02T00:00:00",
          "2020-08-09T00:00:00",
          "2020-08-16T00:00:00",
          "2020-08-23T00:00:00",
          "2020-08-30T00:00:00",
          "2020-09-06T00:00:00",
          "2020-09-13T00:00:00",
          "2020-09-20T00:00:00",
          "2020-09-27T00:00:00",
          "2020-10-04T00:00:00",
          "2020-10-11T00:00:00",
          "2020-10-18T00:00:00",
          "2020-10-25T00:00:00",
          "2020-11-01T00:00:00",
          "2020-11-08T00:00:00",
          "2020-11-15T00:00:00",
          "2020-11-22T00:00:00",
          "2020-11-29T00:00:00",
          "2020-12-06T00:00:00",
          "2020-12-13T00:00:00",
          "2020-12-20T00:00:00",
          "2020-12-27T00:00:00",
          "2021-01-03T00:00:00",
          "2021-01-10T00:00:00",
          "2021-01-17T00:00:00",
          "2021-01-24T00:00:00",
          "2021-01-31T00:00:00",
          "2021-02-07T00:00:00",
          "2021-02-14T00:00:00",
          "2021-02-21T00:00:00",
          "2021-02-28T00:00:00",
          "2021-03-07T00:00:00",
          "2021-03-14T00:00:00",
          "2021-03-21T00:00:00",
          "2021-03-28T00:00:00",
          "2021-04-04T00:00:00",
          "2021-04-11T00:00:00",
          "2021-04-18T00:00:00",
          "2021-04-25T00:00:00",
          "2021-05-02T00:00:00",
          "2021-05-09T00:00:00",
          "2021-05-16T00:00:00",
          "2021-05-23T00:00:00",
          "2021-05-30T00:00:00",
          "2021-06-06T00:00:00",
          "2021-06-13T00:00:00",
          "2021-06-20T00:00:00",
          "2021-06-27T00:00:00",
          "2021-07-04T00:00:00",
          "2021-07-11T00:00:00",
          "2021-07-18T00:00:00",
          "2021-07-25T00:00:00",
          "2021-08-01T00:00:00",
          "2021-08-08T00:00:00",
          "2021-08-15T00:00:00",
          "2021-08-22T00:00:00",
          "2021-08-29T00:00:00",
          "2021-09-05T00:00:00",
          "2021-09-12T00:00:00",
          "2021-09-19T00:00:00",
          "2021-09-26T00:00:00",
          "2021-10-03T00:00:00",
          "2021-10-10T00:00:00",
          "2021-10-17T00:00:00",
          "2021-10-24T00:00:00",
          "2021-10-31T00:00:00",
          "2021-11-07T00:00:00",
          "2021-11-14T00:00:00",
          "2021-11-21T00:00:00",
          "2021-11-28T00:00:00",
          "2021-12-05T00:00:00",
          "2021-12-12T00:00:00",
          "2021-12-19T00:00:00",
          "2021-12-26T00:00:00",
          "2022-01-02T00:00:00",
          "2022-01-09T00:00:00"
         ],
         "xaxis": "x",
         "y": [
          5.946835443037974,
          4.491735537190083,
          4.1201923076923075,
          3.2579750346740637,
          3.1202312138728323,
          3.4504310344827585,
          3.2052023121387285,
          3.2874692874692877,
          3.2645985401459856,
          3.129032258064516,
          3.495049504950495,
          2.6299638989169676,
          3.6784776902887137,
          2.467771639042357,
          2.74609375,
          3.012323943661972,
          3.0327868852459017,
          3.363809523809524,
          3.3333333333333335,
          3.071240105540897,
          3.108045977011494,
          2.9853300733496333,
          2.070718232044199,
          2.7955911823647295,
          3.0149625935162097,
          3.2606060606060607,
          2.2,
          2.111324376199616,
          3.1981776765375853,
          2.732739420935412,
          2.608791208791209,
          2.4227005870841487,
          2.622950819672131,
          3.632850241545894,
          1.932890855457227,
          2.7222982216142273,
          2.61046511627907,
          2.636466591166478,
          2.1781206171107996,
          1.836893203883495,
          2.1490552834149756,
          2.667493796526055,
          1.5661129568106311,
          2.760549558390579,
          3.261491317671093,
          2.9733978234582827,
          3.3158447009443863,
          3.4745762711864407,
          3.156081808396125,
          3.046448087431694,
          3.0,
          2.654818325434439,
          2.656532456861134,
          3.0765027322404372,
          3.6059730250481694,
          2.968885047536733,
          3.644817073170732,
          2.8374025974025976,
          3.0762820512820515,
          2.5942307692307693,
          2.896849593495935,
          3.0038022813688214,
          3.3519345238095237,
          3.341021416803954,
          3.1065573770491803,
          2.9496096522356283,
          3.4501582278481013,
          2.545777146912704,
          2.55049786628734,
          2.674037089871612,
          2.890044576523031,
          2.6819035691922353,
          3.16078431372549,
          2.7222757955641272,
          3.0775924583031182,
          2.966086956521739,
          2.8823529411764706,
          2.6453287197231834,
          3.1677631578947367,
          3.349537037037037,
          3.027602523659306,
          3.546572934973638,
          3.3704954954954953,
          2.848804891606448,
          3.5343609505459215,
          3.806451612903226,
          3.7099236641221376,
          4.723309608540926,
          3.29278728606357,
          3.168945743273048,
          2.693813974187806,
          3.4296930763740185,
          3.4157575757575755,
          3.234597156398104,
          3.3191800878477307,
          2.980732177263969,
          3.380255941499086,
          2.977299880525687,
          3.4299212598425197,
          2.8122923588039868,
          3.2420289855072464,
          2.5966494845360826,
          2.872420262664165,
          3.458029197080292,
          3.167605633802817,
          3.279220779220779,
          3.4576757532281204,
          2.8222506393861893,
          3.245939675174014,
          3.1607142857142856,
          3.5655058043117744,
          3.583838383838384,
          3.469798657718121,
          3.616580310880829,
          3.5103359173126614,
          3.0846812559467174,
          3.1050724637681157,
          3.37007874015748,
          3.226554267650158,
          3.6826086956521737,
          3.963137996219282,
          4.107646622123236,
          4.018450184501845,
          3.356354916067146,
          3.6561631139944395,
          4.04021164021164,
          4.508021390374331,
          4.2635160680529305,
          3.8337662337662337,
          3.7330609465440925,
          4.37989652623799,
          4.34726821192053,
          4.15625,
          4.255917159763314,
          4.070353403141361,
          4.444547420451035,
          4.404276315789474,
          4.136005481329223,
          4.125775327360441,
          3.9846972721224216,
          4.300597213005972,
          4.178931297709924,
          4.194444444444445,
          4.843617664851784,
          4.418421879911977,
          4.16188679245283,
          3.9059375,
          4.66966966966967,
          5.0326007326007325,
          4.321500721500722,
          4.948153768335862,
          4.128868594622019,
          4.569078947368421,
          4.458007566204287,
          4.185001459002042,
          5.098299221677717,
          4.821972358866245,
          4.688553682342502,
          4.411496581413016,
          4.280857740585774,
          4.06484268125855,
          4.5612300933553,
          4.375172034131571,
          4.796555750145942,
          4.61436170212766,
          4.508928571428571,
          4.895847750865052,
          4.784646739130435,
          4.970700263697626,
          5.021085184143941,
          4.55131880733945,
          4.028202424881392,
          4.776533469076101,
          5.306348831720557,
          4.736506378802748,
          4.741735537190083,
          4.8316856780735105,
          4.36993913733792,
          4.452095130237826,
          4.615785360771034,
          4.655125034350096,
          4.649919398173025,
          4.122975708502024,
          4.163159085766011,
          4.634972677595629,
          4.611767378464334,
          5.070662874644498,
          4.57070094591317,
          4.757217321571773,
          4.645833333333333,
          4.538703752295985,
          4.630797773654916,
          5.059261557555073,
          4.9150134048257375,
          4.634871214265496,
          4.602763892972655,
          4.53220255653884,
          5.249857224443176,
          4.8258856216716834,
          5.23502722323049,
          4.779818543925647,
          4.88315285822211,
          5.332861590716106,
          5.459516856915317,
          6.168131868131868,
          6.337874659400545,
          6.16578947368421,
          5.955887019993653,
          6.232854864433812,
          6.363238512035011,
          5.94123252858958,
          6.529236868186323,
          6.3793405310767435,
          6.536324786324786,
          6.634130781499203,
          6.1820435141834205,
          6.06063243400058,
          6.045729076790336,
          5.718017831225378,
          5.602677692459146,
          6.020356234096692,
          6.3389417215313335,
          6.0010695187165775,
          6.381590705987489,
          6.13166434863236,
          6.0087079312779474,
          6.3595832323721835,
          6.271736555318645,
          6.508598887202832,
          5.986806743220132,
          6.717993079584775,
          6.197410147991543,
          6.300968399592253,
          5.852139037433155,
          5.967473524962179,
          6.09434422233057,
          5.8180762081784385,
          5.982769901853871,
          6.072775682272021,
          6.300787401574803,
          6.7765470744040455,
          6.223065250379363,
          6.00928505106778,
          6.212684031710079,
          6.294664189009822,
          5.913106444605359,
          6.045165843330981,
          6.235263702171665,
          5.72780487804878,
          5.601390758187528,
          6.1463363426411926,
          6.478492136910268,
          6.385608415013149,
          6.098399370244031,
          6.4860959651035985,
          6.027897539944205,
          6.54054054054054,
          6.271108972816935,
          5.929740619491312,
          6.158063719436898,
          5.995831289847965,
          6.8681237721021615,
          5.913001449975834,
          5.998093422306959,
          6.255794470818207,
          6.54723382045929,
          6.406200735680504,
          6.19339865910263,
          5.816017797552837,
          6.337566381897945,
          6.1276169265033404,
          6.040713536201469,
          5.948580735225686,
          6.81287677839402,
          6.516920281626164,
          5.908236347358997,
          6.25524728588661,
          6.157958984375,
          6.080684007707129,
          6.192187123221606,
          6.218380743982495,
          6.272638277043564,
          5.905586728470358,
          6.302985805188448,
          6.312274368231047,
          6.551168412570508,
          6.104462213051328,
          6.863198458574181,
          6.45141065830721,
          6.381285526891124,
          5.91628296358309,
          6.772964300040113,
          6.474202011368605,
          6.99960047942469,
          6.300938599921784,
          5.864120106423413,
          6.30389363722697,
          5.600628349658104,
          5.972821576763486,
          5.968885387948011,
          5.386757215619695,
          5.935956084172004,
          5.7693389592123765,
          6.097741355186888,
          6.2157030083208875,
          6.759929778362958,
          6.753020134228188,
          6.672674025681459,
          7.105294350059265,
          7.561764705882353,
          7.551166551166551,
          6.767940813810111,
          7.61065782763896,
          6.931556195965418,
          7.275255526503447,
          6.618956438487315,
          6.881133873272987,
          6.405182297638157,
          6.202337305224565,
          6.393519605541207,
          6.484378726448844,
          6.292186201163758,
          6.222723367697594,
          7.312388591800357,
          6.967719298245614,
          7.108210620258813,
          6.698151950718686,
          6.7177302016212845,
          6.8927097661623105,
          6.044106463878327,
          6.304898648648648,
          6.3907944235450325,
          6.348478164975739,
          6.287701612903226,
          6.371597633136095,
          6.384027187765506,
          6.714666074994453,
          6.524568683118585,
          6.469105888054277,
          6.583182640144665,
          6.7166541070082895,
          7.191304347826087,
          6.597054297647834,
          6.89261744966443,
          7.353942266264541,
          6.266529351184346,
          6.813115541676676,
          6.305687693898656,
          6.806649168853894,
          6.783975877665303,
          6.646234676007006,
          6.485621165644171,
          6.76945614356345,
          6.21502844810673,
          5.990812466222303,
          6.599514563106796,
          6.655707946752723,
          6.441330998248686,
          6.3911604361370715,
          6.424430264357338,
          6.268634955349007,
          7.132849293563579,
          6.956059113300492,
          7.022954924874791,
          6.785687311178248,
          6.517568441474456,
          6.775250973161238,
          6.539749841000636,
          6.914634146341464,
          6.13412759415834,
          6.460482529118137,
          6.51131401349742,
          6.5012165450121655,
          6.0813953488372094,
          7.503334722801167,
          7.235006738544475,
          7.020809248554913,
          7.428142025173774,
          7.833645638142827,
          6.879081918268334,
          6.4343974903118655,
          7.012629399585921,
          7.11736641221374,
          7.375060768108897,
          6.639036863413595,
          7.364309420474854,
          7.531858988395007,
          7.698341232227488,
          7.553054662379421,
          7.148602150537634,
          7.520264847512038,
          7.176860148032723,
          7.405684754521964,
          7.239864864864865,
          7.401481742811783,
          7.379566439181052,
          7.6898277933520225,
          7.509521484375,
          6.991036871053168,
          6.95737558580674,
          6.880640142253834,
          8.701292810161034,
          10.406355320173327,
          10.529712823429058,
          8.516275120294367,
          8.204540189946723,
          8.33231939163498,
          8.25296239052035,
          7.92354516678841,
          8.582652134423252,
          8.03850509626274,
          7.807056903936365,
          7.720383275261324,
          7.650454641573272,
          7.747797141178774,
          7.77205435003042,
          7.974391805377721,
          7.641488372093023,
          7.5061344392604115,
          7.292001530807501,
          8.490204339582894,
          8.100440343887607,
          7.789997967066477,
          7.501096709870389,
          8.1678075088156,
          7.81499493414387,
          8.817478101446323,
          8.50876509544215,
          8.391295463833265,
          8.075495307612096,
          8.788285267158507,
          9.04235347985348,
          7.783836206896551,
          8.618509116085853,
          8.399013674064111,
          7.790877192982456,
          7.681207262438104,
          7.832142127833367,
          7.820079086115993,
          7.928634167764603,
          8.603140460314046,
          8.492223950233281,
          7.866146458583433,
          7.926265361383045,
          7.910604558969276,
          8.01004016064257,
          8.261234775304494,
          8.552559664784114,
          9.47492360237282,
          7.777607948032098,
          8.275685269177677,
          8.184507042253522,
          8.398547717842323,
          7.955564451561249,
          8.331342094782954,
          8.71864406779661,
          7.520402459474567,
          7.641597899474869,
          8.278306878306879,
          8.392058165548098,
          8.01042913318516,
          8.054857776135943,
          8.847219216619779,
          8.96619659892161,
          8.583038869257951,
          8.322826279440411,
          7.8256503879507076,
          7.87205497382199,
          8.642681310357887,
          8.83739520374342,
          9.163718411552347,
          9.067570146974614,
          9.166156064155704,
          8.734629738754665,
          8.595836947094536,
          9.013150684931507,
          8.181660899653979,
          8.282829863828455,
          7.709037575080319,
          8.731901352426412,
          8.660596786534047,
          8.209917355371902,
          7.496583481877599,
          8.17033224145999,
          7.386820652173913,
          8.61188630490956,
          8.353545913922286,
          8.455243384514864,
          10.088442014837954,
          9.291889894697949,
          10.317185929648241,
          9.274740020127474,
          9.529149410640331,
          9.510463008732906,
          9.423784494086728,
          9.97834960070985,
          9.497663927823425,
          9.668657198192383,
          9.653864390706495,
          9.524488743770407,
          10.248010809187809,
          9.394201424211596,
          9.556932884717549,
          9.938532849657395,
          9.94318610796527,
          9.49150442477876,
          10.157913351016798,
          9.248152709359607,
          10.312817155017187,
          10.140738452031515,
          9.837727603787327,
          10.024036878498519,
          9.348723784750447,
          10.36901454486027,
          9.54706416464891,
          10.210754098360656,
          10.401984732824427,
          10.193908784817875,
          10.516965195864278,
          11.086394900184533,
          10.783496456294296,
          10.500660938532716,
          10.118986938515452,
          11.211713874219875,
          11.040289952798382,
          10.566905330151153,
          11.197714285714286,
          11.392830131598851,
          10.942006512637619,
          10.548903378778897,
          11.40558766859345,
          11.573210665835022,
          12.068993772533595,
          11.428943258719418,
          11.437839733473611,
          11.225387306346827,
          11.874079150248415,
          11.841700133868809,
          11.708678049639149,
          12.065083845259837,
          12.63740771123872,
          12.393309222423147,
          12.130628126737076,
          11.371736751602313,
          11.907535761687067,
          11.525888019265503,
          10.88231036479444,
          10.702774813233725,
          11.381377551020408,
          11.375223183628622,
          11.378439754207855,
          11.44398826979472,
          11.33999526963103,
          12.211104926245477,
          10.988453314326444,
          11.886056971514243,
          11.07306629834254,
          12.883045292014303,
          12.717830882352942,
          12.675475197032917,
          12.231879872942535,
          13.073121387283237,
          14.794871794871796,
          16.453726453726453,
          13.945618847829595,
          13.285789381461363,
          12.964573268921095,
          13.829297205757833,
          12.908109774899785,
          14.149454875832829,
          13.94085184661101,
          13.263399913780715,
          13.71733253229198,
          13.012357814913635,
          14.738985022538898,
          13.413314840499307,
          13.846468646864686,
          15.395855076785448,
          13.926737727068009,
          14.0008621928438,
          14.693889045339342,
          14.190519051905191,
          13.630193905817174,
          15.330647524172283,
          15.34037558685446,
          13.100364166059723,
          13.97708152016246,
          14.37396883593034,
          12.831385642737896,
          12.39713423831071,
          13.028281911675741,
          14.805316091954023,
          17.673732454883986,
          16.375058311304617,
          17.97074122236671,
          16.524853349799322,
          16.40303951367781,
          16.279590842669265,
          15.274741506646972,
          16.65096137190369,
          17.081189339084887,
          19.038396766588075,
          18.534613441131885,
          17.64704893223474,
          17.814814814814813,
          19.154137044320073,
          19.135957607872825,
          17.63592534992224,
          18.94238476953908,
          17.164551485434092,
          17.90886794888344,
          16.054169538249482,
          17.892033848847387,
          16.593148954092378,
          16.141301388510755,
          15.21160119132038,
          16.693019343986542,
          16.832472520196,
          17.741679648774962,
          16.800675200450133,
          16.01236146632566,
          15.85743408534928,
          16.151437880719648,
          16.396090945353013,
          15.70192174754597,
          14.7434707675991,
          15.906919612392521,
          15.868871151653364,
          16.58559359715429,
          16.342645133129636,
          14.780296784830998,
          16.407326007326006,
          16.23073883840379,
          16.064151497357603,
          16.232187761944676,
          16.23909128688184,
          15.762420382165605,
          15.383589743589743,
          16.16091476091476,
          14.809075454426573,
          14.22432128112098,
          15.771474878444085,
          14.810392902408111,
          15.606491136600626,
          15.353972398358822,
          15.687605890785873,
          15.117826188802999,
          17.556810450401414,
          17.347034561228845,
          15.970149253731343,
          15.588415803605677,
          16.559867129699533,
          16.294951698348395,
          16.660766105629715,
          17.297843866171004,
          16.70890460383894,
          17.330047149592797,
          16.52611988191503,
          16.541875552934236,
          15.629738036001756,
          16.564346300087745,
          16.274712965555867,
          14.74558840715204,
          16.014714993804212,
          16.035570556925872,
          15.254847294386009,
          16.13052687317977,
          16.062156503533107,
          15.909773307311214,
          15.609110454178984,
          14.517324460761817,
          14.946447570634827,
          14.988579586009992,
          14.29484882418813,
          14.540736543909349,
          15.063298994663025,
          15.524948822927328,
          15.63322559793148,
          15.645957117024025,
          15.649709669275435,
          16.03735913767761,
          15.916581240389544,
          16.57034865782166,
          16.74735569658507,
          16.052247036118004,
          16.94487049631023,
          15.78639495675121,
          15.501327265832385,
          16.054896907216495,
          16.030659324304214,
          16.28932119205298,
          16.13358830760825,
          16.786861098836354,
          17.800686748868426,
          17.348271870348935,
          17.300029868578257,
          18.09011111111111,
          16.97245730112325,
          17.120415824429685,
          17.555760499432463,
          17.506032960565037,
          17.983891126232468,
          17.12624633431085,
          18.118597975525002,
          17.010794140323824,
          16.26438945669715,
          17.210773480662983,
          17.067336165829794,
          16.610806473184432,
          16.170566887748716,
          14.643903010425207,
          15.88355802273328,
          17.22020577307802,
          17.51052787663108,
          16.849799300789847,
          19.324278956203266,
          17.233039875712066,
          18.065175812858612,
          17.698932487016734,
          19.160798816568047,
          16.919326755658734,
          17.607052896725442,
          17.700783972125436,
          18.385305425032037,
          17.87844408427877,
          18.07684500507467,
          17.814449676280166,
          18.683032101429728,
          18.926811163895486,
          18.91810480075306,
          18.189036805011746,
          19.224747081712064,
          18.826798394566225,
          18.19907474338586,
          18.04161053734471,
          18.74387388793507,
          19.004246928560594,
          18.019991432243323,
          18.166666666666668,
          18.727567067530064,
          20.02731997030438,
          20.872606425067257,
          19.614843152257077,
          18.156303724928367,
          19.228319783197833,
          19.005397520058352,
          20.143641354071363,
          18.984126984126984,
          19.24407796101949,
          20.053339590176755,
          20.02014037229173,
          21.615384615384617,
          20.643894389438945,
          19.91186537364518,
          19.204710413272107,
          20.333282927566913,
          21.0717375093214,
          20.839907192575406,
          19.202308716886193,
          20.671064204045734,
          19.365584995534384,
          19.350933333333334,
          18.116911072245394,
          19.651395958661112,
          19.921765024363832,
          19.21014209359927,
          18.867097088561334,
          16.796324124378685,
          16.615932203389832,
          17.56749942699977,
          17.707748907794894,
          19.135313121272365,
          20.643333333333334,
          18.337822671156005,
          20.221580406654343,
          19.10405982905983,
          19.102491103202848,
          18.2729044834308,
          19.34203552851114,
          19.246834150326798,
          18.840718788220904,
          19.361645653616456,
          19.84480927088363,
          20.53211278637165,
          19.818076589177196,
          20.33958891867739,
          19.606804912421985,
          19.689837905236907,
          18.873390168692183,
          18.284635007849293,
          19.04974185861795,
          17.78423843481441,
          17.194753925782962,
          16.93675479523069,
          17.095229424617624,
          17.207138417828286,
          16.59673202614379,
          17.165135206090838,
          17.80787946846341,
          17.092486052998606,
          17.127299620966998,
          18.16885964912281,
          17.78034682080925,
          17.39666605268005,
          17.0048623853211,
          16.89389534883721,
          16.813257607866408,
          16.792878286609785,
          18.02918745880802,
          18.070925361766946,
          17.871050384286935,
          17.388127013345606,
          16.691067108682017,
          17.47318040703691,
          15.265661166280893,
          16.21186297671279,
          15.876824140489735,
          16.029310060925408,
          16.107817120327546,
          17.023377046509733,
          16.308633317749727,
          16.19305769075168,
          16.941457306096893,
          15.341677991559974,
          16.015082266910422,
          15.7303653305724,
          17.557654254362294,
          18.040112788793888,
          17.05445632798574,
          16.346106099478607,
          15.853320042938199,
          16.979230961714904,
          15.905036644316233,
          15.312528788576692,
          15.29313122437024,
          15.30303493616696,
          16.573893872586286,
          14.783982586504541,
          14.923973158321658,
          15.232734076303588,
          15.82991318074191,
          15.583510800121692,
          15.896347931504774,
          14.344712970015927,
          14.248185180112314,
          15.024874920724402,
          14.84396347649645,
          14.392554887771373,
          15.010042858056675,
          14.613344518293863,
          13.38239127858751,
          13.244975327957636,
          14.378999748047367,
          15.228981238394057,
          15.55461889708465,
          15.631038312048862,
          14.472980312287849,
          14.779051052597696,
          13.26039010708822,
          14.286572259451258,
          14.89702590342181,
          23.233150340630996,
          25.34142372881356,
          23.437449173217676,
          22.7521669787116,
          20.7727574350003,
          18.453287798101414,
          14.441586612953207
         ],
         "yaxis": "y",
         "type": "scatter"
        }
       ],
       "layout": {
        "template": {
         "data": {
          "histogram2dcontour": [
           {
            "type": "histogram2dcontour",
            "colorbar": {
             "outlinewidth": 0,
             "ticks": ""
            },
            "colorscale": [
             [
              0.0,
              "#0d0887"
             ],
             [
              0.1111111111111111,
              "#46039f"
             ],
             [
              0.2222222222222222,
              "#7201a8"
             ],
             [
              0.3333333333333333,
              "#9c179e"
             ],
             [
              0.4444444444444444,
              "#bd3786"
             ],
             [
              0.5555555555555556,
              "#d8576b"
             ],
             [
              0.6666666666666666,
              "#ed7953"
             ],
             [
              0.7777777777777778,
              "#fb9f3a"
             ],
             [
              0.8888888888888888,
              "#fdca26"
             ],
             [
              1.0,
              "#f0f921"
             ]
            ]
           }
          ],
          "choropleth": [
           {
            "type": "choropleth",
            "colorbar": {
             "outlinewidth": 0,
             "ticks": ""
            }
           }
          ],
          "histogram2d": [
           {
            "type": "histogram2d",
            "colorbar": {
             "outlinewidth": 0,
             "ticks": ""
            },
            "colorscale": [
             [
              0.0,
              "#0d0887"
             ],
             [
              0.1111111111111111,
              "#46039f"
             ],
             [
              0.2222222222222222,
              "#7201a8"
             ],
             [
              0.3333333333333333,
              "#9c179e"
             ],
             [
              0.4444444444444444,
              "#bd3786"
             ],
             [
              0.5555555555555556,
              "#d8576b"
             ],
             [
              0.6666666666666666,
              "#ed7953"
             ],
             [
              0.7777777777777778,
              "#fb9f3a"
             ],
             [
              0.8888888888888888,
              "#fdca26"
             ],
             [
              1.0,
              "#f0f921"
             ]
            ]
           }
          ],
          "heatmap": [
           {
            "type": "heatmap",
            "colorbar": {
             "outlinewidth": 0,
             "ticks": ""
            },
            "colorscale": [
             [
              0.0,
              "#0d0887"
             ],
             [
              0.1111111111111111,
              "#46039f"
             ],
             [
              0.2222222222222222,
              "#7201a8"
             ],
             [
              0.3333333333333333,
              "#9c179e"
             ],
             [
              0.4444444444444444,
              "#bd3786"
             ],
             [
              0.5555555555555556,
              "#d8576b"
             ],
             [
              0.6666666666666666,
              "#ed7953"
             ],
             [
              0.7777777777777778,
              "#fb9f3a"
             ],
             [
              0.8888888888888888,
              "#fdca26"
             ],
             [
              1.0,
              "#f0f921"
             ]
            ]
           }
          ],
          "heatmapgl": [
           {
            "type": "heatmapgl",
            "colorbar": {
             "outlinewidth": 0,
             "ticks": ""
            },
            "colorscale": [
             [
              0.0,
              "#0d0887"
             ],
             [
              0.1111111111111111,
              "#46039f"
             ],
             [
              0.2222222222222222,
              "#7201a8"
             ],
             [
              0.3333333333333333,
              "#9c179e"
             ],
             [
              0.4444444444444444,
              "#bd3786"
             ],
             [
              0.5555555555555556,
              "#d8576b"
             ],
             [
              0.6666666666666666,
              "#ed7953"
             ],
             [
              0.7777777777777778,
              "#fb9f3a"
             ],
             [
              0.8888888888888888,
              "#fdca26"
             ],
             [
              1.0,
              "#f0f921"
             ]
            ]
           }
          ],
          "contourcarpet": [
           {
            "type": "contourcarpet",
            "colorbar": {
             "outlinewidth": 0,
             "ticks": ""
            }
           }
          ],
          "contour": [
           {
            "type": "contour",
            "colorbar": {
             "outlinewidth": 0,
             "ticks": ""
            },
            "colorscale": [
             [
              0.0,
              "#0d0887"
             ],
             [
              0.1111111111111111,
              "#46039f"
             ],
             [
              0.2222222222222222,
              "#7201a8"
             ],
             [
              0.3333333333333333,
              "#9c179e"
             ],
             [
              0.4444444444444444,
              "#bd3786"
             ],
             [
              0.5555555555555556,
              "#d8576b"
             ],
             [
              0.6666666666666666,
              "#ed7953"
             ],
             [
              0.7777777777777778,
              "#fb9f3a"
             ],
             [
              0.8888888888888888,
              "#fdca26"
             ],
             [
              1.0,
              "#f0f921"
             ]
            ]
           }
          ],
          "surface": [
           {
            "type": "surface",
            "colorbar": {
             "outlinewidth": 0,
             "ticks": ""
            },
            "colorscale": [
             [
              0.0,
              "#0d0887"
             ],
             [
              0.1111111111111111,
              "#46039f"
             ],
             [
              0.2222222222222222,
              "#7201a8"
             ],
             [
              0.3333333333333333,
              "#9c179e"
             ],
             [
              0.4444444444444444,
              "#bd3786"
             ],
             [
              0.5555555555555556,
              "#d8576b"
             ],
             [
              0.6666666666666666,
              "#ed7953"
             ],
             [
              0.7777777777777778,
              "#fb9f3a"
             ],
             [
              0.8888888888888888,
              "#fdca26"
             ],
             [
              1.0,
              "#f0f921"
             ]
            ]
           }
          ],
          "mesh3d": [
           {
            "type": "mesh3d",
            "colorbar": {
             "outlinewidth": 0,
             "ticks": ""
            }
           }
          ],
          "scatter": [
           {
            "marker": {
             "line": {
              "color": "#283442"
             }
            },
            "type": "scatter"
           }
          ],
          "parcoords": [
           {
            "type": "parcoords",
            "line": {
             "colorbar": {
              "outlinewidth": 0,
              "ticks": ""
             }
            }
           }
          ],
          "scatterpolargl": [
           {
            "type": "scatterpolargl",
            "marker": {
             "colorbar": {
              "outlinewidth": 0,
              "ticks": ""
             }
            }
           }
          ],
          "bar": [
           {
            "error_x": {
             "color": "#f2f5fa"
            },
            "error_y": {
             "color": "#f2f5fa"
            },
            "marker": {
             "line": {
              "color": "rgb(17,17,17)",
              "width": 0.5
             },
             "pattern": {
              "fillmode": "overlay",
              "size": 10,
              "solidity": 0.2
             }
            },
            "type": "bar"
           }
          ],
          "scattergeo": [
           {
            "type": "scattergeo",
            "marker": {
             "colorbar": {
              "outlinewidth": 0,
              "ticks": ""
             }
            }
           }
          ],
          "scatterpolar": [
           {
            "type": "scatterpolar",
            "marker": {
             "colorbar": {
              "outlinewidth": 0,
              "ticks": ""
             }
            }
           }
          ],
          "histogram": [
           {
            "marker": {
             "pattern": {
              "fillmode": "overlay",
              "size": 10,
              "solidity": 0.2
             }
            },
            "type": "histogram"
           }
          ],
          "scattergl": [
           {
            "marker": {
             "line": {
              "color": "#283442"
             }
            },
            "type": "scattergl"
           }
          ],
          "scatter3d": [
           {
            "type": "scatter3d",
            "line": {
             "colorbar": {
              "outlinewidth": 0,
              "ticks": ""
             }
            },
            "marker": {
             "colorbar": {
              "outlinewidth": 0,
              "ticks": ""
             }
            }
           }
          ],
          "scattermapbox": [
           {
            "type": "scattermapbox",
            "marker": {
             "colorbar": {
              "outlinewidth": 0,
              "ticks": ""
             }
            }
           }
          ],
          "scatterternary": [
           {
            "type": "scatterternary",
            "marker": {
             "colorbar": {
              "outlinewidth": 0,
              "ticks": ""
             }
            }
           }
          ],
          "scattercarpet": [
           {
            "type": "scattercarpet",
            "marker": {
             "colorbar": {
              "outlinewidth": 0,
              "ticks": ""
             }
            }
           }
          ],
          "carpet": [
           {
            "aaxis": {
             "endlinecolor": "#A2B1C6",
             "gridcolor": "#506784",
             "linecolor": "#506784",
             "minorgridcolor": "#506784",
             "startlinecolor": "#A2B1C6"
            },
            "baxis": {
             "endlinecolor": "#A2B1C6",
             "gridcolor": "#506784",
             "linecolor": "#506784",
             "minorgridcolor": "#506784",
             "startlinecolor": "#A2B1C6"
            },
            "type": "carpet"
           }
          ],
          "table": [
           {
            "cells": {
             "fill": {
              "color": "#506784"
             },
             "line": {
              "color": "rgb(17,17,17)"
             }
            },
            "header": {
             "fill": {
              "color": "#2a3f5f"
             },
             "line": {
              "color": "rgb(17,17,17)"
             }
            },
            "type": "table"
           }
          ],
          "barpolar": [
           {
            "marker": {
             "line": {
              "color": "rgb(17,17,17)",
              "width": 0.5
             },
             "pattern": {
              "fillmode": "overlay",
              "size": 10,
              "solidity": 0.2
             }
            },
            "type": "barpolar"
           }
          ],
          "pie": [
           {
            "automargin": true,
            "type": "pie"
           }
          ]
         },
         "layout": {
          "autotypenumbers": "strict",
          "colorway": [
           "#636efa",
           "#EF553B",
           "#00cc96",
           "#ab63fa",
           "#FFA15A",
           "#19d3f3",
           "#FF6692",
           "#B6E880",
           "#FF97FF",
           "#FECB52"
          ],
          "font": {
           "color": "#f2f5fa"
          },
          "hovermode": "closest",
          "hoverlabel": {
           "align": "left"
          },
          "paper_bgcolor": "rgb(17,17,17)",
          "plot_bgcolor": "rgb(17,17,17)",
          "polar": {
           "bgcolor": "rgb(17,17,17)",
           "angularaxis": {
            "gridcolor": "#506784",
            "linecolor": "#506784",
            "ticks": ""
           },
           "radialaxis": {
            "gridcolor": "#506784",
            "linecolor": "#506784",
            "ticks": ""
           }
          },
          "ternary": {
           "bgcolor": "rgb(17,17,17)",
           "aaxis": {
            "gridcolor": "#506784",
            "linecolor": "#506784",
            "ticks": ""
           },
           "baxis": {
            "gridcolor": "#506784",
            "linecolor": "#506784",
            "ticks": ""
           },
           "caxis": {
            "gridcolor": "#506784",
            "linecolor": "#506784",
            "ticks": ""
           }
          },
          "coloraxis": {
           "colorbar": {
            "outlinewidth": 0,
            "ticks": ""
           }
          },
          "colorscale": {
           "sequential": [
            [
             0.0,
             "#0d0887"
            ],
            [
             0.1111111111111111,
             "#46039f"
            ],
            [
             0.2222222222222222,
             "#7201a8"
            ],
            [
             0.3333333333333333,
             "#9c179e"
            ],
            [
             0.4444444444444444,
             "#bd3786"
            ],
            [
             0.5555555555555556,
             "#d8576b"
            ],
            [
             0.6666666666666666,
             "#ed7953"
            ],
            [
             0.7777777777777778,
             "#fb9f3a"
            ],
            [
             0.8888888888888888,
             "#fdca26"
            ],
            [
             1.0,
             "#f0f921"
            ]
           ],
           "sequentialminus": [
            [
             0.0,
             "#0d0887"
            ],
            [
             0.1111111111111111,
             "#46039f"
            ],
            [
             0.2222222222222222,
             "#7201a8"
            ],
            [
             0.3333333333333333,
             "#9c179e"
            ],
            [
             0.4444444444444444,
             "#bd3786"
            ],
            [
             0.5555555555555556,
             "#d8576b"
            ],
            [
             0.6666666666666666,
             "#ed7953"
            ],
            [
             0.7777777777777778,
             "#fb9f3a"
            ],
            [
             0.8888888888888888,
             "#fdca26"
            ],
            [
             1.0,
             "#f0f921"
            ]
           ],
           "diverging": [
            [
             0,
             "#8e0152"
            ],
            [
             0.1,
             "#c51b7d"
            ],
            [
             0.2,
             "#de77ae"
            ],
            [
             0.3,
             "#f1b6da"
            ],
            [
             0.4,
             "#fde0ef"
            ],
            [
             0.5,
             "#f7f7f7"
            ],
            [
             0.6,
             "#e6f5d0"
            ],
            [
             0.7,
             "#b8e186"
            ],
            [
             0.8,
             "#7fbc41"
            ],
            [
             0.9,
             "#4d9221"
            ],
            [
             1,
             "#276419"
            ]
           ]
          },
          "xaxis": {
           "gridcolor": "#283442",
           "linecolor": "#506784",
           "ticks": "",
           "title": {
            "standoff": 15
           },
           "zerolinecolor": "#283442",
           "automargin": true,
           "zerolinewidth": 2
          },
          "yaxis": {
           "gridcolor": "#283442",
           "linecolor": "#506784",
           "ticks": "",
           "title": {
            "standoff": 15
           },
           "zerolinecolor": "#283442",
           "automargin": true,
           "zerolinewidth": 2
          },
          "scene": {
           "xaxis": {
            "backgroundcolor": "rgb(17,17,17)",
            "gridcolor": "#506784",
            "linecolor": "#506784",
            "showbackground": true,
            "ticks": "",
            "zerolinecolor": "#C8D4E3",
            "gridwidth": 2
           },
           "yaxis": {
            "backgroundcolor": "rgb(17,17,17)",
            "gridcolor": "#506784",
            "linecolor": "#506784",
            "showbackground": true,
            "ticks": "",
            "zerolinecolor": "#C8D4E3",
            "gridwidth": 2
           },
           "zaxis": {
            "backgroundcolor": "rgb(17,17,17)",
            "gridcolor": "#506784",
            "linecolor": "#506784",
            "showbackground": true,
            "ticks": "",
            "zerolinecolor": "#C8D4E3",
            "gridwidth": 2
           }
          },
          "shapedefaults": {
           "line": {
            "color": "#f2f5fa"
           }
          },
          "annotationdefaults": {
           "arrowcolor": "#f2f5fa",
           "arrowhead": 0,
           "arrowwidth": 1
          },
          "geo": {
           "bgcolor": "rgb(17,17,17)",
           "landcolor": "rgb(17,17,17)",
           "subunitcolor": "#506784",
           "showland": true,
           "showlakes": true,
           "lakecolor": "rgb(17,17,17)"
          },
          "title": {
           "x": 0.05
          },
          "updatemenudefaults": {
           "bgcolor": "#506784",
           "borderwidth": 0
          },
          "sliderdefaults": {
           "bgcolor": "#C8D4E3",
           "borderwidth": 1,
           "bordercolor": "rgb(17,17,17)",
           "tickwidth": 0
          },
          "mapbox": {
           "style": "dark"
          }
         }
        },
        "xaxis": {
         "anchor": "y",
         "domain": [
          0.0,
          1.0
         ],
         "title": {
          "text": "Creation time"
         }
        },
        "yaxis": {
         "anchor": "x",
         "domain": [
          0.0,
          1.0
         ],
         "title": {
          "text": "Average score"
         }
        },
        "legend": {
         "title": {
          "text": "variable"
         },
         "tracegroupgap": 0
        },
        "margin": {
         "t": 60
        },
        "title": {
         "text": "Average score over post creation time",
         "x": 0.5
        },
        "showlegend": false
       },
       "config": {
        "plotlyServerURL": "https://plot.ly"
       }
      },
      "text/html": "<div>                            <div id=\"abf94422-5f1c-44c9-8b5f-8cf47ab0e117\" class=\"plotly-graph-div\" style=\"height:525px; width:100%;\"></div>            <script type=\"text/javascript\">                require([\"plotly\"], function(Plotly) {                    window.PLOTLYENV=window.PLOTLYENV || {};                                    if (document.getElementById(\"abf94422-5f1c-44c9-8b5f-8cf47ab0e117\")) {                    Plotly.newPlot(                        \"abf94422-5f1c-44c9-8b5f-8cf47ab0e117\",                        [{\"hovertemplate\":\"variable=score<br>created_at=%{x}<br>value=%{y}<extra></extra>\",\"legendgroup\":\"score\",\"marker\":{\"color\":\"#636efa\",\"symbol\":\"circle\"},\"mode\":\"markers\",\"name\":\"score\",\"orientation\":\"v\",\"showlegend\":true,\"x\":[\"2005-05-29T00:00:00\",\"2005-06-05T00:00:00\",\"2005-06-12T00:00:00\",\"2005-06-19T00:00:00\",\"2005-06-26T00:00:00\",\"2005-07-03T00:00:00\",\"2005-07-10T00:00:00\",\"2005-07-17T00:00:00\",\"2005-07-24T00:00:00\",\"2005-07-31T00:00:00\",\"2005-08-07T00:00:00\",\"2005-08-14T00:00:00\",\"2005-08-21T00:00:00\",\"2005-08-28T00:00:00\",\"2005-09-04T00:00:00\",\"2005-09-11T00:00:00\",\"2005-09-18T00:00:00\",\"2005-09-25T00:00:00\",\"2005-10-02T00:00:00\",\"2005-10-09T00:00:00\",\"2005-10-16T00:00:00\",\"2005-10-23T00:00:00\",\"2005-10-30T00:00:00\",\"2005-11-06T00:00:00\",\"2005-11-13T00:00:00\",\"2005-11-20T00:00:00\",\"2005-11-27T00:00:00\",\"2005-12-04T00:00:00\",\"2005-12-11T00:00:00\",\"2005-12-18T00:00:00\",\"2005-12-25T00:00:00\",\"2006-01-01T00:00:00\",\"2006-01-08T00:00:00\",\"2006-01-15T00:00:00\",\"2006-01-22T00:00:00\",\"2006-01-29T00:00:00\",\"2006-02-05T00:00:00\",\"2006-02-12T00:00:00\",\"2006-02-19T00:00:00\",\"2006-02-26T00:00:00\",\"2006-03-05T00:00:00\",\"2006-03-12T00:00:00\",\"2006-03-19T00:00:00\",\"2006-03-26T00:00:00\",\"2006-04-02T00:00:00\",\"2006-04-09T00:00:00\",\"2006-04-16T00:00:00\",\"2006-04-23T00:00:00\",\"2006-04-30T00:00:00\",\"2006-05-07T00:00:00\",\"2006-05-14T00:00:00\",\"2006-05-21T00:00:00\",\"2006-05-28T00:00:00\",\"2006-06-04T00:00:00\",\"2006-06-11T00:00:00\",\"2006-06-18T00:00:00\",\"2006-06-25T00:00:00\",\"2006-07-02T00:00:00\",\"2006-07-09T00:00:00\",\"2006-07-16T00:00:00\",\"2006-07-23T00:00:00\",\"2006-07-30T00:00:00\",\"2006-08-06T00:00:00\",\"2006-08-13T00:00:00\",\"2006-08-20T00:00:00\",\"2006-08-27T00:00:00\",\"2006-09-03T00:00:00\",\"2006-09-10T00:00:00\",\"2006-09-17T00:00:00\",\"2006-09-24T00:00:00\",\"2006-10-01T00:00:00\",\"2006-10-08T00:00:00\",\"2006-10-15T00:00:00\",\"2006-10-22T00:00:00\",\"2006-10-29T00:00:00\",\"2006-11-05T00:00:00\",\"2006-11-12T00:00:00\",\"2006-11-19T00:00:00\",\"2006-11-26T00:00:00\",\"2006-12-03T00:00:00\",\"2006-12-10T00:00:00\",\"2006-12-17T00:00:00\",\"2006-12-24T00:00:00\",\"2006-12-31T00:00:00\",\"2007-01-07T00:00:00\",\"2007-01-14T00:00:00\",\"2007-01-21T00:00:00\",\"2007-01-28T00:00:00\",\"2007-02-04T00:00:00\",\"2007-02-11T00:00:00\",\"2007-02-18T00:00:00\",\"2007-02-25T00:00:00\",\"2007-03-04T00:00:00\",\"2007-03-11T00:00:00\",\"2007-03-18T00:00:00\",\"2007-03-25T00:00:00\",\"2007-04-01T00:00:00\",\"2007-04-08T00:00:00\",\"2007-04-15T00:00:00\",\"2007-04-22T00:00:00\",\"2007-04-29T00:00:00\",\"2007-05-06T00:00:00\",\"2007-05-13T00:00:00\",\"2007-05-20T00:00:00\",\"2007-05-27T00:00:00\",\"2007-06-03T00:00:00\",\"2007-06-10T00:00:00\",\"2007-06-17T00:00:00\",\"2007-06-24T00:00:00\",\"2007-07-01T00:00:00\",\"2007-07-08T00:00:00\",\"2007-07-15T00:00:00\",\"2007-07-22T00:00:00\",\"2007-07-29T00:00:00\",\"2007-08-05T00:00:00\",\"2007-08-12T00:00:00\",\"2007-08-19T00:00:00\",\"2007-08-26T00:00:00\",\"2007-09-02T00:00:00\",\"2007-09-09T00:00:00\",\"2007-09-16T00:00:00\",\"2007-09-23T00:00:00\",\"2007-09-30T00:00:00\",\"2007-10-07T00:00:00\",\"2007-10-14T00:00:00\",\"2007-10-21T00:00:00\",\"2007-10-28T00:00:00\",\"2007-11-04T00:00:00\",\"2007-11-11T00:00:00\",\"2007-11-18T00:00:00\",\"2007-11-25T00:00:00\",\"2007-12-02T00:00:00\",\"2007-12-09T00:00:00\",\"2007-12-16T00:00:00\",\"2007-12-23T00:00:00\",\"2007-12-30T00:00:00\",\"2008-01-06T00:00:00\",\"2008-01-13T00:00:00\",\"2008-01-20T00:00:00\",\"2008-01-27T00:00:00\",\"2008-02-03T00:00:00\",\"2008-02-10T00:00:00\",\"2008-02-17T00:00:00\",\"2008-02-24T00:00:00\",\"2008-03-02T00:00:00\",\"2008-03-09T00:00:00\",\"2008-03-16T00:00:00\",\"2008-03-23T00:00:00\",\"2008-03-30T00:00:00\",\"2008-04-06T00:00:00\",\"2008-04-13T00:00:00\",\"2008-04-20T00:00:00\",\"2008-04-27T00:00:00\",\"2008-05-04T00:00:00\",\"2008-05-11T00:00:00\",\"2008-05-18T00:00:00\",\"2008-05-25T00:00:00\",\"2008-06-01T00:00:00\",\"2008-06-08T00:00:00\",\"2008-06-15T00:00:00\",\"2008-06-22T00:00:00\",\"2008-06-29T00:00:00\",\"2008-07-06T00:00:00\",\"2008-07-13T00:00:00\",\"2008-07-20T00:00:00\",\"2008-07-27T00:00:00\",\"2008-08-03T00:00:00\",\"2008-08-10T00:00:00\",\"2008-08-17T00:00:00\",\"2008-08-24T00:00:00\",\"2008-08-31T00:00:00\",\"2008-09-07T00:00:00\",\"2008-09-14T00:00:00\",\"2008-09-21T00:00:00\",\"2008-09-28T00:00:00\",\"2008-10-05T00:00:00\",\"2008-10-12T00:00:00\",\"2008-10-19T00:00:00\",\"2008-10-26T00:00:00\",\"2008-11-02T00:00:00\",\"2008-11-09T00:00:00\",\"2008-11-16T00:00:00\",\"2008-11-23T00:00:00\",\"2008-11-30T00:00:00\",\"2008-12-07T00:00:00\",\"2008-12-14T00:00:00\",\"2008-12-21T00:00:00\",\"2008-12-28T00:00:00\",\"2009-01-04T00:00:00\",\"2009-01-11T00:00:00\",\"2009-01-18T00:00:00\",\"2009-01-25T00:00:00\",\"2009-02-01T00:00:00\",\"2009-02-08T00:00:00\",\"2009-02-15T00:00:00\",\"2009-02-22T00:00:00\",\"2009-03-01T00:00:00\",\"2009-03-08T00:00:00\",\"2009-03-15T00:00:00\",\"2009-03-22T00:00:00\",\"2009-03-29T00:00:00\",\"2009-04-05T00:00:00\",\"2009-04-12T00:00:00\",\"2009-04-19T00:00:00\",\"2009-04-26T00:00:00\",\"2009-05-03T00:00:00\",\"2009-05-10T00:00:00\",\"2009-05-17T00:00:00\",\"2009-05-24T00:00:00\",\"2009-05-31T00:00:00\",\"2009-06-07T00:00:00\",\"2009-06-14T00:00:00\",\"2009-06-21T00:00:00\",\"2009-06-28T00:00:00\",\"2009-07-05T00:00:00\",\"2009-07-12T00:00:00\",\"2009-07-19T00:00:00\",\"2009-07-26T00:00:00\",\"2009-08-02T00:00:00\",\"2009-08-09T00:00:00\",\"2009-08-16T00:00:00\",\"2009-08-23T00:00:00\",\"2009-08-30T00:00:00\",\"2009-09-06T00:00:00\",\"2009-09-13T00:00:00\",\"2009-09-20T00:00:00\",\"2009-09-27T00:00:00\",\"2009-10-04T00:00:00\",\"2009-10-11T00:00:00\",\"2009-10-18T00:00:00\",\"2009-10-25T00:00:00\",\"2009-11-01T00:00:00\",\"2009-11-08T00:00:00\",\"2009-11-15T00:00:00\",\"2009-11-22T00:00:00\",\"2009-11-29T00:00:00\",\"2009-12-06T00:00:00\",\"2009-12-13T00:00:00\",\"2009-12-20T00:00:00\",\"2009-12-27T00:00:00\",\"2010-01-03T00:00:00\",\"2010-01-10T00:00:00\",\"2010-01-17T00:00:00\",\"2010-01-24T00:00:00\",\"2010-01-31T00:00:00\",\"2010-02-07T00:00:00\",\"2010-02-14T00:00:00\",\"2010-02-21T00:00:00\",\"2010-02-28T00:00:00\",\"2010-03-07T00:00:00\",\"2010-03-14T00:00:00\",\"2010-03-21T00:00:00\",\"2010-03-28T00:00:00\",\"2010-04-04T00:00:00\",\"2010-04-11T00:00:00\",\"2010-04-18T00:00:00\",\"2010-04-25T00:00:00\",\"2010-05-02T00:00:00\",\"2010-05-09T00:00:00\",\"2010-05-16T00:00:00\",\"2010-05-23T00:00:00\",\"2010-05-30T00:00:00\",\"2010-06-06T00:00:00\",\"2010-06-13T00:00:00\",\"2010-06-20T00:00:00\",\"2010-06-27T00:00:00\",\"2010-07-04T00:00:00\",\"2010-07-11T00:00:00\",\"2010-07-18T00:00:00\",\"2010-07-25T00:00:00\",\"2010-08-01T00:00:00\",\"2010-08-08T00:00:00\",\"2010-08-15T00:00:00\",\"2010-08-22T00:00:00\",\"2010-08-29T00:00:00\",\"2010-09-05T00:00:00\",\"2010-09-12T00:00:00\",\"2010-09-19T00:00:00\",\"2010-09-26T00:00:00\",\"2010-10-03T00:00:00\",\"2010-10-10T00:00:00\",\"2010-10-17T00:00:00\",\"2010-10-24T00:00:00\",\"2010-10-31T00:00:00\",\"2010-11-07T00:00:00\",\"2010-11-14T00:00:00\",\"2010-11-21T00:00:00\",\"2010-11-28T00:00:00\",\"2010-12-05T00:00:00\",\"2010-12-12T00:00:00\",\"2010-12-19T00:00:00\",\"2010-12-26T00:00:00\",\"2011-01-02T00:00:00\",\"2011-01-09T00:00:00\",\"2011-01-16T00:00:00\",\"2011-01-23T00:00:00\",\"2011-01-30T00:00:00\",\"2011-02-06T00:00:00\",\"2011-02-13T00:00:00\",\"2011-02-20T00:00:00\",\"2011-02-27T00:00:00\",\"2011-03-06T00:00:00\",\"2011-03-13T00:00:00\",\"2011-03-20T00:00:00\",\"2011-03-27T00:00:00\",\"2011-04-03T00:00:00\",\"2011-04-10T00:00:00\",\"2011-04-17T00:00:00\",\"2011-04-24T00:00:00\",\"2011-05-01T00:00:00\",\"2011-05-08T00:00:00\",\"2011-05-15T00:00:00\",\"2011-05-22T00:00:00\",\"2011-05-29T00:00:00\",\"2011-06-05T00:00:00\",\"2011-06-12T00:00:00\",\"2011-06-19T00:00:00\",\"2011-06-26T00:00:00\",\"2011-07-03T00:00:00\",\"2011-07-10T00:00:00\",\"2011-07-17T00:00:00\",\"2011-07-24T00:00:00\",\"2011-07-31T00:00:00\",\"2011-08-07T00:00:00\",\"2011-08-14T00:00:00\",\"2011-08-21T00:00:00\",\"2011-08-28T00:00:00\",\"2011-09-04T00:00:00\",\"2011-09-11T00:00:00\",\"2011-09-18T00:00:00\",\"2011-09-25T00:00:00\",\"2011-10-02T00:00:00\",\"2011-10-09T00:00:00\",\"2011-10-16T00:00:00\",\"2011-10-23T00:00:00\",\"2011-10-30T00:00:00\",\"2011-11-06T00:00:00\",\"2011-11-13T00:00:00\",\"2011-11-20T00:00:00\",\"2011-11-27T00:00:00\",\"2011-12-04T00:00:00\",\"2011-12-11T00:00:00\",\"2011-12-18T00:00:00\",\"2011-12-25T00:00:00\",\"2012-01-01T00:00:00\",\"2012-01-08T00:00:00\",\"2012-01-15T00:00:00\",\"2012-01-22T00:00:00\",\"2012-01-29T00:00:00\",\"2012-02-05T00:00:00\",\"2012-02-12T00:00:00\",\"2012-02-19T00:00:00\",\"2012-02-26T00:00:00\",\"2012-03-04T00:00:00\",\"2012-03-11T00:00:00\",\"2012-03-18T00:00:00\",\"2012-03-25T00:00:00\",\"2012-04-01T00:00:00\",\"2012-04-08T00:00:00\",\"2012-04-15T00:00:00\",\"2012-04-22T00:00:00\",\"2012-04-29T00:00:00\",\"2012-05-06T00:00:00\",\"2012-05-13T00:00:00\",\"2012-05-20T00:00:00\",\"2012-05-27T00:00:00\",\"2012-06-03T00:00:00\",\"2012-06-10T00:00:00\",\"2012-06-17T00:00:00\",\"2012-06-24T00:00:00\",\"2012-07-01T00:00:00\",\"2012-07-08T00:00:00\",\"2012-07-15T00:00:00\",\"2012-07-22T00:00:00\",\"2012-07-29T00:00:00\",\"2012-08-05T00:00:00\",\"2012-08-12T00:00:00\",\"2012-08-19T00:00:00\",\"2012-08-26T00:00:00\",\"2012-09-02T00:00:00\",\"2012-09-09T00:00:00\",\"2012-09-16T00:00:00\",\"2012-09-23T00:00:00\",\"2012-09-30T00:00:00\",\"2012-10-07T00:00:00\",\"2012-10-14T00:00:00\",\"2012-10-21T00:00:00\",\"2012-10-28T00:00:00\",\"2012-11-04T00:00:00\",\"2012-11-11T00:00:00\",\"2012-11-18T00:00:00\",\"2012-11-25T00:00:00\",\"2012-12-02T00:00:00\",\"2012-12-09T00:00:00\",\"2012-12-16T00:00:00\",\"2012-12-23T00:00:00\",\"2012-12-30T00:00:00\",\"2013-01-06T00:00:00\",\"2013-01-13T00:00:00\",\"2013-01-20T00:00:00\",\"2013-01-27T00:00:00\",\"2013-02-03T00:00:00\",\"2013-02-10T00:00:00\",\"2013-02-17T00:00:00\",\"2013-02-24T00:00:00\",\"2013-03-03T00:00:00\",\"2013-03-10T00:00:00\",\"2013-03-17T00:00:00\",\"2013-03-24T00:00:00\",\"2013-03-31T00:00:00\",\"2013-04-07T00:00:00\",\"2013-04-14T00:00:00\",\"2013-04-21T00:00:00\",\"2013-04-28T00:00:00\",\"2013-05-05T00:00:00\",\"2013-05-12T00:00:00\",\"2013-05-19T00:00:00\",\"2013-05-26T00:00:00\",\"2013-06-02T00:00:00\",\"2013-06-09T00:00:00\",\"2013-06-16T00:00:00\",\"2013-06-23T00:00:00\",\"2013-06-30T00:00:00\",\"2013-07-07T00:00:00\",\"2013-07-14T00:00:00\",\"2013-07-21T00:00:00\",\"2013-07-28T00:00:00\",\"2013-08-04T00:00:00\",\"2013-08-11T00:00:00\",\"2013-08-18T00:00:00\",\"2013-08-25T00:00:00\",\"2013-09-01T00:00:00\",\"2013-09-08T00:00:00\",\"2013-09-15T00:00:00\",\"2013-09-22T00:00:00\",\"2013-09-29T00:00:00\",\"2013-10-06T00:00:00\",\"2013-10-13T00:00:00\",\"2013-10-20T00:00:00\",\"2013-10-27T00:00:00\",\"2013-11-03T00:00:00\",\"2013-11-10T00:00:00\",\"2013-11-17T00:00:00\",\"2013-11-24T00:00:00\",\"2013-12-01T00:00:00\",\"2013-12-08T00:00:00\",\"2013-12-15T00:00:00\",\"2013-12-22T00:00:00\",\"2013-12-29T00:00:00\",\"2014-01-05T00:00:00\",\"2014-01-12T00:00:00\",\"2014-01-19T00:00:00\",\"2014-01-26T00:00:00\",\"2014-02-02T00:00:00\",\"2014-02-09T00:00:00\",\"2014-02-16T00:00:00\",\"2014-02-23T00:00:00\",\"2014-03-02T00:00:00\",\"2014-03-09T00:00:00\",\"2014-03-16T00:00:00\",\"2014-03-23T00:00:00\",\"2014-03-30T00:00:00\",\"2014-04-06T00:00:00\",\"2014-04-13T00:00:00\",\"2014-04-20T00:00:00\",\"2014-04-27T00:00:00\",\"2014-05-04T00:00:00\",\"2014-05-11T00:00:00\",\"2014-05-18T00:00:00\",\"2014-05-25T00:00:00\",\"2014-06-01T00:00:00\",\"2014-06-08T00:00:00\",\"2014-06-15T00:00:00\",\"2014-06-22T00:00:00\",\"2014-06-29T00:00:00\",\"2014-07-06T00:00:00\",\"2014-07-13T00:00:00\",\"2014-07-20T00:00:00\",\"2014-07-27T00:00:00\",\"2014-08-03T00:00:00\",\"2014-08-10T00:00:00\",\"2014-08-17T00:00:00\",\"2014-08-24T00:00:00\",\"2014-08-31T00:00:00\",\"2014-09-07T00:00:00\",\"2014-09-14T00:00:00\",\"2014-09-21T00:00:00\",\"2014-09-28T00:00:00\",\"2014-10-05T00:00:00\",\"2014-10-12T00:00:00\",\"2014-10-19T00:00:00\",\"2014-10-26T00:00:00\",\"2014-11-02T00:00:00\",\"2014-11-09T00:00:00\",\"2014-11-16T00:00:00\",\"2014-11-23T00:00:00\",\"2014-11-30T00:00:00\",\"2014-12-07T00:00:00\",\"2014-12-14T00:00:00\",\"2014-12-21T00:00:00\",\"2014-12-28T00:00:00\",\"2015-01-04T00:00:00\",\"2015-01-11T00:00:00\",\"2015-01-18T00:00:00\",\"2015-01-25T00:00:00\",\"2015-02-01T00:00:00\",\"2015-02-08T00:00:00\",\"2015-02-15T00:00:00\",\"2015-02-22T00:00:00\",\"2015-03-01T00:00:00\",\"2015-03-08T00:00:00\",\"2015-03-15T00:00:00\",\"2015-03-22T00:00:00\",\"2015-03-29T00:00:00\",\"2015-04-05T00:00:00\",\"2015-04-12T00:00:00\",\"2015-04-19T00:00:00\",\"2015-04-26T00:00:00\",\"2015-05-03T00:00:00\",\"2015-05-10T00:00:00\",\"2015-05-17T00:00:00\",\"2015-05-24T00:00:00\",\"2015-05-31T00:00:00\",\"2015-06-07T00:00:00\",\"2015-06-14T00:00:00\",\"2015-06-21T00:00:00\",\"2015-06-28T00:00:00\",\"2015-07-05T00:00:00\",\"2015-07-12T00:00:00\",\"2015-07-19T00:00:00\",\"2015-07-26T00:00:00\",\"2015-08-02T00:00:00\",\"2015-08-09T00:00:00\",\"2015-08-16T00:00:00\",\"2015-08-23T00:00:00\",\"2015-08-30T00:00:00\",\"2015-09-06T00:00:00\",\"2015-09-13T00:00:00\",\"2015-09-20T00:00:00\",\"2015-09-27T00:00:00\",\"2015-10-04T00:00:00\",\"2015-10-11T00:00:00\",\"2015-10-18T00:00:00\",\"2015-10-25T00:00:00\",\"2015-11-01T00:00:00\",\"2015-11-08T00:00:00\",\"2015-11-15T00:00:00\",\"2015-11-22T00:00:00\",\"2015-11-29T00:00:00\",\"2015-12-06T00:00:00\",\"2015-12-13T00:00:00\",\"2015-12-20T00:00:00\",\"2015-12-27T00:00:00\",\"2016-01-03T00:00:00\",\"2016-01-10T00:00:00\",\"2016-01-17T00:00:00\",\"2016-01-24T00:00:00\",\"2016-01-31T00:00:00\",\"2016-02-07T00:00:00\",\"2016-02-14T00:00:00\",\"2016-02-21T00:00:00\",\"2016-02-28T00:00:00\",\"2016-03-06T00:00:00\",\"2016-03-13T00:00:00\",\"2016-03-20T00:00:00\",\"2016-03-27T00:00:00\",\"2016-04-03T00:00:00\",\"2016-04-10T00:00:00\",\"2016-04-17T00:00:00\",\"2016-04-24T00:00:00\",\"2016-05-01T00:00:00\",\"2016-05-08T00:00:00\",\"2016-05-15T00:00:00\",\"2016-05-22T00:00:00\",\"2016-05-29T00:00:00\",\"2016-06-05T00:00:00\",\"2016-06-12T00:00:00\",\"2016-06-19T00:00:00\",\"2016-06-26T00:00:00\",\"2016-07-03T00:00:00\",\"2016-07-10T00:00:00\",\"2016-07-17T00:00:00\",\"2016-07-24T00:00:00\",\"2016-07-31T00:00:00\",\"2016-08-07T00:00:00\",\"2016-08-14T00:00:00\",\"2016-08-21T00:00:00\",\"2016-08-28T00:00:00\",\"2016-09-04T00:00:00\",\"2016-09-11T00:00:00\",\"2016-09-18T00:00:00\",\"2016-09-25T00:00:00\",\"2016-10-02T00:00:00\",\"2016-10-09T00:00:00\",\"2016-10-16T00:00:00\",\"2016-10-23T00:00:00\",\"2016-10-30T00:00:00\",\"2016-11-06T00:00:00\",\"2016-11-13T00:00:00\",\"2016-11-20T00:00:00\",\"2016-11-27T00:00:00\",\"2016-12-04T00:00:00\",\"2016-12-11T00:00:00\",\"2016-12-18T00:00:00\",\"2016-12-25T00:00:00\",\"2017-01-01T00:00:00\",\"2017-01-08T00:00:00\",\"2017-01-15T00:00:00\",\"2017-01-22T00:00:00\",\"2017-01-29T00:00:00\",\"2017-02-05T00:00:00\",\"2017-02-12T00:00:00\",\"2017-02-19T00:00:00\",\"2017-02-26T00:00:00\",\"2017-03-05T00:00:00\",\"2017-03-12T00:00:00\",\"2017-03-19T00:00:00\",\"2017-03-26T00:00:00\",\"2017-04-02T00:00:00\",\"2017-04-09T00:00:00\",\"2017-04-16T00:00:00\",\"2017-04-23T00:00:00\",\"2017-04-30T00:00:00\",\"2017-05-07T00:00:00\",\"2017-05-14T00:00:00\",\"2017-05-21T00:00:00\",\"2017-05-28T00:00:00\",\"2017-06-04T00:00:00\",\"2017-06-11T00:00:00\",\"2017-06-18T00:00:00\",\"2017-06-25T00:00:00\",\"2017-07-02T00:00:00\",\"2017-07-09T00:00:00\",\"2017-07-16T00:00:00\",\"2017-07-23T00:00:00\",\"2017-07-30T00:00:00\",\"2017-08-06T00:00:00\",\"2017-08-13T00:00:00\",\"2017-08-20T00:00:00\",\"2017-08-27T00:00:00\",\"2017-09-03T00:00:00\",\"2017-09-10T00:00:00\",\"2017-09-17T00:00:00\",\"2017-09-24T00:00:00\",\"2017-10-01T00:00:00\",\"2017-10-08T00:00:00\",\"2017-10-15T00:00:00\",\"2017-10-22T00:00:00\",\"2017-10-29T00:00:00\",\"2017-11-05T00:00:00\",\"2017-11-12T00:00:00\",\"2017-11-19T00:00:00\",\"2017-11-26T00:00:00\",\"2017-12-03T00:00:00\",\"2017-12-10T00:00:00\",\"2017-12-17T00:00:00\",\"2017-12-24T00:00:00\",\"2017-12-31T00:00:00\",\"2018-01-07T00:00:00\",\"2018-01-14T00:00:00\",\"2018-01-21T00:00:00\",\"2018-01-28T00:00:00\",\"2018-02-04T00:00:00\",\"2018-02-11T00:00:00\",\"2018-02-18T00:00:00\",\"2018-02-25T00:00:00\",\"2018-03-04T00:00:00\",\"2018-03-11T00:00:00\",\"2018-03-18T00:00:00\",\"2018-03-25T00:00:00\",\"2018-04-01T00:00:00\",\"2018-04-08T00:00:00\",\"2018-04-15T00:00:00\",\"2018-04-22T00:00:00\",\"2018-04-29T00:00:00\",\"2018-05-06T00:00:00\",\"2018-05-13T00:00:00\",\"2018-05-20T00:00:00\",\"2018-05-27T00:00:00\",\"2018-06-03T00:00:00\",\"2018-06-10T00:00:00\",\"2018-06-17T00:00:00\",\"2018-06-24T00:00:00\",\"2018-07-01T00:00:00\",\"2018-07-08T00:00:00\",\"2018-07-15T00:00:00\",\"2018-07-22T00:00:00\",\"2018-07-29T00:00:00\",\"2018-08-05T00:00:00\",\"2018-08-12T00:00:00\",\"2018-08-19T00:00:00\",\"2018-08-26T00:00:00\",\"2018-09-02T00:00:00\",\"2018-09-09T00:00:00\",\"2018-09-16T00:00:00\",\"2018-09-23T00:00:00\",\"2018-09-30T00:00:00\",\"2018-10-07T00:00:00\",\"2018-10-14T00:00:00\",\"2018-10-21T00:00:00\",\"2018-10-28T00:00:00\",\"2018-11-04T00:00:00\",\"2018-11-11T00:00:00\",\"2018-11-18T00:00:00\",\"2018-11-25T00:00:00\",\"2018-12-02T00:00:00\",\"2018-12-09T00:00:00\",\"2018-12-16T00:00:00\",\"2018-12-23T00:00:00\",\"2018-12-30T00:00:00\",\"2019-01-06T00:00:00\",\"2019-01-13T00:00:00\",\"2019-01-20T00:00:00\",\"2019-01-27T00:00:00\",\"2019-02-03T00:00:00\",\"2019-02-10T00:00:00\",\"2019-02-17T00:00:00\",\"2019-02-24T00:00:00\",\"2019-03-03T00:00:00\",\"2019-03-10T00:00:00\",\"2019-03-17T00:00:00\",\"2019-03-24T00:00:00\",\"2019-03-31T00:00:00\",\"2019-04-07T00:00:00\",\"2019-04-14T00:00:00\",\"2019-04-21T00:00:00\",\"2019-04-28T00:00:00\",\"2019-05-05T00:00:00\",\"2019-05-12T00:00:00\",\"2019-05-19T00:00:00\",\"2019-05-26T00:00:00\",\"2019-06-02T00:00:00\",\"2019-06-09T00:00:00\",\"2019-06-16T00:00:00\",\"2019-06-23T00:00:00\",\"2019-06-30T00:00:00\",\"2019-07-07T00:00:00\",\"2019-07-14T00:00:00\",\"2019-07-21T00:00:00\",\"2019-07-28T00:00:00\",\"2019-08-04T00:00:00\",\"2019-08-11T00:00:00\",\"2019-08-18T00:00:00\",\"2019-08-25T00:00:00\",\"2019-09-01T00:00:00\",\"2019-09-08T00:00:00\",\"2019-09-15T00:00:00\",\"2019-09-22T00:00:00\",\"2019-09-29T00:00:00\",\"2019-10-06T00:00:00\",\"2019-10-13T00:00:00\",\"2019-10-20T00:00:00\",\"2019-10-27T00:00:00\",\"2019-11-03T00:00:00\",\"2019-11-10T00:00:00\",\"2019-11-17T00:00:00\",\"2019-11-24T00:00:00\",\"2019-12-01T00:00:00\",\"2019-12-08T00:00:00\",\"2019-12-15T00:00:00\",\"2019-12-22T00:00:00\",\"2019-12-29T00:00:00\",\"2020-01-05T00:00:00\",\"2020-01-12T00:00:00\",\"2020-01-19T00:00:00\",\"2020-01-26T00:00:00\",\"2020-02-02T00:00:00\",\"2020-02-09T00:00:00\",\"2020-02-16T00:00:00\",\"2020-02-23T00:00:00\",\"2020-03-01T00:00:00\",\"2020-03-08T00:00:00\",\"2020-03-15T00:00:00\",\"2020-03-22T00:00:00\",\"2020-03-29T00:00:00\",\"2020-04-05T00:00:00\",\"2020-04-12T00:00:00\",\"2020-04-19T00:00:00\",\"2020-04-26T00:00:00\",\"2020-05-03T00:00:00\",\"2020-05-10T00:00:00\",\"2020-05-17T00:00:00\",\"2020-05-24T00:00:00\",\"2020-05-31T00:00:00\",\"2020-06-07T00:00:00\",\"2020-06-14T00:00:00\",\"2020-06-21T00:00:00\",\"2020-06-28T00:00:00\",\"2020-07-05T00:00:00\",\"2020-07-12T00:00:00\",\"2020-07-19T00:00:00\",\"2020-07-26T00:00:00\",\"2020-08-02T00:00:00\",\"2020-08-09T00:00:00\",\"2020-08-16T00:00:00\",\"2020-08-23T00:00:00\",\"2020-08-30T00:00:00\",\"2020-09-06T00:00:00\",\"2020-09-13T00:00:00\",\"2020-09-20T00:00:00\",\"2020-09-27T00:00:00\",\"2020-10-04T00:00:00\",\"2020-10-11T00:00:00\",\"2020-10-18T00:00:00\",\"2020-10-25T00:00:00\",\"2020-11-01T00:00:00\",\"2020-11-08T00:00:00\",\"2020-11-15T00:00:00\",\"2020-11-22T00:00:00\",\"2020-11-29T00:00:00\",\"2020-12-06T00:00:00\",\"2020-12-13T00:00:00\",\"2020-12-20T00:00:00\",\"2020-12-27T00:00:00\",\"2021-01-03T00:00:00\",\"2021-01-10T00:00:00\",\"2021-01-17T00:00:00\",\"2021-01-24T00:00:00\",\"2021-01-31T00:00:00\",\"2021-02-07T00:00:00\",\"2021-02-14T00:00:00\",\"2021-02-21T00:00:00\",\"2021-02-28T00:00:00\",\"2021-03-07T00:00:00\",\"2021-03-14T00:00:00\",\"2021-03-21T00:00:00\",\"2021-03-28T00:00:00\",\"2021-04-04T00:00:00\",\"2021-04-11T00:00:00\",\"2021-04-18T00:00:00\",\"2021-04-25T00:00:00\",\"2021-05-02T00:00:00\",\"2021-05-09T00:00:00\",\"2021-05-16T00:00:00\",\"2021-05-23T00:00:00\",\"2021-05-30T00:00:00\",\"2021-06-06T00:00:00\",\"2021-06-13T00:00:00\",\"2021-06-20T00:00:00\",\"2021-06-27T00:00:00\",\"2021-07-04T00:00:00\",\"2021-07-11T00:00:00\",\"2021-07-18T00:00:00\",\"2021-07-25T00:00:00\",\"2021-08-01T00:00:00\",\"2021-08-08T00:00:00\",\"2021-08-15T00:00:00\",\"2021-08-22T00:00:00\",\"2021-08-29T00:00:00\",\"2021-09-05T00:00:00\",\"2021-09-12T00:00:00\",\"2021-09-19T00:00:00\",\"2021-09-26T00:00:00\",\"2021-10-03T00:00:00\",\"2021-10-10T00:00:00\",\"2021-10-17T00:00:00\",\"2021-10-24T00:00:00\",\"2021-10-31T00:00:00\",\"2021-11-07T00:00:00\",\"2021-11-14T00:00:00\",\"2021-11-21T00:00:00\",\"2021-11-28T00:00:00\",\"2021-12-05T00:00:00\",\"2021-12-12T00:00:00\",\"2021-12-19T00:00:00\",\"2021-12-26T00:00:00\",\"2022-01-02T00:00:00\",\"2022-01-09T00:00:00\"],\"xaxis\":\"x\",\"y\":[5.946835443037974,4.491735537190083,4.1201923076923075,3.2579750346740637,3.1202312138728323,3.4504310344827585,3.2052023121387285,3.2874692874692877,3.2645985401459856,3.129032258064516,3.495049504950495,2.6299638989169676,3.6784776902887137,2.467771639042357,2.74609375,3.012323943661972,3.0327868852459017,3.363809523809524,3.3333333333333335,3.071240105540897,3.108045977011494,2.9853300733496333,2.070718232044199,2.7955911823647295,3.0149625935162097,3.2606060606060607,2.2,2.111324376199616,3.1981776765375853,2.732739420935412,2.608791208791209,2.4227005870841487,2.622950819672131,3.632850241545894,1.932890855457227,2.7222982216142273,2.61046511627907,2.636466591166478,2.1781206171107996,1.836893203883495,2.1490552834149756,2.667493796526055,1.5661129568106311,2.760549558390579,3.261491317671093,2.9733978234582827,3.3158447009443863,3.4745762711864407,3.156081808396125,3.046448087431694,3.0,2.654818325434439,2.656532456861134,3.0765027322404372,3.6059730250481694,2.968885047536733,3.644817073170732,2.8374025974025976,3.0762820512820515,2.5942307692307693,2.896849593495935,3.0038022813688214,3.3519345238095237,3.341021416803954,3.1065573770491803,2.9496096522356283,3.4501582278481013,2.545777146912704,2.55049786628734,2.674037089871612,2.890044576523031,2.6819035691922353,3.16078431372549,2.7222757955641272,3.0775924583031182,2.966086956521739,2.8823529411764706,2.6453287197231834,3.1677631578947367,3.349537037037037,3.027602523659306,3.546572934973638,3.3704954954954953,2.848804891606448,3.5343609505459215,3.806451612903226,3.7099236641221376,4.723309608540926,3.29278728606357,3.168945743273048,2.693813974187806,3.4296930763740185,3.4157575757575755,3.234597156398104,3.3191800878477307,2.980732177263969,3.380255941499086,2.977299880525687,3.4299212598425197,2.8122923588039868,3.2420289855072464,2.5966494845360826,2.872420262664165,3.458029197080292,3.167605633802817,3.279220779220779,3.4576757532281204,2.8222506393861893,3.245939675174014,3.1607142857142856,3.5655058043117744,3.583838383838384,3.469798657718121,3.616580310880829,3.5103359173126614,3.0846812559467174,3.1050724637681157,3.37007874015748,3.226554267650158,3.6826086956521737,3.963137996219282,4.107646622123236,4.018450184501845,3.356354916067146,3.6561631139944395,4.04021164021164,4.508021390374331,4.2635160680529305,3.8337662337662337,3.7330609465440925,4.37989652623799,4.34726821192053,4.15625,4.255917159763314,4.070353403141361,4.444547420451035,4.404276315789474,4.136005481329223,4.125775327360441,3.9846972721224216,4.300597213005972,4.178931297709924,4.194444444444445,4.843617664851784,4.418421879911977,4.16188679245283,3.9059375,4.66966966966967,5.0326007326007325,4.321500721500722,4.948153768335862,4.128868594622019,4.569078947368421,4.458007566204287,4.185001459002042,5.098299221677717,4.821972358866245,4.688553682342502,4.411496581413016,4.280857740585774,4.06484268125855,4.5612300933553,4.375172034131571,4.796555750145942,4.61436170212766,4.508928571428571,4.895847750865052,4.784646739130435,4.970700263697626,5.021085184143941,4.55131880733945,4.028202424881392,4.776533469076101,5.306348831720557,4.736506378802748,4.741735537190083,4.8316856780735105,4.36993913733792,4.452095130237826,4.615785360771034,4.655125034350096,4.649919398173025,4.122975708502024,4.163159085766011,4.634972677595629,4.611767378464334,5.070662874644498,4.57070094591317,4.757217321571773,4.645833333333333,4.538703752295985,4.630797773654916,5.059261557555073,4.9150134048257375,4.634871214265496,4.602763892972655,4.53220255653884,5.249857224443176,4.8258856216716834,5.23502722323049,4.779818543925647,4.88315285822211,5.332861590716106,5.459516856915317,6.168131868131868,6.337874659400545,6.16578947368421,5.955887019993653,6.232854864433812,6.363238512035011,5.94123252858958,6.529236868186323,6.3793405310767435,6.536324786324786,6.634130781499203,6.1820435141834205,6.06063243400058,6.045729076790336,5.718017831225378,5.602677692459146,6.020356234096692,6.3389417215313335,6.0010695187165775,6.381590705987489,6.13166434863236,6.0087079312779474,6.3595832323721835,6.271736555318645,6.508598887202832,5.986806743220132,6.717993079584775,6.197410147991543,6.300968399592253,5.852139037433155,5.967473524962179,6.09434422233057,5.8180762081784385,5.982769901853871,6.072775682272021,6.300787401574803,6.7765470744040455,6.223065250379363,6.00928505106778,6.212684031710079,6.294664189009822,5.913106444605359,6.045165843330981,6.235263702171665,5.72780487804878,5.601390758187528,6.1463363426411926,6.478492136910268,6.385608415013149,6.098399370244031,6.4860959651035985,6.027897539944205,6.54054054054054,6.271108972816935,5.929740619491312,6.158063719436898,5.995831289847965,6.8681237721021615,5.913001449975834,5.998093422306959,6.255794470818207,6.54723382045929,6.406200735680504,6.19339865910263,5.816017797552837,6.337566381897945,6.1276169265033404,6.040713536201469,5.948580735225686,6.81287677839402,6.516920281626164,5.908236347358997,6.25524728588661,6.157958984375,6.080684007707129,6.192187123221606,6.218380743982495,6.272638277043564,5.905586728470358,6.302985805188448,6.312274368231047,6.551168412570508,6.104462213051328,6.863198458574181,6.45141065830721,6.381285526891124,5.91628296358309,6.772964300040113,6.474202011368605,6.99960047942469,6.300938599921784,5.864120106423413,6.30389363722697,5.600628349658104,5.972821576763486,5.968885387948011,5.386757215619695,5.935956084172004,5.7693389592123765,6.097741355186888,6.2157030083208875,6.759929778362958,6.753020134228188,6.672674025681459,7.105294350059265,7.561764705882353,7.551166551166551,6.767940813810111,7.61065782763896,6.931556195965418,7.275255526503447,6.618956438487315,6.881133873272987,6.405182297638157,6.202337305224565,6.393519605541207,6.484378726448844,6.292186201163758,6.222723367697594,7.312388591800357,6.967719298245614,7.108210620258813,6.698151950718686,6.7177302016212845,6.8927097661623105,6.044106463878327,6.304898648648648,6.3907944235450325,6.348478164975739,6.287701612903226,6.371597633136095,6.384027187765506,6.714666074994453,6.524568683118585,6.469105888054277,6.583182640144665,6.7166541070082895,7.191304347826087,6.597054297647834,6.89261744966443,7.353942266264541,6.266529351184346,6.813115541676676,6.305687693898656,6.806649168853894,6.783975877665303,6.646234676007006,6.485621165644171,6.76945614356345,6.21502844810673,5.990812466222303,6.599514563106796,6.655707946752723,6.441330998248686,6.3911604361370715,6.424430264357338,6.268634955349007,7.132849293563579,6.956059113300492,7.022954924874791,6.785687311178248,6.517568441474456,6.775250973161238,6.539749841000636,6.914634146341464,6.13412759415834,6.460482529118137,6.51131401349742,6.5012165450121655,6.0813953488372094,7.503334722801167,7.235006738544475,7.020809248554913,7.428142025173774,7.833645638142827,6.879081918268334,6.4343974903118655,7.012629399585921,7.11736641221374,7.375060768108897,6.639036863413595,7.364309420474854,7.531858988395007,7.698341232227488,7.553054662379421,7.148602150537634,7.520264847512038,7.176860148032723,7.405684754521964,7.239864864864865,7.401481742811783,7.379566439181052,7.6898277933520225,7.509521484375,6.991036871053168,6.95737558580674,6.880640142253834,8.701292810161034,10.406355320173327,10.529712823429058,8.516275120294367,8.204540189946723,8.33231939163498,8.25296239052035,7.92354516678841,8.582652134423252,8.03850509626274,7.807056903936365,7.720383275261324,7.650454641573272,7.747797141178774,7.77205435003042,7.974391805377721,7.641488372093023,7.5061344392604115,7.292001530807501,8.490204339582894,8.100440343887607,7.789997967066477,7.501096709870389,8.1678075088156,7.81499493414387,8.817478101446323,8.50876509544215,8.391295463833265,8.075495307612096,8.788285267158507,9.04235347985348,7.783836206896551,8.618509116085853,8.399013674064111,7.790877192982456,7.681207262438104,7.832142127833367,7.820079086115993,7.928634167764603,8.603140460314046,8.492223950233281,7.866146458583433,7.926265361383045,7.910604558969276,8.01004016064257,8.261234775304494,8.552559664784114,9.47492360237282,7.777607948032098,8.275685269177677,8.184507042253522,8.398547717842323,7.955564451561249,8.331342094782954,8.71864406779661,7.520402459474567,7.641597899474869,8.278306878306879,8.392058165548098,8.01042913318516,8.054857776135943,8.847219216619779,8.96619659892161,8.583038869257951,8.322826279440411,7.8256503879507076,7.87205497382199,8.642681310357887,8.83739520374342,9.163718411552347,9.067570146974614,9.166156064155704,8.734629738754665,8.595836947094536,9.013150684931507,8.181660899653979,8.282829863828455,7.709037575080319,8.731901352426412,8.660596786534047,8.209917355371902,7.496583481877599,8.17033224145999,7.386820652173913,8.61188630490956,8.353545913922286,8.455243384514864,10.088442014837954,9.291889894697949,10.317185929648241,9.274740020127474,9.529149410640331,9.510463008732906,9.423784494086728,9.97834960070985,9.497663927823425,9.668657198192383,9.653864390706495,9.524488743770407,10.248010809187809,9.394201424211596,9.556932884717549,9.938532849657395,9.94318610796527,9.49150442477876,10.157913351016798,9.248152709359607,10.312817155017187,10.140738452031515,9.837727603787327,10.024036878498519,9.348723784750447,10.36901454486027,9.54706416464891,10.210754098360656,10.401984732824427,10.193908784817875,10.516965195864278,11.086394900184533,10.783496456294296,10.500660938532716,10.118986938515452,11.211713874219875,11.040289952798382,10.566905330151153,11.197714285714286,11.392830131598851,10.942006512637619,10.548903378778897,11.40558766859345,11.573210665835022,12.068993772533595,11.428943258719418,11.437839733473611,11.225387306346827,11.874079150248415,11.841700133868809,11.708678049639149,12.065083845259837,12.63740771123872,12.393309222423147,12.130628126737076,11.371736751602313,11.907535761687067,11.525888019265503,10.88231036479444,10.702774813233725,11.381377551020408,11.375223183628622,11.378439754207855,11.44398826979472,11.33999526963103,12.211104926245477,10.988453314326444,11.886056971514243,11.07306629834254,12.883045292014303,12.717830882352942,12.675475197032917,12.231879872942535,13.073121387283237,14.794871794871796,16.453726453726453,13.945618847829595,13.285789381461363,12.964573268921095,13.829297205757833,12.908109774899785,14.149454875832829,13.94085184661101,13.263399913780715,13.71733253229198,13.012357814913635,14.738985022538898,13.413314840499307,13.846468646864686,15.395855076785448,13.926737727068009,14.0008621928438,14.693889045339342,14.190519051905191,13.630193905817174,15.330647524172283,15.34037558685446,13.100364166059723,13.97708152016246,14.37396883593034,12.831385642737896,12.39713423831071,13.028281911675741,14.805316091954023,17.673732454883986,16.375058311304617,17.97074122236671,16.524853349799322,16.40303951367781,16.279590842669265,15.274741506646972,16.65096137190369,17.081189339084887,19.038396766588075,18.534613441131885,17.64704893223474,17.814814814814813,19.154137044320073,19.135957607872825,17.63592534992224,18.94238476953908,17.164551485434092,17.90886794888344,16.054169538249482,17.892033848847387,16.593148954092378,16.141301388510755,15.21160119132038,16.693019343986542,16.832472520196,17.741679648774962,16.800675200450133,16.01236146632566,15.85743408534928,16.151437880719648,16.396090945353013,15.70192174754597,14.7434707675991,15.906919612392521,15.868871151653364,16.58559359715429,16.342645133129636,14.780296784830998,16.407326007326006,16.23073883840379,16.064151497357603,16.232187761944676,16.23909128688184,15.762420382165605,15.383589743589743,16.16091476091476,14.809075454426573,14.22432128112098,15.771474878444085,14.810392902408111,15.606491136600626,15.353972398358822,15.687605890785873,15.117826188802999,17.556810450401414,17.347034561228845,15.970149253731343,15.588415803605677,16.559867129699533,16.294951698348395,16.660766105629715,17.297843866171004,16.70890460383894,17.330047149592797,16.52611988191503,16.541875552934236,15.629738036001756,16.564346300087745,16.274712965555867,14.74558840715204,16.014714993804212,16.035570556925872,15.254847294386009,16.13052687317977,16.062156503533107,15.909773307311214,15.609110454178984,14.517324460761817,14.946447570634827,14.988579586009992,14.29484882418813,14.540736543909349,15.063298994663025,15.524948822927328,15.63322559793148,15.645957117024025,15.649709669275435,16.03735913767761,15.916581240389544,16.57034865782166,16.74735569658507,16.052247036118004,16.94487049631023,15.78639495675121,15.501327265832385,16.054896907216495,16.030659324304214,16.28932119205298,16.13358830760825,16.786861098836354,17.800686748868426,17.348271870348935,17.300029868578257,18.09011111111111,16.97245730112325,17.120415824429685,17.555760499432463,17.506032960565037,17.983891126232468,17.12624633431085,18.118597975525002,17.010794140323824,16.26438945669715,17.210773480662983,17.067336165829794,16.610806473184432,16.170566887748716,14.643903010425207,15.88355802273328,17.22020577307802,17.51052787663108,16.849799300789847,19.324278956203266,17.233039875712066,18.065175812858612,17.698932487016734,19.160798816568047,16.919326755658734,17.607052896725442,17.700783972125436,18.385305425032037,17.87844408427877,18.07684500507467,17.814449676280166,18.683032101429728,18.926811163895486,18.91810480075306,18.189036805011746,19.224747081712064,18.826798394566225,18.19907474338586,18.04161053734471,18.74387388793507,19.004246928560594,18.019991432243323,18.166666666666668,18.727567067530064,20.02731997030438,20.872606425067257,19.614843152257077,18.156303724928367,19.228319783197833,19.005397520058352,20.143641354071363,18.984126984126984,19.24407796101949,20.053339590176755,20.02014037229173,21.615384615384617,20.643894389438945,19.91186537364518,19.204710413272107,20.333282927566913,21.0717375093214,20.839907192575406,19.202308716886193,20.671064204045734,19.365584995534384,19.350933333333334,18.116911072245394,19.651395958661112,19.921765024363832,19.21014209359927,18.867097088561334,16.796324124378685,16.615932203389832,17.56749942699977,17.707748907794894,19.135313121272365,20.643333333333334,18.337822671156005,20.221580406654343,19.10405982905983,19.102491103202848,18.2729044834308,19.34203552851114,19.246834150326798,18.840718788220904,19.361645653616456,19.84480927088363,20.53211278637165,19.818076589177196,20.33958891867739,19.606804912421985,19.689837905236907,18.873390168692183,18.284635007849293,19.04974185861795,17.78423843481441,17.194753925782962,16.93675479523069,17.095229424617624,17.207138417828286,16.59673202614379,17.165135206090838,17.80787946846341,17.092486052998606,17.127299620966998,18.16885964912281,17.78034682080925,17.39666605268005,17.0048623853211,16.89389534883721,16.813257607866408,16.792878286609785,18.02918745880802,18.070925361766946,17.871050384286935,17.388127013345606,16.691067108682017,17.47318040703691,15.265661166280893,16.21186297671279,15.876824140489735,16.029310060925408,16.107817120327546,17.023377046509733,16.308633317749727,16.19305769075168,16.941457306096893,15.341677991559974,16.015082266910422,15.7303653305724,17.557654254362294,18.040112788793888,17.05445632798574,16.346106099478607,15.853320042938199,16.979230961714904,15.905036644316233,15.312528788576692,15.29313122437024,15.30303493616696,16.573893872586286,14.783982586504541,14.923973158321658,15.232734076303588,15.82991318074191,15.583510800121692,15.896347931504774,14.344712970015927,14.248185180112314,15.024874920724402,14.84396347649645,14.392554887771373,15.010042858056675,14.613344518293863,13.38239127858751,13.244975327957636,14.378999748047367,15.228981238394057,15.55461889708465,15.631038312048862,14.472980312287849,14.779051052597696,13.26039010708822,14.286572259451258,14.89702590342181,23.233150340630996,25.34142372881356,23.437449173217676,22.7521669787116,20.7727574350003,18.453287798101414,14.441586612953207],\"yaxis\":\"y\",\"type\":\"scatter\"}],                        {\"template\":{\"data\":{\"histogram2dcontour\":[{\"type\":\"histogram2dcontour\",\"colorbar\":{\"outlinewidth\":0,\"ticks\":\"\"},\"colorscale\":[[0.0,\"#0d0887\"],[0.1111111111111111,\"#46039f\"],[0.2222222222222222,\"#7201a8\"],[0.3333333333333333,\"#9c179e\"],[0.4444444444444444,\"#bd3786\"],[0.5555555555555556,\"#d8576b\"],[0.6666666666666666,\"#ed7953\"],[0.7777777777777778,\"#fb9f3a\"],[0.8888888888888888,\"#fdca26\"],[1.0,\"#f0f921\"]]}],\"choropleth\":[{\"type\":\"choropleth\",\"colorbar\":{\"outlinewidth\":0,\"ticks\":\"\"}}],\"histogram2d\":[{\"type\":\"histogram2d\",\"colorbar\":{\"outlinewidth\":0,\"ticks\":\"\"},\"colorscale\":[[0.0,\"#0d0887\"],[0.1111111111111111,\"#46039f\"],[0.2222222222222222,\"#7201a8\"],[0.3333333333333333,\"#9c179e\"],[0.4444444444444444,\"#bd3786\"],[0.5555555555555556,\"#d8576b\"],[0.6666666666666666,\"#ed7953\"],[0.7777777777777778,\"#fb9f3a\"],[0.8888888888888888,\"#fdca26\"],[1.0,\"#f0f921\"]]}],\"heatmap\":[{\"type\":\"heatmap\",\"colorbar\":{\"outlinewidth\":0,\"ticks\":\"\"},\"colorscale\":[[0.0,\"#0d0887\"],[0.1111111111111111,\"#46039f\"],[0.2222222222222222,\"#7201a8\"],[0.3333333333333333,\"#9c179e\"],[0.4444444444444444,\"#bd3786\"],[0.5555555555555556,\"#d8576b\"],[0.6666666666666666,\"#ed7953\"],[0.7777777777777778,\"#fb9f3a\"],[0.8888888888888888,\"#fdca26\"],[1.0,\"#f0f921\"]]}],\"heatmapgl\":[{\"type\":\"heatmapgl\",\"colorbar\":{\"outlinewidth\":0,\"ticks\":\"\"},\"colorscale\":[[0.0,\"#0d0887\"],[0.1111111111111111,\"#46039f\"],[0.2222222222222222,\"#7201a8\"],[0.3333333333333333,\"#9c179e\"],[0.4444444444444444,\"#bd3786\"],[0.5555555555555556,\"#d8576b\"],[0.6666666666666666,\"#ed7953\"],[0.7777777777777778,\"#fb9f3a\"],[0.8888888888888888,\"#fdca26\"],[1.0,\"#f0f921\"]]}],\"contourcarpet\":[{\"type\":\"contourcarpet\",\"colorbar\":{\"outlinewidth\":0,\"ticks\":\"\"}}],\"contour\":[{\"type\":\"contour\",\"colorbar\":{\"outlinewidth\":0,\"ticks\":\"\"},\"colorscale\":[[0.0,\"#0d0887\"],[0.1111111111111111,\"#46039f\"],[0.2222222222222222,\"#7201a8\"],[0.3333333333333333,\"#9c179e\"],[0.4444444444444444,\"#bd3786\"],[0.5555555555555556,\"#d8576b\"],[0.6666666666666666,\"#ed7953\"],[0.7777777777777778,\"#fb9f3a\"],[0.8888888888888888,\"#fdca26\"],[1.0,\"#f0f921\"]]}],\"surface\":[{\"type\":\"surface\",\"colorbar\":{\"outlinewidth\":0,\"ticks\":\"\"},\"colorscale\":[[0.0,\"#0d0887\"],[0.1111111111111111,\"#46039f\"],[0.2222222222222222,\"#7201a8\"],[0.3333333333333333,\"#9c179e\"],[0.4444444444444444,\"#bd3786\"],[0.5555555555555556,\"#d8576b\"],[0.6666666666666666,\"#ed7953\"],[0.7777777777777778,\"#fb9f3a\"],[0.8888888888888888,\"#fdca26\"],[1.0,\"#f0f921\"]]}],\"mesh3d\":[{\"type\":\"mesh3d\",\"colorbar\":{\"outlinewidth\":0,\"ticks\":\"\"}}],\"scatter\":[{\"marker\":{\"line\":{\"color\":\"#283442\"}},\"type\":\"scatter\"}],\"parcoords\":[{\"type\":\"parcoords\",\"line\":{\"colorbar\":{\"outlinewidth\":0,\"ticks\":\"\"}}}],\"scatterpolargl\":[{\"type\":\"scatterpolargl\",\"marker\":{\"colorbar\":{\"outlinewidth\":0,\"ticks\":\"\"}}}],\"bar\":[{\"error_x\":{\"color\":\"#f2f5fa\"},\"error_y\":{\"color\":\"#f2f5fa\"},\"marker\":{\"line\":{\"color\":\"rgb(17,17,17)\",\"width\":0.5},\"pattern\":{\"fillmode\":\"overlay\",\"size\":10,\"solidity\":0.2}},\"type\":\"bar\"}],\"scattergeo\":[{\"type\":\"scattergeo\",\"marker\":{\"colorbar\":{\"outlinewidth\":0,\"ticks\":\"\"}}}],\"scatterpolar\":[{\"type\":\"scatterpolar\",\"marker\":{\"colorbar\":{\"outlinewidth\":0,\"ticks\":\"\"}}}],\"histogram\":[{\"marker\":{\"pattern\":{\"fillmode\":\"overlay\",\"size\":10,\"solidity\":0.2}},\"type\":\"histogram\"}],\"scattergl\":[{\"marker\":{\"line\":{\"color\":\"#283442\"}},\"type\":\"scattergl\"}],\"scatter3d\":[{\"type\":\"scatter3d\",\"line\":{\"colorbar\":{\"outlinewidth\":0,\"ticks\":\"\"}},\"marker\":{\"colorbar\":{\"outlinewidth\":0,\"ticks\":\"\"}}}],\"scattermapbox\":[{\"type\":\"scattermapbox\",\"marker\":{\"colorbar\":{\"outlinewidth\":0,\"ticks\":\"\"}}}],\"scatterternary\":[{\"type\":\"scatterternary\",\"marker\":{\"colorbar\":{\"outlinewidth\":0,\"ticks\":\"\"}}}],\"scattercarpet\":[{\"type\":\"scattercarpet\",\"marker\":{\"colorbar\":{\"outlinewidth\":0,\"ticks\":\"\"}}}],\"carpet\":[{\"aaxis\":{\"endlinecolor\":\"#A2B1C6\",\"gridcolor\":\"#506784\",\"linecolor\":\"#506784\",\"minorgridcolor\":\"#506784\",\"startlinecolor\":\"#A2B1C6\"},\"baxis\":{\"endlinecolor\":\"#A2B1C6\",\"gridcolor\":\"#506784\",\"linecolor\":\"#506784\",\"minorgridcolor\":\"#506784\",\"startlinecolor\":\"#A2B1C6\"},\"type\":\"carpet\"}],\"table\":[{\"cells\":{\"fill\":{\"color\":\"#506784\"},\"line\":{\"color\":\"rgb(17,17,17)\"}},\"header\":{\"fill\":{\"color\":\"#2a3f5f\"},\"line\":{\"color\":\"rgb(17,17,17)\"}},\"type\":\"table\"}],\"barpolar\":[{\"marker\":{\"line\":{\"color\":\"rgb(17,17,17)\",\"width\":0.5},\"pattern\":{\"fillmode\":\"overlay\",\"size\":10,\"solidity\":0.2}},\"type\":\"barpolar\"}],\"pie\":[{\"automargin\":true,\"type\":\"pie\"}]},\"layout\":{\"autotypenumbers\":\"strict\",\"colorway\":[\"#636efa\",\"#EF553B\",\"#00cc96\",\"#ab63fa\",\"#FFA15A\",\"#19d3f3\",\"#FF6692\",\"#B6E880\",\"#FF97FF\",\"#FECB52\"],\"font\":{\"color\":\"#f2f5fa\"},\"hovermode\":\"closest\",\"hoverlabel\":{\"align\":\"left\"},\"paper_bgcolor\":\"rgb(17,17,17)\",\"plot_bgcolor\":\"rgb(17,17,17)\",\"polar\":{\"bgcolor\":\"rgb(17,17,17)\",\"angularaxis\":{\"gridcolor\":\"#506784\",\"linecolor\":\"#506784\",\"ticks\":\"\"},\"radialaxis\":{\"gridcolor\":\"#506784\",\"linecolor\":\"#506784\",\"ticks\":\"\"}},\"ternary\":{\"bgcolor\":\"rgb(17,17,17)\",\"aaxis\":{\"gridcolor\":\"#506784\",\"linecolor\":\"#506784\",\"ticks\":\"\"},\"baxis\":{\"gridcolor\":\"#506784\",\"linecolor\":\"#506784\",\"ticks\":\"\"},\"caxis\":{\"gridcolor\":\"#506784\",\"linecolor\":\"#506784\",\"ticks\":\"\"}},\"coloraxis\":{\"colorbar\":{\"outlinewidth\":0,\"ticks\":\"\"}},\"colorscale\":{\"sequential\":[[0.0,\"#0d0887\"],[0.1111111111111111,\"#46039f\"],[0.2222222222222222,\"#7201a8\"],[0.3333333333333333,\"#9c179e\"],[0.4444444444444444,\"#bd3786\"],[0.5555555555555556,\"#d8576b\"],[0.6666666666666666,\"#ed7953\"],[0.7777777777777778,\"#fb9f3a\"],[0.8888888888888888,\"#fdca26\"],[1.0,\"#f0f921\"]],\"sequentialminus\":[[0.0,\"#0d0887\"],[0.1111111111111111,\"#46039f\"],[0.2222222222222222,\"#7201a8\"],[0.3333333333333333,\"#9c179e\"],[0.4444444444444444,\"#bd3786\"],[0.5555555555555556,\"#d8576b\"],[0.6666666666666666,\"#ed7953\"],[0.7777777777777778,\"#fb9f3a\"],[0.8888888888888888,\"#fdca26\"],[1.0,\"#f0f921\"]],\"diverging\":[[0,\"#8e0152\"],[0.1,\"#c51b7d\"],[0.2,\"#de77ae\"],[0.3,\"#f1b6da\"],[0.4,\"#fde0ef\"],[0.5,\"#f7f7f7\"],[0.6,\"#e6f5d0\"],[0.7,\"#b8e186\"],[0.8,\"#7fbc41\"],[0.9,\"#4d9221\"],[1,\"#276419\"]]},\"xaxis\":{\"gridcolor\":\"#283442\",\"linecolor\":\"#506784\",\"ticks\":\"\",\"title\":{\"standoff\":15},\"zerolinecolor\":\"#283442\",\"automargin\":true,\"zerolinewidth\":2},\"yaxis\":{\"gridcolor\":\"#283442\",\"linecolor\":\"#506784\",\"ticks\":\"\",\"title\":{\"standoff\":15},\"zerolinecolor\":\"#283442\",\"automargin\":true,\"zerolinewidth\":2},\"scene\":{\"xaxis\":{\"backgroundcolor\":\"rgb(17,17,17)\",\"gridcolor\":\"#506784\",\"linecolor\":\"#506784\",\"showbackground\":true,\"ticks\":\"\",\"zerolinecolor\":\"#C8D4E3\",\"gridwidth\":2},\"yaxis\":{\"backgroundcolor\":\"rgb(17,17,17)\",\"gridcolor\":\"#506784\",\"linecolor\":\"#506784\",\"showbackground\":true,\"ticks\":\"\",\"zerolinecolor\":\"#C8D4E3\",\"gridwidth\":2},\"zaxis\":{\"backgroundcolor\":\"rgb(17,17,17)\",\"gridcolor\":\"#506784\",\"linecolor\":\"#506784\",\"showbackground\":true,\"ticks\":\"\",\"zerolinecolor\":\"#C8D4E3\",\"gridwidth\":2}},\"shapedefaults\":{\"line\":{\"color\":\"#f2f5fa\"}},\"annotationdefaults\":{\"arrowcolor\":\"#f2f5fa\",\"arrowhead\":0,\"arrowwidth\":1},\"geo\":{\"bgcolor\":\"rgb(17,17,17)\",\"landcolor\":\"rgb(17,17,17)\",\"subunitcolor\":\"#506784\",\"showland\":true,\"showlakes\":true,\"lakecolor\":\"rgb(17,17,17)\"},\"title\":{\"x\":0.05},\"updatemenudefaults\":{\"bgcolor\":\"#506784\",\"borderwidth\":0},\"sliderdefaults\":{\"bgcolor\":\"#C8D4E3\",\"borderwidth\":1,\"bordercolor\":\"rgb(17,17,17)\",\"tickwidth\":0},\"mapbox\":{\"style\":\"dark\"}}},\"xaxis\":{\"anchor\":\"y\",\"domain\":[0.0,1.0],\"title\":{\"text\":\"Creation time\"}},\"yaxis\":{\"anchor\":\"x\",\"domain\":[0.0,1.0],\"title\":{\"text\":\"Average score\"}},\"legend\":{\"title\":{\"text\":\"variable\"},\"tracegroupgap\":0},\"margin\":{\"t\":60},\"title\":{\"text\":\"Average score over post creation time\",\"x\":0.5},\"showlegend\":false},                        {\"responsive\": true}                    ).then(function(){\n                            \nvar gd = document.getElementById('abf94422-5f1c-44c9-8b5f-8cf47ab0e117');\nvar x = new MutationObserver(function (mutations, observer) {{\n        var display = window.getComputedStyle(gd).display;\n        if (!display || display === 'none') {{\n            console.log([gd, 'removed!']);\n            Plotly.purge(gd);\n            observer.disconnect();\n        }}\n}});\n\n// Listen for the removal of the full notebook cells\nvar notebookContainer = gd.closest('#notebook-container');\nif (notebookContainer) {{\n    x.observe(notebookContainer, {childList: true});\n}}\n\n// Listen for the clearing of the current output cell\nvar outputEl = gd.closest('.output');\nif (outputEl) {{\n    x.observe(outputEl, {childList: true});\n}}\n\n                        })                };                });            </script>        </div>"
     },
     "metadata": {},
     "output_type": "display_data"
    }
   ],
   "source": [
    "plot(\"post_scores_and_time\", px.scatter(post_scores_and_time_df).update_layout(\n",
    "    title=\"Average score over post creation time\",\n",
    "    xaxis_title=\"Creation time\",\n",
    "    yaxis_title=\"Average score\",\n",
    "    showlegend=False,\n",
    "))"
   ],
   "metadata": {
    "collapsed": false
   }
  },
  {
   "cell_type": "code",
   "execution_count": 49,
   "outputs": [],
   "source": [
    "# Post tag counts.\n",
    "post_tag_counts = defaultdict(int)\n",
    "for post in posts.values():\n",
    "    post_tag_counts[len(post[\"tags\"])] += 1"
   ],
   "metadata": {
    "collapsed": false
   }
  },
  {
   "cell_type": "code",
   "execution_count": 94,
   "outputs": [
    {
     "data": {
      "application/vnd.plotly.v1+json": {
       "data": [
        {
         "hovertemplate": "variable=count<br>index=%{x}<br>value=%{y}<extra></extra>",
         "legendgroup": "count",
         "marker": {
          "color": "#636efa",
          "symbol": "circle"
         },
         "mode": "markers",
         "name": "count",
         "orientation": "v",
         "showlegend": true,
         "x": [
          38,
          35,
          32,
          15,
          34,
          30,
          31,
          33,
          67,
          21,
          24,
          65,
          13,
          20,
          23,
          58,
          47,
          28,
          48,
          37,
          41,
          17,
          43,
          40,
          29,
          18,
          22,
          16,
          42,
          25,
          19,
          27,
          52,
          36,
          26,
          51,
          12,
          44,
          56,
          46,
          62,
          53,
          45,
          75,
          57,
          90,
          39,
          84,
          85,
          73,
          68,
          69,
          50,
          11,
          71,
          78,
          14,
          61,
          60,
          63,
          114,
          54,
          55,
          74,
          77,
          66,
          9,
          105,
          64,
          59,
          128,
          8,
          49,
          10,
          123,
          70,
          97,
          191,
          72,
          104,
          76,
          92,
          6,
          89,
          122,
          86,
          113,
          82,
          81,
          7,
          140,
          103,
          80,
          148,
          88,
          83,
          126,
          5,
          137,
          102,
          147,
          91,
          106,
          125,
          115,
          139,
          79,
          4,
          96,
          154,
          144,
          151,
          98,
          138,
          235,
          119,
          216,
          101,
          100,
          134,
          95,
          194,
          197,
          158,
          110,
          112,
          111,
          93,
          99,
          87,
          206,
          94,
          127,
          109,
          155,
          121,
          129,
          172,
          162,
          120,
          165,
          169,
          153,
          116,
          160,
          117,
          723,
          107,
          159,
          280,
          167,
          118,
          143,
          182,
          486,
          304,
          136,
          124,
          296,
          135,
          131,
          132,
          142,
          196,
          184,
          133,
          233,
          272,
          226,
          3,
          166,
          242,
          249,
          108,
          130,
          282,
          179,
          181,
          145,
          278,
          171,
          223,
          200,
          379,
          199,
          141,
          309,
          229,
          222,
          248,
          161,
          294,
          381,
          192,
          152,
          163,
          157,
          186,
          232,
          189,
          149,
          246,
          164,
          168,
          205,
          2,
          177,
          146,
          207,
          175,
          224,
          183,
          150,
          209,
          574,
          221,
          219,
          220,
          170,
          217,
          276,
          1,
          185,
          178,
          230,
          949,
          247,
          250,
          268,
          270,
          225,
          336,
          488,
          364,
          204,
          374,
          176,
          382,
          243,
          156,
          387,
          283,
          384,
          190,
          313,
          332,
          340,
          211,
          187,
          301,
          274,
          273,
          174,
          589,
          208,
          203,
          311,
          271,
          383,
          338,
          298,
          193,
          239,
          798,
          244,
          921,
          441,
          520,
          286,
          253,
          180,
          237,
          471,
          252,
          446,
          411,
          188,
          372,
          251,
          269,
          318,
          254,
          195,
          497,
          245,
          343,
          510,
          201,
          348,
          464,
          228,
          329,
          202,
          267,
          504,
          218,
          284,
          489,
          344,
          260,
          321,
          502,
          473,
          214,
          262,
          316,
          397,
          380,
          210,
          212,
          300,
          238,
          297,
          377,
          536,
          173,
          213,
          234,
          635,
          265,
          362,
          264,
          255,
          279,
          500,
          420,
          292,
          281,
          495,
          324,
          350,
          528,
          570,
          236,
          241,
          263,
          198,
          275,
          606,
          371,
          366,
          306,
          337,
          355,
          493,
          725,
          277,
          312,
          330,
          315,
          305,
          261,
          353,
          386,
          467,
          418,
          215,
          749,
          370,
          331,
          240,
          512,
          391,
          290,
          231,
          612,
          575,
          256,
          328,
          307,
          310,
          405,
          347,
          552,
          938,
          532,
          352,
          299,
          430,
          363,
          963,
          460,
          746,
          319,
          400,
          302,
          293,
          443,
          365,
          484,
          375,
          333,
          776,
          351,
          291,
          388,
          295,
          650,
          805,
          601,
          361,
          289,
          561,
          523,
          555,
          287,
          285,
          775,
          788,
          579,
          433,
          335,
          403,
          463,
          401,
          288,
          422,
          360,
          735,
          303,
          751,
          452,
          514,
          356,
          359,
          429,
          345,
          227,
          320,
          485,
          266,
          438,
          385,
          259,
          325,
          346,
          543,
          480,
          389,
          398,
          772,
          369,
          573,
          358,
          445,
          540,
          416,
          317,
          373,
          1150,
          580
         ],
         "xaxis": "x",
         "y": [
          107124,
          123438,
          137525,
          89682,
          128077,
          145567,
          141828,
          133038,
          9625,
          145612,
          154427,
          11681,
          61672,
          139623,
          153334,
          22857,
          60000,
          151285,
          55389,
          112675,
          90861,
          113697,
          79689,
          96001,
          149509,
          123685,
          149986,
          102806,
          85607,
          154942,
          130893,
          153919,
          39413,
          118478,
          155379,
          43298,
          49142,
          74796,
          27490,
          64679,
          15519,
          36210,
          69430,
          4647,
          25094,
          1325,
          101623,
          2137,
          1962,
          5565,
          8761,
          8022,
          47149,
          37381,
          6637,
          3588,
          75412,
          17053,
          18550,
          14244,
          303,
          33181,
          30385,
          4956,
          3929,
          10600,
          17381,
          468,
          12731,
          20718,
          140,
          9302,
          50938,
          26344,
          182,
          7387,
          821,
          15,
          6161,
          468,
          4245,
          1158,
          2145,
          1480,
          183,
          1841,
          298,
          2566,
          2835,
          4114,
          63,
          546,
          2986,
          69,
          1563,
          2355,
          162,
          1212,
          102,
          571,
          72,
          1205,
          460,
          179,
          260,
          78,
          3287,
          590,
          863,
          51,
          63,
          56,
          723,
          66,
          7,
          222,
          8,
          608,
          661,
          104,
          923,
          22,
          13,
          51,
          358,
          312,
          351,
          1031,
          713,
          1612,
          15,
          945,
          151,
          396,
          48,
          210,
          123,
          24,
          40,
          195,
          28,
          34,
          53,
          228,
          36,
          238,
          1,
          412,
          45,
          5,
          37,
          225,
          80,
          22,
          1,
          3,
          113,
          169,
          5,
          97,
          144,
          128,
          80,
          11,
          23,
          110,
          9,
          7,
          10,
          235,
          27,
          7,
          4,
          425,
          134,
          8,
          26,
          23,
          67,
          2,
          20,
          8,
          14,
          3,
          10,
          74,
          3,
          5,
          6,
          5,
          54,
          4,
          1,
          14,
          67,
          39,
          42,
          20,
          8,
          21,
          72,
          3,
          34,
          29,
          5,
          36,
          27,
          75,
          11,
          22,
          10,
          21,
          56,
          7,
          1,
          10,
          6,
          11,
          18,
          10,
          4,
          8,
          18,
          19,
          6,
          1,
          4,
          4,
          5,
          5,
          4,
          2,
          2,
          2,
          10,
          1,
          23,
          1,
          4,
          58,
          2,
          6,
          1,
          19,
          1,
          2,
          1,
          8,
          15,
          2,
          2,
          5,
          30,
          1,
          23,
          14,
          3,
          4,
          1,
          3,
          3,
          17,
          4,
          1,
          5,
          1,
          1,
          1,
          3,
          4,
          19,
          4,
          1,
          5,
          1,
          2,
          16,
          4,
          3,
          2,
          3,
          1,
          8,
          1,
          2,
          2,
          1,
          21,
          2,
          3,
          6,
          2,
          11,
          8,
          1,
          8,
          4,
          1,
          2,
          2,
          1,
          1,
          1,
          6,
          7,
          5,
          2,
          2,
          6,
          6,
          1,
          5,
          2,
          4,
          1,
          21,
          14,
          4,
          1,
          5,
          1,
          3,
          5,
          3,
          1,
          1,
          2,
          2,
          1,
          4,
          4,
          1,
          1,
          7,
          6,
          2,
          9,
          2,
          1,
          1,
          1,
          4,
          2,
          5,
          2,
          1,
          3,
          2,
          1,
          1,
          4,
          2,
          1,
          2,
          1,
          2,
          8,
          1,
          3,
          2,
          2,
          1,
          1,
          2,
          4,
          1,
          1,
          2,
          2,
          3,
          1,
          1,
          1,
          1,
          1,
          1,
          3,
          1,
          1,
          2,
          1,
          1,
          1,
          2,
          1,
          1,
          3,
          2,
          2,
          1,
          2,
          2,
          1,
          2,
          3,
          1,
          2,
          1,
          1,
          1,
          3,
          1,
          1,
          1,
          1,
          2,
          1,
          2,
          1,
          1,
          2,
          1,
          1,
          1,
          1,
          1,
          1,
          2,
          1,
          1,
          1,
          1,
          1,
          1,
          2,
          1,
          1,
          4,
          1,
          1,
          2,
          1,
          1,
          2,
          1,
          1,
          1,
          1,
          1,
          1,
          1,
          1,
          1,
          1,
          1,
          1,
          1,
          1,
          1,
          1,
          1
         ],
         "yaxis": "y",
         "type": "scatter"
        }
       ],
       "layout": {
        "template": {
         "data": {
          "histogram2dcontour": [
           {
            "type": "histogram2dcontour",
            "colorbar": {
             "outlinewidth": 0,
             "ticks": ""
            },
            "colorscale": [
             [
              0.0,
              "#0d0887"
             ],
             [
              0.1111111111111111,
              "#46039f"
             ],
             [
              0.2222222222222222,
              "#7201a8"
             ],
             [
              0.3333333333333333,
              "#9c179e"
             ],
             [
              0.4444444444444444,
              "#bd3786"
             ],
             [
              0.5555555555555556,
              "#d8576b"
             ],
             [
              0.6666666666666666,
              "#ed7953"
             ],
             [
              0.7777777777777778,
              "#fb9f3a"
             ],
             [
              0.8888888888888888,
              "#fdca26"
             ],
             [
              1.0,
              "#f0f921"
             ]
            ]
           }
          ],
          "choropleth": [
           {
            "type": "choropleth",
            "colorbar": {
             "outlinewidth": 0,
             "ticks": ""
            }
           }
          ],
          "histogram2d": [
           {
            "type": "histogram2d",
            "colorbar": {
             "outlinewidth": 0,
             "ticks": ""
            },
            "colorscale": [
             [
              0.0,
              "#0d0887"
             ],
             [
              0.1111111111111111,
              "#46039f"
             ],
             [
              0.2222222222222222,
              "#7201a8"
             ],
             [
              0.3333333333333333,
              "#9c179e"
             ],
             [
              0.4444444444444444,
              "#bd3786"
             ],
             [
              0.5555555555555556,
              "#d8576b"
             ],
             [
              0.6666666666666666,
              "#ed7953"
             ],
             [
              0.7777777777777778,
              "#fb9f3a"
             ],
             [
              0.8888888888888888,
              "#fdca26"
             ],
             [
              1.0,
              "#f0f921"
             ]
            ]
           }
          ],
          "heatmap": [
           {
            "type": "heatmap",
            "colorbar": {
             "outlinewidth": 0,
             "ticks": ""
            },
            "colorscale": [
             [
              0.0,
              "#0d0887"
             ],
             [
              0.1111111111111111,
              "#46039f"
             ],
             [
              0.2222222222222222,
              "#7201a8"
             ],
             [
              0.3333333333333333,
              "#9c179e"
             ],
             [
              0.4444444444444444,
              "#bd3786"
             ],
             [
              0.5555555555555556,
              "#d8576b"
             ],
             [
              0.6666666666666666,
              "#ed7953"
             ],
             [
              0.7777777777777778,
              "#fb9f3a"
             ],
             [
              0.8888888888888888,
              "#fdca26"
             ],
             [
              1.0,
              "#f0f921"
             ]
            ]
           }
          ],
          "heatmapgl": [
           {
            "type": "heatmapgl",
            "colorbar": {
             "outlinewidth": 0,
             "ticks": ""
            },
            "colorscale": [
             [
              0.0,
              "#0d0887"
             ],
             [
              0.1111111111111111,
              "#46039f"
             ],
             [
              0.2222222222222222,
              "#7201a8"
             ],
             [
              0.3333333333333333,
              "#9c179e"
             ],
             [
              0.4444444444444444,
              "#bd3786"
             ],
             [
              0.5555555555555556,
              "#d8576b"
             ],
             [
              0.6666666666666666,
              "#ed7953"
             ],
             [
              0.7777777777777778,
              "#fb9f3a"
             ],
             [
              0.8888888888888888,
              "#fdca26"
             ],
             [
              1.0,
              "#f0f921"
             ]
            ]
           }
          ],
          "contourcarpet": [
           {
            "type": "contourcarpet",
            "colorbar": {
             "outlinewidth": 0,
             "ticks": ""
            }
           }
          ],
          "contour": [
           {
            "type": "contour",
            "colorbar": {
             "outlinewidth": 0,
             "ticks": ""
            },
            "colorscale": [
             [
              0.0,
              "#0d0887"
             ],
             [
              0.1111111111111111,
              "#46039f"
             ],
             [
              0.2222222222222222,
              "#7201a8"
             ],
             [
              0.3333333333333333,
              "#9c179e"
             ],
             [
              0.4444444444444444,
              "#bd3786"
             ],
             [
              0.5555555555555556,
              "#d8576b"
             ],
             [
              0.6666666666666666,
              "#ed7953"
             ],
             [
              0.7777777777777778,
              "#fb9f3a"
             ],
             [
              0.8888888888888888,
              "#fdca26"
             ],
             [
              1.0,
              "#f0f921"
             ]
            ]
           }
          ],
          "surface": [
           {
            "type": "surface",
            "colorbar": {
             "outlinewidth": 0,
             "ticks": ""
            },
            "colorscale": [
             [
              0.0,
              "#0d0887"
             ],
             [
              0.1111111111111111,
              "#46039f"
             ],
             [
              0.2222222222222222,
              "#7201a8"
             ],
             [
              0.3333333333333333,
              "#9c179e"
             ],
             [
              0.4444444444444444,
              "#bd3786"
             ],
             [
              0.5555555555555556,
              "#d8576b"
             ],
             [
              0.6666666666666666,
              "#ed7953"
             ],
             [
              0.7777777777777778,
              "#fb9f3a"
             ],
             [
              0.8888888888888888,
              "#fdca26"
             ],
             [
              1.0,
              "#f0f921"
             ]
            ]
           }
          ],
          "mesh3d": [
           {
            "type": "mesh3d",
            "colorbar": {
             "outlinewidth": 0,
             "ticks": ""
            }
           }
          ],
          "scatter": [
           {
            "marker": {
             "line": {
              "color": "#283442"
             }
            },
            "type": "scatter"
           }
          ],
          "parcoords": [
           {
            "type": "parcoords",
            "line": {
             "colorbar": {
              "outlinewidth": 0,
              "ticks": ""
             }
            }
           }
          ],
          "scatterpolargl": [
           {
            "type": "scatterpolargl",
            "marker": {
             "colorbar": {
              "outlinewidth": 0,
              "ticks": ""
             }
            }
           }
          ],
          "bar": [
           {
            "error_x": {
             "color": "#f2f5fa"
            },
            "error_y": {
             "color": "#f2f5fa"
            },
            "marker": {
             "line": {
              "color": "rgb(17,17,17)",
              "width": 0.5
             },
             "pattern": {
              "fillmode": "overlay",
              "size": 10,
              "solidity": 0.2
             }
            },
            "type": "bar"
           }
          ],
          "scattergeo": [
           {
            "type": "scattergeo",
            "marker": {
             "colorbar": {
              "outlinewidth": 0,
              "ticks": ""
             }
            }
           }
          ],
          "scatterpolar": [
           {
            "type": "scatterpolar",
            "marker": {
             "colorbar": {
              "outlinewidth": 0,
              "ticks": ""
             }
            }
           }
          ],
          "histogram": [
           {
            "marker": {
             "pattern": {
              "fillmode": "overlay",
              "size": 10,
              "solidity": 0.2
             }
            },
            "type": "histogram"
           }
          ],
          "scattergl": [
           {
            "marker": {
             "line": {
              "color": "#283442"
             }
            },
            "type": "scattergl"
           }
          ],
          "scatter3d": [
           {
            "type": "scatter3d",
            "line": {
             "colorbar": {
              "outlinewidth": 0,
              "ticks": ""
             }
            },
            "marker": {
             "colorbar": {
              "outlinewidth": 0,
              "ticks": ""
             }
            }
           }
          ],
          "scattermapbox": [
           {
            "type": "scattermapbox",
            "marker": {
             "colorbar": {
              "outlinewidth": 0,
              "ticks": ""
             }
            }
           }
          ],
          "scatterternary": [
           {
            "type": "scatterternary",
            "marker": {
             "colorbar": {
              "outlinewidth": 0,
              "ticks": ""
             }
            }
           }
          ],
          "scattercarpet": [
           {
            "type": "scattercarpet",
            "marker": {
             "colorbar": {
              "outlinewidth": 0,
              "ticks": ""
             }
            }
           }
          ],
          "carpet": [
           {
            "aaxis": {
             "endlinecolor": "#A2B1C6",
             "gridcolor": "#506784",
             "linecolor": "#506784",
             "minorgridcolor": "#506784",
             "startlinecolor": "#A2B1C6"
            },
            "baxis": {
             "endlinecolor": "#A2B1C6",
             "gridcolor": "#506784",
             "linecolor": "#506784",
             "minorgridcolor": "#506784",
             "startlinecolor": "#A2B1C6"
            },
            "type": "carpet"
           }
          ],
          "table": [
           {
            "cells": {
             "fill": {
              "color": "#506784"
             },
             "line": {
              "color": "rgb(17,17,17)"
             }
            },
            "header": {
             "fill": {
              "color": "#2a3f5f"
             },
             "line": {
              "color": "rgb(17,17,17)"
             }
            },
            "type": "table"
           }
          ],
          "barpolar": [
           {
            "marker": {
             "line": {
              "color": "rgb(17,17,17)",
              "width": 0.5
             },
             "pattern": {
              "fillmode": "overlay",
              "size": 10,
              "solidity": 0.2
             }
            },
            "type": "barpolar"
           }
          ],
          "pie": [
           {
            "automargin": true,
            "type": "pie"
           }
          ]
         },
         "layout": {
          "autotypenumbers": "strict",
          "colorway": [
           "#636efa",
           "#EF553B",
           "#00cc96",
           "#ab63fa",
           "#FFA15A",
           "#19d3f3",
           "#FF6692",
           "#B6E880",
           "#FF97FF",
           "#FECB52"
          ],
          "font": {
           "color": "#f2f5fa"
          },
          "hovermode": "closest",
          "hoverlabel": {
           "align": "left"
          },
          "paper_bgcolor": "rgb(17,17,17)",
          "plot_bgcolor": "rgb(17,17,17)",
          "polar": {
           "bgcolor": "rgb(17,17,17)",
           "angularaxis": {
            "gridcolor": "#506784",
            "linecolor": "#506784",
            "ticks": ""
           },
           "radialaxis": {
            "gridcolor": "#506784",
            "linecolor": "#506784",
            "ticks": ""
           }
          },
          "ternary": {
           "bgcolor": "rgb(17,17,17)",
           "aaxis": {
            "gridcolor": "#506784",
            "linecolor": "#506784",
            "ticks": ""
           },
           "baxis": {
            "gridcolor": "#506784",
            "linecolor": "#506784",
            "ticks": ""
           },
           "caxis": {
            "gridcolor": "#506784",
            "linecolor": "#506784",
            "ticks": ""
           }
          },
          "coloraxis": {
           "colorbar": {
            "outlinewidth": 0,
            "ticks": ""
           }
          },
          "colorscale": {
           "sequential": [
            [
             0.0,
             "#0d0887"
            ],
            [
             0.1111111111111111,
             "#46039f"
            ],
            [
             0.2222222222222222,
             "#7201a8"
            ],
            [
             0.3333333333333333,
             "#9c179e"
            ],
            [
             0.4444444444444444,
             "#bd3786"
            ],
            [
             0.5555555555555556,
             "#d8576b"
            ],
            [
             0.6666666666666666,
             "#ed7953"
            ],
            [
             0.7777777777777778,
             "#fb9f3a"
            ],
            [
             0.8888888888888888,
             "#fdca26"
            ],
            [
             1.0,
             "#f0f921"
            ]
           ],
           "sequentialminus": [
            [
             0.0,
             "#0d0887"
            ],
            [
             0.1111111111111111,
             "#46039f"
            ],
            [
             0.2222222222222222,
             "#7201a8"
            ],
            [
             0.3333333333333333,
             "#9c179e"
            ],
            [
             0.4444444444444444,
             "#bd3786"
            ],
            [
             0.5555555555555556,
             "#d8576b"
            ],
            [
             0.6666666666666666,
             "#ed7953"
            ],
            [
             0.7777777777777778,
             "#fb9f3a"
            ],
            [
             0.8888888888888888,
             "#fdca26"
            ],
            [
             1.0,
             "#f0f921"
            ]
           ],
           "diverging": [
            [
             0,
             "#8e0152"
            ],
            [
             0.1,
             "#c51b7d"
            ],
            [
             0.2,
             "#de77ae"
            ],
            [
             0.3,
             "#f1b6da"
            ],
            [
             0.4,
             "#fde0ef"
            ],
            [
             0.5,
             "#f7f7f7"
            ],
            [
             0.6,
             "#e6f5d0"
            ],
            [
             0.7,
             "#b8e186"
            ],
            [
             0.8,
             "#7fbc41"
            ],
            [
             0.9,
             "#4d9221"
            ],
            [
             1,
             "#276419"
            ]
           ]
          },
          "xaxis": {
           "gridcolor": "#283442",
           "linecolor": "#506784",
           "ticks": "",
           "title": {
            "standoff": 15
           },
           "zerolinecolor": "#283442",
           "automargin": true,
           "zerolinewidth": 2
          },
          "yaxis": {
           "gridcolor": "#283442",
           "linecolor": "#506784",
           "ticks": "",
           "title": {
            "standoff": 15
           },
           "zerolinecolor": "#283442",
           "automargin": true,
           "zerolinewidth": 2
          },
          "scene": {
           "xaxis": {
            "backgroundcolor": "rgb(17,17,17)",
            "gridcolor": "#506784",
            "linecolor": "#506784",
            "showbackground": true,
            "ticks": "",
            "zerolinecolor": "#C8D4E3",
            "gridwidth": 2
           },
           "yaxis": {
            "backgroundcolor": "rgb(17,17,17)",
            "gridcolor": "#506784",
            "linecolor": "#506784",
            "showbackground": true,
            "ticks": "",
            "zerolinecolor": "#C8D4E3",
            "gridwidth": 2
           },
           "zaxis": {
            "backgroundcolor": "rgb(17,17,17)",
            "gridcolor": "#506784",
            "linecolor": "#506784",
            "showbackground": true,
            "ticks": "",
            "zerolinecolor": "#C8D4E3",
            "gridwidth": 2
           }
          },
          "shapedefaults": {
           "line": {
            "color": "#f2f5fa"
           }
          },
          "annotationdefaults": {
           "arrowcolor": "#f2f5fa",
           "arrowhead": 0,
           "arrowwidth": 1
          },
          "geo": {
           "bgcolor": "rgb(17,17,17)",
           "landcolor": "rgb(17,17,17)",
           "subunitcolor": "#506784",
           "showland": true,
           "showlakes": true,
           "lakecolor": "rgb(17,17,17)"
          },
          "title": {
           "x": 0.05
          },
          "updatemenudefaults": {
           "bgcolor": "#506784",
           "borderwidth": 0
          },
          "sliderdefaults": {
           "bgcolor": "#C8D4E3",
           "borderwidth": 1,
           "bordercolor": "rgb(17,17,17)",
           "tickwidth": 0
          },
          "mapbox": {
           "style": "dark"
          }
         }
        },
        "xaxis": {
         "anchor": "y",
         "domain": [
          0.0,
          1.0
         ],
         "title": {
          "text": "Tag count"
         }
        },
        "yaxis": {
         "anchor": "x",
         "domain": [
          0.0,
          1.0
         ],
         "title": {
          "text": "Post count"
         }
        },
        "legend": {
         "title": {
          "text": "variable"
         },
         "tracegroupgap": 0
        },
        "margin": {
         "t": 60
        },
        "title": {
         "text": "Number of posts with tag count",
         "x": 0.5
        },
        "showlegend": false
       },
       "config": {
        "plotlyServerURL": "https://plot.ly"
       }
      },
      "text/html": "<div>                            <div id=\"4112c85f-e810-4cdb-bc46-3a633fd0fb33\" class=\"plotly-graph-div\" style=\"height:525px; width:100%;\"></div>            <script type=\"text/javascript\">                require([\"plotly\"], function(Plotly) {                    window.PLOTLYENV=window.PLOTLYENV || {};                                    if (document.getElementById(\"4112c85f-e810-4cdb-bc46-3a633fd0fb33\")) {                    Plotly.newPlot(                        \"4112c85f-e810-4cdb-bc46-3a633fd0fb33\",                        [{\"hovertemplate\":\"variable=count<br>index=%{x}<br>value=%{y}<extra></extra>\",\"legendgroup\":\"count\",\"marker\":{\"color\":\"#636efa\",\"symbol\":\"circle\"},\"mode\":\"markers\",\"name\":\"count\",\"orientation\":\"v\",\"showlegend\":true,\"x\":[38,35,32,15,34,30,31,33,67,21,24,65,13,20,23,58,47,28,48,37,41,17,43,40,29,18,22,16,42,25,19,27,52,36,26,51,12,44,56,46,62,53,45,75,57,90,39,84,85,73,68,69,50,11,71,78,14,61,60,63,114,54,55,74,77,66,9,105,64,59,128,8,49,10,123,70,97,191,72,104,76,92,6,89,122,86,113,82,81,7,140,103,80,148,88,83,126,5,137,102,147,91,106,125,115,139,79,4,96,154,144,151,98,138,235,119,216,101,100,134,95,194,197,158,110,112,111,93,99,87,206,94,127,109,155,121,129,172,162,120,165,169,153,116,160,117,723,107,159,280,167,118,143,182,486,304,136,124,296,135,131,132,142,196,184,133,233,272,226,3,166,242,249,108,130,282,179,181,145,278,171,223,200,379,199,141,309,229,222,248,161,294,381,192,152,163,157,186,232,189,149,246,164,168,205,2,177,146,207,175,224,183,150,209,574,221,219,220,170,217,276,1,185,178,230,949,247,250,268,270,225,336,488,364,204,374,176,382,243,156,387,283,384,190,313,332,340,211,187,301,274,273,174,589,208,203,311,271,383,338,298,193,239,798,244,921,441,520,286,253,180,237,471,252,446,411,188,372,251,269,318,254,195,497,245,343,510,201,348,464,228,329,202,267,504,218,284,489,344,260,321,502,473,214,262,316,397,380,210,212,300,238,297,377,536,173,213,234,635,265,362,264,255,279,500,420,292,281,495,324,350,528,570,236,241,263,198,275,606,371,366,306,337,355,493,725,277,312,330,315,305,261,353,386,467,418,215,749,370,331,240,512,391,290,231,612,575,256,328,307,310,405,347,552,938,532,352,299,430,363,963,460,746,319,400,302,293,443,365,484,375,333,776,351,291,388,295,650,805,601,361,289,561,523,555,287,285,775,788,579,433,335,403,463,401,288,422,360,735,303,751,452,514,356,359,429,345,227,320,485,266,438,385,259,325,346,543,480,389,398,772,369,573,358,445,540,416,317,373,1150,580],\"xaxis\":\"x\",\"y\":[107124,123438,137525,89682,128077,145567,141828,133038,9625,145612,154427,11681,61672,139623,153334,22857,60000,151285,55389,112675,90861,113697,79689,96001,149509,123685,149986,102806,85607,154942,130893,153919,39413,118478,155379,43298,49142,74796,27490,64679,15519,36210,69430,4647,25094,1325,101623,2137,1962,5565,8761,8022,47149,37381,6637,3588,75412,17053,18550,14244,303,33181,30385,4956,3929,10600,17381,468,12731,20718,140,9302,50938,26344,182,7387,821,15,6161,468,4245,1158,2145,1480,183,1841,298,2566,2835,4114,63,546,2986,69,1563,2355,162,1212,102,571,72,1205,460,179,260,78,3287,590,863,51,63,56,723,66,7,222,8,608,661,104,923,22,13,51,358,312,351,1031,713,1612,15,945,151,396,48,210,123,24,40,195,28,34,53,228,36,238,1,412,45,5,37,225,80,22,1,3,113,169,5,97,144,128,80,11,23,110,9,7,10,235,27,7,4,425,134,8,26,23,67,2,20,8,14,3,10,74,3,5,6,5,54,4,1,14,67,39,42,20,8,21,72,3,34,29,5,36,27,75,11,22,10,21,56,7,1,10,6,11,18,10,4,8,18,19,6,1,4,4,5,5,4,2,2,2,10,1,23,1,4,58,2,6,1,19,1,2,1,8,15,2,2,5,30,1,23,14,3,4,1,3,3,17,4,1,5,1,1,1,3,4,19,4,1,5,1,2,16,4,3,2,3,1,8,1,2,2,1,21,2,3,6,2,11,8,1,8,4,1,2,2,1,1,1,6,7,5,2,2,6,6,1,5,2,4,1,21,14,4,1,5,1,3,5,3,1,1,2,2,1,4,4,1,1,7,6,2,9,2,1,1,1,4,2,5,2,1,3,2,1,1,4,2,1,2,1,2,8,1,3,2,2,1,1,2,4,1,1,2,2,3,1,1,1,1,1,1,3,1,1,2,1,1,1,2,1,1,3,2,2,1,2,2,1,2,3,1,2,1,1,1,3,1,1,1,1,2,1,2,1,1,2,1,1,1,1,1,1,2,1,1,1,1,1,1,2,1,1,4,1,1,2,1,1,2,1,1,1,1,1,1,1,1,1,1,1,1,1,1,1,1,1],\"yaxis\":\"y\",\"type\":\"scatter\"}],                        {\"template\":{\"data\":{\"histogram2dcontour\":[{\"type\":\"histogram2dcontour\",\"colorbar\":{\"outlinewidth\":0,\"ticks\":\"\"},\"colorscale\":[[0.0,\"#0d0887\"],[0.1111111111111111,\"#46039f\"],[0.2222222222222222,\"#7201a8\"],[0.3333333333333333,\"#9c179e\"],[0.4444444444444444,\"#bd3786\"],[0.5555555555555556,\"#d8576b\"],[0.6666666666666666,\"#ed7953\"],[0.7777777777777778,\"#fb9f3a\"],[0.8888888888888888,\"#fdca26\"],[1.0,\"#f0f921\"]]}],\"choropleth\":[{\"type\":\"choropleth\",\"colorbar\":{\"outlinewidth\":0,\"ticks\":\"\"}}],\"histogram2d\":[{\"type\":\"histogram2d\",\"colorbar\":{\"outlinewidth\":0,\"ticks\":\"\"},\"colorscale\":[[0.0,\"#0d0887\"],[0.1111111111111111,\"#46039f\"],[0.2222222222222222,\"#7201a8\"],[0.3333333333333333,\"#9c179e\"],[0.4444444444444444,\"#bd3786\"],[0.5555555555555556,\"#d8576b\"],[0.6666666666666666,\"#ed7953\"],[0.7777777777777778,\"#fb9f3a\"],[0.8888888888888888,\"#fdca26\"],[1.0,\"#f0f921\"]]}],\"heatmap\":[{\"type\":\"heatmap\",\"colorbar\":{\"outlinewidth\":0,\"ticks\":\"\"},\"colorscale\":[[0.0,\"#0d0887\"],[0.1111111111111111,\"#46039f\"],[0.2222222222222222,\"#7201a8\"],[0.3333333333333333,\"#9c179e\"],[0.4444444444444444,\"#bd3786\"],[0.5555555555555556,\"#d8576b\"],[0.6666666666666666,\"#ed7953\"],[0.7777777777777778,\"#fb9f3a\"],[0.8888888888888888,\"#fdca26\"],[1.0,\"#f0f921\"]]}],\"heatmapgl\":[{\"type\":\"heatmapgl\",\"colorbar\":{\"outlinewidth\":0,\"ticks\":\"\"},\"colorscale\":[[0.0,\"#0d0887\"],[0.1111111111111111,\"#46039f\"],[0.2222222222222222,\"#7201a8\"],[0.3333333333333333,\"#9c179e\"],[0.4444444444444444,\"#bd3786\"],[0.5555555555555556,\"#d8576b\"],[0.6666666666666666,\"#ed7953\"],[0.7777777777777778,\"#fb9f3a\"],[0.8888888888888888,\"#fdca26\"],[1.0,\"#f0f921\"]]}],\"contourcarpet\":[{\"type\":\"contourcarpet\",\"colorbar\":{\"outlinewidth\":0,\"ticks\":\"\"}}],\"contour\":[{\"type\":\"contour\",\"colorbar\":{\"outlinewidth\":0,\"ticks\":\"\"},\"colorscale\":[[0.0,\"#0d0887\"],[0.1111111111111111,\"#46039f\"],[0.2222222222222222,\"#7201a8\"],[0.3333333333333333,\"#9c179e\"],[0.4444444444444444,\"#bd3786\"],[0.5555555555555556,\"#d8576b\"],[0.6666666666666666,\"#ed7953\"],[0.7777777777777778,\"#fb9f3a\"],[0.8888888888888888,\"#fdca26\"],[1.0,\"#f0f921\"]]}],\"surface\":[{\"type\":\"surface\",\"colorbar\":{\"outlinewidth\":0,\"ticks\":\"\"},\"colorscale\":[[0.0,\"#0d0887\"],[0.1111111111111111,\"#46039f\"],[0.2222222222222222,\"#7201a8\"],[0.3333333333333333,\"#9c179e\"],[0.4444444444444444,\"#bd3786\"],[0.5555555555555556,\"#d8576b\"],[0.6666666666666666,\"#ed7953\"],[0.7777777777777778,\"#fb9f3a\"],[0.8888888888888888,\"#fdca26\"],[1.0,\"#f0f921\"]]}],\"mesh3d\":[{\"type\":\"mesh3d\",\"colorbar\":{\"outlinewidth\":0,\"ticks\":\"\"}}],\"scatter\":[{\"marker\":{\"line\":{\"color\":\"#283442\"}},\"type\":\"scatter\"}],\"parcoords\":[{\"type\":\"parcoords\",\"line\":{\"colorbar\":{\"outlinewidth\":0,\"ticks\":\"\"}}}],\"scatterpolargl\":[{\"type\":\"scatterpolargl\",\"marker\":{\"colorbar\":{\"outlinewidth\":0,\"ticks\":\"\"}}}],\"bar\":[{\"error_x\":{\"color\":\"#f2f5fa\"},\"error_y\":{\"color\":\"#f2f5fa\"},\"marker\":{\"line\":{\"color\":\"rgb(17,17,17)\",\"width\":0.5},\"pattern\":{\"fillmode\":\"overlay\",\"size\":10,\"solidity\":0.2}},\"type\":\"bar\"}],\"scattergeo\":[{\"type\":\"scattergeo\",\"marker\":{\"colorbar\":{\"outlinewidth\":0,\"ticks\":\"\"}}}],\"scatterpolar\":[{\"type\":\"scatterpolar\",\"marker\":{\"colorbar\":{\"outlinewidth\":0,\"ticks\":\"\"}}}],\"histogram\":[{\"marker\":{\"pattern\":{\"fillmode\":\"overlay\",\"size\":10,\"solidity\":0.2}},\"type\":\"histogram\"}],\"scattergl\":[{\"marker\":{\"line\":{\"color\":\"#283442\"}},\"type\":\"scattergl\"}],\"scatter3d\":[{\"type\":\"scatter3d\",\"line\":{\"colorbar\":{\"outlinewidth\":0,\"ticks\":\"\"}},\"marker\":{\"colorbar\":{\"outlinewidth\":0,\"ticks\":\"\"}}}],\"scattermapbox\":[{\"type\":\"scattermapbox\",\"marker\":{\"colorbar\":{\"outlinewidth\":0,\"ticks\":\"\"}}}],\"scatterternary\":[{\"type\":\"scatterternary\",\"marker\":{\"colorbar\":{\"outlinewidth\":0,\"ticks\":\"\"}}}],\"scattercarpet\":[{\"type\":\"scattercarpet\",\"marker\":{\"colorbar\":{\"outlinewidth\":0,\"ticks\":\"\"}}}],\"carpet\":[{\"aaxis\":{\"endlinecolor\":\"#A2B1C6\",\"gridcolor\":\"#506784\",\"linecolor\":\"#506784\",\"minorgridcolor\":\"#506784\",\"startlinecolor\":\"#A2B1C6\"},\"baxis\":{\"endlinecolor\":\"#A2B1C6\",\"gridcolor\":\"#506784\",\"linecolor\":\"#506784\",\"minorgridcolor\":\"#506784\",\"startlinecolor\":\"#A2B1C6\"},\"type\":\"carpet\"}],\"table\":[{\"cells\":{\"fill\":{\"color\":\"#506784\"},\"line\":{\"color\":\"rgb(17,17,17)\"}},\"header\":{\"fill\":{\"color\":\"#2a3f5f\"},\"line\":{\"color\":\"rgb(17,17,17)\"}},\"type\":\"table\"}],\"barpolar\":[{\"marker\":{\"line\":{\"color\":\"rgb(17,17,17)\",\"width\":0.5},\"pattern\":{\"fillmode\":\"overlay\",\"size\":10,\"solidity\":0.2}},\"type\":\"barpolar\"}],\"pie\":[{\"automargin\":true,\"type\":\"pie\"}]},\"layout\":{\"autotypenumbers\":\"strict\",\"colorway\":[\"#636efa\",\"#EF553B\",\"#00cc96\",\"#ab63fa\",\"#FFA15A\",\"#19d3f3\",\"#FF6692\",\"#B6E880\",\"#FF97FF\",\"#FECB52\"],\"font\":{\"color\":\"#f2f5fa\"},\"hovermode\":\"closest\",\"hoverlabel\":{\"align\":\"left\"},\"paper_bgcolor\":\"rgb(17,17,17)\",\"plot_bgcolor\":\"rgb(17,17,17)\",\"polar\":{\"bgcolor\":\"rgb(17,17,17)\",\"angularaxis\":{\"gridcolor\":\"#506784\",\"linecolor\":\"#506784\",\"ticks\":\"\"},\"radialaxis\":{\"gridcolor\":\"#506784\",\"linecolor\":\"#506784\",\"ticks\":\"\"}},\"ternary\":{\"bgcolor\":\"rgb(17,17,17)\",\"aaxis\":{\"gridcolor\":\"#506784\",\"linecolor\":\"#506784\",\"ticks\":\"\"},\"baxis\":{\"gridcolor\":\"#506784\",\"linecolor\":\"#506784\",\"ticks\":\"\"},\"caxis\":{\"gridcolor\":\"#506784\",\"linecolor\":\"#506784\",\"ticks\":\"\"}},\"coloraxis\":{\"colorbar\":{\"outlinewidth\":0,\"ticks\":\"\"}},\"colorscale\":{\"sequential\":[[0.0,\"#0d0887\"],[0.1111111111111111,\"#46039f\"],[0.2222222222222222,\"#7201a8\"],[0.3333333333333333,\"#9c179e\"],[0.4444444444444444,\"#bd3786\"],[0.5555555555555556,\"#d8576b\"],[0.6666666666666666,\"#ed7953\"],[0.7777777777777778,\"#fb9f3a\"],[0.8888888888888888,\"#fdca26\"],[1.0,\"#f0f921\"]],\"sequentialminus\":[[0.0,\"#0d0887\"],[0.1111111111111111,\"#46039f\"],[0.2222222222222222,\"#7201a8\"],[0.3333333333333333,\"#9c179e\"],[0.4444444444444444,\"#bd3786\"],[0.5555555555555556,\"#d8576b\"],[0.6666666666666666,\"#ed7953\"],[0.7777777777777778,\"#fb9f3a\"],[0.8888888888888888,\"#fdca26\"],[1.0,\"#f0f921\"]],\"diverging\":[[0,\"#8e0152\"],[0.1,\"#c51b7d\"],[0.2,\"#de77ae\"],[0.3,\"#f1b6da\"],[0.4,\"#fde0ef\"],[0.5,\"#f7f7f7\"],[0.6,\"#e6f5d0\"],[0.7,\"#b8e186\"],[0.8,\"#7fbc41\"],[0.9,\"#4d9221\"],[1,\"#276419\"]]},\"xaxis\":{\"gridcolor\":\"#283442\",\"linecolor\":\"#506784\",\"ticks\":\"\",\"title\":{\"standoff\":15},\"zerolinecolor\":\"#283442\",\"automargin\":true,\"zerolinewidth\":2},\"yaxis\":{\"gridcolor\":\"#283442\",\"linecolor\":\"#506784\",\"ticks\":\"\",\"title\":{\"standoff\":15},\"zerolinecolor\":\"#283442\",\"automargin\":true,\"zerolinewidth\":2},\"scene\":{\"xaxis\":{\"backgroundcolor\":\"rgb(17,17,17)\",\"gridcolor\":\"#506784\",\"linecolor\":\"#506784\",\"showbackground\":true,\"ticks\":\"\",\"zerolinecolor\":\"#C8D4E3\",\"gridwidth\":2},\"yaxis\":{\"backgroundcolor\":\"rgb(17,17,17)\",\"gridcolor\":\"#506784\",\"linecolor\":\"#506784\",\"showbackground\":true,\"ticks\":\"\",\"zerolinecolor\":\"#C8D4E3\",\"gridwidth\":2},\"zaxis\":{\"backgroundcolor\":\"rgb(17,17,17)\",\"gridcolor\":\"#506784\",\"linecolor\":\"#506784\",\"showbackground\":true,\"ticks\":\"\",\"zerolinecolor\":\"#C8D4E3\",\"gridwidth\":2}},\"shapedefaults\":{\"line\":{\"color\":\"#f2f5fa\"}},\"annotationdefaults\":{\"arrowcolor\":\"#f2f5fa\",\"arrowhead\":0,\"arrowwidth\":1},\"geo\":{\"bgcolor\":\"rgb(17,17,17)\",\"landcolor\":\"rgb(17,17,17)\",\"subunitcolor\":\"#506784\",\"showland\":true,\"showlakes\":true,\"lakecolor\":\"rgb(17,17,17)\"},\"title\":{\"x\":0.05},\"updatemenudefaults\":{\"bgcolor\":\"#506784\",\"borderwidth\":0},\"sliderdefaults\":{\"bgcolor\":\"#C8D4E3\",\"borderwidth\":1,\"bordercolor\":\"rgb(17,17,17)\",\"tickwidth\":0},\"mapbox\":{\"style\":\"dark\"}}},\"xaxis\":{\"anchor\":\"y\",\"domain\":[0.0,1.0],\"title\":{\"text\":\"Tag count\"}},\"yaxis\":{\"anchor\":\"x\",\"domain\":[0.0,1.0],\"title\":{\"text\":\"Post count\"}},\"legend\":{\"title\":{\"text\":\"variable\"},\"tracegroupgap\":0},\"margin\":{\"t\":60},\"title\":{\"text\":\"Number of posts with tag count\",\"x\":0.5},\"showlegend\":false},                        {\"responsive\": true}                    ).then(function(){\n                            \nvar gd = document.getElementById('4112c85f-e810-4cdb-bc46-3a633fd0fb33');\nvar x = new MutationObserver(function (mutations, observer) {{\n        var display = window.getComputedStyle(gd).display;\n        if (!display || display === 'none') {{\n            console.log([gd, 'removed!']);\n            Plotly.purge(gd);\n            observer.disconnect();\n        }}\n}});\n\n// Listen for the removal of the full notebook cells\nvar notebookContainer = gd.closest('#notebook-container');\nif (notebookContainer) {{\n    x.observe(notebookContainer, {childList: true});\n}}\n\n// Listen for the clearing of the current output cell\nvar outputEl = gd.closest('.output');\nif (outputEl) {{\n    x.observe(outputEl, {childList: true});\n}}\n\n                        })                };                });            </script>        </div>"
     },
     "metadata": {},
     "output_type": "display_data"
    }
   ],
   "source": [
    "post_tag_counts_df = pd.DataFrame(post_tag_counts, index=[\"count\"]).T\n",
    "plot(\"post_tag_counts\", px.scatter(post_tag_counts_df).update_layout(\n",
    "    title=\"Number of posts with tag count\",\n",
    "    xaxis_title=\"Tag count\",\n",
    "    yaxis_title=\"Post count\",\n",
    "    showlegend=False,\n",
    "))"
   ],
   "metadata": {
    "collapsed": false
   }
  },
  {
   "cell_type": "code",
   "execution_count": 51,
   "outputs": [],
   "source": [
    "post_tag_count_cutoff = 200"
   ],
   "metadata": {
    "collapsed": false
   }
  },
  {
   "cell_type": "code",
   "execution_count": 52,
   "outputs": [],
   "source": [
    "# Post tag count against time.\n",
    "post_tag_counts_and_time = [\n",
    "    {\n",
    "        \"created_at\": timestamp_to_date(post[\"created_at\"]),\n",
    "        \"tag_count\": len(post[\"tags\"]),\n",
    "    }\n",
    "    for post in posts.values()\n",
    "]"
   ],
   "metadata": {
    "collapsed": false
   }
  },
  {
   "cell_type": "code",
   "execution_count": 53,
   "outputs": [],
   "source": [
    "post_tag_counts_and_time_df = pd.DataFrame(post_tag_counts_and_time)\n",
    "post_tag_counts_and_time_df = post_tag_counts_and_time_df.resample(\"1W\", on=\"created_at\").mean()"
   ],
   "metadata": {
    "collapsed": false
   }
  },
  {
   "cell_type": "code",
   "execution_count": 95,
   "outputs": [
    {
     "data": {
      "application/vnd.plotly.v1+json": {
       "data": [
        {
         "hovertemplate": "variable=tag_count<br>created_at=%{x}<br>value=%{y}<extra></extra>",
         "legendgroup": "tag_count",
         "marker": {
          "color": "#636efa",
          "symbol": "circle"
         },
         "mode": "markers",
         "name": "tag_count",
         "orientation": "v",
         "showlegend": true,
         "x": [
          "2005-05-29T00:00:00",
          "2005-06-05T00:00:00",
          "2005-06-12T00:00:00",
          "2005-06-19T00:00:00",
          "2005-06-26T00:00:00",
          "2005-07-03T00:00:00",
          "2005-07-10T00:00:00",
          "2005-07-17T00:00:00",
          "2005-07-24T00:00:00",
          "2005-07-31T00:00:00",
          "2005-08-07T00:00:00",
          "2005-08-14T00:00:00",
          "2005-08-21T00:00:00",
          "2005-08-28T00:00:00",
          "2005-09-04T00:00:00",
          "2005-09-11T00:00:00",
          "2005-09-18T00:00:00",
          "2005-09-25T00:00:00",
          "2005-10-02T00:00:00",
          "2005-10-09T00:00:00",
          "2005-10-16T00:00:00",
          "2005-10-23T00:00:00",
          "2005-10-30T00:00:00",
          "2005-11-06T00:00:00",
          "2005-11-13T00:00:00",
          "2005-11-20T00:00:00",
          "2005-11-27T00:00:00",
          "2005-12-04T00:00:00",
          "2005-12-11T00:00:00",
          "2005-12-18T00:00:00",
          "2005-12-25T00:00:00",
          "2006-01-01T00:00:00",
          "2006-01-08T00:00:00",
          "2006-01-15T00:00:00",
          "2006-01-22T00:00:00",
          "2006-01-29T00:00:00",
          "2006-02-05T00:00:00",
          "2006-02-12T00:00:00",
          "2006-02-19T00:00:00",
          "2006-02-26T00:00:00",
          "2006-03-05T00:00:00",
          "2006-03-12T00:00:00",
          "2006-03-19T00:00:00",
          "2006-03-26T00:00:00",
          "2006-04-02T00:00:00",
          "2006-04-09T00:00:00",
          "2006-04-16T00:00:00",
          "2006-04-23T00:00:00",
          "2006-04-30T00:00:00",
          "2006-05-07T00:00:00",
          "2006-05-14T00:00:00",
          "2006-05-21T00:00:00",
          "2006-05-28T00:00:00",
          "2006-06-04T00:00:00",
          "2006-06-11T00:00:00",
          "2006-06-18T00:00:00",
          "2006-06-25T00:00:00",
          "2006-07-02T00:00:00",
          "2006-07-09T00:00:00",
          "2006-07-16T00:00:00",
          "2006-07-23T00:00:00",
          "2006-07-30T00:00:00",
          "2006-08-06T00:00:00",
          "2006-08-13T00:00:00",
          "2006-08-20T00:00:00",
          "2006-08-27T00:00:00",
          "2006-09-03T00:00:00",
          "2006-09-10T00:00:00",
          "2006-09-17T00:00:00",
          "2006-09-24T00:00:00",
          "2006-10-01T00:00:00",
          "2006-10-08T00:00:00",
          "2006-10-15T00:00:00",
          "2006-10-22T00:00:00",
          "2006-10-29T00:00:00",
          "2006-11-05T00:00:00",
          "2006-11-12T00:00:00",
          "2006-11-19T00:00:00",
          "2006-11-26T00:00:00",
          "2006-12-03T00:00:00",
          "2006-12-10T00:00:00",
          "2006-12-17T00:00:00",
          "2006-12-24T00:00:00",
          "2006-12-31T00:00:00",
          "2007-01-07T00:00:00",
          "2007-01-14T00:00:00",
          "2007-01-21T00:00:00",
          "2007-01-28T00:00:00",
          "2007-02-04T00:00:00",
          "2007-02-11T00:00:00",
          "2007-02-18T00:00:00",
          "2007-02-25T00:00:00",
          "2007-03-04T00:00:00",
          "2007-03-11T00:00:00",
          "2007-03-18T00:00:00",
          "2007-03-25T00:00:00",
          "2007-04-01T00:00:00",
          "2007-04-08T00:00:00",
          "2007-04-15T00:00:00",
          "2007-04-22T00:00:00",
          "2007-04-29T00:00:00",
          "2007-05-06T00:00:00",
          "2007-05-13T00:00:00",
          "2007-05-20T00:00:00",
          "2007-05-27T00:00:00",
          "2007-06-03T00:00:00",
          "2007-06-10T00:00:00",
          "2007-06-17T00:00:00",
          "2007-06-24T00:00:00",
          "2007-07-01T00:00:00",
          "2007-07-08T00:00:00",
          "2007-07-15T00:00:00",
          "2007-07-22T00:00:00",
          "2007-07-29T00:00:00",
          "2007-08-05T00:00:00",
          "2007-08-12T00:00:00",
          "2007-08-19T00:00:00",
          "2007-08-26T00:00:00",
          "2007-09-02T00:00:00",
          "2007-09-09T00:00:00",
          "2007-09-16T00:00:00",
          "2007-09-23T00:00:00",
          "2007-09-30T00:00:00",
          "2007-10-07T00:00:00",
          "2007-10-14T00:00:00",
          "2007-10-21T00:00:00",
          "2007-10-28T00:00:00",
          "2007-11-04T00:00:00",
          "2007-11-11T00:00:00",
          "2007-11-18T00:00:00",
          "2007-11-25T00:00:00",
          "2007-12-02T00:00:00",
          "2007-12-09T00:00:00",
          "2007-12-16T00:00:00",
          "2007-12-23T00:00:00",
          "2007-12-30T00:00:00",
          "2008-01-06T00:00:00",
          "2008-01-13T00:00:00",
          "2008-01-20T00:00:00",
          "2008-01-27T00:00:00",
          "2008-02-03T00:00:00",
          "2008-02-10T00:00:00",
          "2008-02-17T00:00:00",
          "2008-02-24T00:00:00",
          "2008-03-02T00:00:00",
          "2008-03-09T00:00:00",
          "2008-03-16T00:00:00",
          "2008-03-23T00:00:00",
          "2008-03-30T00:00:00",
          "2008-04-06T00:00:00",
          "2008-04-13T00:00:00",
          "2008-04-20T00:00:00",
          "2008-04-27T00:00:00",
          "2008-05-04T00:00:00",
          "2008-05-11T00:00:00",
          "2008-05-18T00:00:00",
          "2008-05-25T00:00:00",
          "2008-06-01T00:00:00",
          "2008-06-08T00:00:00",
          "2008-06-15T00:00:00",
          "2008-06-22T00:00:00",
          "2008-06-29T00:00:00",
          "2008-07-06T00:00:00",
          "2008-07-13T00:00:00",
          "2008-07-20T00:00:00",
          "2008-07-27T00:00:00",
          "2008-08-03T00:00:00",
          "2008-08-10T00:00:00",
          "2008-08-17T00:00:00",
          "2008-08-24T00:00:00",
          "2008-08-31T00:00:00",
          "2008-09-07T00:00:00",
          "2008-09-14T00:00:00",
          "2008-09-21T00:00:00",
          "2008-09-28T00:00:00",
          "2008-10-05T00:00:00",
          "2008-10-12T00:00:00",
          "2008-10-19T00:00:00",
          "2008-10-26T00:00:00",
          "2008-11-02T00:00:00",
          "2008-11-09T00:00:00",
          "2008-11-16T00:00:00",
          "2008-11-23T00:00:00",
          "2008-11-30T00:00:00",
          "2008-12-07T00:00:00",
          "2008-12-14T00:00:00",
          "2008-12-21T00:00:00",
          "2008-12-28T00:00:00",
          "2009-01-04T00:00:00",
          "2009-01-11T00:00:00",
          "2009-01-18T00:00:00",
          "2009-01-25T00:00:00",
          "2009-02-01T00:00:00",
          "2009-02-08T00:00:00",
          "2009-02-15T00:00:00",
          "2009-02-22T00:00:00",
          "2009-03-01T00:00:00",
          "2009-03-08T00:00:00",
          "2009-03-15T00:00:00",
          "2009-03-22T00:00:00",
          "2009-03-29T00:00:00",
          "2009-04-05T00:00:00",
          "2009-04-12T00:00:00",
          "2009-04-19T00:00:00",
          "2009-04-26T00:00:00",
          "2009-05-03T00:00:00",
          "2009-05-10T00:00:00",
          "2009-05-17T00:00:00",
          "2009-05-24T00:00:00",
          "2009-05-31T00:00:00",
          "2009-06-07T00:00:00",
          "2009-06-14T00:00:00",
          "2009-06-21T00:00:00",
          "2009-06-28T00:00:00",
          "2009-07-05T00:00:00",
          "2009-07-12T00:00:00",
          "2009-07-19T00:00:00",
          "2009-07-26T00:00:00",
          "2009-08-02T00:00:00",
          "2009-08-09T00:00:00",
          "2009-08-16T00:00:00",
          "2009-08-23T00:00:00",
          "2009-08-30T00:00:00",
          "2009-09-06T00:00:00",
          "2009-09-13T00:00:00",
          "2009-09-20T00:00:00",
          "2009-09-27T00:00:00",
          "2009-10-04T00:00:00",
          "2009-10-11T00:00:00",
          "2009-10-18T00:00:00",
          "2009-10-25T00:00:00",
          "2009-11-01T00:00:00",
          "2009-11-08T00:00:00",
          "2009-11-15T00:00:00",
          "2009-11-22T00:00:00",
          "2009-11-29T00:00:00",
          "2009-12-06T00:00:00",
          "2009-12-13T00:00:00",
          "2009-12-20T00:00:00",
          "2009-12-27T00:00:00",
          "2010-01-03T00:00:00",
          "2010-01-10T00:00:00",
          "2010-01-17T00:00:00",
          "2010-01-24T00:00:00",
          "2010-01-31T00:00:00",
          "2010-02-07T00:00:00",
          "2010-02-14T00:00:00",
          "2010-02-21T00:00:00",
          "2010-02-28T00:00:00",
          "2010-03-07T00:00:00",
          "2010-03-14T00:00:00",
          "2010-03-21T00:00:00",
          "2010-03-28T00:00:00",
          "2010-04-04T00:00:00",
          "2010-04-11T00:00:00",
          "2010-04-18T00:00:00",
          "2010-04-25T00:00:00",
          "2010-05-02T00:00:00",
          "2010-05-09T00:00:00",
          "2010-05-16T00:00:00",
          "2010-05-23T00:00:00",
          "2010-05-30T00:00:00",
          "2010-06-06T00:00:00",
          "2010-06-13T00:00:00",
          "2010-06-20T00:00:00",
          "2010-06-27T00:00:00",
          "2010-07-04T00:00:00",
          "2010-07-11T00:00:00",
          "2010-07-18T00:00:00",
          "2010-07-25T00:00:00",
          "2010-08-01T00:00:00",
          "2010-08-08T00:00:00",
          "2010-08-15T00:00:00",
          "2010-08-22T00:00:00",
          "2010-08-29T00:00:00",
          "2010-09-05T00:00:00",
          "2010-09-12T00:00:00",
          "2010-09-19T00:00:00",
          "2010-09-26T00:00:00",
          "2010-10-03T00:00:00",
          "2010-10-10T00:00:00",
          "2010-10-17T00:00:00",
          "2010-10-24T00:00:00",
          "2010-10-31T00:00:00",
          "2010-11-07T00:00:00",
          "2010-11-14T00:00:00",
          "2010-11-21T00:00:00",
          "2010-11-28T00:00:00",
          "2010-12-05T00:00:00",
          "2010-12-12T00:00:00",
          "2010-12-19T00:00:00",
          "2010-12-26T00:00:00",
          "2011-01-02T00:00:00",
          "2011-01-09T00:00:00",
          "2011-01-16T00:00:00",
          "2011-01-23T00:00:00",
          "2011-01-30T00:00:00",
          "2011-02-06T00:00:00",
          "2011-02-13T00:00:00",
          "2011-02-20T00:00:00",
          "2011-02-27T00:00:00",
          "2011-03-06T00:00:00",
          "2011-03-13T00:00:00",
          "2011-03-20T00:00:00",
          "2011-03-27T00:00:00",
          "2011-04-03T00:00:00",
          "2011-04-10T00:00:00",
          "2011-04-17T00:00:00",
          "2011-04-24T00:00:00",
          "2011-05-01T00:00:00",
          "2011-05-08T00:00:00",
          "2011-05-15T00:00:00",
          "2011-05-22T00:00:00",
          "2011-05-29T00:00:00",
          "2011-06-05T00:00:00",
          "2011-06-12T00:00:00",
          "2011-06-19T00:00:00",
          "2011-06-26T00:00:00",
          "2011-07-03T00:00:00",
          "2011-07-10T00:00:00",
          "2011-07-17T00:00:00",
          "2011-07-24T00:00:00",
          "2011-07-31T00:00:00",
          "2011-08-07T00:00:00",
          "2011-08-14T00:00:00",
          "2011-08-21T00:00:00",
          "2011-08-28T00:00:00",
          "2011-09-04T00:00:00",
          "2011-09-11T00:00:00",
          "2011-09-18T00:00:00",
          "2011-09-25T00:00:00",
          "2011-10-02T00:00:00",
          "2011-10-09T00:00:00",
          "2011-10-16T00:00:00",
          "2011-10-23T00:00:00",
          "2011-10-30T00:00:00",
          "2011-11-06T00:00:00",
          "2011-11-13T00:00:00",
          "2011-11-20T00:00:00",
          "2011-11-27T00:00:00",
          "2011-12-04T00:00:00",
          "2011-12-11T00:00:00",
          "2011-12-18T00:00:00",
          "2011-12-25T00:00:00",
          "2012-01-01T00:00:00",
          "2012-01-08T00:00:00",
          "2012-01-15T00:00:00",
          "2012-01-22T00:00:00",
          "2012-01-29T00:00:00",
          "2012-02-05T00:00:00",
          "2012-02-12T00:00:00",
          "2012-02-19T00:00:00",
          "2012-02-26T00:00:00",
          "2012-03-04T00:00:00",
          "2012-03-11T00:00:00",
          "2012-03-18T00:00:00",
          "2012-03-25T00:00:00",
          "2012-04-01T00:00:00",
          "2012-04-08T00:00:00",
          "2012-04-15T00:00:00",
          "2012-04-22T00:00:00",
          "2012-04-29T00:00:00",
          "2012-05-06T00:00:00",
          "2012-05-13T00:00:00",
          "2012-05-20T00:00:00",
          "2012-05-27T00:00:00",
          "2012-06-03T00:00:00",
          "2012-06-10T00:00:00",
          "2012-06-17T00:00:00",
          "2012-06-24T00:00:00",
          "2012-07-01T00:00:00",
          "2012-07-08T00:00:00",
          "2012-07-15T00:00:00",
          "2012-07-22T00:00:00",
          "2012-07-29T00:00:00",
          "2012-08-05T00:00:00",
          "2012-08-12T00:00:00",
          "2012-08-19T00:00:00",
          "2012-08-26T00:00:00",
          "2012-09-02T00:00:00",
          "2012-09-09T00:00:00",
          "2012-09-16T00:00:00",
          "2012-09-23T00:00:00",
          "2012-09-30T00:00:00",
          "2012-10-07T00:00:00",
          "2012-10-14T00:00:00",
          "2012-10-21T00:00:00",
          "2012-10-28T00:00:00",
          "2012-11-04T00:00:00",
          "2012-11-11T00:00:00",
          "2012-11-18T00:00:00",
          "2012-11-25T00:00:00",
          "2012-12-02T00:00:00",
          "2012-12-09T00:00:00",
          "2012-12-16T00:00:00",
          "2012-12-23T00:00:00",
          "2012-12-30T00:00:00",
          "2013-01-06T00:00:00",
          "2013-01-13T00:00:00",
          "2013-01-20T00:00:00",
          "2013-01-27T00:00:00",
          "2013-02-03T00:00:00",
          "2013-02-10T00:00:00",
          "2013-02-17T00:00:00",
          "2013-02-24T00:00:00",
          "2013-03-03T00:00:00",
          "2013-03-10T00:00:00",
          "2013-03-17T00:00:00",
          "2013-03-24T00:00:00",
          "2013-03-31T00:00:00",
          "2013-04-07T00:00:00",
          "2013-04-14T00:00:00",
          "2013-04-21T00:00:00",
          "2013-04-28T00:00:00",
          "2013-05-05T00:00:00",
          "2013-05-12T00:00:00",
          "2013-05-19T00:00:00",
          "2013-05-26T00:00:00",
          "2013-06-02T00:00:00",
          "2013-06-09T00:00:00",
          "2013-06-16T00:00:00",
          "2013-06-23T00:00:00",
          "2013-06-30T00:00:00",
          "2013-07-07T00:00:00",
          "2013-07-14T00:00:00",
          "2013-07-21T00:00:00",
          "2013-07-28T00:00:00",
          "2013-08-04T00:00:00",
          "2013-08-11T00:00:00",
          "2013-08-18T00:00:00",
          "2013-08-25T00:00:00",
          "2013-09-01T00:00:00",
          "2013-09-08T00:00:00",
          "2013-09-15T00:00:00",
          "2013-09-22T00:00:00",
          "2013-09-29T00:00:00",
          "2013-10-06T00:00:00",
          "2013-10-13T00:00:00",
          "2013-10-20T00:00:00",
          "2013-10-27T00:00:00",
          "2013-11-03T00:00:00",
          "2013-11-10T00:00:00",
          "2013-11-17T00:00:00",
          "2013-11-24T00:00:00",
          "2013-12-01T00:00:00",
          "2013-12-08T00:00:00",
          "2013-12-15T00:00:00",
          "2013-12-22T00:00:00",
          "2013-12-29T00:00:00",
          "2014-01-05T00:00:00",
          "2014-01-12T00:00:00",
          "2014-01-19T00:00:00",
          "2014-01-26T00:00:00",
          "2014-02-02T00:00:00",
          "2014-02-09T00:00:00",
          "2014-02-16T00:00:00",
          "2014-02-23T00:00:00",
          "2014-03-02T00:00:00",
          "2014-03-09T00:00:00",
          "2014-03-16T00:00:00",
          "2014-03-23T00:00:00",
          "2014-03-30T00:00:00",
          "2014-04-06T00:00:00",
          "2014-04-13T00:00:00",
          "2014-04-20T00:00:00",
          "2014-04-27T00:00:00",
          "2014-05-04T00:00:00",
          "2014-05-11T00:00:00",
          "2014-05-18T00:00:00",
          "2014-05-25T00:00:00",
          "2014-06-01T00:00:00",
          "2014-06-08T00:00:00",
          "2014-06-15T00:00:00",
          "2014-06-22T00:00:00",
          "2014-06-29T00:00:00",
          "2014-07-06T00:00:00",
          "2014-07-13T00:00:00",
          "2014-07-20T00:00:00",
          "2014-07-27T00:00:00",
          "2014-08-03T00:00:00",
          "2014-08-10T00:00:00",
          "2014-08-17T00:00:00",
          "2014-08-24T00:00:00",
          "2014-08-31T00:00:00",
          "2014-09-07T00:00:00",
          "2014-09-14T00:00:00",
          "2014-09-21T00:00:00",
          "2014-09-28T00:00:00",
          "2014-10-05T00:00:00",
          "2014-10-12T00:00:00",
          "2014-10-19T00:00:00",
          "2014-10-26T00:00:00",
          "2014-11-02T00:00:00",
          "2014-11-09T00:00:00",
          "2014-11-16T00:00:00",
          "2014-11-23T00:00:00",
          "2014-11-30T00:00:00",
          "2014-12-07T00:00:00",
          "2014-12-14T00:00:00",
          "2014-12-21T00:00:00",
          "2014-12-28T00:00:00",
          "2015-01-04T00:00:00",
          "2015-01-11T00:00:00",
          "2015-01-18T00:00:00",
          "2015-01-25T00:00:00",
          "2015-02-01T00:00:00",
          "2015-02-08T00:00:00",
          "2015-02-15T00:00:00",
          "2015-02-22T00:00:00",
          "2015-03-01T00:00:00",
          "2015-03-08T00:00:00",
          "2015-03-15T00:00:00",
          "2015-03-22T00:00:00",
          "2015-03-29T00:00:00",
          "2015-04-05T00:00:00",
          "2015-04-12T00:00:00",
          "2015-04-19T00:00:00",
          "2015-04-26T00:00:00",
          "2015-05-03T00:00:00",
          "2015-05-10T00:00:00",
          "2015-05-17T00:00:00",
          "2015-05-24T00:00:00",
          "2015-05-31T00:00:00",
          "2015-06-07T00:00:00",
          "2015-06-14T00:00:00",
          "2015-06-21T00:00:00",
          "2015-06-28T00:00:00",
          "2015-07-05T00:00:00",
          "2015-07-12T00:00:00",
          "2015-07-19T00:00:00",
          "2015-07-26T00:00:00",
          "2015-08-02T00:00:00",
          "2015-08-09T00:00:00",
          "2015-08-16T00:00:00",
          "2015-08-23T00:00:00",
          "2015-08-30T00:00:00",
          "2015-09-06T00:00:00",
          "2015-09-13T00:00:00",
          "2015-09-20T00:00:00",
          "2015-09-27T00:00:00",
          "2015-10-04T00:00:00",
          "2015-10-11T00:00:00",
          "2015-10-18T00:00:00",
          "2015-10-25T00:00:00",
          "2015-11-01T00:00:00",
          "2015-11-08T00:00:00",
          "2015-11-15T00:00:00",
          "2015-11-22T00:00:00",
          "2015-11-29T00:00:00",
          "2015-12-06T00:00:00",
          "2015-12-13T00:00:00",
          "2015-12-20T00:00:00",
          "2015-12-27T00:00:00",
          "2016-01-03T00:00:00",
          "2016-01-10T00:00:00",
          "2016-01-17T00:00:00",
          "2016-01-24T00:00:00",
          "2016-01-31T00:00:00",
          "2016-02-07T00:00:00",
          "2016-02-14T00:00:00",
          "2016-02-21T00:00:00",
          "2016-02-28T00:00:00",
          "2016-03-06T00:00:00",
          "2016-03-13T00:00:00",
          "2016-03-20T00:00:00",
          "2016-03-27T00:00:00",
          "2016-04-03T00:00:00",
          "2016-04-10T00:00:00",
          "2016-04-17T00:00:00",
          "2016-04-24T00:00:00",
          "2016-05-01T00:00:00",
          "2016-05-08T00:00:00",
          "2016-05-15T00:00:00",
          "2016-05-22T00:00:00",
          "2016-05-29T00:00:00",
          "2016-06-05T00:00:00",
          "2016-06-12T00:00:00",
          "2016-06-19T00:00:00",
          "2016-06-26T00:00:00",
          "2016-07-03T00:00:00",
          "2016-07-10T00:00:00",
          "2016-07-17T00:00:00",
          "2016-07-24T00:00:00",
          "2016-07-31T00:00:00",
          "2016-08-07T00:00:00",
          "2016-08-14T00:00:00",
          "2016-08-21T00:00:00",
          "2016-08-28T00:00:00",
          "2016-09-04T00:00:00",
          "2016-09-11T00:00:00",
          "2016-09-18T00:00:00",
          "2016-09-25T00:00:00",
          "2016-10-02T00:00:00",
          "2016-10-09T00:00:00",
          "2016-10-16T00:00:00",
          "2016-10-23T00:00:00",
          "2016-10-30T00:00:00",
          "2016-11-06T00:00:00",
          "2016-11-13T00:00:00",
          "2016-11-20T00:00:00",
          "2016-11-27T00:00:00",
          "2016-12-04T00:00:00",
          "2016-12-11T00:00:00",
          "2016-12-18T00:00:00",
          "2016-12-25T00:00:00",
          "2017-01-01T00:00:00",
          "2017-01-08T00:00:00",
          "2017-01-15T00:00:00",
          "2017-01-22T00:00:00",
          "2017-01-29T00:00:00",
          "2017-02-05T00:00:00",
          "2017-02-12T00:00:00",
          "2017-02-19T00:00:00",
          "2017-02-26T00:00:00",
          "2017-03-05T00:00:00",
          "2017-03-12T00:00:00",
          "2017-03-19T00:00:00",
          "2017-03-26T00:00:00",
          "2017-04-02T00:00:00",
          "2017-04-09T00:00:00",
          "2017-04-16T00:00:00",
          "2017-04-23T00:00:00",
          "2017-04-30T00:00:00",
          "2017-05-07T00:00:00",
          "2017-05-14T00:00:00",
          "2017-05-21T00:00:00",
          "2017-05-28T00:00:00",
          "2017-06-04T00:00:00",
          "2017-06-11T00:00:00",
          "2017-06-18T00:00:00",
          "2017-06-25T00:00:00",
          "2017-07-02T00:00:00",
          "2017-07-09T00:00:00",
          "2017-07-16T00:00:00",
          "2017-07-23T00:00:00",
          "2017-07-30T00:00:00",
          "2017-08-06T00:00:00",
          "2017-08-13T00:00:00",
          "2017-08-20T00:00:00",
          "2017-08-27T00:00:00",
          "2017-09-03T00:00:00",
          "2017-09-10T00:00:00",
          "2017-09-17T00:00:00",
          "2017-09-24T00:00:00",
          "2017-10-01T00:00:00",
          "2017-10-08T00:00:00",
          "2017-10-15T00:00:00",
          "2017-10-22T00:00:00",
          "2017-10-29T00:00:00",
          "2017-11-05T00:00:00",
          "2017-11-12T00:00:00",
          "2017-11-19T00:00:00",
          "2017-11-26T00:00:00",
          "2017-12-03T00:00:00",
          "2017-12-10T00:00:00",
          "2017-12-17T00:00:00",
          "2017-12-24T00:00:00",
          "2017-12-31T00:00:00",
          "2018-01-07T00:00:00",
          "2018-01-14T00:00:00",
          "2018-01-21T00:00:00",
          "2018-01-28T00:00:00",
          "2018-02-04T00:00:00",
          "2018-02-11T00:00:00",
          "2018-02-18T00:00:00",
          "2018-02-25T00:00:00",
          "2018-03-04T00:00:00",
          "2018-03-11T00:00:00",
          "2018-03-18T00:00:00",
          "2018-03-25T00:00:00",
          "2018-04-01T00:00:00",
          "2018-04-08T00:00:00",
          "2018-04-15T00:00:00",
          "2018-04-22T00:00:00",
          "2018-04-29T00:00:00",
          "2018-05-06T00:00:00",
          "2018-05-13T00:00:00",
          "2018-05-20T00:00:00",
          "2018-05-27T00:00:00",
          "2018-06-03T00:00:00",
          "2018-06-10T00:00:00",
          "2018-06-17T00:00:00",
          "2018-06-24T00:00:00",
          "2018-07-01T00:00:00",
          "2018-07-08T00:00:00",
          "2018-07-15T00:00:00",
          "2018-07-22T00:00:00",
          "2018-07-29T00:00:00",
          "2018-08-05T00:00:00",
          "2018-08-12T00:00:00",
          "2018-08-19T00:00:00",
          "2018-08-26T00:00:00",
          "2018-09-02T00:00:00",
          "2018-09-09T00:00:00",
          "2018-09-16T00:00:00",
          "2018-09-23T00:00:00",
          "2018-09-30T00:00:00",
          "2018-10-07T00:00:00",
          "2018-10-14T00:00:00",
          "2018-10-21T00:00:00",
          "2018-10-28T00:00:00",
          "2018-11-04T00:00:00",
          "2018-11-11T00:00:00",
          "2018-11-18T00:00:00",
          "2018-11-25T00:00:00",
          "2018-12-02T00:00:00",
          "2018-12-09T00:00:00",
          "2018-12-16T00:00:00",
          "2018-12-23T00:00:00",
          "2018-12-30T00:00:00",
          "2019-01-06T00:00:00",
          "2019-01-13T00:00:00",
          "2019-01-20T00:00:00",
          "2019-01-27T00:00:00",
          "2019-02-03T00:00:00",
          "2019-02-10T00:00:00",
          "2019-02-17T00:00:00",
          "2019-02-24T00:00:00",
          "2019-03-03T00:00:00",
          "2019-03-10T00:00:00",
          "2019-03-17T00:00:00",
          "2019-03-24T00:00:00",
          "2019-03-31T00:00:00",
          "2019-04-07T00:00:00",
          "2019-04-14T00:00:00",
          "2019-04-21T00:00:00",
          "2019-04-28T00:00:00",
          "2019-05-05T00:00:00",
          "2019-05-12T00:00:00",
          "2019-05-19T00:00:00",
          "2019-05-26T00:00:00",
          "2019-06-02T00:00:00",
          "2019-06-09T00:00:00",
          "2019-06-16T00:00:00",
          "2019-06-23T00:00:00",
          "2019-06-30T00:00:00",
          "2019-07-07T00:00:00",
          "2019-07-14T00:00:00",
          "2019-07-21T00:00:00",
          "2019-07-28T00:00:00",
          "2019-08-04T00:00:00",
          "2019-08-11T00:00:00",
          "2019-08-18T00:00:00",
          "2019-08-25T00:00:00",
          "2019-09-01T00:00:00",
          "2019-09-08T00:00:00",
          "2019-09-15T00:00:00",
          "2019-09-22T00:00:00",
          "2019-09-29T00:00:00",
          "2019-10-06T00:00:00",
          "2019-10-13T00:00:00",
          "2019-10-20T00:00:00",
          "2019-10-27T00:00:00",
          "2019-11-03T00:00:00",
          "2019-11-10T00:00:00",
          "2019-11-17T00:00:00",
          "2019-11-24T00:00:00",
          "2019-12-01T00:00:00",
          "2019-12-08T00:00:00",
          "2019-12-15T00:00:00",
          "2019-12-22T00:00:00",
          "2019-12-29T00:00:00",
          "2020-01-05T00:00:00",
          "2020-01-12T00:00:00",
          "2020-01-19T00:00:00",
          "2020-01-26T00:00:00",
          "2020-02-02T00:00:00",
          "2020-02-09T00:00:00",
          "2020-02-16T00:00:00",
          "2020-02-23T00:00:00",
          "2020-03-01T00:00:00",
          "2020-03-08T00:00:00",
          "2020-03-15T00:00:00",
          "2020-03-22T00:00:00",
          "2020-03-29T00:00:00",
          "2020-04-05T00:00:00",
          "2020-04-12T00:00:00",
          "2020-04-19T00:00:00",
          "2020-04-26T00:00:00",
          "2020-05-03T00:00:00",
          "2020-05-10T00:00:00",
          "2020-05-17T00:00:00",
          "2020-05-24T00:00:00",
          "2020-05-31T00:00:00",
          "2020-06-07T00:00:00",
          "2020-06-14T00:00:00",
          "2020-06-21T00:00:00",
          "2020-06-28T00:00:00",
          "2020-07-05T00:00:00",
          "2020-07-12T00:00:00",
          "2020-07-19T00:00:00",
          "2020-07-26T00:00:00",
          "2020-08-02T00:00:00",
          "2020-08-09T00:00:00",
          "2020-08-16T00:00:00",
          "2020-08-23T00:00:00",
          "2020-08-30T00:00:00",
          "2020-09-06T00:00:00",
          "2020-09-13T00:00:00",
          "2020-09-20T00:00:00",
          "2020-09-27T00:00:00",
          "2020-10-04T00:00:00",
          "2020-10-11T00:00:00",
          "2020-10-18T00:00:00",
          "2020-10-25T00:00:00",
          "2020-11-01T00:00:00",
          "2020-11-08T00:00:00",
          "2020-11-15T00:00:00",
          "2020-11-22T00:00:00",
          "2020-11-29T00:00:00",
          "2020-12-06T00:00:00",
          "2020-12-13T00:00:00",
          "2020-12-20T00:00:00",
          "2020-12-27T00:00:00",
          "2021-01-03T00:00:00",
          "2021-01-10T00:00:00",
          "2021-01-17T00:00:00",
          "2021-01-24T00:00:00",
          "2021-01-31T00:00:00",
          "2021-02-07T00:00:00",
          "2021-02-14T00:00:00",
          "2021-02-21T00:00:00",
          "2021-02-28T00:00:00",
          "2021-03-07T00:00:00",
          "2021-03-14T00:00:00",
          "2021-03-21T00:00:00",
          "2021-03-28T00:00:00",
          "2021-04-04T00:00:00",
          "2021-04-11T00:00:00",
          "2021-04-18T00:00:00",
          "2021-04-25T00:00:00",
          "2021-05-02T00:00:00",
          "2021-05-09T00:00:00",
          "2021-05-16T00:00:00",
          "2021-05-23T00:00:00",
          "2021-05-30T00:00:00",
          "2021-06-06T00:00:00",
          "2021-06-13T00:00:00",
          "2021-06-20T00:00:00",
          "2021-06-27T00:00:00",
          "2021-07-04T00:00:00",
          "2021-07-11T00:00:00",
          "2021-07-18T00:00:00",
          "2021-07-25T00:00:00",
          "2021-08-01T00:00:00",
          "2021-08-08T00:00:00",
          "2021-08-15T00:00:00",
          "2021-08-22T00:00:00",
          "2021-08-29T00:00:00",
          "2021-09-05T00:00:00",
          "2021-09-12T00:00:00",
          "2021-09-19T00:00:00",
          "2021-09-26T00:00:00",
          "2021-10-03T00:00:00",
          "2021-10-10T00:00:00",
          "2021-10-17T00:00:00",
          "2021-10-24T00:00:00",
          "2021-10-31T00:00:00",
          "2021-11-07T00:00:00",
          "2021-11-14T00:00:00",
          "2021-11-21T00:00:00",
          "2021-11-28T00:00:00",
          "2021-12-05T00:00:00",
          "2021-12-12T00:00:00",
          "2021-12-19T00:00:00",
          "2021-12-26T00:00:00",
          "2022-01-02T00:00:00",
          "2022-01-09T00:00:00"
         ],
         "xaxis": "x",
         "y": [
          28.5746835443038,
          27.384297520661157,
          25.762820512820515,
          25.31622746185853,
          25.009248554913295,
          25.025862068965516,
          23.813583815028903,
          23.218673218673217,
          24.08211678832117,
          24.85282258064516,
          24.016501650165015,
          25.969314079422382,
          22.96719160104987,
          21.101289134438307,
          22.134765625,
          22.992957746478872,
          22.052459016393442,
          23.382857142857144,
          22.576923076923077,
          21.503957783641162,
          23.786206896551725,
          24.381418092909534,
          23.460773480662983,
          23.66933867735471,
          23.007481296758105,
          23.163636363636364,
          22.292857142857144,
          24.644913627639156,
          24.82232346241458,
          23.599109131403118,
          23.742857142857144,
          23.956947162426616,
          23.139344262295083,
          24.842512077294685,
          21.8311209439528,
          25.046511627906977,
          21.664728682170544,
          23.28652321630804,
          23.192145862552593,
          23.019417475728154,
          22.042687193841846,
          23.59305210918114,
          19.326910299003323,
          22.298331697742885,
          23.45965270684372,
          22.577992744860943,
          22.925498426023086,
          21.407990314769975,
          21.768568353067813,
          21.105646630236794,
          20.975970425138634,
          21.033175355450236,
          20.801972062448645,
          21.62513661202186,
          24.43159922928709,
          22.468452895419187,
          22.273628048780488,
          23.97142857142857,
          21.751923076923077,
          21.985897435897435,
          22.641768292682926,
          24.745247148288975,
          22.9375,
          22.87534321801208,
          21.93001261034048,
          22.183108587650818,
          23.949367088607595,
          21.112845990063875,
          22.402560455192035,
          22.378031383737518,
          23.068350668647845,
          22.729492798998123,
          22.799346405228757,
          21.694792671166827,
          22.559825960841188,
          21.096521739130434,
          21.063467492260063,
          21.242214532871973,
          22.252467105263158,
          22.87037037037037,
          21.335173501577287,
          22.22495606326889,
          21.11373873873874,
          20.749861033907727,
          21.52858060372511,
          22.211469534050178,
          22.032569974554708,
          22.408362989323845,
          21.57151589242054,
          21.262461402734893,
          22.116599910992434,
          21.577444682369737,
          20.46909090909091,
          19.752369668246445,
          19.931185944363104,
          20.283236994219653,
          20.316270566727606,
          20.172043010752688,
          21.247244094488188,
          21.187707641196013,
          19.75072463768116,
          20.596649484536083,
          20.943714821763603,
          19.536496350364963,
          20.525352112676057,
          20.910714285714285,
          20.592539454806314,
          19.852941176470587,
          19.902552204176335,
          21.15688775510204,
          20.799336650082918,
          20.64848484848485,
          20.056375838926176,
          22.316062176165804,
          21.22093023255814,
          22.419600380589916,
          19.78985507246377,
          19.853018372703414,
          21.366701791359326,
          20.380434782608695,
          21.520793950850663,
          22.256124721603562,
          22.083289404322613,
          21.573141486810552,
          22.314643188137165,
          22.24021164021164,
          21.980068060281965,
          22.267674858223064,
          21.104545454545455,
          21.24889342866871,
          21.248337028824835,
          20.73137417218543,
          20.87104430379747,
          20.881286982248522,
          20.453534031413614,
          21.182267531665122,
          20.29046052631579,
          20.546420006851662,
          21.408339076498965,
          20.962075848303392,
          22.158593231585932,
          21.348091603053437,
          20.818664169787766,
          21.50181488203267,
          20.44734360264068,
          20.647169811320754,
          20.9821875,
          21.93063063063063,
          22.252380952380953,
          20.335064935064935,
          22.147445624683865,
          20.74099441907661,
          21.29984817813765,
          20.95359394703657,
          21.283046396264954,
          22.182185067742864,
          21.730850316233308,
          21.319136350192252,
          22.076221828310963,
          22.297855648535563,
          21.37893296853625,
          21.443437671609004,
          21.28241123038811,
          21.40105078809107,
          21.690159574468087,
          22.353571428571428,
          22.78062283737024,
          22.284986413043477,
          22.970114268971578,
          22.32190047793084,
          22.512327981651374,
          21.366631523458093,
          22.271061338763044,
          22.68208638187397,
          22.231599607458293,
          22.387138429752067,
          22.703675538656526,
          21.840169356972744,
          22.4242355605889,
          22.08830424589737,
          22.241549876339654,
          21.898441698011823,
          21.647267206477732,
          21.423851550124464,
          21.772459016393444,
          21.342798727850976,
          22.362283964121637,
          21.459374242056754,
          21.82056936647955,
          21.764292635658915,
          21.590396221464182,
          21.63371322554996,
          22.09835556934533,
          21.902680965147454,
          21.921313331446363,
          21.399588356365776,
          21.34439528023599,
          22.24814391776128,
          21.794396851122944,
          21.936025408348456,
          21.819429077229476,
          21.969780911609167,
          22.103594678743278,
          22.2240509689408,
          22.523626373626374,
          23.27765667574932,
          22.562368421052632,
          23.015550618851158,
          22.575119617224882,
          23.11722413254142,
          22.506670902160103,
          23.054839775355138,
          22.83163116428363,
          22.897741147741147,
          23.183732057416268,
          23.23437069677775,
          23.20075427908326,
          23.201322979580098,
          22.465892597968068,
          21.957668832447332,
          22.74376590330789,
          22.675688856376492,
          22.56,
          23.029714030384273,
          22.516689847009737,
          22.213697340550716,
          23.002423067603587,
          22.868751480691778,
          22.669954476479514,
          22.325189347666747,
          22.793129016312406,
          22.50607822410148,
          22.559887869520896,
          23.109358288770053,
          22.48915784165406,
          22.632618235007314,
          22.75836431226766,
          22.708615049073064,
          22.543155092078987,
          23.55230596175478,
          23.47869010353961,
          23.248356095093577,
          22.941272051996286,
          22.359229898074744,
          22.846296787894875,
          22.44170890658943,
          22.63914373088685,
          23.40537745604964,
          22.775853658536587,
          23.032750112157917,
          22.961788788578627,
          23.60268270120259,
          22.80922782691848,
          22.86381527158226,
          23.084787350054526,
          22.872432158255137,
          23.02728942534768,
          23.30334375751744,
          22.761772853185594,
          22.78858977525315,
          23.015448749386955,
          22.604862475442044,
          22.375302078298695,
          22.25262154432793,
          23.29293493437587,
          23.328549060542798,
          23.411455596426695,
          23.161939143888603,
          23.66318131256952,
          23.868159778342186,
          24.060579064587973,
          23.333683105981113,
          23.62540716612378,
          23.497226911020014,
          24.01090165796048,
          23.406445837063565,
          23.33220747889023,
          23.37158203125,
          23.801782273603084,
          23.83482035206173,
          23.345733041575492,
          23.073421439060205,
          23.48743595999024,
          23.505139500734213,
          23.309695719443013,
          23.005103411227505,
          22.983492391023987,
          23.439734532220083,
          23.38148058837714,
          23.860297332750328,
          23.16889912097112,
          23.485960689931808,
          23.283777874945343,
          23.591090691170596,
          23.890692217442314,
          22.785252755606233,
          23.96695156695157,
          23.857327665865828,
          23.823029045643153,
          24.37770775896022,
          24.218845500848897,
          24.3483989021043,
          23.574040586698814,
          23.366779932040775,
          25.03157670151483,
          25.48540706605223,
          25.654809843400447,
          25.384546068934444,
          25.15448439352035,
          24.577521008403362,
          24.811965811965813,
          24.749198520345253,
          25.54054054054054,
          24.49447646493756,
          25.14523413358688,
          25.00741981809478,
          25.4618866126727,
          25.005274019720247,
          25.05659945004583,
          24.857947875088048,
          25.21178154066301,
          25.576683291770575,
          25.221005154639176,
          26.155525846702318,
          26.297309941520467,
          26.489513609995537,
          25.946611909650922,
          26.240490542506755,
          26.631820265933058,
          25.811787072243344,
          25.96283783783784,
          25.779597256030094,
          26.412659902955447,
          26.022379032258065,
          26.154792899408285,
          26.442438402718775,
          25.528954958952742,
          25.10569993448351,
          24.92173491640417,
          25.579339963833636,
          26.00477267018337,
          26.3527950310559,
          26.21323367773137,
          26.214345637583893,
          26.39595002154244,
          25.801647785787846,
          25.288493874609657,
          25.373319544984486,
          25.746281714785653,
          25.961231962093475,
          25.4542469352014,
          25.78355061349693,
          26.4671305621681,
          25.58524622326859,
          25.89929742388759,
          26.326860841423947,
          26.13331988705123,
          26.244210935979762,
          26.22157320872274,
          26.816226071103006,
          26.233278658647713,
          25.642857142857142,
          25.880788177339902,
          26.066986644407347,
          25.705626888217523,
          25.549902996335415,
          25.84060643310797,
          26.152851388594446,
          25.922691637630663,
          26.174289008455034,
          26.175748752079866,
          26.196109567288605,
          26.43329278183293,
          25.527870062753784,
          26.35077115464777,
          26.086590296495956,
          26.416184971098264,
          26.746759346233326,
          26.64189048511347,
          25.788206754991602,
          26.329581103524635,
          26.379710144927536,
          26.210162213740457,
          27.21438988818668,
          25.700831024930746,
          26.329333673729895,
          25.974600394131816,
          26.386255924170616,
          27.500865693791738,
          26.004086021505376,
          26.128611556982342,
          26.483833268406702,
          26.871397336513617,
          26.789226726726728,
          26.829775974598693,
          27.36310718586913,
          27.552663195835002,
          26.94287109375,
          26.747606437156243,
          26.628207989288104,
          26.3338519671038,
          26.504195962803358,
          26.097496389022627,
          26.768268410577196,
          26.355222190772714,
          26.859393097058142,
          26.81977186311787,
          26.445646573930965,
          26.506939371804236,
          27.384877384196184,
          26.345866364665913,
          26.053844584947992,
          26.18009581881533,
          25.450835271727637,
          25.842177403563735,
          26.3390792942608,
          26.350832266325224,
          25.717023255813952,
          26.180404354587868,
          25.35304247990815,
          26.55845797345692,
          26.76074648773328,
          26.910550924984754,
          26.647457627118644,
          26.2472516075503,
          26.98196555217832,
          26.988388673864332,
          27.10966108297624,
          26.795872496935022,
          26.696767466110533,
          26.543259557344065,
          27.384615384615383,
          26.676939655172415,
          27.054696515116547,
          27.478368078906076,
          27.127719298245616,
          27.18509785427965,
          26.682867061466204,
          26.59358523725835,
          27.175010979358806,
          27.606366960636695,
          26.763219284603423,
          26.908163265306122,
          27.504269943761717,
          27.338354806739346,
          27.04598393574297,
          26.74359512809744,
          27.611586809983603,
          28.327521121696925,
          27.204050439434468,
          27.894103727075528,
          27.757344064386317,
          27.45829875518672,
          27.239191353082465,
          27.503982477100756,
          27.312090395480226,
          26.329606856716975,
          27.394411102775695,
          27.499823633156968,
          27.284302759134974,
          26.879124636690033,
          27.346693756926488,
          27.725167712616315,
          27.9419328079635,
          27.24519042010208,
          27.48060917301222,
          27.169633348547087,
          27.610929319371728,
          27.58947169096762,
          27.539676350165724,
          27.520036101083033,
          28.221798053063562,
          27.71238060911876,
          28.51679434295816,
          27.86088464874241,
          29.28474885844749,
          27.865570934256056,
          28.439035842854906,
          27.66266238301439,
          28.978042959427206,
          28.21973986228003,
          28.184462809917356,
          26.860665478312537,
          26.793635938231166,
          27.483016304347824,
          28.10111972437554,
          27.2584073880467,
          27.196994446259392,
          28.487700117141742,
          28.625900609643452,
          29.278994974874372,
          28.49429721569943,
          29.332908569608154,
          28.399571593343218,
          28.403088042049934,
          28.681277728482698,
          28.860963428387304,
          28.491446094254357,
          27.904852220641693,
          29.481354184567795,
          29.79492568683381,
          27.75,
          28.27908624048167,
          28.264207980652962,
          28.032842582106454,
          28.367964601769913,
          28.258001768346595,
          27.804956896551722,
          28.815681780978885,
          28.68917040012359,
          28.285506190823014,
          28.290253539677312,
          28.262233783124696,
          28.380781173394347,
          28.728813559322035,
          28.995409836065573,
          28.283664122137406,
          28.96097337006428,
          29.443279452453766,
          29.201811776547558,
          28.128079649004388,
          29.004461335095836,
          29.005734310289903,
          29.013282125140023,
          28.81608226567768,
          28.964518695306285,
          29.19118367346939,
          28.863711995159584,
          29.30966041246705,
          27.81653823355068,
          28.67533718689788,
          29.524091688757213,
          29.682726974762375,
          29.296546937359015,
          29.423812028756796,
          28.288022655339,
          28.670378619153674,
          28.859270414993308,
          28.846681922196797,
          28.942553544745145,
          29.39179655455291,
          29.18499095840868,
          30.223272188252732,
          29.108957323745507,
          30.80386373691196,
          29.880945213726672,
          29.38506079907354,
          29.056696905016008,
          30.535289115646258,
          30.331547864304355,
          31.15669249265295,
          31.710557184750733,
          31.558065279091768,
          30.93863067074868,
          30.22551674982181,
          30.610494752623687,
          30.027900552486187,
          31.664630512514897,
          32.392922794117645,
          31.668984700973574,
          32.07637886225816,
          32.178612716763006,
          32.45606453471622,
          32.37018837018837,
          30.794255284815232,
          32.021026809181706,
          33.06360708534621,
          31.99085520745131,
          31.676842429848904,
          31.680345245305876,
          32.58242535729447,
          33.10806150308952,
          32.554821267647945,
          32.44502176660581,
          32.82783190344627,
          33.25575589459085,
          33.60105610561056,
          33.46622931265841,
          32.61447230145624,
          33.13234660152321,
          33.317234581807945,
          33.605160516051605,
          33.5696675900277,
          34.88309405215353,
          34.15064899199116,
          33.81252731245448,
          33.82651581085001,
          33.590589673082796,
          33.31357818586533,
          32.84705882352941,
          33.002722323049,
          33.19353448275862,
          34.1493841306216,
          33.00373192349557,
          32.90832249674902,
          33.74822476072862,
          34.403951367781154,
          34.755966877739894,
          34.60758247168882,
          34.72665858305907,
          34.50053920813434,
          35.2029302795554,
          35.76082196395486,
          35.929376156045066,
          36.949396282729616,
          37.13855695053699,
          36.215291445874335,
          34.93779160186625,
          34.71125584502338,
          35.246755119700026,
          36.62075642184071,
          34.63928325292901,
          35.608257951561136,
          36.45528569422996,
          36.33964062074598,
          35.0107786129627,
          36.12447434819176,
          34.893656469341806,
          35.48123495255629,
          35.65761710507807,
          35.38292128445581,
          36.55504213101386,
          36.89715257118572,
          36.284802552852014,
          35.552191345223285,
          36.36669760042423,
          36.161048177971885,
          35.370438996579246,
          35.68830591373944,
          36.1677578932053,
          35.499450398461114,
          37.068717948717946,
          35.38904253918083,
          36.115237815619494,
          35.97611064543168,
          36.020085884471534,
          36.59019108280255,
          36.1601282051282,
          36.03284823284823,
          35.603896953053486,
          35.742774928062055,
          36.05267423014587,
          35.66692015209126,
          36.487877997914495,
          36.897053338306605,
          37.581389287110646,
          36.71831810728508,
          37.05578990338822,
          37.09671454985066,
          37.22376307439182,
          36.50875847078379,
          36.999245055110975,
          37.4054222499221,
          37.94341265235055,
          38.546765799256505,
          38.59431375378843,
          39.46978139734248,
          39.171736619175974,
          38.1070480684164,
          36.62520122932826,
          38.199034805498684,
          37.484458134976194,
          36.00105177048031,
          36.334727385377946,
          38.919252239387255,
          36.658471676593585,
          37.40773100344189,
          38.49149437320073,
          37.692088275033775,
          38.485353399623754,
          37.51893070215695,
          37.930842889230405,
          38.313704496788006,
          39.101679731243,
          39.05937677053824,
          38.94911257291796,
          38.29145342886387,
          38.61952165481577,
          38.38284680960992,
          38.98447361777329,
          37.82594316511514,
          37.264095335725266,
          37.87997531626041,
          38.5436687821094,
          39.79638819961401,
          41.03675300245985,
          39.752968772907195,
          39.69965870307167,
          40.309536082474224,
          39.90965917547254,
          39.55905077262693,
          39.506351591312665,
          39.72617469435852,
          39.260340252848444,
          39.83148668761369,
          40.314516129032256,
          41.114111111111114,
          40.900600092321895,
          40.58172105111175,
          39.94282065834279,
          39.74941141848146,
          40.82099708373837,
          38.87360703812317,
          39.4165281764617,
          39.722590593677715,
          39.14806347498655,
          39.96781767955801,
          40.19956225054719,
          41.01925906112077,
          41.59604555124515,
          40.388309710671194,
          40.23698123182659,
          40.43069448413833,
          39.97138196915777,
          40.49553282403211,
          40.8156569510148,
          40.19277576385293,
          39.69692511402089,
          39.872331217541834,
          39.72233727810651,
          39.64973882762623,
          40.21291263423041,
          40.48548199767712,
          40.6883098391001,
          40.15470752909975,
          40.432651877627954,
          39.59785167745733,
          40.46398705152414,
          41.20561163895487,
          41.08471917163477,
          40.61268598277212,
          40.12466926070039,
          40.684316146958935,
          40.20008674280758,
          39.671306690615175,
          40.13547682222569,
          40.46519035340513,
          40.768099385977436,
          40.96957787481805,
          41.103761948812824,
          41.0452858203415,
          41.733976895078335,
          40.97643458301454,
          41.31604584527221,
          39.40758807588076,
          39.85193289569657,
          39.899054589813964,
          39.33847736625514,
          39.43913043478261,
          39.73205068043172,
          40.35367714372902,
          40.8102247546692,
          40.22293729372937,
          41.600399315459214,
          40.89645978373574,
          40.03856041131105,
          40.91155853840418,
          40.7582656612529,
          40.747373094568594,
          40.010114335971856,
          40.629056266746055,
          41.63413333333333,
          40.37696757702139,
          39.39688415856856,
          39.628992961559284,
          39.346108721157606,
          39.71385065172372,
          37.53115246792278,
          38.44022598870057,
          37.87451294980518,
          37.70062083237526,
          39.02982107355865,
          39.11642857142857,
          39.1320987654321,
          39.47793438077634,
          39.32745726495727,
          38.62633451957296,
          38.48664717348928,
          38.95897536559034,
          38.66452205882353,
          38.9799604854643,
          38.747559010332736,
          39.633800096571704,
          39.42059917759937,
          39.23160027008778,
          39.678780657332936,
          39.951781759613446,
          38.60286783042394,
          39.26954471249773,
          38.16875981161695,
          37.57476171564734,
          38.22289266776376,
          38.56873409948241,
          38.30421634698462,
          38.50027312454479,
          38.88644233330374,
          39.29575163398693,
          38.83670254660016,
          38.9961632041924,
          38.97968967921897,
          38.21595636498105,
          38.22066885964912,
          38.534104046242774,
          38.2521643028182,
          38.36623853211009,
          39.042635658914726,
          38.32957531575824,
          38.76580184572523,
          38.797570850202426,
          40.0218012185834,
          39.010247651579846,
          38.6860561435803,
          39.56822865334647,
          40.363056226284925,
          39.56589263047861,
          39.72696591292609,
          38.94129771621733,
          38.21323892639552,
          39.03700053074532,
          38.51429502321414,
          39.1076827177809,
          38.96253742212153,
          38.87751428347813,
          38.58901366139761,
          38.58988421694089,
          38.80587191243899,
          39.005846375247344,
          39.095142805166454,
          38.710873440285205,
          38.68095671604734,
          38.7330164085263,
          38.556510134289766,
          38.01590519257758,
          38.097804391217565,
          38.333919156414765,
          38.07239507682899,
          38.056560741979624,
          37.896644899797344,
          38.210530196888136,
          38.688277881721305,
          38.93685872138911,
          39.11781259507149,
          38.098348234580996,
          38.13517069455024,
          38.06930557457883,
          38.319850609541255,
          38.76428812986135,
          38.79394088065742,
          38.38808929827928,
          38.88933341937149,
          38.05687877710629,
          38.14652786135516,
          38.863945578231295,
          39.495677787026956,
          39.275377590446084,
          39.32475013881177,
          38.769925322471146,
          39.14749243545999,
          38.334650688424276,
          38.46124668099633,
          38.74243684042213,
          38.5350221575501,
          38.452677966101696,
          38.980279208457574,
          38.29228208862076,
          38.62821982264583,
          38.68407038666358,
          37.3232104121475
         ],
         "yaxis": "y",
         "type": "scatter"
        }
       ],
       "layout": {
        "template": {
         "data": {
          "histogram2dcontour": [
           {
            "type": "histogram2dcontour",
            "colorbar": {
             "outlinewidth": 0,
             "ticks": ""
            },
            "colorscale": [
             [
              0.0,
              "#0d0887"
             ],
             [
              0.1111111111111111,
              "#46039f"
             ],
             [
              0.2222222222222222,
              "#7201a8"
             ],
             [
              0.3333333333333333,
              "#9c179e"
             ],
             [
              0.4444444444444444,
              "#bd3786"
             ],
             [
              0.5555555555555556,
              "#d8576b"
             ],
             [
              0.6666666666666666,
              "#ed7953"
             ],
             [
              0.7777777777777778,
              "#fb9f3a"
             ],
             [
              0.8888888888888888,
              "#fdca26"
             ],
             [
              1.0,
              "#f0f921"
             ]
            ]
           }
          ],
          "choropleth": [
           {
            "type": "choropleth",
            "colorbar": {
             "outlinewidth": 0,
             "ticks": ""
            }
           }
          ],
          "histogram2d": [
           {
            "type": "histogram2d",
            "colorbar": {
             "outlinewidth": 0,
             "ticks": ""
            },
            "colorscale": [
             [
              0.0,
              "#0d0887"
             ],
             [
              0.1111111111111111,
              "#46039f"
             ],
             [
              0.2222222222222222,
              "#7201a8"
             ],
             [
              0.3333333333333333,
              "#9c179e"
             ],
             [
              0.4444444444444444,
              "#bd3786"
             ],
             [
              0.5555555555555556,
              "#d8576b"
             ],
             [
              0.6666666666666666,
              "#ed7953"
             ],
             [
              0.7777777777777778,
              "#fb9f3a"
             ],
             [
              0.8888888888888888,
              "#fdca26"
             ],
             [
              1.0,
              "#f0f921"
             ]
            ]
           }
          ],
          "heatmap": [
           {
            "type": "heatmap",
            "colorbar": {
             "outlinewidth": 0,
             "ticks": ""
            },
            "colorscale": [
             [
              0.0,
              "#0d0887"
             ],
             [
              0.1111111111111111,
              "#46039f"
             ],
             [
              0.2222222222222222,
              "#7201a8"
             ],
             [
              0.3333333333333333,
              "#9c179e"
             ],
             [
              0.4444444444444444,
              "#bd3786"
             ],
             [
              0.5555555555555556,
              "#d8576b"
             ],
             [
              0.6666666666666666,
              "#ed7953"
             ],
             [
              0.7777777777777778,
              "#fb9f3a"
             ],
             [
              0.8888888888888888,
              "#fdca26"
             ],
             [
              1.0,
              "#f0f921"
             ]
            ]
           }
          ],
          "heatmapgl": [
           {
            "type": "heatmapgl",
            "colorbar": {
             "outlinewidth": 0,
             "ticks": ""
            },
            "colorscale": [
             [
              0.0,
              "#0d0887"
             ],
             [
              0.1111111111111111,
              "#46039f"
             ],
             [
              0.2222222222222222,
              "#7201a8"
             ],
             [
              0.3333333333333333,
              "#9c179e"
             ],
             [
              0.4444444444444444,
              "#bd3786"
             ],
             [
              0.5555555555555556,
              "#d8576b"
             ],
             [
              0.6666666666666666,
              "#ed7953"
             ],
             [
              0.7777777777777778,
              "#fb9f3a"
             ],
             [
              0.8888888888888888,
              "#fdca26"
             ],
             [
              1.0,
              "#f0f921"
             ]
            ]
           }
          ],
          "contourcarpet": [
           {
            "type": "contourcarpet",
            "colorbar": {
             "outlinewidth": 0,
             "ticks": ""
            }
           }
          ],
          "contour": [
           {
            "type": "contour",
            "colorbar": {
             "outlinewidth": 0,
             "ticks": ""
            },
            "colorscale": [
             [
              0.0,
              "#0d0887"
             ],
             [
              0.1111111111111111,
              "#46039f"
             ],
             [
              0.2222222222222222,
              "#7201a8"
             ],
             [
              0.3333333333333333,
              "#9c179e"
             ],
             [
              0.4444444444444444,
              "#bd3786"
             ],
             [
              0.5555555555555556,
              "#d8576b"
             ],
             [
              0.6666666666666666,
              "#ed7953"
             ],
             [
              0.7777777777777778,
              "#fb9f3a"
             ],
             [
              0.8888888888888888,
              "#fdca26"
             ],
             [
              1.0,
              "#f0f921"
             ]
            ]
           }
          ],
          "surface": [
           {
            "type": "surface",
            "colorbar": {
             "outlinewidth": 0,
             "ticks": ""
            },
            "colorscale": [
             [
              0.0,
              "#0d0887"
             ],
             [
              0.1111111111111111,
              "#46039f"
             ],
             [
              0.2222222222222222,
              "#7201a8"
             ],
             [
              0.3333333333333333,
              "#9c179e"
             ],
             [
              0.4444444444444444,
              "#bd3786"
             ],
             [
              0.5555555555555556,
              "#d8576b"
             ],
             [
              0.6666666666666666,
              "#ed7953"
             ],
             [
              0.7777777777777778,
              "#fb9f3a"
             ],
             [
              0.8888888888888888,
              "#fdca26"
             ],
             [
              1.0,
              "#f0f921"
             ]
            ]
           }
          ],
          "mesh3d": [
           {
            "type": "mesh3d",
            "colorbar": {
             "outlinewidth": 0,
             "ticks": ""
            }
           }
          ],
          "scatter": [
           {
            "marker": {
             "line": {
              "color": "#283442"
             }
            },
            "type": "scatter"
           }
          ],
          "parcoords": [
           {
            "type": "parcoords",
            "line": {
             "colorbar": {
              "outlinewidth": 0,
              "ticks": ""
             }
            }
           }
          ],
          "scatterpolargl": [
           {
            "type": "scatterpolargl",
            "marker": {
             "colorbar": {
              "outlinewidth": 0,
              "ticks": ""
             }
            }
           }
          ],
          "bar": [
           {
            "error_x": {
             "color": "#f2f5fa"
            },
            "error_y": {
             "color": "#f2f5fa"
            },
            "marker": {
             "line": {
              "color": "rgb(17,17,17)",
              "width": 0.5
             },
             "pattern": {
              "fillmode": "overlay",
              "size": 10,
              "solidity": 0.2
             }
            },
            "type": "bar"
           }
          ],
          "scattergeo": [
           {
            "type": "scattergeo",
            "marker": {
             "colorbar": {
              "outlinewidth": 0,
              "ticks": ""
             }
            }
           }
          ],
          "scatterpolar": [
           {
            "type": "scatterpolar",
            "marker": {
             "colorbar": {
              "outlinewidth": 0,
              "ticks": ""
             }
            }
           }
          ],
          "histogram": [
           {
            "marker": {
             "pattern": {
              "fillmode": "overlay",
              "size": 10,
              "solidity": 0.2
             }
            },
            "type": "histogram"
           }
          ],
          "scattergl": [
           {
            "marker": {
             "line": {
              "color": "#283442"
             }
            },
            "type": "scattergl"
           }
          ],
          "scatter3d": [
           {
            "type": "scatter3d",
            "line": {
             "colorbar": {
              "outlinewidth": 0,
              "ticks": ""
             }
            },
            "marker": {
             "colorbar": {
              "outlinewidth": 0,
              "ticks": ""
             }
            }
           }
          ],
          "scattermapbox": [
           {
            "type": "scattermapbox",
            "marker": {
             "colorbar": {
              "outlinewidth": 0,
              "ticks": ""
             }
            }
           }
          ],
          "scatterternary": [
           {
            "type": "scatterternary",
            "marker": {
             "colorbar": {
              "outlinewidth": 0,
              "ticks": ""
             }
            }
           }
          ],
          "scattercarpet": [
           {
            "type": "scattercarpet",
            "marker": {
             "colorbar": {
              "outlinewidth": 0,
              "ticks": ""
             }
            }
           }
          ],
          "carpet": [
           {
            "aaxis": {
             "endlinecolor": "#A2B1C6",
             "gridcolor": "#506784",
             "linecolor": "#506784",
             "minorgridcolor": "#506784",
             "startlinecolor": "#A2B1C6"
            },
            "baxis": {
             "endlinecolor": "#A2B1C6",
             "gridcolor": "#506784",
             "linecolor": "#506784",
             "minorgridcolor": "#506784",
             "startlinecolor": "#A2B1C6"
            },
            "type": "carpet"
           }
          ],
          "table": [
           {
            "cells": {
             "fill": {
              "color": "#506784"
             },
             "line": {
              "color": "rgb(17,17,17)"
             }
            },
            "header": {
             "fill": {
              "color": "#2a3f5f"
             },
             "line": {
              "color": "rgb(17,17,17)"
             }
            },
            "type": "table"
           }
          ],
          "barpolar": [
           {
            "marker": {
             "line": {
              "color": "rgb(17,17,17)",
              "width": 0.5
             },
             "pattern": {
              "fillmode": "overlay",
              "size": 10,
              "solidity": 0.2
             }
            },
            "type": "barpolar"
           }
          ],
          "pie": [
           {
            "automargin": true,
            "type": "pie"
           }
          ]
         },
         "layout": {
          "autotypenumbers": "strict",
          "colorway": [
           "#636efa",
           "#EF553B",
           "#00cc96",
           "#ab63fa",
           "#FFA15A",
           "#19d3f3",
           "#FF6692",
           "#B6E880",
           "#FF97FF",
           "#FECB52"
          ],
          "font": {
           "color": "#f2f5fa"
          },
          "hovermode": "closest",
          "hoverlabel": {
           "align": "left"
          },
          "paper_bgcolor": "rgb(17,17,17)",
          "plot_bgcolor": "rgb(17,17,17)",
          "polar": {
           "bgcolor": "rgb(17,17,17)",
           "angularaxis": {
            "gridcolor": "#506784",
            "linecolor": "#506784",
            "ticks": ""
           },
           "radialaxis": {
            "gridcolor": "#506784",
            "linecolor": "#506784",
            "ticks": ""
           }
          },
          "ternary": {
           "bgcolor": "rgb(17,17,17)",
           "aaxis": {
            "gridcolor": "#506784",
            "linecolor": "#506784",
            "ticks": ""
           },
           "baxis": {
            "gridcolor": "#506784",
            "linecolor": "#506784",
            "ticks": ""
           },
           "caxis": {
            "gridcolor": "#506784",
            "linecolor": "#506784",
            "ticks": ""
           }
          },
          "coloraxis": {
           "colorbar": {
            "outlinewidth": 0,
            "ticks": ""
           }
          },
          "colorscale": {
           "sequential": [
            [
             0.0,
             "#0d0887"
            ],
            [
             0.1111111111111111,
             "#46039f"
            ],
            [
             0.2222222222222222,
             "#7201a8"
            ],
            [
             0.3333333333333333,
             "#9c179e"
            ],
            [
             0.4444444444444444,
             "#bd3786"
            ],
            [
             0.5555555555555556,
             "#d8576b"
            ],
            [
             0.6666666666666666,
             "#ed7953"
            ],
            [
             0.7777777777777778,
             "#fb9f3a"
            ],
            [
             0.8888888888888888,
             "#fdca26"
            ],
            [
             1.0,
             "#f0f921"
            ]
           ],
           "sequentialminus": [
            [
             0.0,
             "#0d0887"
            ],
            [
             0.1111111111111111,
             "#46039f"
            ],
            [
             0.2222222222222222,
             "#7201a8"
            ],
            [
             0.3333333333333333,
             "#9c179e"
            ],
            [
             0.4444444444444444,
             "#bd3786"
            ],
            [
             0.5555555555555556,
             "#d8576b"
            ],
            [
             0.6666666666666666,
             "#ed7953"
            ],
            [
             0.7777777777777778,
             "#fb9f3a"
            ],
            [
             0.8888888888888888,
             "#fdca26"
            ],
            [
             1.0,
             "#f0f921"
            ]
           ],
           "diverging": [
            [
             0,
             "#8e0152"
            ],
            [
             0.1,
             "#c51b7d"
            ],
            [
             0.2,
             "#de77ae"
            ],
            [
             0.3,
             "#f1b6da"
            ],
            [
             0.4,
             "#fde0ef"
            ],
            [
             0.5,
             "#f7f7f7"
            ],
            [
             0.6,
             "#e6f5d0"
            ],
            [
             0.7,
             "#b8e186"
            ],
            [
             0.8,
             "#7fbc41"
            ],
            [
             0.9,
             "#4d9221"
            ],
            [
             1,
             "#276419"
            ]
           ]
          },
          "xaxis": {
           "gridcolor": "#283442",
           "linecolor": "#506784",
           "ticks": "",
           "title": {
            "standoff": 15
           },
           "zerolinecolor": "#283442",
           "automargin": true,
           "zerolinewidth": 2
          },
          "yaxis": {
           "gridcolor": "#283442",
           "linecolor": "#506784",
           "ticks": "",
           "title": {
            "standoff": 15
           },
           "zerolinecolor": "#283442",
           "automargin": true,
           "zerolinewidth": 2
          },
          "scene": {
           "xaxis": {
            "backgroundcolor": "rgb(17,17,17)",
            "gridcolor": "#506784",
            "linecolor": "#506784",
            "showbackground": true,
            "ticks": "",
            "zerolinecolor": "#C8D4E3",
            "gridwidth": 2
           },
           "yaxis": {
            "backgroundcolor": "rgb(17,17,17)",
            "gridcolor": "#506784",
            "linecolor": "#506784",
            "showbackground": true,
            "ticks": "",
            "zerolinecolor": "#C8D4E3",
            "gridwidth": 2
           },
           "zaxis": {
            "backgroundcolor": "rgb(17,17,17)",
            "gridcolor": "#506784",
            "linecolor": "#506784",
            "showbackground": true,
            "ticks": "",
            "zerolinecolor": "#C8D4E3",
            "gridwidth": 2
           }
          },
          "shapedefaults": {
           "line": {
            "color": "#f2f5fa"
           }
          },
          "annotationdefaults": {
           "arrowcolor": "#f2f5fa",
           "arrowhead": 0,
           "arrowwidth": 1
          },
          "geo": {
           "bgcolor": "rgb(17,17,17)",
           "landcolor": "rgb(17,17,17)",
           "subunitcolor": "#506784",
           "showland": true,
           "showlakes": true,
           "lakecolor": "rgb(17,17,17)"
          },
          "title": {
           "x": 0.05
          },
          "updatemenudefaults": {
           "bgcolor": "#506784",
           "borderwidth": 0
          },
          "sliderdefaults": {
           "bgcolor": "#C8D4E3",
           "borderwidth": 1,
           "bordercolor": "rgb(17,17,17)",
           "tickwidth": 0
          },
          "mapbox": {
           "style": "dark"
          }
         }
        },
        "xaxis": {
         "anchor": "y",
         "domain": [
          0.0,
          1.0
         ],
         "title": {
          "text": "Creation time"
         }
        },
        "yaxis": {
         "anchor": "x",
         "domain": [
          0.0,
          1.0
         ],
         "title": {
          "text": "Average tag count"
         }
        },
        "legend": {
         "title": {
          "text": "variable"
         },
         "tracegroupgap": 0
        },
        "margin": {
         "t": 60
        },
        "title": {
         "text": "Average post tag count over post creation time",
         "x": 0.5
        },
        "showlegend": false
       },
       "config": {
        "plotlyServerURL": "https://plot.ly"
       }
      },
      "text/html": "<div>                            <div id=\"714e61ec-5fc8-439b-9bbd-c4711d335731\" class=\"plotly-graph-div\" style=\"height:525px; width:100%;\"></div>            <script type=\"text/javascript\">                require([\"plotly\"], function(Plotly) {                    window.PLOTLYENV=window.PLOTLYENV || {};                                    if (document.getElementById(\"714e61ec-5fc8-439b-9bbd-c4711d335731\")) {                    Plotly.newPlot(                        \"714e61ec-5fc8-439b-9bbd-c4711d335731\",                        [{\"hovertemplate\":\"variable=tag_count<br>created_at=%{x}<br>value=%{y}<extra></extra>\",\"legendgroup\":\"tag_count\",\"marker\":{\"color\":\"#636efa\",\"symbol\":\"circle\"},\"mode\":\"markers\",\"name\":\"tag_count\",\"orientation\":\"v\",\"showlegend\":true,\"x\":[\"2005-05-29T00:00:00\",\"2005-06-05T00:00:00\",\"2005-06-12T00:00:00\",\"2005-06-19T00:00:00\",\"2005-06-26T00:00:00\",\"2005-07-03T00:00:00\",\"2005-07-10T00:00:00\",\"2005-07-17T00:00:00\",\"2005-07-24T00:00:00\",\"2005-07-31T00:00:00\",\"2005-08-07T00:00:00\",\"2005-08-14T00:00:00\",\"2005-08-21T00:00:00\",\"2005-08-28T00:00:00\",\"2005-09-04T00:00:00\",\"2005-09-11T00:00:00\",\"2005-09-18T00:00:00\",\"2005-09-25T00:00:00\",\"2005-10-02T00:00:00\",\"2005-10-09T00:00:00\",\"2005-10-16T00:00:00\",\"2005-10-23T00:00:00\",\"2005-10-30T00:00:00\",\"2005-11-06T00:00:00\",\"2005-11-13T00:00:00\",\"2005-11-20T00:00:00\",\"2005-11-27T00:00:00\",\"2005-12-04T00:00:00\",\"2005-12-11T00:00:00\",\"2005-12-18T00:00:00\",\"2005-12-25T00:00:00\",\"2006-01-01T00:00:00\",\"2006-01-08T00:00:00\",\"2006-01-15T00:00:00\",\"2006-01-22T00:00:00\",\"2006-01-29T00:00:00\",\"2006-02-05T00:00:00\",\"2006-02-12T00:00:00\",\"2006-02-19T00:00:00\",\"2006-02-26T00:00:00\",\"2006-03-05T00:00:00\",\"2006-03-12T00:00:00\",\"2006-03-19T00:00:00\",\"2006-03-26T00:00:00\",\"2006-04-02T00:00:00\",\"2006-04-09T00:00:00\",\"2006-04-16T00:00:00\",\"2006-04-23T00:00:00\",\"2006-04-30T00:00:00\",\"2006-05-07T00:00:00\",\"2006-05-14T00:00:00\",\"2006-05-21T00:00:00\",\"2006-05-28T00:00:00\",\"2006-06-04T00:00:00\",\"2006-06-11T00:00:00\",\"2006-06-18T00:00:00\",\"2006-06-25T00:00:00\",\"2006-07-02T00:00:00\",\"2006-07-09T00:00:00\",\"2006-07-16T00:00:00\",\"2006-07-23T00:00:00\",\"2006-07-30T00:00:00\",\"2006-08-06T00:00:00\",\"2006-08-13T00:00:00\",\"2006-08-20T00:00:00\",\"2006-08-27T00:00:00\",\"2006-09-03T00:00:00\",\"2006-09-10T00:00:00\",\"2006-09-17T00:00:00\",\"2006-09-24T00:00:00\",\"2006-10-01T00:00:00\",\"2006-10-08T00:00:00\",\"2006-10-15T00:00:00\",\"2006-10-22T00:00:00\",\"2006-10-29T00:00:00\",\"2006-11-05T00:00:00\",\"2006-11-12T00:00:00\",\"2006-11-19T00:00:00\",\"2006-11-26T00:00:00\",\"2006-12-03T00:00:00\",\"2006-12-10T00:00:00\",\"2006-12-17T00:00:00\",\"2006-12-24T00:00:00\",\"2006-12-31T00:00:00\",\"2007-01-07T00:00:00\",\"2007-01-14T00:00:00\",\"2007-01-21T00:00:00\",\"2007-01-28T00:00:00\",\"2007-02-04T00:00:00\",\"2007-02-11T00:00:00\",\"2007-02-18T00:00:00\",\"2007-02-25T00:00:00\",\"2007-03-04T00:00:00\",\"2007-03-11T00:00:00\",\"2007-03-18T00:00:00\",\"2007-03-25T00:00:00\",\"2007-04-01T00:00:00\",\"2007-04-08T00:00:00\",\"2007-04-15T00:00:00\",\"2007-04-22T00:00:00\",\"2007-04-29T00:00:00\",\"2007-05-06T00:00:00\",\"2007-05-13T00:00:00\",\"2007-05-20T00:00:00\",\"2007-05-27T00:00:00\",\"2007-06-03T00:00:00\",\"2007-06-10T00:00:00\",\"2007-06-17T00:00:00\",\"2007-06-24T00:00:00\",\"2007-07-01T00:00:00\",\"2007-07-08T00:00:00\",\"2007-07-15T00:00:00\",\"2007-07-22T00:00:00\",\"2007-07-29T00:00:00\",\"2007-08-05T00:00:00\",\"2007-08-12T00:00:00\",\"2007-08-19T00:00:00\",\"2007-08-26T00:00:00\",\"2007-09-02T00:00:00\",\"2007-09-09T00:00:00\",\"2007-09-16T00:00:00\",\"2007-09-23T00:00:00\",\"2007-09-30T00:00:00\",\"2007-10-07T00:00:00\",\"2007-10-14T00:00:00\",\"2007-10-21T00:00:00\",\"2007-10-28T00:00:00\",\"2007-11-04T00:00:00\",\"2007-11-11T00:00:00\",\"2007-11-18T00:00:00\",\"2007-11-25T00:00:00\",\"2007-12-02T00:00:00\",\"2007-12-09T00:00:00\",\"2007-12-16T00:00:00\",\"2007-12-23T00:00:00\",\"2007-12-30T00:00:00\",\"2008-01-06T00:00:00\",\"2008-01-13T00:00:00\",\"2008-01-20T00:00:00\",\"2008-01-27T00:00:00\",\"2008-02-03T00:00:00\",\"2008-02-10T00:00:00\",\"2008-02-17T00:00:00\",\"2008-02-24T00:00:00\",\"2008-03-02T00:00:00\",\"2008-03-09T00:00:00\",\"2008-03-16T00:00:00\",\"2008-03-23T00:00:00\",\"2008-03-30T00:00:00\",\"2008-04-06T00:00:00\",\"2008-04-13T00:00:00\",\"2008-04-20T00:00:00\",\"2008-04-27T00:00:00\",\"2008-05-04T00:00:00\",\"2008-05-11T00:00:00\",\"2008-05-18T00:00:00\",\"2008-05-25T00:00:00\",\"2008-06-01T00:00:00\",\"2008-06-08T00:00:00\",\"2008-06-15T00:00:00\",\"2008-06-22T00:00:00\",\"2008-06-29T00:00:00\",\"2008-07-06T00:00:00\",\"2008-07-13T00:00:00\",\"2008-07-20T00:00:00\",\"2008-07-27T00:00:00\",\"2008-08-03T00:00:00\",\"2008-08-10T00:00:00\",\"2008-08-17T00:00:00\",\"2008-08-24T00:00:00\",\"2008-08-31T00:00:00\",\"2008-09-07T00:00:00\",\"2008-09-14T00:00:00\",\"2008-09-21T00:00:00\",\"2008-09-28T00:00:00\",\"2008-10-05T00:00:00\",\"2008-10-12T00:00:00\",\"2008-10-19T00:00:00\",\"2008-10-26T00:00:00\",\"2008-11-02T00:00:00\",\"2008-11-09T00:00:00\",\"2008-11-16T00:00:00\",\"2008-11-23T00:00:00\",\"2008-11-30T00:00:00\",\"2008-12-07T00:00:00\",\"2008-12-14T00:00:00\",\"2008-12-21T00:00:00\",\"2008-12-28T00:00:00\",\"2009-01-04T00:00:00\",\"2009-01-11T00:00:00\",\"2009-01-18T00:00:00\",\"2009-01-25T00:00:00\",\"2009-02-01T00:00:00\",\"2009-02-08T00:00:00\",\"2009-02-15T00:00:00\",\"2009-02-22T00:00:00\",\"2009-03-01T00:00:00\",\"2009-03-08T00:00:00\",\"2009-03-15T00:00:00\",\"2009-03-22T00:00:00\",\"2009-03-29T00:00:00\",\"2009-04-05T00:00:00\",\"2009-04-12T00:00:00\",\"2009-04-19T00:00:00\",\"2009-04-26T00:00:00\",\"2009-05-03T00:00:00\",\"2009-05-10T00:00:00\",\"2009-05-17T00:00:00\",\"2009-05-24T00:00:00\",\"2009-05-31T00:00:00\",\"2009-06-07T00:00:00\",\"2009-06-14T00:00:00\",\"2009-06-21T00:00:00\",\"2009-06-28T00:00:00\",\"2009-07-05T00:00:00\",\"2009-07-12T00:00:00\",\"2009-07-19T00:00:00\",\"2009-07-26T00:00:00\",\"2009-08-02T00:00:00\",\"2009-08-09T00:00:00\",\"2009-08-16T00:00:00\",\"2009-08-23T00:00:00\",\"2009-08-30T00:00:00\",\"2009-09-06T00:00:00\",\"2009-09-13T00:00:00\",\"2009-09-20T00:00:00\",\"2009-09-27T00:00:00\",\"2009-10-04T00:00:00\",\"2009-10-11T00:00:00\",\"2009-10-18T00:00:00\",\"2009-10-25T00:00:00\",\"2009-11-01T00:00:00\",\"2009-11-08T00:00:00\",\"2009-11-15T00:00:00\",\"2009-11-22T00:00:00\",\"2009-11-29T00:00:00\",\"2009-12-06T00:00:00\",\"2009-12-13T00:00:00\",\"2009-12-20T00:00:00\",\"2009-12-27T00:00:00\",\"2010-01-03T00:00:00\",\"2010-01-10T00:00:00\",\"2010-01-17T00:00:00\",\"2010-01-24T00:00:00\",\"2010-01-31T00:00:00\",\"2010-02-07T00:00:00\",\"2010-02-14T00:00:00\",\"2010-02-21T00:00:00\",\"2010-02-28T00:00:00\",\"2010-03-07T00:00:00\",\"2010-03-14T00:00:00\",\"2010-03-21T00:00:00\",\"2010-03-28T00:00:00\",\"2010-04-04T00:00:00\",\"2010-04-11T00:00:00\",\"2010-04-18T00:00:00\",\"2010-04-25T00:00:00\",\"2010-05-02T00:00:00\",\"2010-05-09T00:00:00\",\"2010-05-16T00:00:00\",\"2010-05-23T00:00:00\",\"2010-05-30T00:00:00\",\"2010-06-06T00:00:00\",\"2010-06-13T00:00:00\",\"2010-06-20T00:00:00\",\"2010-06-27T00:00:00\",\"2010-07-04T00:00:00\",\"2010-07-11T00:00:00\",\"2010-07-18T00:00:00\",\"2010-07-25T00:00:00\",\"2010-08-01T00:00:00\",\"2010-08-08T00:00:00\",\"2010-08-15T00:00:00\",\"2010-08-22T00:00:00\",\"2010-08-29T00:00:00\",\"2010-09-05T00:00:00\",\"2010-09-12T00:00:00\",\"2010-09-19T00:00:00\",\"2010-09-26T00:00:00\",\"2010-10-03T00:00:00\",\"2010-10-10T00:00:00\",\"2010-10-17T00:00:00\",\"2010-10-24T00:00:00\",\"2010-10-31T00:00:00\",\"2010-11-07T00:00:00\",\"2010-11-14T00:00:00\",\"2010-11-21T00:00:00\",\"2010-11-28T00:00:00\",\"2010-12-05T00:00:00\",\"2010-12-12T00:00:00\",\"2010-12-19T00:00:00\",\"2010-12-26T00:00:00\",\"2011-01-02T00:00:00\",\"2011-01-09T00:00:00\",\"2011-01-16T00:00:00\",\"2011-01-23T00:00:00\",\"2011-01-30T00:00:00\",\"2011-02-06T00:00:00\",\"2011-02-13T00:00:00\",\"2011-02-20T00:00:00\",\"2011-02-27T00:00:00\",\"2011-03-06T00:00:00\",\"2011-03-13T00:00:00\",\"2011-03-20T00:00:00\",\"2011-03-27T00:00:00\",\"2011-04-03T00:00:00\",\"2011-04-10T00:00:00\",\"2011-04-17T00:00:00\",\"2011-04-24T00:00:00\",\"2011-05-01T00:00:00\",\"2011-05-08T00:00:00\",\"2011-05-15T00:00:00\",\"2011-05-22T00:00:00\",\"2011-05-29T00:00:00\",\"2011-06-05T00:00:00\",\"2011-06-12T00:00:00\",\"2011-06-19T00:00:00\",\"2011-06-26T00:00:00\",\"2011-07-03T00:00:00\",\"2011-07-10T00:00:00\",\"2011-07-17T00:00:00\",\"2011-07-24T00:00:00\",\"2011-07-31T00:00:00\",\"2011-08-07T00:00:00\",\"2011-08-14T00:00:00\",\"2011-08-21T00:00:00\",\"2011-08-28T00:00:00\",\"2011-09-04T00:00:00\",\"2011-09-11T00:00:00\",\"2011-09-18T00:00:00\",\"2011-09-25T00:00:00\",\"2011-10-02T00:00:00\",\"2011-10-09T00:00:00\",\"2011-10-16T00:00:00\",\"2011-10-23T00:00:00\",\"2011-10-30T00:00:00\",\"2011-11-06T00:00:00\",\"2011-11-13T00:00:00\",\"2011-11-20T00:00:00\",\"2011-11-27T00:00:00\",\"2011-12-04T00:00:00\",\"2011-12-11T00:00:00\",\"2011-12-18T00:00:00\",\"2011-12-25T00:00:00\",\"2012-01-01T00:00:00\",\"2012-01-08T00:00:00\",\"2012-01-15T00:00:00\",\"2012-01-22T00:00:00\",\"2012-01-29T00:00:00\",\"2012-02-05T00:00:00\",\"2012-02-12T00:00:00\",\"2012-02-19T00:00:00\",\"2012-02-26T00:00:00\",\"2012-03-04T00:00:00\",\"2012-03-11T00:00:00\",\"2012-03-18T00:00:00\",\"2012-03-25T00:00:00\",\"2012-04-01T00:00:00\",\"2012-04-08T00:00:00\",\"2012-04-15T00:00:00\",\"2012-04-22T00:00:00\",\"2012-04-29T00:00:00\",\"2012-05-06T00:00:00\",\"2012-05-13T00:00:00\",\"2012-05-20T00:00:00\",\"2012-05-27T00:00:00\",\"2012-06-03T00:00:00\",\"2012-06-10T00:00:00\",\"2012-06-17T00:00:00\",\"2012-06-24T00:00:00\",\"2012-07-01T00:00:00\",\"2012-07-08T00:00:00\",\"2012-07-15T00:00:00\",\"2012-07-22T00:00:00\",\"2012-07-29T00:00:00\",\"2012-08-05T00:00:00\",\"2012-08-12T00:00:00\",\"2012-08-19T00:00:00\",\"2012-08-26T00:00:00\",\"2012-09-02T00:00:00\",\"2012-09-09T00:00:00\",\"2012-09-16T00:00:00\",\"2012-09-23T00:00:00\",\"2012-09-30T00:00:00\",\"2012-10-07T00:00:00\",\"2012-10-14T00:00:00\",\"2012-10-21T00:00:00\",\"2012-10-28T00:00:00\",\"2012-11-04T00:00:00\",\"2012-11-11T00:00:00\",\"2012-11-18T00:00:00\",\"2012-11-25T00:00:00\",\"2012-12-02T00:00:00\",\"2012-12-09T00:00:00\",\"2012-12-16T00:00:00\",\"2012-12-23T00:00:00\",\"2012-12-30T00:00:00\",\"2013-01-06T00:00:00\",\"2013-01-13T00:00:00\",\"2013-01-20T00:00:00\",\"2013-01-27T00:00:00\",\"2013-02-03T00:00:00\",\"2013-02-10T00:00:00\",\"2013-02-17T00:00:00\",\"2013-02-24T00:00:00\",\"2013-03-03T00:00:00\",\"2013-03-10T00:00:00\",\"2013-03-17T00:00:00\",\"2013-03-24T00:00:00\",\"2013-03-31T00:00:00\",\"2013-04-07T00:00:00\",\"2013-04-14T00:00:00\",\"2013-04-21T00:00:00\",\"2013-04-28T00:00:00\",\"2013-05-05T00:00:00\",\"2013-05-12T00:00:00\",\"2013-05-19T00:00:00\",\"2013-05-26T00:00:00\",\"2013-06-02T00:00:00\",\"2013-06-09T00:00:00\",\"2013-06-16T00:00:00\",\"2013-06-23T00:00:00\",\"2013-06-30T00:00:00\",\"2013-07-07T00:00:00\",\"2013-07-14T00:00:00\",\"2013-07-21T00:00:00\",\"2013-07-28T00:00:00\",\"2013-08-04T00:00:00\",\"2013-08-11T00:00:00\",\"2013-08-18T00:00:00\",\"2013-08-25T00:00:00\",\"2013-09-01T00:00:00\",\"2013-09-08T00:00:00\",\"2013-09-15T00:00:00\",\"2013-09-22T00:00:00\",\"2013-09-29T00:00:00\",\"2013-10-06T00:00:00\",\"2013-10-13T00:00:00\",\"2013-10-20T00:00:00\",\"2013-10-27T00:00:00\",\"2013-11-03T00:00:00\",\"2013-11-10T00:00:00\",\"2013-11-17T00:00:00\",\"2013-11-24T00:00:00\",\"2013-12-01T00:00:00\",\"2013-12-08T00:00:00\",\"2013-12-15T00:00:00\",\"2013-12-22T00:00:00\",\"2013-12-29T00:00:00\",\"2014-01-05T00:00:00\",\"2014-01-12T00:00:00\",\"2014-01-19T00:00:00\",\"2014-01-26T00:00:00\",\"2014-02-02T00:00:00\",\"2014-02-09T00:00:00\",\"2014-02-16T00:00:00\",\"2014-02-23T00:00:00\",\"2014-03-02T00:00:00\",\"2014-03-09T00:00:00\",\"2014-03-16T00:00:00\",\"2014-03-23T00:00:00\",\"2014-03-30T00:00:00\",\"2014-04-06T00:00:00\",\"2014-04-13T00:00:00\",\"2014-04-20T00:00:00\",\"2014-04-27T00:00:00\",\"2014-05-04T00:00:00\",\"2014-05-11T00:00:00\",\"2014-05-18T00:00:00\",\"2014-05-25T00:00:00\",\"2014-06-01T00:00:00\",\"2014-06-08T00:00:00\",\"2014-06-15T00:00:00\",\"2014-06-22T00:00:00\",\"2014-06-29T00:00:00\",\"2014-07-06T00:00:00\",\"2014-07-13T00:00:00\",\"2014-07-20T00:00:00\",\"2014-07-27T00:00:00\",\"2014-08-03T00:00:00\",\"2014-08-10T00:00:00\",\"2014-08-17T00:00:00\",\"2014-08-24T00:00:00\",\"2014-08-31T00:00:00\",\"2014-09-07T00:00:00\",\"2014-09-14T00:00:00\",\"2014-09-21T00:00:00\",\"2014-09-28T00:00:00\",\"2014-10-05T00:00:00\",\"2014-10-12T00:00:00\",\"2014-10-19T00:00:00\",\"2014-10-26T00:00:00\",\"2014-11-02T00:00:00\",\"2014-11-09T00:00:00\",\"2014-11-16T00:00:00\",\"2014-11-23T00:00:00\",\"2014-11-30T00:00:00\",\"2014-12-07T00:00:00\",\"2014-12-14T00:00:00\",\"2014-12-21T00:00:00\",\"2014-12-28T00:00:00\",\"2015-01-04T00:00:00\",\"2015-01-11T00:00:00\",\"2015-01-18T00:00:00\",\"2015-01-25T00:00:00\",\"2015-02-01T00:00:00\",\"2015-02-08T00:00:00\",\"2015-02-15T00:00:00\",\"2015-02-22T00:00:00\",\"2015-03-01T00:00:00\",\"2015-03-08T00:00:00\",\"2015-03-15T00:00:00\",\"2015-03-22T00:00:00\",\"2015-03-29T00:00:00\",\"2015-04-05T00:00:00\",\"2015-04-12T00:00:00\",\"2015-04-19T00:00:00\",\"2015-04-26T00:00:00\",\"2015-05-03T00:00:00\",\"2015-05-10T00:00:00\",\"2015-05-17T00:00:00\",\"2015-05-24T00:00:00\",\"2015-05-31T00:00:00\",\"2015-06-07T00:00:00\",\"2015-06-14T00:00:00\",\"2015-06-21T00:00:00\",\"2015-06-28T00:00:00\",\"2015-07-05T00:00:00\",\"2015-07-12T00:00:00\",\"2015-07-19T00:00:00\",\"2015-07-26T00:00:00\",\"2015-08-02T00:00:00\",\"2015-08-09T00:00:00\",\"2015-08-16T00:00:00\",\"2015-08-23T00:00:00\",\"2015-08-30T00:00:00\",\"2015-09-06T00:00:00\",\"2015-09-13T00:00:00\",\"2015-09-20T00:00:00\",\"2015-09-27T00:00:00\",\"2015-10-04T00:00:00\",\"2015-10-11T00:00:00\",\"2015-10-18T00:00:00\",\"2015-10-25T00:00:00\",\"2015-11-01T00:00:00\",\"2015-11-08T00:00:00\",\"2015-11-15T00:00:00\",\"2015-11-22T00:00:00\",\"2015-11-29T00:00:00\",\"2015-12-06T00:00:00\",\"2015-12-13T00:00:00\",\"2015-12-20T00:00:00\",\"2015-12-27T00:00:00\",\"2016-01-03T00:00:00\",\"2016-01-10T00:00:00\",\"2016-01-17T00:00:00\",\"2016-01-24T00:00:00\",\"2016-01-31T00:00:00\",\"2016-02-07T00:00:00\",\"2016-02-14T00:00:00\",\"2016-02-21T00:00:00\",\"2016-02-28T00:00:00\",\"2016-03-06T00:00:00\",\"2016-03-13T00:00:00\",\"2016-03-20T00:00:00\",\"2016-03-27T00:00:00\",\"2016-04-03T00:00:00\",\"2016-04-10T00:00:00\",\"2016-04-17T00:00:00\",\"2016-04-24T00:00:00\",\"2016-05-01T00:00:00\",\"2016-05-08T00:00:00\",\"2016-05-15T00:00:00\",\"2016-05-22T00:00:00\",\"2016-05-29T00:00:00\",\"2016-06-05T00:00:00\",\"2016-06-12T00:00:00\",\"2016-06-19T00:00:00\",\"2016-06-26T00:00:00\",\"2016-07-03T00:00:00\",\"2016-07-10T00:00:00\",\"2016-07-17T00:00:00\",\"2016-07-24T00:00:00\",\"2016-07-31T00:00:00\",\"2016-08-07T00:00:00\",\"2016-08-14T00:00:00\",\"2016-08-21T00:00:00\",\"2016-08-28T00:00:00\",\"2016-09-04T00:00:00\",\"2016-09-11T00:00:00\",\"2016-09-18T00:00:00\",\"2016-09-25T00:00:00\",\"2016-10-02T00:00:00\",\"2016-10-09T00:00:00\",\"2016-10-16T00:00:00\",\"2016-10-23T00:00:00\",\"2016-10-30T00:00:00\",\"2016-11-06T00:00:00\",\"2016-11-13T00:00:00\",\"2016-11-20T00:00:00\",\"2016-11-27T00:00:00\",\"2016-12-04T00:00:00\",\"2016-12-11T00:00:00\",\"2016-12-18T00:00:00\",\"2016-12-25T00:00:00\",\"2017-01-01T00:00:00\",\"2017-01-08T00:00:00\",\"2017-01-15T00:00:00\",\"2017-01-22T00:00:00\",\"2017-01-29T00:00:00\",\"2017-02-05T00:00:00\",\"2017-02-12T00:00:00\",\"2017-02-19T00:00:00\",\"2017-02-26T00:00:00\",\"2017-03-05T00:00:00\",\"2017-03-12T00:00:00\",\"2017-03-19T00:00:00\",\"2017-03-26T00:00:00\",\"2017-04-02T00:00:00\",\"2017-04-09T00:00:00\",\"2017-04-16T00:00:00\",\"2017-04-23T00:00:00\",\"2017-04-30T00:00:00\",\"2017-05-07T00:00:00\",\"2017-05-14T00:00:00\",\"2017-05-21T00:00:00\",\"2017-05-28T00:00:00\",\"2017-06-04T00:00:00\",\"2017-06-11T00:00:00\",\"2017-06-18T00:00:00\",\"2017-06-25T00:00:00\",\"2017-07-02T00:00:00\",\"2017-07-09T00:00:00\",\"2017-07-16T00:00:00\",\"2017-07-23T00:00:00\",\"2017-07-30T00:00:00\",\"2017-08-06T00:00:00\",\"2017-08-13T00:00:00\",\"2017-08-20T00:00:00\",\"2017-08-27T00:00:00\",\"2017-09-03T00:00:00\",\"2017-09-10T00:00:00\",\"2017-09-17T00:00:00\",\"2017-09-24T00:00:00\",\"2017-10-01T00:00:00\",\"2017-10-08T00:00:00\",\"2017-10-15T00:00:00\",\"2017-10-22T00:00:00\",\"2017-10-29T00:00:00\",\"2017-11-05T00:00:00\",\"2017-11-12T00:00:00\",\"2017-11-19T00:00:00\",\"2017-11-26T00:00:00\",\"2017-12-03T00:00:00\",\"2017-12-10T00:00:00\",\"2017-12-17T00:00:00\",\"2017-12-24T00:00:00\",\"2017-12-31T00:00:00\",\"2018-01-07T00:00:00\",\"2018-01-14T00:00:00\",\"2018-01-21T00:00:00\",\"2018-01-28T00:00:00\",\"2018-02-04T00:00:00\",\"2018-02-11T00:00:00\",\"2018-02-18T00:00:00\",\"2018-02-25T00:00:00\",\"2018-03-04T00:00:00\",\"2018-03-11T00:00:00\",\"2018-03-18T00:00:00\",\"2018-03-25T00:00:00\",\"2018-04-01T00:00:00\",\"2018-04-08T00:00:00\",\"2018-04-15T00:00:00\",\"2018-04-22T00:00:00\",\"2018-04-29T00:00:00\",\"2018-05-06T00:00:00\",\"2018-05-13T00:00:00\",\"2018-05-20T00:00:00\",\"2018-05-27T00:00:00\",\"2018-06-03T00:00:00\",\"2018-06-10T00:00:00\",\"2018-06-17T00:00:00\",\"2018-06-24T00:00:00\",\"2018-07-01T00:00:00\",\"2018-07-08T00:00:00\",\"2018-07-15T00:00:00\",\"2018-07-22T00:00:00\",\"2018-07-29T00:00:00\",\"2018-08-05T00:00:00\",\"2018-08-12T00:00:00\",\"2018-08-19T00:00:00\",\"2018-08-26T00:00:00\",\"2018-09-02T00:00:00\",\"2018-09-09T00:00:00\",\"2018-09-16T00:00:00\",\"2018-09-23T00:00:00\",\"2018-09-30T00:00:00\",\"2018-10-07T00:00:00\",\"2018-10-14T00:00:00\",\"2018-10-21T00:00:00\",\"2018-10-28T00:00:00\",\"2018-11-04T00:00:00\",\"2018-11-11T00:00:00\",\"2018-11-18T00:00:00\",\"2018-11-25T00:00:00\",\"2018-12-02T00:00:00\",\"2018-12-09T00:00:00\",\"2018-12-16T00:00:00\",\"2018-12-23T00:00:00\",\"2018-12-30T00:00:00\",\"2019-01-06T00:00:00\",\"2019-01-13T00:00:00\",\"2019-01-20T00:00:00\",\"2019-01-27T00:00:00\",\"2019-02-03T00:00:00\",\"2019-02-10T00:00:00\",\"2019-02-17T00:00:00\",\"2019-02-24T00:00:00\",\"2019-03-03T00:00:00\",\"2019-03-10T00:00:00\",\"2019-03-17T00:00:00\",\"2019-03-24T00:00:00\",\"2019-03-31T00:00:00\",\"2019-04-07T00:00:00\",\"2019-04-14T00:00:00\",\"2019-04-21T00:00:00\",\"2019-04-28T00:00:00\",\"2019-05-05T00:00:00\",\"2019-05-12T00:00:00\",\"2019-05-19T00:00:00\",\"2019-05-26T00:00:00\",\"2019-06-02T00:00:00\",\"2019-06-09T00:00:00\",\"2019-06-16T00:00:00\",\"2019-06-23T00:00:00\",\"2019-06-30T00:00:00\",\"2019-07-07T00:00:00\",\"2019-07-14T00:00:00\",\"2019-07-21T00:00:00\",\"2019-07-28T00:00:00\",\"2019-08-04T00:00:00\",\"2019-08-11T00:00:00\",\"2019-08-18T00:00:00\",\"2019-08-25T00:00:00\",\"2019-09-01T00:00:00\",\"2019-09-08T00:00:00\",\"2019-09-15T00:00:00\",\"2019-09-22T00:00:00\",\"2019-09-29T00:00:00\",\"2019-10-06T00:00:00\",\"2019-10-13T00:00:00\",\"2019-10-20T00:00:00\",\"2019-10-27T00:00:00\",\"2019-11-03T00:00:00\",\"2019-11-10T00:00:00\",\"2019-11-17T00:00:00\",\"2019-11-24T00:00:00\",\"2019-12-01T00:00:00\",\"2019-12-08T00:00:00\",\"2019-12-15T00:00:00\",\"2019-12-22T00:00:00\",\"2019-12-29T00:00:00\",\"2020-01-05T00:00:00\",\"2020-01-12T00:00:00\",\"2020-01-19T00:00:00\",\"2020-01-26T00:00:00\",\"2020-02-02T00:00:00\",\"2020-02-09T00:00:00\",\"2020-02-16T00:00:00\",\"2020-02-23T00:00:00\",\"2020-03-01T00:00:00\",\"2020-03-08T00:00:00\",\"2020-03-15T00:00:00\",\"2020-03-22T00:00:00\",\"2020-03-29T00:00:00\",\"2020-04-05T00:00:00\",\"2020-04-12T00:00:00\",\"2020-04-19T00:00:00\",\"2020-04-26T00:00:00\",\"2020-05-03T00:00:00\",\"2020-05-10T00:00:00\",\"2020-05-17T00:00:00\",\"2020-05-24T00:00:00\",\"2020-05-31T00:00:00\",\"2020-06-07T00:00:00\",\"2020-06-14T00:00:00\",\"2020-06-21T00:00:00\",\"2020-06-28T00:00:00\",\"2020-07-05T00:00:00\",\"2020-07-12T00:00:00\",\"2020-07-19T00:00:00\",\"2020-07-26T00:00:00\",\"2020-08-02T00:00:00\",\"2020-08-09T00:00:00\",\"2020-08-16T00:00:00\",\"2020-08-23T00:00:00\",\"2020-08-30T00:00:00\",\"2020-09-06T00:00:00\",\"2020-09-13T00:00:00\",\"2020-09-20T00:00:00\",\"2020-09-27T00:00:00\",\"2020-10-04T00:00:00\",\"2020-10-11T00:00:00\",\"2020-10-18T00:00:00\",\"2020-10-25T00:00:00\",\"2020-11-01T00:00:00\",\"2020-11-08T00:00:00\",\"2020-11-15T00:00:00\",\"2020-11-22T00:00:00\",\"2020-11-29T00:00:00\",\"2020-12-06T00:00:00\",\"2020-12-13T00:00:00\",\"2020-12-20T00:00:00\",\"2020-12-27T00:00:00\",\"2021-01-03T00:00:00\",\"2021-01-10T00:00:00\",\"2021-01-17T00:00:00\",\"2021-01-24T00:00:00\",\"2021-01-31T00:00:00\",\"2021-02-07T00:00:00\",\"2021-02-14T00:00:00\",\"2021-02-21T00:00:00\",\"2021-02-28T00:00:00\",\"2021-03-07T00:00:00\",\"2021-03-14T00:00:00\",\"2021-03-21T00:00:00\",\"2021-03-28T00:00:00\",\"2021-04-04T00:00:00\",\"2021-04-11T00:00:00\",\"2021-04-18T00:00:00\",\"2021-04-25T00:00:00\",\"2021-05-02T00:00:00\",\"2021-05-09T00:00:00\",\"2021-05-16T00:00:00\",\"2021-05-23T00:00:00\",\"2021-05-30T00:00:00\",\"2021-06-06T00:00:00\",\"2021-06-13T00:00:00\",\"2021-06-20T00:00:00\",\"2021-06-27T00:00:00\",\"2021-07-04T00:00:00\",\"2021-07-11T00:00:00\",\"2021-07-18T00:00:00\",\"2021-07-25T00:00:00\",\"2021-08-01T00:00:00\",\"2021-08-08T00:00:00\",\"2021-08-15T00:00:00\",\"2021-08-22T00:00:00\",\"2021-08-29T00:00:00\",\"2021-09-05T00:00:00\",\"2021-09-12T00:00:00\",\"2021-09-19T00:00:00\",\"2021-09-26T00:00:00\",\"2021-10-03T00:00:00\",\"2021-10-10T00:00:00\",\"2021-10-17T00:00:00\",\"2021-10-24T00:00:00\",\"2021-10-31T00:00:00\",\"2021-11-07T00:00:00\",\"2021-11-14T00:00:00\",\"2021-11-21T00:00:00\",\"2021-11-28T00:00:00\",\"2021-12-05T00:00:00\",\"2021-12-12T00:00:00\",\"2021-12-19T00:00:00\",\"2021-12-26T00:00:00\",\"2022-01-02T00:00:00\",\"2022-01-09T00:00:00\"],\"xaxis\":\"x\",\"y\":[28.5746835443038,27.384297520661157,25.762820512820515,25.31622746185853,25.009248554913295,25.025862068965516,23.813583815028903,23.218673218673217,24.08211678832117,24.85282258064516,24.016501650165015,25.969314079422382,22.96719160104987,21.101289134438307,22.134765625,22.992957746478872,22.052459016393442,23.382857142857144,22.576923076923077,21.503957783641162,23.786206896551725,24.381418092909534,23.460773480662983,23.66933867735471,23.007481296758105,23.163636363636364,22.292857142857144,24.644913627639156,24.82232346241458,23.599109131403118,23.742857142857144,23.956947162426616,23.139344262295083,24.842512077294685,21.8311209439528,25.046511627906977,21.664728682170544,23.28652321630804,23.192145862552593,23.019417475728154,22.042687193841846,23.59305210918114,19.326910299003323,22.298331697742885,23.45965270684372,22.577992744860943,22.925498426023086,21.407990314769975,21.768568353067813,21.105646630236794,20.975970425138634,21.033175355450236,20.801972062448645,21.62513661202186,24.43159922928709,22.468452895419187,22.273628048780488,23.97142857142857,21.751923076923077,21.985897435897435,22.641768292682926,24.745247148288975,22.9375,22.87534321801208,21.93001261034048,22.183108587650818,23.949367088607595,21.112845990063875,22.402560455192035,22.378031383737518,23.068350668647845,22.729492798998123,22.799346405228757,21.694792671166827,22.559825960841188,21.096521739130434,21.063467492260063,21.242214532871973,22.252467105263158,22.87037037037037,21.335173501577287,22.22495606326889,21.11373873873874,20.749861033907727,21.52858060372511,22.211469534050178,22.032569974554708,22.408362989323845,21.57151589242054,21.262461402734893,22.116599910992434,21.577444682369737,20.46909090909091,19.752369668246445,19.931185944363104,20.283236994219653,20.316270566727606,20.172043010752688,21.247244094488188,21.187707641196013,19.75072463768116,20.596649484536083,20.943714821763603,19.536496350364963,20.525352112676057,20.910714285714285,20.592539454806314,19.852941176470587,19.902552204176335,21.15688775510204,20.799336650082918,20.64848484848485,20.056375838926176,22.316062176165804,21.22093023255814,22.419600380589916,19.78985507246377,19.853018372703414,21.366701791359326,20.380434782608695,21.520793950850663,22.256124721603562,22.083289404322613,21.573141486810552,22.314643188137165,22.24021164021164,21.980068060281965,22.267674858223064,21.104545454545455,21.24889342866871,21.248337028824835,20.73137417218543,20.87104430379747,20.881286982248522,20.453534031413614,21.182267531665122,20.29046052631579,20.546420006851662,21.408339076498965,20.962075848303392,22.158593231585932,21.348091603053437,20.818664169787766,21.50181488203267,20.44734360264068,20.647169811320754,20.9821875,21.93063063063063,22.252380952380953,20.335064935064935,22.147445624683865,20.74099441907661,21.29984817813765,20.95359394703657,21.283046396264954,22.182185067742864,21.730850316233308,21.319136350192252,22.076221828310963,22.297855648535563,21.37893296853625,21.443437671609004,21.28241123038811,21.40105078809107,21.690159574468087,22.353571428571428,22.78062283737024,22.284986413043477,22.970114268971578,22.32190047793084,22.512327981651374,21.366631523458093,22.271061338763044,22.68208638187397,22.231599607458293,22.387138429752067,22.703675538656526,21.840169356972744,22.4242355605889,22.08830424589737,22.241549876339654,21.898441698011823,21.647267206477732,21.423851550124464,21.772459016393444,21.342798727850976,22.362283964121637,21.459374242056754,21.82056936647955,21.764292635658915,21.590396221464182,21.63371322554996,22.09835556934533,21.902680965147454,21.921313331446363,21.399588356365776,21.34439528023599,22.24814391776128,21.794396851122944,21.936025408348456,21.819429077229476,21.969780911609167,22.103594678743278,22.2240509689408,22.523626373626374,23.27765667574932,22.562368421052632,23.015550618851158,22.575119617224882,23.11722413254142,22.506670902160103,23.054839775355138,22.83163116428363,22.897741147741147,23.183732057416268,23.23437069677775,23.20075427908326,23.201322979580098,22.465892597968068,21.957668832447332,22.74376590330789,22.675688856376492,22.56,23.029714030384273,22.516689847009737,22.213697340550716,23.002423067603587,22.868751480691778,22.669954476479514,22.325189347666747,22.793129016312406,22.50607822410148,22.559887869520896,23.109358288770053,22.48915784165406,22.632618235007314,22.75836431226766,22.708615049073064,22.543155092078987,23.55230596175478,23.47869010353961,23.248356095093577,22.941272051996286,22.359229898074744,22.846296787894875,22.44170890658943,22.63914373088685,23.40537745604964,22.775853658536587,23.032750112157917,22.961788788578627,23.60268270120259,22.80922782691848,22.86381527158226,23.084787350054526,22.872432158255137,23.02728942534768,23.30334375751744,22.761772853185594,22.78858977525315,23.015448749386955,22.604862475442044,22.375302078298695,22.25262154432793,23.29293493437587,23.328549060542798,23.411455596426695,23.161939143888603,23.66318131256952,23.868159778342186,24.060579064587973,23.333683105981113,23.62540716612378,23.497226911020014,24.01090165796048,23.406445837063565,23.33220747889023,23.37158203125,23.801782273603084,23.83482035206173,23.345733041575492,23.073421439060205,23.48743595999024,23.505139500734213,23.309695719443013,23.005103411227505,22.983492391023987,23.439734532220083,23.38148058837714,23.860297332750328,23.16889912097112,23.485960689931808,23.283777874945343,23.591090691170596,23.890692217442314,22.785252755606233,23.96695156695157,23.857327665865828,23.823029045643153,24.37770775896022,24.218845500848897,24.3483989021043,23.574040586698814,23.366779932040775,25.03157670151483,25.48540706605223,25.654809843400447,25.384546068934444,25.15448439352035,24.577521008403362,24.811965811965813,24.749198520345253,25.54054054054054,24.49447646493756,25.14523413358688,25.00741981809478,25.4618866126727,25.005274019720247,25.05659945004583,24.857947875088048,25.21178154066301,25.576683291770575,25.221005154639176,26.155525846702318,26.297309941520467,26.489513609995537,25.946611909650922,26.240490542506755,26.631820265933058,25.811787072243344,25.96283783783784,25.779597256030094,26.412659902955447,26.022379032258065,26.154792899408285,26.442438402718775,25.528954958952742,25.10569993448351,24.92173491640417,25.579339963833636,26.00477267018337,26.3527950310559,26.21323367773137,26.214345637583893,26.39595002154244,25.801647785787846,25.288493874609657,25.373319544984486,25.746281714785653,25.961231962093475,25.4542469352014,25.78355061349693,26.4671305621681,25.58524622326859,25.89929742388759,26.326860841423947,26.13331988705123,26.244210935979762,26.22157320872274,26.816226071103006,26.233278658647713,25.642857142857142,25.880788177339902,26.066986644407347,25.705626888217523,25.549902996335415,25.84060643310797,26.152851388594446,25.922691637630663,26.174289008455034,26.175748752079866,26.196109567288605,26.43329278183293,25.527870062753784,26.35077115464777,26.086590296495956,26.416184971098264,26.746759346233326,26.64189048511347,25.788206754991602,26.329581103524635,26.379710144927536,26.210162213740457,27.21438988818668,25.700831024930746,26.329333673729895,25.974600394131816,26.386255924170616,27.500865693791738,26.004086021505376,26.128611556982342,26.483833268406702,26.871397336513617,26.789226726726728,26.829775974598693,27.36310718586913,27.552663195835002,26.94287109375,26.747606437156243,26.628207989288104,26.3338519671038,26.504195962803358,26.097496389022627,26.768268410577196,26.355222190772714,26.859393097058142,26.81977186311787,26.445646573930965,26.506939371804236,27.384877384196184,26.345866364665913,26.053844584947992,26.18009581881533,25.450835271727637,25.842177403563735,26.3390792942608,26.350832266325224,25.717023255813952,26.180404354587868,25.35304247990815,26.55845797345692,26.76074648773328,26.910550924984754,26.647457627118644,26.2472516075503,26.98196555217832,26.988388673864332,27.10966108297624,26.795872496935022,26.696767466110533,26.543259557344065,27.384615384615383,26.676939655172415,27.054696515116547,27.478368078906076,27.127719298245616,27.18509785427965,26.682867061466204,26.59358523725835,27.175010979358806,27.606366960636695,26.763219284603423,26.908163265306122,27.504269943761717,27.338354806739346,27.04598393574297,26.74359512809744,27.611586809983603,28.327521121696925,27.204050439434468,27.894103727075528,27.757344064386317,27.45829875518672,27.239191353082465,27.503982477100756,27.312090395480226,26.329606856716975,27.394411102775695,27.499823633156968,27.284302759134974,26.879124636690033,27.346693756926488,27.725167712616315,27.9419328079635,27.24519042010208,27.48060917301222,27.169633348547087,27.610929319371728,27.58947169096762,27.539676350165724,27.520036101083033,28.221798053063562,27.71238060911876,28.51679434295816,27.86088464874241,29.28474885844749,27.865570934256056,28.439035842854906,27.66266238301439,28.978042959427206,28.21973986228003,28.184462809917356,26.860665478312537,26.793635938231166,27.483016304347824,28.10111972437554,27.2584073880467,27.196994446259392,28.487700117141742,28.625900609643452,29.278994974874372,28.49429721569943,29.332908569608154,28.399571593343218,28.403088042049934,28.681277728482698,28.860963428387304,28.491446094254357,27.904852220641693,29.481354184567795,29.79492568683381,27.75,28.27908624048167,28.264207980652962,28.032842582106454,28.367964601769913,28.258001768346595,27.804956896551722,28.815681780978885,28.68917040012359,28.285506190823014,28.290253539677312,28.262233783124696,28.380781173394347,28.728813559322035,28.995409836065573,28.283664122137406,28.96097337006428,29.443279452453766,29.201811776547558,28.128079649004388,29.004461335095836,29.005734310289903,29.013282125140023,28.81608226567768,28.964518695306285,29.19118367346939,28.863711995159584,29.30966041246705,27.81653823355068,28.67533718689788,29.524091688757213,29.682726974762375,29.296546937359015,29.423812028756796,28.288022655339,28.670378619153674,28.859270414993308,28.846681922196797,28.942553544745145,29.39179655455291,29.18499095840868,30.223272188252732,29.108957323745507,30.80386373691196,29.880945213726672,29.38506079907354,29.056696905016008,30.535289115646258,30.331547864304355,31.15669249265295,31.710557184750733,31.558065279091768,30.93863067074868,30.22551674982181,30.610494752623687,30.027900552486187,31.664630512514897,32.392922794117645,31.668984700973574,32.07637886225816,32.178612716763006,32.45606453471622,32.37018837018837,30.794255284815232,32.021026809181706,33.06360708534621,31.99085520745131,31.676842429848904,31.680345245305876,32.58242535729447,33.10806150308952,32.554821267647945,32.44502176660581,32.82783190344627,33.25575589459085,33.60105610561056,33.46622931265841,32.61447230145624,33.13234660152321,33.317234581807945,33.605160516051605,33.5696675900277,34.88309405215353,34.15064899199116,33.81252731245448,33.82651581085001,33.590589673082796,33.31357818586533,32.84705882352941,33.002722323049,33.19353448275862,34.1493841306216,33.00373192349557,32.90832249674902,33.74822476072862,34.403951367781154,34.755966877739894,34.60758247168882,34.72665858305907,34.50053920813434,35.2029302795554,35.76082196395486,35.929376156045066,36.949396282729616,37.13855695053699,36.215291445874335,34.93779160186625,34.71125584502338,35.246755119700026,36.62075642184071,34.63928325292901,35.608257951561136,36.45528569422996,36.33964062074598,35.0107786129627,36.12447434819176,34.893656469341806,35.48123495255629,35.65761710507807,35.38292128445581,36.55504213101386,36.89715257118572,36.284802552852014,35.552191345223285,36.36669760042423,36.161048177971885,35.370438996579246,35.68830591373944,36.1677578932053,35.499450398461114,37.068717948717946,35.38904253918083,36.115237815619494,35.97611064543168,36.020085884471534,36.59019108280255,36.1601282051282,36.03284823284823,35.603896953053486,35.742774928062055,36.05267423014587,35.66692015209126,36.487877997914495,36.897053338306605,37.581389287110646,36.71831810728508,37.05578990338822,37.09671454985066,37.22376307439182,36.50875847078379,36.999245055110975,37.4054222499221,37.94341265235055,38.546765799256505,38.59431375378843,39.46978139734248,39.171736619175974,38.1070480684164,36.62520122932826,38.199034805498684,37.484458134976194,36.00105177048031,36.334727385377946,38.919252239387255,36.658471676593585,37.40773100344189,38.49149437320073,37.692088275033775,38.485353399623754,37.51893070215695,37.930842889230405,38.313704496788006,39.101679731243,39.05937677053824,38.94911257291796,38.29145342886387,38.61952165481577,38.38284680960992,38.98447361777329,37.82594316511514,37.264095335725266,37.87997531626041,38.5436687821094,39.79638819961401,41.03675300245985,39.752968772907195,39.69965870307167,40.309536082474224,39.90965917547254,39.55905077262693,39.506351591312665,39.72617469435852,39.260340252848444,39.83148668761369,40.314516129032256,41.114111111111114,40.900600092321895,40.58172105111175,39.94282065834279,39.74941141848146,40.82099708373837,38.87360703812317,39.4165281764617,39.722590593677715,39.14806347498655,39.96781767955801,40.19956225054719,41.01925906112077,41.59604555124515,40.388309710671194,40.23698123182659,40.43069448413833,39.97138196915777,40.49553282403211,40.8156569510148,40.19277576385293,39.69692511402089,39.872331217541834,39.72233727810651,39.64973882762623,40.21291263423041,40.48548199767712,40.6883098391001,40.15470752909975,40.432651877627954,39.59785167745733,40.46398705152414,41.20561163895487,41.08471917163477,40.61268598277212,40.12466926070039,40.684316146958935,40.20008674280758,39.671306690615175,40.13547682222569,40.46519035340513,40.768099385977436,40.96957787481805,41.103761948812824,41.0452858203415,41.733976895078335,40.97643458301454,41.31604584527221,39.40758807588076,39.85193289569657,39.899054589813964,39.33847736625514,39.43913043478261,39.73205068043172,40.35367714372902,40.8102247546692,40.22293729372937,41.600399315459214,40.89645978373574,40.03856041131105,40.91155853840418,40.7582656612529,40.747373094568594,40.010114335971856,40.629056266746055,41.63413333333333,40.37696757702139,39.39688415856856,39.628992961559284,39.346108721157606,39.71385065172372,37.53115246792278,38.44022598870057,37.87451294980518,37.70062083237526,39.02982107355865,39.11642857142857,39.1320987654321,39.47793438077634,39.32745726495727,38.62633451957296,38.48664717348928,38.95897536559034,38.66452205882353,38.9799604854643,38.747559010332736,39.633800096571704,39.42059917759937,39.23160027008778,39.678780657332936,39.951781759613446,38.60286783042394,39.26954471249773,38.16875981161695,37.57476171564734,38.22289266776376,38.56873409948241,38.30421634698462,38.50027312454479,38.88644233330374,39.29575163398693,38.83670254660016,38.9961632041924,38.97968967921897,38.21595636498105,38.22066885964912,38.534104046242774,38.2521643028182,38.36623853211009,39.042635658914726,38.32957531575824,38.76580184572523,38.797570850202426,40.0218012185834,39.010247651579846,38.6860561435803,39.56822865334647,40.363056226284925,39.56589263047861,39.72696591292609,38.94129771621733,38.21323892639552,39.03700053074532,38.51429502321414,39.1076827177809,38.96253742212153,38.87751428347813,38.58901366139761,38.58988421694089,38.80587191243899,39.005846375247344,39.095142805166454,38.710873440285205,38.68095671604734,38.7330164085263,38.556510134289766,38.01590519257758,38.097804391217565,38.333919156414765,38.07239507682899,38.056560741979624,37.896644899797344,38.210530196888136,38.688277881721305,38.93685872138911,39.11781259507149,38.098348234580996,38.13517069455024,38.06930557457883,38.319850609541255,38.76428812986135,38.79394088065742,38.38808929827928,38.88933341937149,38.05687877710629,38.14652786135516,38.863945578231295,39.495677787026956,39.275377590446084,39.32475013881177,38.769925322471146,39.14749243545999,38.334650688424276,38.46124668099633,38.74243684042213,38.5350221575501,38.452677966101696,38.980279208457574,38.29228208862076,38.62821982264583,38.68407038666358,37.3232104121475],\"yaxis\":\"y\",\"type\":\"scatter\"}],                        {\"template\":{\"data\":{\"histogram2dcontour\":[{\"type\":\"histogram2dcontour\",\"colorbar\":{\"outlinewidth\":0,\"ticks\":\"\"},\"colorscale\":[[0.0,\"#0d0887\"],[0.1111111111111111,\"#46039f\"],[0.2222222222222222,\"#7201a8\"],[0.3333333333333333,\"#9c179e\"],[0.4444444444444444,\"#bd3786\"],[0.5555555555555556,\"#d8576b\"],[0.6666666666666666,\"#ed7953\"],[0.7777777777777778,\"#fb9f3a\"],[0.8888888888888888,\"#fdca26\"],[1.0,\"#f0f921\"]]}],\"choropleth\":[{\"type\":\"choropleth\",\"colorbar\":{\"outlinewidth\":0,\"ticks\":\"\"}}],\"histogram2d\":[{\"type\":\"histogram2d\",\"colorbar\":{\"outlinewidth\":0,\"ticks\":\"\"},\"colorscale\":[[0.0,\"#0d0887\"],[0.1111111111111111,\"#46039f\"],[0.2222222222222222,\"#7201a8\"],[0.3333333333333333,\"#9c179e\"],[0.4444444444444444,\"#bd3786\"],[0.5555555555555556,\"#d8576b\"],[0.6666666666666666,\"#ed7953\"],[0.7777777777777778,\"#fb9f3a\"],[0.8888888888888888,\"#fdca26\"],[1.0,\"#f0f921\"]]}],\"heatmap\":[{\"type\":\"heatmap\",\"colorbar\":{\"outlinewidth\":0,\"ticks\":\"\"},\"colorscale\":[[0.0,\"#0d0887\"],[0.1111111111111111,\"#46039f\"],[0.2222222222222222,\"#7201a8\"],[0.3333333333333333,\"#9c179e\"],[0.4444444444444444,\"#bd3786\"],[0.5555555555555556,\"#d8576b\"],[0.6666666666666666,\"#ed7953\"],[0.7777777777777778,\"#fb9f3a\"],[0.8888888888888888,\"#fdca26\"],[1.0,\"#f0f921\"]]}],\"heatmapgl\":[{\"type\":\"heatmapgl\",\"colorbar\":{\"outlinewidth\":0,\"ticks\":\"\"},\"colorscale\":[[0.0,\"#0d0887\"],[0.1111111111111111,\"#46039f\"],[0.2222222222222222,\"#7201a8\"],[0.3333333333333333,\"#9c179e\"],[0.4444444444444444,\"#bd3786\"],[0.5555555555555556,\"#d8576b\"],[0.6666666666666666,\"#ed7953\"],[0.7777777777777778,\"#fb9f3a\"],[0.8888888888888888,\"#fdca26\"],[1.0,\"#f0f921\"]]}],\"contourcarpet\":[{\"type\":\"contourcarpet\",\"colorbar\":{\"outlinewidth\":0,\"ticks\":\"\"}}],\"contour\":[{\"type\":\"contour\",\"colorbar\":{\"outlinewidth\":0,\"ticks\":\"\"},\"colorscale\":[[0.0,\"#0d0887\"],[0.1111111111111111,\"#46039f\"],[0.2222222222222222,\"#7201a8\"],[0.3333333333333333,\"#9c179e\"],[0.4444444444444444,\"#bd3786\"],[0.5555555555555556,\"#d8576b\"],[0.6666666666666666,\"#ed7953\"],[0.7777777777777778,\"#fb9f3a\"],[0.8888888888888888,\"#fdca26\"],[1.0,\"#f0f921\"]]}],\"surface\":[{\"type\":\"surface\",\"colorbar\":{\"outlinewidth\":0,\"ticks\":\"\"},\"colorscale\":[[0.0,\"#0d0887\"],[0.1111111111111111,\"#46039f\"],[0.2222222222222222,\"#7201a8\"],[0.3333333333333333,\"#9c179e\"],[0.4444444444444444,\"#bd3786\"],[0.5555555555555556,\"#d8576b\"],[0.6666666666666666,\"#ed7953\"],[0.7777777777777778,\"#fb9f3a\"],[0.8888888888888888,\"#fdca26\"],[1.0,\"#f0f921\"]]}],\"mesh3d\":[{\"type\":\"mesh3d\",\"colorbar\":{\"outlinewidth\":0,\"ticks\":\"\"}}],\"scatter\":[{\"marker\":{\"line\":{\"color\":\"#283442\"}},\"type\":\"scatter\"}],\"parcoords\":[{\"type\":\"parcoords\",\"line\":{\"colorbar\":{\"outlinewidth\":0,\"ticks\":\"\"}}}],\"scatterpolargl\":[{\"type\":\"scatterpolargl\",\"marker\":{\"colorbar\":{\"outlinewidth\":0,\"ticks\":\"\"}}}],\"bar\":[{\"error_x\":{\"color\":\"#f2f5fa\"},\"error_y\":{\"color\":\"#f2f5fa\"},\"marker\":{\"line\":{\"color\":\"rgb(17,17,17)\",\"width\":0.5},\"pattern\":{\"fillmode\":\"overlay\",\"size\":10,\"solidity\":0.2}},\"type\":\"bar\"}],\"scattergeo\":[{\"type\":\"scattergeo\",\"marker\":{\"colorbar\":{\"outlinewidth\":0,\"ticks\":\"\"}}}],\"scatterpolar\":[{\"type\":\"scatterpolar\",\"marker\":{\"colorbar\":{\"outlinewidth\":0,\"ticks\":\"\"}}}],\"histogram\":[{\"marker\":{\"pattern\":{\"fillmode\":\"overlay\",\"size\":10,\"solidity\":0.2}},\"type\":\"histogram\"}],\"scattergl\":[{\"marker\":{\"line\":{\"color\":\"#283442\"}},\"type\":\"scattergl\"}],\"scatter3d\":[{\"type\":\"scatter3d\",\"line\":{\"colorbar\":{\"outlinewidth\":0,\"ticks\":\"\"}},\"marker\":{\"colorbar\":{\"outlinewidth\":0,\"ticks\":\"\"}}}],\"scattermapbox\":[{\"type\":\"scattermapbox\",\"marker\":{\"colorbar\":{\"outlinewidth\":0,\"ticks\":\"\"}}}],\"scatterternary\":[{\"type\":\"scatterternary\",\"marker\":{\"colorbar\":{\"outlinewidth\":0,\"ticks\":\"\"}}}],\"scattercarpet\":[{\"type\":\"scattercarpet\",\"marker\":{\"colorbar\":{\"outlinewidth\":0,\"ticks\":\"\"}}}],\"carpet\":[{\"aaxis\":{\"endlinecolor\":\"#A2B1C6\",\"gridcolor\":\"#506784\",\"linecolor\":\"#506784\",\"minorgridcolor\":\"#506784\",\"startlinecolor\":\"#A2B1C6\"},\"baxis\":{\"endlinecolor\":\"#A2B1C6\",\"gridcolor\":\"#506784\",\"linecolor\":\"#506784\",\"minorgridcolor\":\"#506784\",\"startlinecolor\":\"#A2B1C6\"},\"type\":\"carpet\"}],\"table\":[{\"cells\":{\"fill\":{\"color\":\"#506784\"},\"line\":{\"color\":\"rgb(17,17,17)\"}},\"header\":{\"fill\":{\"color\":\"#2a3f5f\"},\"line\":{\"color\":\"rgb(17,17,17)\"}},\"type\":\"table\"}],\"barpolar\":[{\"marker\":{\"line\":{\"color\":\"rgb(17,17,17)\",\"width\":0.5},\"pattern\":{\"fillmode\":\"overlay\",\"size\":10,\"solidity\":0.2}},\"type\":\"barpolar\"}],\"pie\":[{\"automargin\":true,\"type\":\"pie\"}]},\"layout\":{\"autotypenumbers\":\"strict\",\"colorway\":[\"#636efa\",\"#EF553B\",\"#00cc96\",\"#ab63fa\",\"#FFA15A\",\"#19d3f3\",\"#FF6692\",\"#B6E880\",\"#FF97FF\",\"#FECB52\"],\"font\":{\"color\":\"#f2f5fa\"},\"hovermode\":\"closest\",\"hoverlabel\":{\"align\":\"left\"},\"paper_bgcolor\":\"rgb(17,17,17)\",\"plot_bgcolor\":\"rgb(17,17,17)\",\"polar\":{\"bgcolor\":\"rgb(17,17,17)\",\"angularaxis\":{\"gridcolor\":\"#506784\",\"linecolor\":\"#506784\",\"ticks\":\"\"},\"radialaxis\":{\"gridcolor\":\"#506784\",\"linecolor\":\"#506784\",\"ticks\":\"\"}},\"ternary\":{\"bgcolor\":\"rgb(17,17,17)\",\"aaxis\":{\"gridcolor\":\"#506784\",\"linecolor\":\"#506784\",\"ticks\":\"\"},\"baxis\":{\"gridcolor\":\"#506784\",\"linecolor\":\"#506784\",\"ticks\":\"\"},\"caxis\":{\"gridcolor\":\"#506784\",\"linecolor\":\"#506784\",\"ticks\":\"\"}},\"coloraxis\":{\"colorbar\":{\"outlinewidth\":0,\"ticks\":\"\"}},\"colorscale\":{\"sequential\":[[0.0,\"#0d0887\"],[0.1111111111111111,\"#46039f\"],[0.2222222222222222,\"#7201a8\"],[0.3333333333333333,\"#9c179e\"],[0.4444444444444444,\"#bd3786\"],[0.5555555555555556,\"#d8576b\"],[0.6666666666666666,\"#ed7953\"],[0.7777777777777778,\"#fb9f3a\"],[0.8888888888888888,\"#fdca26\"],[1.0,\"#f0f921\"]],\"sequentialminus\":[[0.0,\"#0d0887\"],[0.1111111111111111,\"#46039f\"],[0.2222222222222222,\"#7201a8\"],[0.3333333333333333,\"#9c179e\"],[0.4444444444444444,\"#bd3786\"],[0.5555555555555556,\"#d8576b\"],[0.6666666666666666,\"#ed7953\"],[0.7777777777777778,\"#fb9f3a\"],[0.8888888888888888,\"#fdca26\"],[1.0,\"#f0f921\"]],\"diverging\":[[0,\"#8e0152\"],[0.1,\"#c51b7d\"],[0.2,\"#de77ae\"],[0.3,\"#f1b6da\"],[0.4,\"#fde0ef\"],[0.5,\"#f7f7f7\"],[0.6,\"#e6f5d0\"],[0.7,\"#b8e186\"],[0.8,\"#7fbc41\"],[0.9,\"#4d9221\"],[1,\"#276419\"]]},\"xaxis\":{\"gridcolor\":\"#283442\",\"linecolor\":\"#506784\",\"ticks\":\"\",\"title\":{\"standoff\":15},\"zerolinecolor\":\"#283442\",\"automargin\":true,\"zerolinewidth\":2},\"yaxis\":{\"gridcolor\":\"#283442\",\"linecolor\":\"#506784\",\"ticks\":\"\",\"title\":{\"standoff\":15},\"zerolinecolor\":\"#283442\",\"automargin\":true,\"zerolinewidth\":2},\"scene\":{\"xaxis\":{\"backgroundcolor\":\"rgb(17,17,17)\",\"gridcolor\":\"#506784\",\"linecolor\":\"#506784\",\"showbackground\":true,\"ticks\":\"\",\"zerolinecolor\":\"#C8D4E3\",\"gridwidth\":2},\"yaxis\":{\"backgroundcolor\":\"rgb(17,17,17)\",\"gridcolor\":\"#506784\",\"linecolor\":\"#506784\",\"showbackground\":true,\"ticks\":\"\",\"zerolinecolor\":\"#C8D4E3\",\"gridwidth\":2},\"zaxis\":{\"backgroundcolor\":\"rgb(17,17,17)\",\"gridcolor\":\"#506784\",\"linecolor\":\"#506784\",\"showbackground\":true,\"ticks\":\"\",\"zerolinecolor\":\"#C8D4E3\",\"gridwidth\":2}},\"shapedefaults\":{\"line\":{\"color\":\"#f2f5fa\"}},\"annotationdefaults\":{\"arrowcolor\":\"#f2f5fa\",\"arrowhead\":0,\"arrowwidth\":1},\"geo\":{\"bgcolor\":\"rgb(17,17,17)\",\"landcolor\":\"rgb(17,17,17)\",\"subunitcolor\":\"#506784\",\"showland\":true,\"showlakes\":true,\"lakecolor\":\"rgb(17,17,17)\"},\"title\":{\"x\":0.05},\"updatemenudefaults\":{\"bgcolor\":\"#506784\",\"borderwidth\":0},\"sliderdefaults\":{\"bgcolor\":\"#C8D4E3\",\"borderwidth\":1,\"bordercolor\":\"rgb(17,17,17)\",\"tickwidth\":0},\"mapbox\":{\"style\":\"dark\"}}},\"xaxis\":{\"anchor\":\"y\",\"domain\":[0.0,1.0],\"title\":{\"text\":\"Creation time\"}},\"yaxis\":{\"anchor\":\"x\",\"domain\":[0.0,1.0],\"title\":{\"text\":\"Average tag count\"}},\"legend\":{\"title\":{\"text\":\"variable\"},\"tracegroupgap\":0},\"margin\":{\"t\":60},\"title\":{\"text\":\"Average post tag count over post creation time\",\"x\":0.5},\"showlegend\":false},                        {\"responsive\": true}                    ).then(function(){\n                            \nvar gd = document.getElementById('714e61ec-5fc8-439b-9bbd-c4711d335731');\nvar x = new MutationObserver(function (mutations, observer) {{\n        var display = window.getComputedStyle(gd).display;\n        if (!display || display === 'none') {{\n            console.log([gd, 'removed!']);\n            Plotly.purge(gd);\n            observer.disconnect();\n        }}\n}});\n\n// Listen for the removal of the full notebook cells\nvar notebookContainer = gd.closest('#notebook-container');\nif (notebookContainer) {{\n    x.observe(notebookContainer, {childList: true});\n}}\n\n// Listen for the clearing of the current output cell\nvar outputEl = gd.closest('.output');\nif (outputEl) {{\n    x.observe(outputEl, {childList: true});\n}}\n\n                        })                };                });            </script>        </div>"
     },
     "metadata": {},
     "output_type": "display_data"
    }
   ],
   "source": [
    "plot(\"post_tag_counts_and_time\", px.scatter(post_tag_counts_and_time_df).update_layout(\n",
    "    title=\"Average post tag count over post creation time\",\n",
    "    xaxis_title=\"Creation time\",\n",
    "    yaxis_title=\"Average tag count\",\n",
    "    showlegend=False,\n",
    "))"
   ],
   "metadata": {
    "collapsed": false
   }
  },
  {
   "cell_type": "code",
   "execution_count": 57,
   "outputs": [],
   "source": [
    "# Post score against tag count.\n",
    "post_scores_and_tag_count = [\n",
    "    {\n",
    "        \"tag_count\": len(post[\"tags\"]),\n",
    "        \"score\": post[\"score\"],\n",
    "    }\n",
    "    for post in posts.values()\n",
    "    if len(post[\"tags\"]) <= post_tag_count_cutoff\n",
    "]"
   ],
   "metadata": {
    "collapsed": false
   }
  },
  {
   "cell_type": "code",
   "execution_count": 58,
   "outputs": [],
   "source": [
    "post_scores_and_tag_count_df = pd.DataFrame(post_scores_and_tag_count)\n",
    "post_scores_and_tag_count_df = post_scores_and_tag_count_df.groupby(\"tag_count\").mean()"
   ],
   "metadata": {
    "collapsed": false
   }
  },
  {
   "cell_type": "code",
   "execution_count": 96,
   "outputs": [
    {
     "data": {
      "application/vnd.plotly.v1+json": {
       "data": [
        {
         "hovertemplate": "variable=score<br>tag_count=%{x}<br>value=%{y}<extra></extra>",
         "legendgroup": "score",
         "marker": {
          "color": "#636efa",
          "symbol": "circle"
         },
         "mode": "markers",
         "name": "score",
         "orientation": "v",
         "showlegend": true,
         "x": [
          1,
          2,
          3,
          4,
          5,
          6,
          7,
          8,
          9,
          10,
          11,
          12,
          13,
          14,
          15,
          16,
          17,
          18,
          19,
          20,
          21,
          22,
          23,
          24,
          25,
          26,
          27,
          28,
          29,
          30,
          31,
          32,
          33,
          34,
          35,
          36,
          37,
          38,
          39,
          40,
          41,
          42,
          43,
          44,
          45,
          46,
          47,
          48,
          49,
          50,
          51,
          52,
          53,
          54,
          55,
          56,
          57,
          58,
          59,
          60,
          61,
          62,
          63,
          64,
          65,
          66,
          67,
          68,
          69,
          70,
          71,
          72,
          73,
          74,
          75,
          76,
          77,
          78,
          79,
          80,
          81,
          82,
          83,
          84,
          85,
          86,
          87,
          88,
          89,
          90,
          91,
          92,
          93,
          94,
          95,
          96,
          97,
          98,
          99,
          100,
          101,
          102,
          103,
          104,
          105,
          106,
          107,
          108,
          109,
          110,
          111,
          112,
          113,
          114,
          115,
          116,
          117,
          118,
          119,
          120,
          121,
          122,
          123,
          124,
          125,
          126,
          127,
          128,
          129,
          130,
          131,
          132,
          133,
          134,
          135,
          136,
          137,
          138,
          139,
          140,
          141,
          142,
          143,
          144,
          145,
          146,
          147,
          148,
          149,
          150,
          151,
          152,
          153,
          154,
          155,
          156,
          157,
          158,
          159,
          160,
          161,
          162,
          163,
          164,
          165,
          166,
          167,
          168,
          169,
          170,
          171,
          172,
          173,
          174,
          175,
          176,
          177,
          178,
          179,
          180,
          181,
          182,
          183,
          184,
          185,
          186,
          187,
          188,
          189,
          190,
          191,
          192,
          193,
          194,
          195,
          196,
          197,
          198,
          199,
          200
         ],
         "xaxis": "x",
         "y": [
          -2.375,
          -1.4166666666666667,
          -1.0723404255319149,
          -0.8220338983050848,
          -0.5363036303630363,
          -0.3230769230769231,
          0.35585804569761786,
          1.0581595355837454,
          1.4935274149933835,
          1.8902216823565139,
          2.2764773548059174,
          2.5920190468438404,
          2.946264106888053,
          3.36353630721901,
          3.743839343457996,
          4.170048440752486,
          4.626560067547956,
          5.055059223026236,
          5.570099241365084,
          6.148299348961131,
          6.720132956075049,
          7.315889483018415,
          7.939817652966727,
          8.591748852208488,
          9.257651250145216,
          9.872852830820124,
          10.546248351405609,
          11.208123739961001,
          11.820673002963032,
          12.46530463635302,
          13.086477987421384,
          13.588780221777858,
          14.182368947218087,
          14.800003123121247,
          15.215225457314602,
          15.800570570063641,
          16.354399822498337,
          16.74191591053359,
          17.172657764482448,
          17.608181164779534,
          18.08444767281892,
          18.370553809851998,
          18.827780496680848,
          19.167696133483073,
          19.492985741034136,
          19.820807371789915,
          19.8279,
          20.133474155518243,
          20.469374533746908,
          20.843877918937835,
          21.06108827197561,
          21.52667901453835,
          21.44877105771886,
          21.646695397968717,
          22.197465854862596,
          22.22328119316115,
          22.53985016338567,
          22.460559128494552,
          22.509943044695433,
          23.075956873315363,
          23.11839559021873,
          23.039306656356725,
          23.01509407469812,
          23.298719660670802,
          23.839910966526837,
          23.090377358490567,
          22.86618181818182,
          23.24186736673896,
          22.363001745200698,
          23.08528496006498,
          23.188488775048967,
          22.732510956013634,
          23.380772686433065,
          22.207425343018564,
          23.249838605551968,
          22.36160188457008,
          22.97123950114533,
          22.99024526198439,
          21.336477030727107,
          21.325184192900203,
          21.915696649029982,
          23.170693686671864,
          22.337579617834393,
          22.123069723912025,
          22.40468909276249,
          22.37968495382944,
          23.215260545905707,
          21.9021113243762,
          20.76283783783784,
          20.620377358490565,
          20.073858921161825,
          21.55699481865285,
          19.83996120271581,
          19.374603174603173,
          20.55687973997833,
          21.351100811123985,
          21.22655298416565,
          21.012448132780083,
          20.660589060308556,
          20.9606656580938,
          16.991776315789473,
          19.81260945709282,
          19.476190476190474,
          17.042735042735043,
          18.97222222222222,
          18.871739130434783,
          17.631067961165048,
          17.216470588235293,
          18.957070707070706,
          15.941340782122905,
          19.299145299145298,
          16.349358974358974,
          14.318791946308725,
          15.28052805280528,
          17.8,
          17.19298245614035,
          16.42436974789916,
          15.266666666666667,
          14.81081081081081,
          19.333333333333332,
          17.533333333333335,
          15.530054644808743,
          14.06043956043956,
          15.479289940828401,
          20.58659217877095,
          16.0,
          15.649006622516556,
          16.664285714285715,
          16.30081300813008,
          15.029850746268657,
          16.07638888888889,
          14.875,
          15.236363636363636,
          12.336538461538462,
          14.206185567010309,
          15.601769911504425,
          15.588235294117647,
          16.666666666666668,
          14.666666666666666,
          11.380952380952381,
          12.864864864864865,
          14.6875,
          14.125,
          15.80952380952381,
          13.477611940298507,
          13.2,
          15.583333333333334,
          11.55072463768116,
          17.319444444444443,
          13.25,
          14.107142857142858,
          14.26865671641791,
          12.735849056603774,
          13.686274509803921,
          11.625,
          12.672413793103448,
          16.428571428571427,
          8.666666666666666,
          14.755555555555556,
          14.305555555555555,
          10.148148148148149,
          12.3,
          11.64102564102564,
          26.88235294117647,
          15.5,
          11.37037037037037,
          16.54054054054054,
          22.03448275862069,
          16.91176470588235,
          18.555555555555557,
          11.05,
          15.375,
          11.047619047619047,
          17.2,
          11.409090909090908,
          9.565217391304348,
          19.962962962962962,
          9.421052631578947,
          10.576923076923077,
          18.31578947368421,
          14.695652173913043,
          14.954545454545455,
          16.61904761904762,
          8.695652173913043,
          17.72222222222222,
          12.15,
          11.0,
          26.875,
          10.0,
          11.789473684210526,
          15.933333333333334,
          13.714285714285714,
          21.352941176470587,
          10.409090909090908,
          19.5,
          6.181818181818182,
          10.923076923076923,
          15.11111111111111,
          11.7,
          21.0
         ],
         "yaxis": "y",
         "type": "scatter"
        }
       ],
       "layout": {
        "template": {
         "data": {
          "histogram2dcontour": [
           {
            "type": "histogram2dcontour",
            "colorbar": {
             "outlinewidth": 0,
             "ticks": ""
            },
            "colorscale": [
             [
              0.0,
              "#0d0887"
             ],
             [
              0.1111111111111111,
              "#46039f"
             ],
             [
              0.2222222222222222,
              "#7201a8"
             ],
             [
              0.3333333333333333,
              "#9c179e"
             ],
             [
              0.4444444444444444,
              "#bd3786"
             ],
             [
              0.5555555555555556,
              "#d8576b"
             ],
             [
              0.6666666666666666,
              "#ed7953"
             ],
             [
              0.7777777777777778,
              "#fb9f3a"
             ],
             [
              0.8888888888888888,
              "#fdca26"
             ],
             [
              1.0,
              "#f0f921"
             ]
            ]
           }
          ],
          "choropleth": [
           {
            "type": "choropleth",
            "colorbar": {
             "outlinewidth": 0,
             "ticks": ""
            }
           }
          ],
          "histogram2d": [
           {
            "type": "histogram2d",
            "colorbar": {
             "outlinewidth": 0,
             "ticks": ""
            },
            "colorscale": [
             [
              0.0,
              "#0d0887"
             ],
             [
              0.1111111111111111,
              "#46039f"
             ],
             [
              0.2222222222222222,
              "#7201a8"
             ],
             [
              0.3333333333333333,
              "#9c179e"
             ],
             [
              0.4444444444444444,
              "#bd3786"
             ],
             [
              0.5555555555555556,
              "#d8576b"
             ],
             [
              0.6666666666666666,
              "#ed7953"
             ],
             [
              0.7777777777777778,
              "#fb9f3a"
             ],
             [
              0.8888888888888888,
              "#fdca26"
             ],
             [
              1.0,
              "#f0f921"
             ]
            ]
           }
          ],
          "heatmap": [
           {
            "type": "heatmap",
            "colorbar": {
             "outlinewidth": 0,
             "ticks": ""
            },
            "colorscale": [
             [
              0.0,
              "#0d0887"
             ],
             [
              0.1111111111111111,
              "#46039f"
             ],
             [
              0.2222222222222222,
              "#7201a8"
             ],
             [
              0.3333333333333333,
              "#9c179e"
             ],
             [
              0.4444444444444444,
              "#bd3786"
             ],
             [
              0.5555555555555556,
              "#d8576b"
             ],
             [
              0.6666666666666666,
              "#ed7953"
             ],
             [
              0.7777777777777778,
              "#fb9f3a"
             ],
             [
              0.8888888888888888,
              "#fdca26"
             ],
             [
              1.0,
              "#f0f921"
             ]
            ]
           }
          ],
          "heatmapgl": [
           {
            "type": "heatmapgl",
            "colorbar": {
             "outlinewidth": 0,
             "ticks": ""
            },
            "colorscale": [
             [
              0.0,
              "#0d0887"
             ],
             [
              0.1111111111111111,
              "#46039f"
             ],
             [
              0.2222222222222222,
              "#7201a8"
             ],
             [
              0.3333333333333333,
              "#9c179e"
             ],
             [
              0.4444444444444444,
              "#bd3786"
             ],
             [
              0.5555555555555556,
              "#d8576b"
             ],
             [
              0.6666666666666666,
              "#ed7953"
             ],
             [
              0.7777777777777778,
              "#fb9f3a"
             ],
             [
              0.8888888888888888,
              "#fdca26"
             ],
             [
              1.0,
              "#f0f921"
             ]
            ]
           }
          ],
          "contourcarpet": [
           {
            "type": "contourcarpet",
            "colorbar": {
             "outlinewidth": 0,
             "ticks": ""
            }
           }
          ],
          "contour": [
           {
            "type": "contour",
            "colorbar": {
             "outlinewidth": 0,
             "ticks": ""
            },
            "colorscale": [
             [
              0.0,
              "#0d0887"
             ],
             [
              0.1111111111111111,
              "#46039f"
             ],
             [
              0.2222222222222222,
              "#7201a8"
             ],
             [
              0.3333333333333333,
              "#9c179e"
             ],
             [
              0.4444444444444444,
              "#bd3786"
             ],
             [
              0.5555555555555556,
              "#d8576b"
             ],
             [
              0.6666666666666666,
              "#ed7953"
             ],
             [
              0.7777777777777778,
              "#fb9f3a"
             ],
             [
              0.8888888888888888,
              "#fdca26"
             ],
             [
              1.0,
              "#f0f921"
             ]
            ]
           }
          ],
          "surface": [
           {
            "type": "surface",
            "colorbar": {
             "outlinewidth": 0,
             "ticks": ""
            },
            "colorscale": [
             [
              0.0,
              "#0d0887"
             ],
             [
              0.1111111111111111,
              "#46039f"
             ],
             [
              0.2222222222222222,
              "#7201a8"
             ],
             [
              0.3333333333333333,
              "#9c179e"
             ],
             [
              0.4444444444444444,
              "#bd3786"
             ],
             [
              0.5555555555555556,
              "#d8576b"
             ],
             [
              0.6666666666666666,
              "#ed7953"
             ],
             [
              0.7777777777777778,
              "#fb9f3a"
             ],
             [
              0.8888888888888888,
              "#fdca26"
             ],
             [
              1.0,
              "#f0f921"
             ]
            ]
           }
          ],
          "mesh3d": [
           {
            "type": "mesh3d",
            "colorbar": {
             "outlinewidth": 0,
             "ticks": ""
            }
           }
          ],
          "scatter": [
           {
            "marker": {
             "line": {
              "color": "#283442"
             }
            },
            "type": "scatter"
           }
          ],
          "parcoords": [
           {
            "type": "parcoords",
            "line": {
             "colorbar": {
              "outlinewidth": 0,
              "ticks": ""
             }
            }
           }
          ],
          "scatterpolargl": [
           {
            "type": "scatterpolargl",
            "marker": {
             "colorbar": {
              "outlinewidth": 0,
              "ticks": ""
             }
            }
           }
          ],
          "bar": [
           {
            "error_x": {
             "color": "#f2f5fa"
            },
            "error_y": {
             "color": "#f2f5fa"
            },
            "marker": {
             "line": {
              "color": "rgb(17,17,17)",
              "width": 0.5
             },
             "pattern": {
              "fillmode": "overlay",
              "size": 10,
              "solidity": 0.2
             }
            },
            "type": "bar"
           }
          ],
          "scattergeo": [
           {
            "type": "scattergeo",
            "marker": {
             "colorbar": {
              "outlinewidth": 0,
              "ticks": ""
             }
            }
           }
          ],
          "scatterpolar": [
           {
            "type": "scatterpolar",
            "marker": {
             "colorbar": {
              "outlinewidth": 0,
              "ticks": ""
             }
            }
           }
          ],
          "histogram": [
           {
            "marker": {
             "pattern": {
              "fillmode": "overlay",
              "size": 10,
              "solidity": 0.2
             }
            },
            "type": "histogram"
           }
          ],
          "scattergl": [
           {
            "marker": {
             "line": {
              "color": "#283442"
             }
            },
            "type": "scattergl"
           }
          ],
          "scatter3d": [
           {
            "type": "scatter3d",
            "line": {
             "colorbar": {
              "outlinewidth": 0,
              "ticks": ""
             }
            },
            "marker": {
             "colorbar": {
              "outlinewidth": 0,
              "ticks": ""
             }
            }
           }
          ],
          "scattermapbox": [
           {
            "type": "scattermapbox",
            "marker": {
             "colorbar": {
              "outlinewidth": 0,
              "ticks": ""
             }
            }
           }
          ],
          "scatterternary": [
           {
            "type": "scatterternary",
            "marker": {
             "colorbar": {
              "outlinewidth": 0,
              "ticks": ""
             }
            }
           }
          ],
          "scattercarpet": [
           {
            "type": "scattercarpet",
            "marker": {
             "colorbar": {
              "outlinewidth": 0,
              "ticks": ""
             }
            }
           }
          ],
          "carpet": [
           {
            "aaxis": {
             "endlinecolor": "#A2B1C6",
             "gridcolor": "#506784",
             "linecolor": "#506784",
             "minorgridcolor": "#506784",
             "startlinecolor": "#A2B1C6"
            },
            "baxis": {
             "endlinecolor": "#A2B1C6",
             "gridcolor": "#506784",
             "linecolor": "#506784",
             "minorgridcolor": "#506784",
             "startlinecolor": "#A2B1C6"
            },
            "type": "carpet"
           }
          ],
          "table": [
           {
            "cells": {
             "fill": {
              "color": "#506784"
             },
             "line": {
              "color": "rgb(17,17,17)"
             }
            },
            "header": {
             "fill": {
              "color": "#2a3f5f"
             },
             "line": {
              "color": "rgb(17,17,17)"
             }
            },
            "type": "table"
           }
          ],
          "barpolar": [
           {
            "marker": {
             "line": {
              "color": "rgb(17,17,17)",
              "width": 0.5
             },
             "pattern": {
              "fillmode": "overlay",
              "size": 10,
              "solidity": 0.2
             }
            },
            "type": "barpolar"
           }
          ],
          "pie": [
           {
            "automargin": true,
            "type": "pie"
           }
          ]
         },
         "layout": {
          "autotypenumbers": "strict",
          "colorway": [
           "#636efa",
           "#EF553B",
           "#00cc96",
           "#ab63fa",
           "#FFA15A",
           "#19d3f3",
           "#FF6692",
           "#B6E880",
           "#FF97FF",
           "#FECB52"
          ],
          "font": {
           "color": "#f2f5fa"
          },
          "hovermode": "closest",
          "hoverlabel": {
           "align": "left"
          },
          "paper_bgcolor": "rgb(17,17,17)",
          "plot_bgcolor": "rgb(17,17,17)",
          "polar": {
           "bgcolor": "rgb(17,17,17)",
           "angularaxis": {
            "gridcolor": "#506784",
            "linecolor": "#506784",
            "ticks": ""
           },
           "radialaxis": {
            "gridcolor": "#506784",
            "linecolor": "#506784",
            "ticks": ""
           }
          },
          "ternary": {
           "bgcolor": "rgb(17,17,17)",
           "aaxis": {
            "gridcolor": "#506784",
            "linecolor": "#506784",
            "ticks": ""
           },
           "baxis": {
            "gridcolor": "#506784",
            "linecolor": "#506784",
            "ticks": ""
           },
           "caxis": {
            "gridcolor": "#506784",
            "linecolor": "#506784",
            "ticks": ""
           }
          },
          "coloraxis": {
           "colorbar": {
            "outlinewidth": 0,
            "ticks": ""
           }
          },
          "colorscale": {
           "sequential": [
            [
             0.0,
             "#0d0887"
            ],
            [
             0.1111111111111111,
             "#46039f"
            ],
            [
             0.2222222222222222,
             "#7201a8"
            ],
            [
             0.3333333333333333,
             "#9c179e"
            ],
            [
             0.4444444444444444,
             "#bd3786"
            ],
            [
             0.5555555555555556,
             "#d8576b"
            ],
            [
             0.6666666666666666,
             "#ed7953"
            ],
            [
             0.7777777777777778,
             "#fb9f3a"
            ],
            [
             0.8888888888888888,
             "#fdca26"
            ],
            [
             1.0,
             "#f0f921"
            ]
           ],
           "sequentialminus": [
            [
             0.0,
             "#0d0887"
            ],
            [
             0.1111111111111111,
             "#46039f"
            ],
            [
             0.2222222222222222,
             "#7201a8"
            ],
            [
             0.3333333333333333,
             "#9c179e"
            ],
            [
             0.4444444444444444,
             "#bd3786"
            ],
            [
             0.5555555555555556,
             "#d8576b"
            ],
            [
             0.6666666666666666,
             "#ed7953"
            ],
            [
             0.7777777777777778,
             "#fb9f3a"
            ],
            [
             0.8888888888888888,
             "#fdca26"
            ],
            [
             1.0,
             "#f0f921"
            ]
           ],
           "diverging": [
            [
             0,
             "#8e0152"
            ],
            [
             0.1,
             "#c51b7d"
            ],
            [
             0.2,
             "#de77ae"
            ],
            [
             0.3,
             "#f1b6da"
            ],
            [
             0.4,
             "#fde0ef"
            ],
            [
             0.5,
             "#f7f7f7"
            ],
            [
             0.6,
             "#e6f5d0"
            ],
            [
             0.7,
             "#b8e186"
            ],
            [
             0.8,
             "#7fbc41"
            ],
            [
             0.9,
             "#4d9221"
            ],
            [
             1,
             "#276419"
            ]
           ]
          },
          "xaxis": {
           "gridcolor": "#283442",
           "linecolor": "#506784",
           "ticks": "",
           "title": {
            "standoff": 15
           },
           "zerolinecolor": "#283442",
           "automargin": true,
           "zerolinewidth": 2
          },
          "yaxis": {
           "gridcolor": "#283442",
           "linecolor": "#506784",
           "ticks": "",
           "title": {
            "standoff": 15
           },
           "zerolinecolor": "#283442",
           "automargin": true,
           "zerolinewidth": 2
          },
          "scene": {
           "xaxis": {
            "backgroundcolor": "rgb(17,17,17)",
            "gridcolor": "#506784",
            "linecolor": "#506784",
            "showbackground": true,
            "ticks": "",
            "zerolinecolor": "#C8D4E3",
            "gridwidth": 2
           },
           "yaxis": {
            "backgroundcolor": "rgb(17,17,17)",
            "gridcolor": "#506784",
            "linecolor": "#506784",
            "showbackground": true,
            "ticks": "",
            "zerolinecolor": "#C8D4E3",
            "gridwidth": 2
           },
           "zaxis": {
            "backgroundcolor": "rgb(17,17,17)",
            "gridcolor": "#506784",
            "linecolor": "#506784",
            "showbackground": true,
            "ticks": "",
            "zerolinecolor": "#C8D4E3",
            "gridwidth": 2
           }
          },
          "shapedefaults": {
           "line": {
            "color": "#f2f5fa"
           }
          },
          "annotationdefaults": {
           "arrowcolor": "#f2f5fa",
           "arrowhead": 0,
           "arrowwidth": 1
          },
          "geo": {
           "bgcolor": "rgb(17,17,17)",
           "landcolor": "rgb(17,17,17)",
           "subunitcolor": "#506784",
           "showland": true,
           "showlakes": true,
           "lakecolor": "rgb(17,17,17)"
          },
          "title": {
           "x": 0.05
          },
          "updatemenudefaults": {
           "bgcolor": "#506784",
           "borderwidth": 0
          },
          "sliderdefaults": {
           "bgcolor": "#C8D4E3",
           "borderwidth": 1,
           "bordercolor": "rgb(17,17,17)",
           "tickwidth": 0
          },
          "mapbox": {
           "style": "dark"
          }
         }
        },
        "xaxis": {
         "anchor": "y",
         "domain": [
          0.0,
          1.0
         ],
         "title": {
          "text": "Tag count"
         }
        },
        "yaxis": {
         "anchor": "x",
         "domain": [
          0.0,
          1.0
         ],
         "title": {
          "text": "Average score"
         }
        },
        "legend": {
         "title": {
          "text": "variable"
         },
         "tracegroupgap": 0
        },
        "margin": {
         "t": 60
        },
        "title": {
         "text": "Average score for post tag count",
         "x": 0.5
        },
        "showlegend": false
       },
       "config": {
        "plotlyServerURL": "https://plot.ly"
       }
      },
      "text/html": "<div>                            <div id=\"686006ef-885a-4fd3-a46d-097fa4e4e3c9\" class=\"plotly-graph-div\" style=\"height:525px; width:100%;\"></div>            <script type=\"text/javascript\">                require([\"plotly\"], function(Plotly) {                    window.PLOTLYENV=window.PLOTLYENV || {};                                    if (document.getElementById(\"686006ef-885a-4fd3-a46d-097fa4e4e3c9\")) {                    Plotly.newPlot(                        \"686006ef-885a-4fd3-a46d-097fa4e4e3c9\",                        [{\"hovertemplate\":\"variable=score<br>tag_count=%{x}<br>value=%{y}<extra></extra>\",\"legendgroup\":\"score\",\"marker\":{\"color\":\"#636efa\",\"symbol\":\"circle\"},\"mode\":\"markers\",\"name\":\"score\",\"orientation\":\"v\",\"showlegend\":true,\"x\":[1,2,3,4,5,6,7,8,9,10,11,12,13,14,15,16,17,18,19,20,21,22,23,24,25,26,27,28,29,30,31,32,33,34,35,36,37,38,39,40,41,42,43,44,45,46,47,48,49,50,51,52,53,54,55,56,57,58,59,60,61,62,63,64,65,66,67,68,69,70,71,72,73,74,75,76,77,78,79,80,81,82,83,84,85,86,87,88,89,90,91,92,93,94,95,96,97,98,99,100,101,102,103,104,105,106,107,108,109,110,111,112,113,114,115,116,117,118,119,120,121,122,123,124,125,126,127,128,129,130,131,132,133,134,135,136,137,138,139,140,141,142,143,144,145,146,147,148,149,150,151,152,153,154,155,156,157,158,159,160,161,162,163,164,165,166,167,168,169,170,171,172,173,174,175,176,177,178,179,180,181,182,183,184,185,186,187,188,189,190,191,192,193,194,195,196,197,198,199,200],\"xaxis\":\"x\",\"y\":[-2.375,-1.4166666666666667,-1.0723404255319149,-0.8220338983050848,-0.5363036303630363,-0.3230769230769231,0.35585804569761786,1.0581595355837454,1.4935274149933835,1.8902216823565139,2.2764773548059174,2.5920190468438404,2.946264106888053,3.36353630721901,3.743839343457996,4.170048440752486,4.626560067547956,5.055059223026236,5.570099241365084,6.148299348961131,6.720132956075049,7.315889483018415,7.939817652966727,8.591748852208488,9.257651250145216,9.872852830820124,10.546248351405609,11.208123739961001,11.820673002963032,12.46530463635302,13.086477987421384,13.588780221777858,14.182368947218087,14.800003123121247,15.215225457314602,15.800570570063641,16.354399822498337,16.74191591053359,17.172657764482448,17.608181164779534,18.08444767281892,18.370553809851998,18.827780496680848,19.167696133483073,19.492985741034136,19.820807371789915,19.8279,20.133474155518243,20.469374533746908,20.843877918937835,21.06108827197561,21.52667901453835,21.44877105771886,21.646695397968717,22.197465854862596,22.22328119316115,22.53985016338567,22.460559128494552,22.509943044695433,23.075956873315363,23.11839559021873,23.039306656356725,23.01509407469812,23.298719660670802,23.839910966526837,23.090377358490567,22.86618181818182,23.24186736673896,22.363001745200698,23.08528496006498,23.188488775048967,22.732510956013634,23.380772686433065,22.207425343018564,23.249838605551968,22.36160188457008,22.97123950114533,22.99024526198439,21.336477030727107,21.325184192900203,21.915696649029982,23.170693686671864,22.337579617834393,22.123069723912025,22.40468909276249,22.37968495382944,23.215260545905707,21.9021113243762,20.76283783783784,20.620377358490565,20.073858921161825,21.55699481865285,19.83996120271581,19.374603174603173,20.55687973997833,21.351100811123985,21.22655298416565,21.012448132780083,20.660589060308556,20.9606656580938,16.991776315789473,19.81260945709282,19.476190476190474,17.042735042735043,18.97222222222222,18.871739130434783,17.631067961165048,17.216470588235293,18.957070707070706,15.941340782122905,19.299145299145298,16.349358974358974,14.318791946308725,15.28052805280528,17.8,17.19298245614035,16.42436974789916,15.266666666666667,14.81081081081081,19.333333333333332,17.533333333333335,15.530054644808743,14.06043956043956,15.479289940828401,20.58659217877095,16.0,15.649006622516556,16.664285714285715,16.30081300813008,15.029850746268657,16.07638888888889,14.875,15.236363636363636,12.336538461538462,14.206185567010309,15.601769911504425,15.588235294117647,16.666666666666668,14.666666666666666,11.380952380952381,12.864864864864865,14.6875,14.125,15.80952380952381,13.477611940298507,13.2,15.583333333333334,11.55072463768116,17.319444444444443,13.25,14.107142857142858,14.26865671641791,12.735849056603774,13.686274509803921,11.625,12.672413793103448,16.428571428571427,8.666666666666666,14.755555555555556,14.305555555555555,10.148148148148149,12.3,11.64102564102564,26.88235294117647,15.5,11.37037037037037,16.54054054054054,22.03448275862069,16.91176470588235,18.555555555555557,11.05,15.375,11.047619047619047,17.2,11.409090909090908,9.565217391304348,19.962962962962962,9.421052631578947,10.576923076923077,18.31578947368421,14.695652173913043,14.954545454545455,16.61904761904762,8.695652173913043,17.72222222222222,12.15,11.0,26.875,10.0,11.789473684210526,15.933333333333334,13.714285714285714,21.352941176470587,10.409090909090908,19.5,6.181818181818182,10.923076923076923,15.11111111111111,11.7,21.0],\"yaxis\":\"y\",\"type\":\"scatter\"}],                        {\"template\":{\"data\":{\"histogram2dcontour\":[{\"type\":\"histogram2dcontour\",\"colorbar\":{\"outlinewidth\":0,\"ticks\":\"\"},\"colorscale\":[[0.0,\"#0d0887\"],[0.1111111111111111,\"#46039f\"],[0.2222222222222222,\"#7201a8\"],[0.3333333333333333,\"#9c179e\"],[0.4444444444444444,\"#bd3786\"],[0.5555555555555556,\"#d8576b\"],[0.6666666666666666,\"#ed7953\"],[0.7777777777777778,\"#fb9f3a\"],[0.8888888888888888,\"#fdca26\"],[1.0,\"#f0f921\"]]}],\"choropleth\":[{\"type\":\"choropleth\",\"colorbar\":{\"outlinewidth\":0,\"ticks\":\"\"}}],\"histogram2d\":[{\"type\":\"histogram2d\",\"colorbar\":{\"outlinewidth\":0,\"ticks\":\"\"},\"colorscale\":[[0.0,\"#0d0887\"],[0.1111111111111111,\"#46039f\"],[0.2222222222222222,\"#7201a8\"],[0.3333333333333333,\"#9c179e\"],[0.4444444444444444,\"#bd3786\"],[0.5555555555555556,\"#d8576b\"],[0.6666666666666666,\"#ed7953\"],[0.7777777777777778,\"#fb9f3a\"],[0.8888888888888888,\"#fdca26\"],[1.0,\"#f0f921\"]]}],\"heatmap\":[{\"type\":\"heatmap\",\"colorbar\":{\"outlinewidth\":0,\"ticks\":\"\"},\"colorscale\":[[0.0,\"#0d0887\"],[0.1111111111111111,\"#46039f\"],[0.2222222222222222,\"#7201a8\"],[0.3333333333333333,\"#9c179e\"],[0.4444444444444444,\"#bd3786\"],[0.5555555555555556,\"#d8576b\"],[0.6666666666666666,\"#ed7953\"],[0.7777777777777778,\"#fb9f3a\"],[0.8888888888888888,\"#fdca26\"],[1.0,\"#f0f921\"]]}],\"heatmapgl\":[{\"type\":\"heatmapgl\",\"colorbar\":{\"outlinewidth\":0,\"ticks\":\"\"},\"colorscale\":[[0.0,\"#0d0887\"],[0.1111111111111111,\"#46039f\"],[0.2222222222222222,\"#7201a8\"],[0.3333333333333333,\"#9c179e\"],[0.4444444444444444,\"#bd3786\"],[0.5555555555555556,\"#d8576b\"],[0.6666666666666666,\"#ed7953\"],[0.7777777777777778,\"#fb9f3a\"],[0.8888888888888888,\"#fdca26\"],[1.0,\"#f0f921\"]]}],\"contourcarpet\":[{\"type\":\"contourcarpet\",\"colorbar\":{\"outlinewidth\":0,\"ticks\":\"\"}}],\"contour\":[{\"type\":\"contour\",\"colorbar\":{\"outlinewidth\":0,\"ticks\":\"\"},\"colorscale\":[[0.0,\"#0d0887\"],[0.1111111111111111,\"#46039f\"],[0.2222222222222222,\"#7201a8\"],[0.3333333333333333,\"#9c179e\"],[0.4444444444444444,\"#bd3786\"],[0.5555555555555556,\"#d8576b\"],[0.6666666666666666,\"#ed7953\"],[0.7777777777777778,\"#fb9f3a\"],[0.8888888888888888,\"#fdca26\"],[1.0,\"#f0f921\"]]}],\"surface\":[{\"type\":\"surface\",\"colorbar\":{\"outlinewidth\":0,\"ticks\":\"\"},\"colorscale\":[[0.0,\"#0d0887\"],[0.1111111111111111,\"#46039f\"],[0.2222222222222222,\"#7201a8\"],[0.3333333333333333,\"#9c179e\"],[0.4444444444444444,\"#bd3786\"],[0.5555555555555556,\"#d8576b\"],[0.6666666666666666,\"#ed7953\"],[0.7777777777777778,\"#fb9f3a\"],[0.8888888888888888,\"#fdca26\"],[1.0,\"#f0f921\"]]}],\"mesh3d\":[{\"type\":\"mesh3d\",\"colorbar\":{\"outlinewidth\":0,\"ticks\":\"\"}}],\"scatter\":[{\"marker\":{\"line\":{\"color\":\"#283442\"}},\"type\":\"scatter\"}],\"parcoords\":[{\"type\":\"parcoords\",\"line\":{\"colorbar\":{\"outlinewidth\":0,\"ticks\":\"\"}}}],\"scatterpolargl\":[{\"type\":\"scatterpolargl\",\"marker\":{\"colorbar\":{\"outlinewidth\":0,\"ticks\":\"\"}}}],\"bar\":[{\"error_x\":{\"color\":\"#f2f5fa\"},\"error_y\":{\"color\":\"#f2f5fa\"},\"marker\":{\"line\":{\"color\":\"rgb(17,17,17)\",\"width\":0.5},\"pattern\":{\"fillmode\":\"overlay\",\"size\":10,\"solidity\":0.2}},\"type\":\"bar\"}],\"scattergeo\":[{\"type\":\"scattergeo\",\"marker\":{\"colorbar\":{\"outlinewidth\":0,\"ticks\":\"\"}}}],\"scatterpolar\":[{\"type\":\"scatterpolar\",\"marker\":{\"colorbar\":{\"outlinewidth\":0,\"ticks\":\"\"}}}],\"histogram\":[{\"marker\":{\"pattern\":{\"fillmode\":\"overlay\",\"size\":10,\"solidity\":0.2}},\"type\":\"histogram\"}],\"scattergl\":[{\"marker\":{\"line\":{\"color\":\"#283442\"}},\"type\":\"scattergl\"}],\"scatter3d\":[{\"type\":\"scatter3d\",\"line\":{\"colorbar\":{\"outlinewidth\":0,\"ticks\":\"\"}},\"marker\":{\"colorbar\":{\"outlinewidth\":0,\"ticks\":\"\"}}}],\"scattermapbox\":[{\"type\":\"scattermapbox\",\"marker\":{\"colorbar\":{\"outlinewidth\":0,\"ticks\":\"\"}}}],\"scatterternary\":[{\"type\":\"scatterternary\",\"marker\":{\"colorbar\":{\"outlinewidth\":0,\"ticks\":\"\"}}}],\"scattercarpet\":[{\"type\":\"scattercarpet\",\"marker\":{\"colorbar\":{\"outlinewidth\":0,\"ticks\":\"\"}}}],\"carpet\":[{\"aaxis\":{\"endlinecolor\":\"#A2B1C6\",\"gridcolor\":\"#506784\",\"linecolor\":\"#506784\",\"minorgridcolor\":\"#506784\",\"startlinecolor\":\"#A2B1C6\"},\"baxis\":{\"endlinecolor\":\"#A2B1C6\",\"gridcolor\":\"#506784\",\"linecolor\":\"#506784\",\"minorgridcolor\":\"#506784\",\"startlinecolor\":\"#A2B1C6\"},\"type\":\"carpet\"}],\"table\":[{\"cells\":{\"fill\":{\"color\":\"#506784\"},\"line\":{\"color\":\"rgb(17,17,17)\"}},\"header\":{\"fill\":{\"color\":\"#2a3f5f\"},\"line\":{\"color\":\"rgb(17,17,17)\"}},\"type\":\"table\"}],\"barpolar\":[{\"marker\":{\"line\":{\"color\":\"rgb(17,17,17)\",\"width\":0.5},\"pattern\":{\"fillmode\":\"overlay\",\"size\":10,\"solidity\":0.2}},\"type\":\"barpolar\"}],\"pie\":[{\"automargin\":true,\"type\":\"pie\"}]},\"layout\":{\"autotypenumbers\":\"strict\",\"colorway\":[\"#636efa\",\"#EF553B\",\"#00cc96\",\"#ab63fa\",\"#FFA15A\",\"#19d3f3\",\"#FF6692\",\"#B6E880\",\"#FF97FF\",\"#FECB52\"],\"font\":{\"color\":\"#f2f5fa\"},\"hovermode\":\"closest\",\"hoverlabel\":{\"align\":\"left\"},\"paper_bgcolor\":\"rgb(17,17,17)\",\"plot_bgcolor\":\"rgb(17,17,17)\",\"polar\":{\"bgcolor\":\"rgb(17,17,17)\",\"angularaxis\":{\"gridcolor\":\"#506784\",\"linecolor\":\"#506784\",\"ticks\":\"\"},\"radialaxis\":{\"gridcolor\":\"#506784\",\"linecolor\":\"#506784\",\"ticks\":\"\"}},\"ternary\":{\"bgcolor\":\"rgb(17,17,17)\",\"aaxis\":{\"gridcolor\":\"#506784\",\"linecolor\":\"#506784\",\"ticks\":\"\"},\"baxis\":{\"gridcolor\":\"#506784\",\"linecolor\":\"#506784\",\"ticks\":\"\"},\"caxis\":{\"gridcolor\":\"#506784\",\"linecolor\":\"#506784\",\"ticks\":\"\"}},\"coloraxis\":{\"colorbar\":{\"outlinewidth\":0,\"ticks\":\"\"}},\"colorscale\":{\"sequential\":[[0.0,\"#0d0887\"],[0.1111111111111111,\"#46039f\"],[0.2222222222222222,\"#7201a8\"],[0.3333333333333333,\"#9c179e\"],[0.4444444444444444,\"#bd3786\"],[0.5555555555555556,\"#d8576b\"],[0.6666666666666666,\"#ed7953\"],[0.7777777777777778,\"#fb9f3a\"],[0.8888888888888888,\"#fdca26\"],[1.0,\"#f0f921\"]],\"sequentialminus\":[[0.0,\"#0d0887\"],[0.1111111111111111,\"#46039f\"],[0.2222222222222222,\"#7201a8\"],[0.3333333333333333,\"#9c179e\"],[0.4444444444444444,\"#bd3786\"],[0.5555555555555556,\"#d8576b\"],[0.6666666666666666,\"#ed7953\"],[0.7777777777777778,\"#fb9f3a\"],[0.8888888888888888,\"#fdca26\"],[1.0,\"#f0f921\"]],\"diverging\":[[0,\"#8e0152\"],[0.1,\"#c51b7d\"],[0.2,\"#de77ae\"],[0.3,\"#f1b6da\"],[0.4,\"#fde0ef\"],[0.5,\"#f7f7f7\"],[0.6,\"#e6f5d0\"],[0.7,\"#b8e186\"],[0.8,\"#7fbc41\"],[0.9,\"#4d9221\"],[1,\"#276419\"]]},\"xaxis\":{\"gridcolor\":\"#283442\",\"linecolor\":\"#506784\",\"ticks\":\"\",\"title\":{\"standoff\":15},\"zerolinecolor\":\"#283442\",\"automargin\":true,\"zerolinewidth\":2},\"yaxis\":{\"gridcolor\":\"#283442\",\"linecolor\":\"#506784\",\"ticks\":\"\",\"title\":{\"standoff\":15},\"zerolinecolor\":\"#283442\",\"automargin\":true,\"zerolinewidth\":2},\"scene\":{\"xaxis\":{\"backgroundcolor\":\"rgb(17,17,17)\",\"gridcolor\":\"#506784\",\"linecolor\":\"#506784\",\"showbackground\":true,\"ticks\":\"\",\"zerolinecolor\":\"#C8D4E3\",\"gridwidth\":2},\"yaxis\":{\"backgroundcolor\":\"rgb(17,17,17)\",\"gridcolor\":\"#506784\",\"linecolor\":\"#506784\",\"showbackground\":true,\"ticks\":\"\",\"zerolinecolor\":\"#C8D4E3\",\"gridwidth\":2},\"zaxis\":{\"backgroundcolor\":\"rgb(17,17,17)\",\"gridcolor\":\"#506784\",\"linecolor\":\"#506784\",\"showbackground\":true,\"ticks\":\"\",\"zerolinecolor\":\"#C8D4E3\",\"gridwidth\":2}},\"shapedefaults\":{\"line\":{\"color\":\"#f2f5fa\"}},\"annotationdefaults\":{\"arrowcolor\":\"#f2f5fa\",\"arrowhead\":0,\"arrowwidth\":1},\"geo\":{\"bgcolor\":\"rgb(17,17,17)\",\"landcolor\":\"rgb(17,17,17)\",\"subunitcolor\":\"#506784\",\"showland\":true,\"showlakes\":true,\"lakecolor\":\"rgb(17,17,17)\"},\"title\":{\"x\":0.05},\"updatemenudefaults\":{\"bgcolor\":\"#506784\",\"borderwidth\":0},\"sliderdefaults\":{\"bgcolor\":\"#C8D4E3\",\"borderwidth\":1,\"bordercolor\":\"rgb(17,17,17)\",\"tickwidth\":0},\"mapbox\":{\"style\":\"dark\"}}},\"xaxis\":{\"anchor\":\"y\",\"domain\":[0.0,1.0],\"title\":{\"text\":\"Tag count\"}},\"yaxis\":{\"anchor\":\"x\",\"domain\":[0.0,1.0],\"title\":{\"text\":\"Average score\"}},\"legend\":{\"title\":{\"text\":\"variable\"},\"tracegroupgap\":0},\"margin\":{\"t\":60},\"title\":{\"text\":\"Average score for post tag count\",\"x\":0.5},\"showlegend\":false},                        {\"responsive\": true}                    ).then(function(){\n                            \nvar gd = document.getElementById('686006ef-885a-4fd3-a46d-097fa4e4e3c9');\nvar x = new MutationObserver(function (mutations, observer) {{\n        var display = window.getComputedStyle(gd).display;\n        if (!display || display === 'none') {{\n            console.log([gd, 'removed!']);\n            Plotly.purge(gd);\n            observer.disconnect();\n        }}\n}});\n\n// Listen for the removal of the full notebook cells\nvar notebookContainer = gd.closest('#notebook-container');\nif (notebookContainer) {{\n    x.observe(notebookContainer, {childList: true});\n}}\n\n// Listen for the clearing of the current output cell\nvar outputEl = gd.closest('.output');\nif (outputEl) {{\n    x.observe(outputEl, {childList: true});\n}}\n\n                        })                };                });            </script>        </div>"
     },
     "metadata": {},
     "output_type": "display_data"
    }
   ],
   "source": [
    "plot(\"post_scores_and_tag_count\", px.scatter(post_scores_and_tag_count_df).update_layout(\n",
    "    title=\"Average score for post tag count\",\n",
    "    xaxis_title=\"Tag count\",\n",
    "    yaxis_title=\"Average score\",\n",
    "    showlegend=False,\n",
    "))"
   ],
   "metadata": {
    "collapsed": false
   }
  },
  {
   "cell_type": "code",
   "execution_count": 61,
   "outputs": [],
   "source": [
    "# Post creation date counts.\n",
    "post_creation_date_counts = defaultdict(int)\n",
    "for post in posts.values():\n",
    "    created_at = timestamp_to_date(post[\"created_at\"])\n",
    "    post_creation_date_counts[created_at] += 1"
   ],
   "metadata": {
    "collapsed": false
   }
  },
  {
   "cell_type": "code",
   "execution_count": 62,
   "outputs": [],
   "source": [
    "post_creation_date_counts_df = pd.DataFrame(post_creation_date_counts, index=[\"count\"]).T\n",
    "post_creation_date_counts_df = post_creation_date_counts_df.resample(\"1M\").sum()"
   ],
   "metadata": {
    "collapsed": false
   }
  },
  {
   "cell_type": "code",
   "execution_count": 97,
   "outputs": [
    {
     "data": {
      "application/vnd.plotly.v1+json": {
       "data": [
        {
         "hovertemplate": "variable=count<br>index=%{x}<br>value=%{y}<extra></extra>",
         "legendgroup": "count",
         "marker": {
          "color": "#636efa",
          "symbol": "circle"
         },
         "mode": "markers",
         "name": "count",
         "orientation": "v",
         "showlegend": true,
         "x": [
          "2005-05-31T00:00:00",
          "2005-06-30T00:00:00",
          "2005-07-31T00:00:00",
          "2005-08-31T00:00:00",
          "2005-09-30T00:00:00",
          "2005-10-31T00:00:00",
          "2005-11-30T00:00:00",
          "2005-12-31T00:00:00",
          "2006-01-31T00:00:00",
          "2006-02-28T00:00:00",
          "2006-03-31T00:00:00",
          "2006-04-30T00:00:00",
          "2006-05-31T00:00:00",
          "2006-06-30T00:00:00",
          "2006-07-31T00:00:00",
          "2006-08-31T00:00:00",
          "2006-09-30T00:00:00",
          "2006-10-31T00:00:00",
          "2006-11-30T00:00:00",
          "2006-12-31T00:00:00",
          "2007-01-31T00:00:00",
          "2007-02-28T00:00:00",
          "2007-03-31T00:00:00",
          "2007-04-30T00:00:00",
          "2007-05-31T00:00:00",
          "2007-06-30T00:00:00",
          "2007-07-31T00:00:00",
          "2007-08-31T00:00:00",
          "2007-09-30T00:00:00",
          "2007-10-31T00:00:00",
          "2007-11-30T00:00:00",
          "2007-12-31T00:00:00",
          "2008-01-31T00:00:00",
          "2008-02-29T00:00:00",
          "2008-03-31T00:00:00",
          "2008-04-30T00:00:00",
          "2008-05-31T00:00:00",
          "2008-06-30T00:00:00",
          "2008-07-31T00:00:00",
          "2008-08-31T00:00:00",
          "2008-09-30T00:00:00",
          "2008-10-31T00:00:00",
          "2008-11-30T00:00:00",
          "2008-12-31T00:00:00",
          "2009-01-31T00:00:00",
          "2009-02-28T00:00:00",
          "2009-03-31T00:00:00",
          "2009-04-30T00:00:00",
          "2009-05-31T00:00:00",
          "2009-06-30T00:00:00",
          "2009-07-31T00:00:00",
          "2009-08-31T00:00:00",
          "2009-09-30T00:00:00",
          "2009-10-31T00:00:00",
          "2009-11-30T00:00:00",
          "2009-12-31T00:00:00",
          "2010-01-31T00:00:00",
          "2010-02-28T00:00:00",
          "2010-03-31T00:00:00",
          "2010-04-30T00:00:00",
          "2010-05-31T00:00:00",
          "2010-06-30T00:00:00",
          "2010-07-31T00:00:00",
          "2010-08-31T00:00:00",
          "2010-09-30T00:00:00",
          "2010-10-31T00:00:00",
          "2010-11-30T00:00:00",
          "2010-12-31T00:00:00",
          "2011-01-31T00:00:00",
          "2011-02-28T00:00:00",
          "2011-03-31T00:00:00",
          "2011-04-30T00:00:00",
          "2011-05-31T00:00:00",
          "2011-06-30T00:00:00",
          "2011-07-31T00:00:00",
          "2011-08-31T00:00:00",
          "2011-09-30T00:00:00",
          "2011-10-31T00:00:00",
          "2011-11-30T00:00:00",
          "2011-12-31T00:00:00",
          "2012-01-31T00:00:00",
          "2012-02-29T00:00:00",
          "2012-03-31T00:00:00",
          "2012-04-30T00:00:00",
          "2012-05-31T00:00:00",
          "2012-06-30T00:00:00",
          "2012-07-31T00:00:00",
          "2012-08-31T00:00:00",
          "2012-09-30T00:00:00",
          "2012-10-31T00:00:00",
          "2012-11-30T00:00:00",
          "2012-12-31T00:00:00",
          "2013-01-31T00:00:00",
          "2013-02-28T00:00:00",
          "2013-03-31T00:00:00",
          "2013-04-30T00:00:00",
          "2013-05-31T00:00:00",
          "2013-06-30T00:00:00",
          "2013-07-31T00:00:00",
          "2013-08-31T00:00:00",
          "2013-09-30T00:00:00",
          "2013-10-31T00:00:00",
          "2013-11-30T00:00:00",
          "2013-12-31T00:00:00",
          "2014-01-31T00:00:00",
          "2014-02-28T00:00:00",
          "2014-03-31T00:00:00",
          "2014-04-30T00:00:00",
          "2014-05-31T00:00:00",
          "2014-06-30T00:00:00",
          "2014-07-31T00:00:00",
          "2014-08-31T00:00:00",
          "2014-09-30T00:00:00",
          "2014-10-31T00:00:00",
          "2014-11-30T00:00:00",
          "2014-12-31T00:00:00",
          "2015-01-31T00:00:00",
          "2015-02-28T00:00:00",
          "2015-03-31T00:00:00",
          "2015-04-30T00:00:00",
          "2015-05-31T00:00:00",
          "2015-06-30T00:00:00",
          "2015-07-31T00:00:00",
          "2015-08-31T00:00:00",
          "2015-09-30T00:00:00",
          "2015-10-31T00:00:00",
          "2015-11-30T00:00:00",
          "2015-12-31T00:00:00",
          "2016-01-31T00:00:00",
          "2016-02-29T00:00:00",
          "2016-03-31T00:00:00",
          "2016-04-30T00:00:00",
          "2016-05-31T00:00:00",
          "2016-06-30T00:00:00",
          "2016-07-31T00:00:00",
          "2016-08-31T00:00:00",
          "2016-09-30T00:00:00",
          "2016-10-31T00:00:00",
          "2016-11-30T00:00:00",
          "2016-12-31T00:00:00",
          "2017-01-31T00:00:00",
          "2017-02-28T00:00:00",
          "2017-03-31T00:00:00",
          "2017-04-30T00:00:00",
          "2017-05-31T00:00:00",
          "2017-06-30T00:00:00",
          "2017-07-31T00:00:00",
          "2017-08-31T00:00:00",
          "2017-09-30T00:00:00",
          "2017-10-31T00:00:00",
          "2017-11-30T00:00:00",
          "2017-12-31T00:00:00",
          "2018-01-31T00:00:00",
          "2018-02-28T00:00:00",
          "2018-03-31T00:00:00",
          "2018-04-30T00:00:00",
          "2018-05-31T00:00:00",
          "2018-06-30T00:00:00",
          "2018-07-31T00:00:00",
          "2018-08-31T00:00:00",
          "2018-09-30T00:00:00",
          "2018-10-31T00:00:00",
          "2018-11-30T00:00:00",
          "2018-12-31T00:00:00",
          "2019-01-31T00:00:00",
          "2019-02-28T00:00:00",
          "2019-03-31T00:00:00",
          "2019-04-30T00:00:00",
          "2019-05-31T00:00:00",
          "2019-06-30T00:00:00",
          "2019-07-31T00:00:00",
          "2019-08-31T00:00:00",
          "2019-09-30T00:00:00",
          "2019-10-31T00:00:00",
          "2019-11-30T00:00:00",
          "2019-12-31T00:00:00",
          "2020-01-31T00:00:00",
          "2020-02-29T00:00:00",
          "2020-03-31T00:00:00",
          "2020-04-30T00:00:00",
          "2020-05-31T00:00:00",
          "2020-06-30T00:00:00",
          "2020-07-31T00:00:00",
          "2020-08-31T00:00:00",
          "2020-09-30T00:00:00",
          "2020-10-31T00:00:00",
          "2020-11-30T00:00:00",
          "2020-12-31T00:00:00",
          "2021-01-31T00:00:00",
          "2021-02-28T00:00:00",
          "2021-03-31T00:00:00",
          "2021-04-30T00:00:00",
          "2021-05-31T00:00:00",
          "2021-06-30T00:00:00",
          "2021-07-31T00:00:00",
          "2021-08-31T00:00:00",
          "2021-09-30T00:00:00",
          "2021-10-31T00:00:00",
          "2021-11-30T00:00:00",
          "2021-12-31T00:00:00",
          "2022-01-31T00:00:00"
         ],
         "xaxis": "x",
         "y": [
          571,
          2798,
          2327,
          2693,
          2006,
          2249,
          2033,
          2120,
          3831,
          4186,
          5544,
          3994,
          5005,
          5356,
          8002,
          6583,
          6116,
          7005,
          4927,
          4977,
          6554,
          7258,
          2826,
          2964,
          2784,
          3304,
          2660,
          4170,
          5567,
          9191,
          11951,
          12620,
          13201,
          13519,
          13177,
          16556,
          16357,
          16225,
          14348,
          14724,
          17071,
          17692,
          16855,
          19828,
          17324,
          14383,
          18688,
          15827,
          14890,
          13790,
          16396,
          19587,
          18367,
          17650,
          16991,
          19412,
          18417,
          16362,
          19452,
          16482,
          17986,
          16699,
          18665,
          19688,
          17849,
          18676,
          17313,
          20546,
          22713,
          21221,
          21899,
          20011,
          18426,
          18186,
          19857,
          19716,
          20320,
          20289,
          18625,
          19709,
          20296,
          20825,
          22574,
          22953,
          21639,
          20906,
          22550,
          23260,
          20245,
          19140,
          20326,
          23417,
          19581,
          15834,
          18167,
          20130,
          22596,
          21460,
          21921,
          20718,
          18986,
          20267,
          21269,
          23188,
          21848,
          20044,
          24777,
          22067,
          25010,
          23509,
          27313,
          28624,
          26504,
          24063,
          26208,
          27908,
          25563,
          24438,
          28223,
          29249,
          27386,
          26398,
          28709,
          26290,
          25390,
          26494,
          30304,
          33029,
          30684,
          27944,
          27301,
          27600,
          30740,
          30095,
          30929,
          30699,
          28976,
          28923,
          25867,
          28373,
          29315,
          28806,
          31813,
          30751,
          32609,
          29639,
          31979,
          33837,
          33286,
          34130,
          30910,
          31567,
          30880,
          30509,
          33466,
          37090,
          34701,
          31332,
          32301,
          31594,
          30188,
          30461,
          28937,
          34150,
          32814,
          28276,
          31324,
          29650,
          29292,
          28378,
          29859,
          29760,
          29189,
          28052,
          29077,
          31060,
          32676,
          35902,
          37939,
          42537,
          46142,
          42854,
          47157,
          51568,
          47043,
          49816,
          47787,
          50521,
          54949,
          50247,
          56604,
          50789,
          58312,
          55846,
          60234,
          68031,
          68552,
          65995,
          66409,
          68594,
          14718
         ],
         "yaxis": "y",
         "type": "scatter"
        }
       ],
       "layout": {
        "template": {
         "data": {
          "histogram2dcontour": [
           {
            "type": "histogram2dcontour",
            "colorbar": {
             "outlinewidth": 0,
             "ticks": ""
            },
            "colorscale": [
             [
              0.0,
              "#0d0887"
             ],
             [
              0.1111111111111111,
              "#46039f"
             ],
             [
              0.2222222222222222,
              "#7201a8"
             ],
             [
              0.3333333333333333,
              "#9c179e"
             ],
             [
              0.4444444444444444,
              "#bd3786"
             ],
             [
              0.5555555555555556,
              "#d8576b"
             ],
             [
              0.6666666666666666,
              "#ed7953"
             ],
             [
              0.7777777777777778,
              "#fb9f3a"
             ],
             [
              0.8888888888888888,
              "#fdca26"
             ],
             [
              1.0,
              "#f0f921"
             ]
            ]
           }
          ],
          "choropleth": [
           {
            "type": "choropleth",
            "colorbar": {
             "outlinewidth": 0,
             "ticks": ""
            }
           }
          ],
          "histogram2d": [
           {
            "type": "histogram2d",
            "colorbar": {
             "outlinewidth": 0,
             "ticks": ""
            },
            "colorscale": [
             [
              0.0,
              "#0d0887"
             ],
             [
              0.1111111111111111,
              "#46039f"
             ],
             [
              0.2222222222222222,
              "#7201a8"
             ],
             [
              0.3333333333333333,
              "#9c179e"
             ],
             [
              0.4444444444444444,
              "#bd3786"
             ],
             [
              0.5555555555555556,
              "#d8576b"
             ],
             [
              0.6666666666666666,
              "#ed7953"
             ],
             [
              0.7777777777777778,
              "#fb9f3a"
             ],
             [
              0.8888888888888888,
              "#fdca26"
             ],
             [
              1.0,
              "#f0f921"
             ]
            ]
           }
          ],
          "heatmap": [
           {
            "type": "heatmap",
            "colorbar": {
             "outlinewidth": 0,
             "ticks": ""
            },
            "colorscale": [
             [
              0.0,
              "#0d0887"
             ],
             [
              0.1111111111111111,
              "#46039f"
             ],
             [
              0.2222222222222222,
              "#7201a8"
             ],
             [
              0.3333333333333333,
              "#9c179e"
             ],
             [
              0.4444444444444444,
              "#bd3786"
             ],
             [
              0.5555555555555556,
              "#d8576b"
             ],
             [
              0.6666666666666666,
              "#ed7953"
             ],
             [
              0.7777777777777778,
              "#fb9f3a"
             ],
             [
              0.8888888888888888,
              "#fdca26"
             ],
             [
              1.0,
              "#f0f921"
             ]
            ]
           }
          ],
          "heatmapgl": [
           {
            "type": "heatmapgl",
            "colorbar": {
             "outlinewidth": 0,
             "ticks": ""
            },
            "colorscale": [
             [
              0.0,
              "#0d0887"
             ],
             [
              0.1111111111111111,
              "#46039f"
             ],
             [
              0.2222222222222222,
              "#7201a8"
             ],
             [
              0.3333333333333333,
              "#9c179e"
             ],
             [
              0.4444444444444444,
              "#bd3786"
             ],
             [
              0.5555555555555556,
              "#d8576b"
             ],
             [
              0.6666666666666666,
              "#ed7953"
             ],
             [
              0.7777777777777778,
              "#fb9f3a"
             ],
             [
              0.8888888888888888,
              "#fdca26"
             ],
             [
              1.0,
              "#f0f921"
             ]
            ]
           }
          ],
          "contourcarpet": [
           {
            "type": "contourcarpet",
            "colorbar": {
             "outlinewidth": 0,
             "ticks": ""
            }
           }
          ],
          "contour": [
           {
            "type": "contour",
            "colorbar": {
             "outlinewidth": 0,
             "ticks": ""
            },
            "colorscale": [
             [
              0.0,
              "#0d0887"
             ],
             [
              0.1111111111111111,
              "#46039f"
             ],
             [
              0.2222222222222222,
              "#7201a8"
             ],
             [
              0.3333333333333333,
              "#9c179e"
             ],
             [
              0.4444444444444444,
              "#bd3786"
             ],
             [
              0.5555555555555556,
              "#d8576b"
             ],
             [
              0.6666666666666666,
              "#ed7953"
             ],
             [
              0.7777777777777778,
              "#fb9f3a"
             ],
             [
              0.8888888888888888,
              "#fdca26"
             ],
             [
              1.0,
              "#f0f921"
             ]
            ]
           }
          ],
          "surface": [
           {
            "type": "surface",
            "colorbar": {
             "outlinewidth": 0,
             "ticks": ""
            },
            "colorscale": [
             [
              0.0,
              "#0d0887"
             ],
             [
              0.1111111111111111,
              "#46039f"
             ],
             [
              0.2222222222222222,
              "#7201a8"
             ],
             [
              0.3333333333333333,
              "#9c179e"
             ],
             [
              0.4444444444444444,
              "#bd3786"
             ],
             [
              0.5555555555555556,
              "#d8576b"
             ],
             [
              0.6666666666666666,
              "#ed7953"
             ],
             [
              0.7777777777777778,
              "#fb9f3a"
             ],
             [
              0.8888888888888888,
              "#fdca26"
             ],
             [
              1.0,
              "#f0f921"
             ]
            ]
           }
          ],
          "mesh3d": [
           {
            "type": "mesh3d",
            "colorbar": {
             "outlinewidth": 0,
             "ticks": ""
            }
           }
          ],
          "scatter": [
           {
            "marker": {
             "line": {
              "color": "#283442"
             }
            },
            "type": "scatter"
           }
          ],
          "parcoords": [
           {
            "type": "parcoords",
            "line": {
             "colorbar": {
              "outlinewidth": 0,
              "ticks": ""
             }
            }
           }
          ],
          "scatterpolargl": [
           {
            "type": "scatterpolargl",
            "marker": {
             "colorbar": {
              "outlinewidth": 0,
              "ticks": ""
             }
            }
           }
          ],
          "bar": [
           {
            "error_x": {
             "color": "#f2f5fa"
            },
            "error_y": {
             "color": "#f2f5fa"
            },
            "marker": {
             "line": {
              "color": "rgb(17,17,17)",
              "width": 0.5
             },
             "pattern": {
              "fillmode": "overlay",
              "size": 10,
              "solidity": 0.2
             }
            },
            "type": "bar"
           }
          ],
          "scattergeo": [
           {
            "type": "scattergeo",
            "marker": {
             "colorbar": {
              "outlinewidth": 0,
              "ticks": ""
             }
            }
           }
          ],
          "scatterpolar": [
           {
            "type": "scatterpolar",
            "marker": {
             "colorbar": {
              "outlinewidth": 0,
              "ticks": ""
             }
            }
           }
          ],
          "histogram": [
           {
            "marker": {
             "pattern": {
              "fillmode": "overlay",
              "size": 10,
              "solidity": 0.2
             }
            },
            "type": "histogram"
           }
          ],
          "scattergl": [
           {
            "marker": {
             "line": {
              "color": "#283442"
             }
            },
            "type": "scattergl"
           }
          ],
          "scatter3d": [
           {
            "type": "scatter3d",
            "line": {
             "colorbar": {
              "outlinewidth": 0,
              "ticks": ""
             }
            },
            "marker": {
             "colorbar": {
              "outlinewidth": 0,
              "ticks": ""
             }
            }
           }
          ],
          "scattermapbox": [
           {
            "type": "scattermapbox",
            "marker": {
             "colorbar": {
              "outlinewidth": 0,
              "ticks": ""
             }
            }
           }
          ],
          "scatterternary": [
           {
            "type": "scatterternary",
            "marker": {
             "colorbar": {
              "outlinewidth": 0,
              "ticks": ""
             }
            }
           }
          ],
          "scattercarpet": [
           {
            "type": "scattercarpet",
            "marker": {
             "colorbar": {
              "outlinewidth": 0,
              "ticks": ""
             }
            }
           }
          ],
          "carpet": [
           {
            "aaxis": {
             "endlinecolor": "#A2B1C6",
             "gridcolor": "#506784",
             "linecolor": "#506784",
             "minorgridcolor": "#506784",
             "startlinecolor": "#A2B1C6"
            },
            "baxis": {
             "endlinecolor": "#A2B1C6",
             "gridcolor": "#506784",
             "linecolor": "#506784",
             "minorgridcolor": "#506784",
             "startlinecolor": "#A2B1C6"
            },
            "type": "carpet"
           }
          ],
          "table": [
           {
            "cells": {
             "fill": {
              "color": "#506784"
             },
             "line": {
              "color": "rgb(17,17,17)"
             }
            },
            "header": {
             "fill": {
              "color": "#2a3f5f"
             },
             "line": {
              "color": "rgb(17,17,17)"
             }
            },
            "type": "table"
           }
          ],
          "barpolar": [
           {
            "marker": {
             "line": {
              "color": "rgb(17,17,17)",
              "width": 0.5
             },
             "pattern": {
              "fillmode": "overlay",
              "size": 10,
              "solidity": 0.2
             }
            },
            "type": "barpolar"
           }
          ],
          "pie": [
           {
            "automargin": true,
            "type": "pie"
           }
          ]
         },
         "layout": {
          "autotypenumbers": "strict",
          "colorway": [
           "#636efa",
           "#EF553B",
           "#00cc96",
           "#ab63fa",
           "#FFA15A",
           "#19d3f3",
           "#FF6692",
           "#B6E880",
           "#FF97FF",
           "#FECB52"
          ],
          "font": {
           "color": "#f2f5fa"
          },
          "hovermode": "closest",
          "hoverlabel": {
           "align": "left"
          },
          "paper_bgcolor": "rgb(17,17,17)",
          "plot_bgcolor": "rgb(17,17,17)",
          "polar": {
           "bgcolor": "rgb(17,17,17)",
           "angularaxis": {
            "gridcolor": "#506784",
            "linecolor": "#506784",
            "ticks": ""
           },
           "radialaxis": {
            "gridcolor": "#506784",
            "linecolor": "#506784",
            "ticks": ""
           }
          },
          "ternary": {
           "bgcolor": "rgb(17,17,17)",
           "aaxis": {
            "gridcolor": "#506784",
            "linecolor": "#506784",
            "ticks": ""
           },
           "baxis": {
            "gridcolor": "#506784",
            "linecolor": "#506784",
            "ticks": ""
           },
           "caxis": {
            "gridcolor": "#506784",
            "linecolor": "#506784",
            "ticks": ""
           }
          },
          "coloraxis": {
           "colorbar": {
            "outlinewidth": 0,
            "ticks": ""
           }
          },
          "colorscale": {
           "sequential": [
            [
             0.0,
             "#0d0887"
            ],
            [
             0.1111111111111111,
             "#46039f"
            ],
            [
             0.2222222222222222,
             "#7201a8"
            ],
            [
             0.3333333333333333,
             "#9c179e"
            ],
            [
             0.4444444444444444,
             "#bd3786"
            ],
            [
             0.5555555555555556,
             "#d8576b"
            ],
            [
             0.6666666666666666,
             "#ed7953"
            ],
            [
             0.7777777777777778,
             "#fb9f3a"
            ],
            [
             0.8888888888888888,
             "#fdca26"
            ],
            [
             1.0,
             "#f0f921"
            ]
           ],
           "sequentialminus": [
            [
             0.0,
             "#0d0887"
            ],
            [
             0.1111111111111111,
             "#46039f"
            ],
            [
             0.2222222222222222,
             "#7201a8"
            ],
            [
             0.3333333333333333,
             "#9c179e"
            ],
            [
             0.4444444444444444,
             "#bd3786"
            ],
            [
             0.5555555555555556,
             "#d8576b"
            ],
            [
             0.6666666666666666,
             "#ed7953"
            ],
            [
             0.7777777777777778,
             "#fb9f3a"
            ],
            [
             0.8888888888888888,
             "#fdca26"
            ],
            [
             1.0,
             "#f0f921"
            ]
           ],
           "diverging": [
            [
             0,
             "#8e0152"
            ],
            [
             0.1,
             "#c51b7d"
            ],
            [
             0.2,
             "#de77ae"
            ],
            [
             0.3,
             "#f1b6da"
            ],
            [
             0.4,
             "#fde0ef"
            ],
            [
             0.5,
             "#f7f7f7"
            ],
            [
             0.6,
             "#e6f5d0"
            ],
            [
             0.7,
             "#b8e186"
            ],
            [
             0.8,
             "#7fbc41"
            ],
            [
             0.9,
             "#4d9221"
            ],
            [
             1,
             "#276419"
            ]
           ]
          },
          "xaxis": {
           "gridcolor": "#283442",
           "linecolor": "#506784",
           "ticks": "",
           "title": {
            "standoff": 15
           },
           "zerolinecolor": "#283442",
           "automargin": true,
           "zerolinewidth": 2
          },
          "yaxis": {
           "gridcolor": "#283442",
           "linecolor": "#506784",
           "ticks": "",
           "title": {
            "standoff": 15
           },
           "zerolinecolor": "#283442",
           "automargin": true,
           "zerolinewidth": 2
          },
          "scene": {
           "xaxis": {
            "backgroundcolor": "rgb(17,17,17)",
            "gridcolor": "#506784",
            "linecolor": "#506784",
            "showbackground": true,
            "ticks": "",
            "zerolinecolor": "#C8D4E3",
            "gridwidth": 2
           },
           "yaxis": {
            "backgroundcolor": "rgb(17,17,17)",
            "gridcolor": "#506784",
            "linecolor": "#506784",
            "showbackground": true,
            "ticks": "",
            "zerolinecolor": "#C8D4E3",
            "gridwidth": 2
           },
           "zaxis": {
            "backgroundcolor": "rgb(17,17,17)",
            "gridcolor": "#506784",
            "linecolor": "#506784",
            "showbackground": true,
            "ticks": "",
            "zerolinecolor": "#C8D4E3",
            "gridwidth": 2
           }
          },
          "shapedefaults": {
           "line": {
            "color": "#f2f5fa"
           }
          },
          "annotationdefaults": {
           "arrowcolor": "#f2f5fa",
           "arrowhead": 0,
           "arrowwidth": 1
          },
          "geo": {
           "bgcolor": "rgb(17,17,17)",
           "landcolor": "rgb(17,17,17)",
           "subunitcolor": "#506784",
           "showland": true,
           "showlakes": true,
           "lakecolor": "rgb(17,17,17)"
          },
          "title": {
           "x": 0.05
          },
          "updatemenudefaults": {
           "bgcolor": "#506784",
           "borderwidth": 0
          },
          "sliderdefaults": {
           "bgcolor": "#C8D4E3",
           "borderwidth": 1,
           "bordercolor": "rgb(17,17,17)",
           "tickwidth": 0
          },
          "mapbox": {
           "style": "dark"
          }
         }
        },
        "xaxis": {
         "anchor": "y",
         "domain": [
          0.0,
          1.0
         ],
         "title": {
          "text": "Creation time"
         }
        },
        "yaxis": {
         "anchor": "x",
         "domain": [
          0.0,
          1.0
         ],
         "title": {
          "text": "Post count"
         }
        },
        "legend": {
         "title": {
          "text": "variable"
         },
         "tracegroupgap": 0
        },
        "margin": {
         "t": 60
        },
        "title": {
         "text": "Number of posts with post creation time",
         "x": 0.5
        },
        "showlegend": false
       },
       "config": {
        "plotlyServerURL": "https://plot.ly"
       }
      },
      "text/html": "<div>                            <div id=\"45e69cce-3f08-4176-a874-6b2e097a37f1\" class=\"plotly-graph-div\" style=\"height:525px; width:100%;\"></div>            <script type=\"text/javascript\">                require([\"plotly\"], function(Plotly) {                    window.PLOTLYENV=window.PLOTLYENV || {};                                    if (document.getElementById(\"45e69cce-3f08-4176-a874-6b2e097a37f1\")) {                    Plotly.newPlot(                        \"45e69cce-3f08-4176-a874-6b2e097a37f1\",                        [{\"hovertemplate\":\"variable=count<br>index=%{x}<br>value=%{y}<extra></extra>\",\"legendgroup\":\"count\",\"marker\":{\"color\":\"#636efa\",\"symbol\":\"circle\"},\"mode\":\"markers\",\"name\":\"count\",\"orientation\":\"v\",\"showlegend\":true,\"x\":[\"2005-05-31T00:00:00\",\"2005-06-30T00:00:00\",\"2005-07-31T00:00:00\",\"2005-08-31T00:00:00\",\"2005-09-30T00:00:00\",\"2005-10-31T00:00:00\",\"2005-11-30T00:00:00\",\"2005-12-31T00:00:00\",\"2006-01-31T00:00:00\",\"2006-02-28T00:00:00\",\"2006-03-31T00:00:00\",\"2006-04-30T00:00:00\",\"2006-05-31T00:00:00\",\"2006-06-30T00:00:00\",\"2006-07-31T00:00:00\",\"2006-08-31T00:00:00\",\"2006-09-30T00:00:00\",\"2006-10-31T00:00:00\",\"2006-11-30T00:00:00\",\"2006-12-31T00:00:00\",\"2007-01-31T00:00:00\",\"2007-02-28T00:00:00\",\"2007-03-31T00:00:00\",\"2007-04-30T00:00:00\",\"2007-05-31T00:00:00\",\"2007-06-30T00:00:00\",\"2007-07-31T00:00:00\",\"2007-08-31T00:00:00\",\"2007-09-30T00:00:00\",\"2007-10-31T00:00:00\",\"2007-11-30T00:00:00\",\"2007-12-31T00:00:00\",\"2008-01-31T00:00:00\",\"2008-02-29T00:00:00\",\"2008-03-31T00:00:00\",\"2008-04-30T00:00:00\",\"2008-05-31T00:00:00\",\"2008-06-30T00:00:00\",\"2008-07-31T00:00:00\",\"2008-08-31T00:00:00\",\"2008-09-30T00:00:00\",\"2008-10-31T00:00:00\",\"2008-11-30T00:00:00\",\"2008-12-31T00:00:00\",\"2009-01-31T00:00:00\",\"2009-02-28T00:00:00\",\"2009-03-31T00:00:00\",\"2009-04-30T00:00:00\",\"2009-05-31T00:00:00\",\"2009-06-30T00:00:00\",\"2009-07-31T00:00:00\",\"2009-08-31T00:00:00\",\"2009-09-30T00:00:00\",\"2009-10-31T00:00:00\",\"2009-11-30T00:00:00\",\"2009-12-31T00:00:00\",\"2010-01-31T00:00:00\",\"2010-02-28T00:00:00\",\"2010-03-31T00:00:00\",\"2010-04-30T00:00:00\",\"2010-05-31T00:00:00\",\"2010-06-30T00:00:00\",\"2010-07-31T00:00:00\",\"2010-08-31T00:00:00\",\"2010-09-30T00:00:00\",\"2010-10-31T00:00:00\",\"2010-11-30T00:00:00\",\"2010-12-31T00:00:00\",\"2011-01-31T00:00:00\",\"2011-02-28T00:00:00\",\"2011-03-31T00:00:00\",\"2011-04-30T00:00:00\",\"2011-05-31T00:00:00\",\"2011-06-30T00:00:00\",\"2011-07-31T00:00:00\",\"2011-08-31T00:00:00\",\"2011-09-30T00:00:00\",\"2011-10-31T00:00:00\",\"2011-11-30T00:00:00\",\"2011-12-31T00:00:00\",\"2012-01-31T00:00:00\",\"2012-02-29T00:00:00\",\"2012-03-31T00:00:00\",\"2012-04-30T00:00:00\",\"2012-05-31T00:00:00\",\"2012-06-30T00:00:00\",\"2012-07-31T00:00:00\",\"2012-08-31T00:00:00\",\"2012-09-30T00:00:00\",\"2012-10-31T00:00:00\",\"2012-11-30T00:00:00\",\"2012-12-31T00:00:00\",\"2013-01-31T00:00:00\",\"2013-02-28T00:00:00\",\"2013-03-31T00:00:00\",\"2013-04-30T00:00:00\",\"2013-05-31T00:00:00\",\"2013-06-30T00:00:00\",\"2013-07-31T00:00:00\",\"2013-08-31T00:00:00\",\"2013-09-30T00:00:00\",\"2013-10-31T00:00:00\",\"2013-11-30T00:00:00\",\"2013-12-31T00:00:00\",\"2014-01-31T00:00:00\",\"2014-02-28T00:00:00\",\"2014-03-31T00:00:00\",\"2014-04-30T00:00:00\",\"2014-05-31T00:00:00\",\"2014-06-30T00:00:00\",\"2014-07-31T00:00:00\",\"2014-08-31T00:00:00\",\"2014-09-30T00:00:00\",\"2014-10-31T00:00:00\",\"2014-11-30T00:00:00\",\"2014-12-31T00:00:00\",\"2015-01-31T00:00:00\",\"2015-02-28T00:00:00\",\"2015-03-31T00:00:00\",\"2015-04-30T00:00:00\",\"2015-05-31T00:00:00\",\"2015-06-30T00:00:00\",\"2015-07-31T00:00:00\",\"2015-08-31T00:00:00\",\"2015-09-30T00:00:00\",\"2015-10-31T00:00:00\",\"2015-11-30T00:00:00\",\"2015-12-31T00:00:00\",\"2016-01-31T00:00:00\",\"2016-02-29T00:00:00\",\"2016-03-31T00:00:00\",\"2016-04-30T00:00:00\",\"2016-05-31T00:00:00\",\"2016-06-30T00:00:00\",\"2016-07-31T00:00:00\",\"2016-08-31T00:00:00\",\"2016-09-30T00:00:00\",\"2016-10-31T00:00:00\",\"2016-11-30T00:00:00\",\"2016-12-31T00:00:00\",\"2017-01-31T00:00:00\",\"2017-02-28T00:00:00\",\"2017-03-31T00:00:00\",\"2017-04-30T00:00:00\",\"2017-05-31T00:00:00\",\"2017-06-30T00:00:00\",\"2017-07-31T00:00:00\",\"2017-08-31T00:00:00\",\"2017-09-30T00:00:00\",\"2017-10-31T00:00:00\",\"2017-11-30T00:00:00\",\"2017-12-31T00:00:00\",\"2018-01-31T00:00:00\",\"2018-02-28T00:00:00\",\"2018-03-31T00:00:00\",\"2018-04-30T00:00:00\",\"2018-05-31T00:00:00\",\"2018-06-30T00:00:00\",\"2018-07-31T00:00:00\",\"2018-08-31T00:00:00\",\"2018-09-30T00:00:00\",\"2018-10-31T00:00:00\",\"2018-11-30T00:00:00\",\"2018-12-31T00:00:00\",\"2019-01-31T00:00:00\",\"2019-02-28T00:00:00\",\"2019-03-31T00:00:00\",\"2019-04-30T00:00:00\",\"2019-05-31T00:00:00\",\"2019-06-30T00:00:00\",\"2019-07-31T00:00:00\",\"2019-08-31T00:00:00\",\"2019-09-30T00:00:00\",\"2019-10-31T00:00:00\",\"2019-11-30T00:00:00\",\"2019-12-31T00:00:00\",\"2020-01-31T00:00:00\",\"2020-02-29T00:00:00\",\"2020-03-31T00:00:00\",\"2020-04-30T00:00:00\",\"2020-05-31T00:00:00\",\"2020-06-30T00:00:00\",\"2020-07-31T00:00:00\",\"2020-08-31T00:00:00\",\"2020-09-30T00:00:00\",\"2020-10-31T00:00:00\",\"2020-11-30T00:00:00\",\"2020-12-31T00:00:00\",\"2021-01-31T00:00:00\",\"2021-02-28T00:00:00\",\"2021-03-31T00:00:00\",\"2021-04-30T00:00:00\",\"2021-05-31T00:00:00\",\"2021-06-30T00:00:00\",\"2021-07-31T00:00:00\",\"2021-08-31T00:00:00\",\"2021-09-30T00:00:00\",\"2021-10-31T00:00:00\",\"2021-11-30T00:00:00\",\"2021-12-31T00:00:00\",\"2022-01-31T00:00:00\"],\"xaxis\":\"x\",\"y\":[571,2798,2327,2693,2006,2249,2033,2120,3831,4186,5544,3994,5005,5356,8002,6583,6116,7005,4927,4977,6554,7258,2826,2964,2784,3304,2660,4170,5567,9191,11951,12620,13201,13519,13177,16556,16357,16225,14348,14724,17071,17692,16855,19828,17324,14383,18688,15827,14890,13790,16396,19587,18367,17650,16991,19412,18417,16362,19452,16482,17986,16699,18665,19688,17849,18676,17313,20546,22713,21221,21899,20011,18426,18186,19857,19716,20320,20289,18625,19709,20296,20825,22574,22953,21639,20906,22550,23260,20245,19140,20326,23417,19581,15834,18167,20130,22596,21460,21921,20718,18986,20267,21269,23188,21848,20044,24777,22067,25010,23509,27313,28624,26504,24063,26208,27908,25563,24438,28223,29249,27386,26398,28709,26290,25390,26494,30304,33029,30684,27944,27301,27600,30740,30095,30929,30699,28976,28923,25867,28373,29315,28806,31813,30751,32609,29639,31979,33837,33286,34130,30910,31567,30880,30509,33466,37090,34701,31332,32301,31594,30188,30461,28937,34150,32814,28276,31324,29650,29292,28378,29859,29760,29189,28052,29077,31060,32676,35902,37939,42537,46142,42854,47157,51568,47043,49816,47787,50521,54949,50247,56604,50789,58312,55846,60234,68031,68552,65995,66409,68594,14718],\"yaxis\":\"y\",\"type\":\"scatter\"}],                        {\"template\":{\"data\":{\"histogram2dcontour\":[{\"type\":\"histogram2dcontour\",\"colorbar\":{\"outlinewidth\":0,\"ticks\":\"\"},\"colorscale\":[[0.0,\"#0d0887\"],[0.1111111111111111,\"#46039f\"],[0.2222222222222222,\"#7201a8\"],[0.3333333333333333,\"#9c179e\"],[0.4444444444444444,\"#bd3786\"],[0.5555555555555556,\"#d8576b\"],[0.6666666666666666,\"#ed7953\"],[0.7777777777777778,\"#fb9f3a\"],[0.8888888888888888,\"#fdca26\"],[1.0,\"#f0f921\"]]}],\"choropleth\":[{\"type\":\"choropleth\",\"colorbar\":{\"outlinewidth\":0,\"ticks\":\"\"}}],\"histogram2d\":[{\"type\":\"histogram2d\",\"colorbar\":{\"outlinewidth\":0,\"ticks\":\"\"},\"colorscale\":[[0.0,\"#0d0887\"],[0.1111111111111111,\"#46039f\"],[0.2222222222222222,\"#7201a8\"],[0.3333333333333333,\"#9c179e\"],[0.4444444444444444,\"#bd3786\"],[0.5555555555555556,\"#d8576b\"],[0.6666666666666666,\"#ed7953\"],[0.7777777777777778,\"#fb9f3a\"],[0.8888888888888888,\"#fdca26\"],[1.0,\"#f0f921\"]]}],\"heatmap\":[{\"type\":\"heatmap\",\"colorbar\":{\"outlinewidth\":0,\"ticks\":\"\"},\"colorscale\":[[0.0,\"#0d0887\"],[0.1111111111111111,\"#46039f\"],[0.2222222222222222,\"#7201a8\"],[0.3333333333333333,\"#9c179e\"],[0.4444444444444444,\"#bd3786\"],[0.5555555555555556,\"#d8576b\"],[0.6666666666666666,\"#ed7953\"],[0.7777777777777778,\"#fb9f3a\"],[0.8888888888888888,\"#fdca26\"],[1.0,\"#f0f921\"]]}],\"heatmapgl\":[{\"type\":\"heatmapgl\",\"colorbar\":{\"outlinewidth\":0,\"ticks\":\"\"},\"colorscale\":[[0.0,\"#0d0887\"],[0.1111111111111111,\"#46039f\"],[0.2222222222222222,\"#7201a8\"],[0.3333333333333333,\"#9c179e\"],[0.4444444444444444,\"#bd3786\"],[0.5555555555555556,\"#d8576b\"],[0.6666666666666666,\"#ed7953\"],[0.7777777777777778,\"#fb9f3a\"],[0.8888888888888888,\"#fdca26\"],[1.0,\"#f0f921\"]]}],\"contourcarpet\":[{\"type\":\"contourcarpet\",\"colorbar\":{\"outlinewidth\":0,\"ticks\":\"\"}}],\"contour\":[{\"type\":\"contour\",\"colorbar\":{\"outlinewidth\":0,\"ticks\":\"\"},\"colorscale\":[[0.0,\"#0d0887\"],[0.1111111111111111,\"#46039f\"],[0.2222222222222222,\"#7201a8\"],[0.3333333333333333,\"#9c179e\"],[0.4444444444444444,\"#bd3786\"],[0.5555555555555556,\"#d8576b\"],[0.6666666666666666,\"#ed7953\"],[0.7777777777777778,\"#fb9f3a\"],[0.8888888888888888,\"#fdca26\"],[1.0,\"#f0f921\"]]}],\"surface\":[{\"type\":\"surface\",\"colorbar\":{\"outlinewidth\":0,\"ticks\":\"\"},\"colorscale\":[[0.0,\"#0d0887\"],[0.1111111111111111,\"#46039f\"],[0.2222222222222222,\"#7201a8\"],[0.3333333333333333,\"#9c179e\"],[0.4444444444444444,\"#bd3786\"],[0.5555555555555556,\"#d8576b\"],[0.6666666666666666,\"#ed7953\"],[0.7777777777777778,\"#fb9f3a\"],[0.8888888888888888,\"#fdca26\"],[1.0,\"#f0f921\"]]}],\"mesh3d\":[{\"type\":\"mesh3d\",\"colorbar\":{\"outlinewidth\":0,\"ticks\":\"\"}}],\"scatter\":[{\"marker\":{\"line\":{\"color\":\"#283442\"}},\"type\":\"scatter\"}],\"parcoords\":[{\"type\":\"parcoords\",\"line\":{\"colorbar\":{\"outlinewidth\":0,\"ticks\":\"\"}}}],\"scatterpolargl\":[{\"type\":\"scatterpolargl\",\"marker\":{\"colorbar\":{\"outlinewidth\":0,\"ticks\":\"\"}}}],\"bar\":[{\"error_x\":{\"color\":\"#f2f5fa\"},\"error_y\":{\"color\":\"#f2f5fa\"},\"marker\":{\"line\":{\"color\":\"rgb(17,17,17)\",\"width\":0.5},\"pattern\":{\"fillmode\":\"overlay\",\"size\":10,\"solidity\":0.2}},\"type\":\"bar\"}],\"scattergeo\":[{\"type\":\"scattergeo\",\"marker\":{\"colorbar\":{\"outlinewidth\":0,\"ticks\":\"\"}}}],\"scatterpolar\":[{\"type\":\"scatterpolar\",\"marker\":{\"colorbar\":{\"outlinewidth\":0,\"ticks\":\"\"}}}],\"histogram\":[{\"marker\":{\"pattern\":{\"fillmode\":\"overlay\",\"size\":10,\"solidity\":0.2}},\"type\":\"histogram\"}],\"scattergl\":[{\"marker\":{\"line\":{\"color\":\"#283442\"}},\"type\":\"scattergl\"}],\"scatter3d\":[{\"type\":\"scatter3d\",\"line\":{\"colorbar\":{\"outlinewidth\":0,\"ticks\":\"\"}},\"marker\":{\"colorbar\":{\"outlinewidth\":0,\"ticks\":\"\"}}}],\"scattermapbox\":[{\"type\":\"scattermapbox\",\"marker\":{\"colorbar\":{\"outlinewidth\":0,\"ticks\":\"\"}}}],\"scatterternary\":[{\"type\":\"scatterternary\",\"marker\":{\"colorbar\":{\"outlinewidth\":0,\"ticks\":\"\"}}}],\"scattercarpet\":[{\"type\":\"scattercarpet\",\"marker\":{\"colorbar\":{\"outlinewidth\":0,\"ticks\":\"\"}}}],\"carpet\":[{\"aaxis\":{\"endlinecolor\":\"#A2B1C6\",\"gridcolor\":\"#506784\",\"linecolor\":\"#506784\",\"minorgridcolor\":\"#506784\",\"startlinecolor\":\"#A2B1C6\"},\"baxis\":{\"endlinecolor\":\"#A2B1C6\",\"gridcolor\":\"#506784\",\"linecolor\":\"#506784\",\"minorgridcolor\":\"#506784\",\"startlinecolor\":\"#A2B1C6\"},\"type\":\"carpet\"}],\"table\":[{\"cells\":{\"fill\":{\"color\":\"#506784\"},\"line\":{\"color\":\"rgb(17,17,17)\"}},\"header\":{\"fill\":{\"color\":\"#2a3f5f\"},\"line\":{\"color\":\"rgb(17,17,17)\"}},\"type\":\"table\"}],\"barpolar\":[{\"marker\":{\"line\":{\"color\":\"rgb(17,17,17)\",\"width\":0.5},\"pattern\":{\"fillmode\":\"overlay\",\"size\":10,\"solidity\":0.2}},\"type\":\"barpolar\"}],\"pie\":[{\"automargin\":true,\"type\":\"pie\"}]},\"layout\":{\"autotypenumbers\":\"strict\",\"colorway\":[\"#636efa\",\"#EF553B\",\"#00cc96\",\"#ab63fa\",\"#FFA15A\",\"#19d3f3\",\"#FF6692\",\"#B6E880\",\"#FF97FF\",\"#FECB52\"],\"font\":{\"color\":\"#f2f5fa\"},\"hovermode\":\"closest\",\"hoverlabel\":{\"align\":\"left\"},\"paper_bgcolor\":\"rgb(17,17,17)\",\"plot_bgcolor\":\"rgb(17,17,17)\",\"polar\":{\"bgcolor\":\"rgb(17,17,17)\",\"angularaxis\":{\"gridcolor\":\"#506784\",\"linecolor\":\"#506784\",\"ticks\":\"\"},\"radialaxis\":{\"gridcolor\":\"#506784\",\"linecolor\":\"#506784\",\"ticks\":\"\"}},\"ternary\":{\"bgcolor\":\"rgb(17,17,17)\",\"aaxis\":{\"gridcolor\":\"#506784\",\"linecolor\":\"#506784\",\"ticks\":\"\"},\"baxis\":{\"gridcolor\":\"#506784\",\"linecolor\":\"#506784\",\"ticks\":\"\"},\"caxis\":{\"gridcolor\":\"#506784\",\"linecolor\":\"#506784\",\"ticks\":\"\"}},\"coloraxis\":{\"colorbar\":{\"outlinewidth\":0,\"ticks\":\"\"}},\"colorscale\":{\"sequential\":[[0.0,\"#0d0887\"],[0.1111111111111111,\"#46039f\"],[0.2222222222222222,\"#7201a8\"],[0.3333333333333333,\"#9c179e\"],[0.4444444444444444,\"#bd3786\"],[0.5555555555555556,\"#d8576b\"],[0.6666666666666666,\"#ed7953\"],[0.7777777777777778,\"#fb9f3a\"],[0.8888888888888888,\"#fdca26\"],[1.0,\"#f0f921\"]],\"sequentialminus\":[[0.0,\"#0d0887\"],[0.1111111111111111,\"#46039f\"],[0.2222222222222222,\"#7201a8\"],[0.3333333333333333,\"#9c179e\"],[0.4444444444444444,\"#bd3786\"],[0.5555555555555556,\"#d8576b\"],[0.6666666666666666,\"#ed7953\"],[0.7777777777777778,\"#fb9f3a\"],[0.8888888888888888,\"#fdca26\"],[1.0,\"#f0f921\"]],\"diverging\":[[0,\"#8e0152\"],[0.1,\"#c51b7d\"],[0.2,\"#de77ae\"],[0.3,\"#f1b6da\"],[0.4,\"#fde0ef\"],[0.5,\"#f7f7f7\"],[0.6,\"#e6f5d0\"],[0.7,\"#b8e186\"],[0.8,\"#7fbc41\"],[0.9,\"#4d9221\"],[1,\"#276419\"]]},\"xaxis\":{\"gridcolor\":\"#283442\",\"linecolor\":\"#506784\",\"ticks\":\"\",\"title\":{\"standoff\":15},\"zerolinecolor\":\"#283442\",\"automargin\":true,\"zerolinewidth\":2},\"yaxis\":{\"gridcolor\":\"#283442\",\"linecolor\":\"#506784\",\"ticks\":\"\",\"title\":{\"standoff\":15},\"zerolinecolor\":\"#283442\",\"automargin\":true,\"zerolinewidth\":2},\"scene\":{\"xaxis\":{\"backgroundcolor\":\"rgb(17,17,17)\",\"gridcolor\":\"#506784\",\"linecolor\":\"#506784\",\"showbackground\":true,\"ticks\":\"\",\"zerolinecolor\":\"#C8D4E3\",\"gridwidth\":2},\"yaxis\":{\"backgroundcolor\":\"rgb(17,17,17)\",\"gridcolor\":\"#506784\",\"linecolor\":\"#506784\",\"showbackground\":true,\"ticks\":\"\",\"zerolinecolor\":\"#C8D4E3\",\"gridwidth\":2},\"zaxis\":{\"backgroundcolor\":\"rgb(17,17,17)\",\"gridcolor\":\"#506784\",\"linecolor\":\"#506784\",\"showbackground\":true,\"ticks\":\"\",\"zerolinecolor\":\"#C8D4E3\",\"gridwidth\":2}},\"shapedefaults\":{\"line\":{\"color\":\"#f2f5fa\"}},\"annotationdefaults\":{\"arrowcolor\":\"#f2f5fa\",\"arrowhead\":0,\"arrowwidth\":1},\"geo\":{\"bgcolor\":\"rgb(17,17,17)\",\"landcolor\":\"rgb(17,17,17)\",\"subunitcolor\":\"#506784\",\"showland\":true,\"showlakes\":true,\"lakecolor\":\"rgb(17,17,17)\"},\"title\":{\"x\":0.05},\"updatemenudefaults\":{\"bgcolor\":\"#506784\",\"borderwidth\":0},\"sliderdefaults\":{\"bgcolor\":\"#C8D4E3\",\"borderwidth\":1,\"bordercolor\":\"rgb(17,17,17)\",\"tickwidth\":0},\"mapbox\":{\"style\":\"dark\"}}},\"xaxis\":{\"anchor\":\"y\",\"domain\":[0.0,1.0],\"title\":{\"text\":\"Creation time\"}},\"yaxis\":{\"anchor\":\"x\",\"domain\":[0.0,1.0],\"title\":{\"text\":\"Post count\"}},\"legend\":{\"title\":{\"text\":\"variable\"},\"tracegroupgap\":0},\"margin\":{\"t\":60},\"title\":{\"text\":\"Number of posts with post creation time\",\"x\":0.5},\"showlegend\":false},                        {\"responsive\": true}                    ).then(function(){\n                            \nvar gd = document.getElementById('45e69cce-3f08-4176-a874-6b2e097a37f1');\nvar x = new MutationObserver(function (mutations, observer) {{\n        var display = window.getComputedStyle(gd).display;\n        if (!display || display === 'none') {{\n            console.log([gd, 'removed!']);\n            Plotly.purge(gd);\n            observer.disconnect();\n        }}\n}});\n\n// Listen for the removal of the full notebook cells\nvar notebookContainer = gd.closest('#notebook-container');\nif (notebookContainer) {{\n    x.observe(notebookContainer, {childList: true});\n}}\n\n// Listen for the clearing of the current output cell\nvar outputEl = gd.closest('.output');\nif (outputEl) {{\n    x.observe(outputEl, {childList: true});\n}}\n\n                        })                };                });            </script>        </div>"
     },
     "metadata": {},
     "output_type": "display_data"
    }
   ],
   "source": [
    "plot(\"post_creation_date_counts\", px.scatter(post_creation_date_counts_df).update_layout(\n",
    "    title=\"Number of posts with post creation time\",\n",
    "    xaxis_title=\"Creation time\",\n",
    "    yaxis_title=\"Post count\",\n",
    "    showlegend=False,\n",
    "))"
   ],
   "metadata": {
    "collapsed": false
   }
  },
  {
   "cell_type": "code",
   "execution_count": 84,
   "outputs": [],
   "source": [
    "# Top tags sorted by average post score.\n",
    "tags_with_average_score_sorted = list(tags_with_average_score.items())\n",
    "tags_with_average_score_sorted.sort(key=lambda x: x[1], reverse=True)\n",
    "tags_with_average_score_sorted = [\n",
    "    {\"name\": tags[tag_id][\"name\"], \"score\": score}\n",
    "    for tag_id, score in tags_with_average_score_sorted[:50]\n",
    "]"
   ],
   "metadata": {
    "collapsed": false
   }
  },
  {
   "cell_type": "code",
   "execution_count": 98,
   "outputs": [
    {
     "data": {
      "application/vnd.plotly.v1+json": {
       "data": [
        {
         "alignmentgroup": "True",
         "hovertemplate": "name=%{x}<br>score=%{y}<extra></extra>",
         "legendgroup": "",
         "marker": {
          "color": "#636efa",
          "pattern": {
           "shape": ""
          }
         },
         "name": "",
         "offsetgroup": "",
         "orientation": "v",
         "showlegend": false,
         "textposition": "auto",
         "x": [
          "m-da_s-tarou",
          "patreon_reward",
          "optionaltypo",
          "paid_reward",
          "audible_speech",
          "cutesexyrobutts",
          "prone_bone",
          "fanbox_reward",
          "hews",
          "sound",
          "yd_(orange_maru)",
          "moaning",
          "fumihiko_(fu_mihi_ko)",
          "anus_peek",
          "standing_sex",
          "deep_penetration",
          "clitoral_hood",
          "pointless_condom",
          "has_bad_revision",
          "irrumatio",
          "deepthroat",
          "after_vaginal",
          "internal_cumshot",
          "mushoku_tensei",
          "squatting_cowgirl_position",
          "take_your_pick",
          "mona_(genshin_impact)",
          "backboob",
          "null_(nyanpyoun)",
          "uterus",
          "pussy_juice_trail",
          "satin",
          "spread_ass",
          "ass_focus",
          "asutora",
          "pillow_grab",
          "neocoill",
          "penis_awe",
          "st._louis_(azur_lane)",
          "ffm_threesome",
          "multiple_fellatio",
          "mating_press",
          "uzaki-chan_wa_asobitai!",
          "used_tissue",
          "after_fellatio",
          "impregnation",
          "yomu_(sgt_epper)",
          "asanagi",
          "sincos",
          "sex_from_behind"
         ],
         "xaxis": "x",
         "y": [
          89.8985051140834,
          72.29125744646595,
          71.98721730580138,
          68.57860262008734,
          67.01558654634947,
          66.99196141479099,
          66.13418079096046,
          65.67982832618026,
          61.81066945606695,
          60.04464538005086,
          59.800908402725206,
          57.92489568845619,
          56.88715953307393,
          54.82201834862385,
          54.103068634340595,
          52.886711281070745,
          52.72195121951219,
          51.51647373107747,
          51.15935626380562,
          50.899059871350815,
          50.851010101010104,
          50.76999252615845,
          49.95090361445783,
          49.4225621414914,
          49.3227002967359,
          49.24140857021638,
          48.98414434117004,
          48.80952380952381,
          48.80524017467249,
          48.26455172413793,
          48.119477006311996,
          47.571148184494604,
          47.500375657400454,
          47.1188576714071,
          46.8056338028169,
          46.557120500782474,
          46.09148264984227,
          45.94531672983216,
          45.78525868178597,
          45.68635992376804,
          45.384192439862545,
          45.2127808988764,
          45.13927125506073,
          45.04035433070866,
          44.921471718835804,
          44.250791139240505,
          44.077511961722486,
          43.981101068200495,
          43.85727611940298,
          43.7841031522608
         ],
         "yaxis": "y",
         "type": "bar"
        }
       ],
       "layout": {
        "template": {
         "data": {
          "histogram2dcontour": [
           {
            "type": "histogram2dcontour",
            "colorbar": {
             "outlinewidth": 0,
             "ticks": ""
            },
            "colorscale": [
             [
              0.0,
              "#0d0887"
             ],
             [
              0.1111111111111111,
              "#46039f"
             ],
             [
              0.2222222222222222,
              "#7201a8"
             ],
             [
              0.3333333333333333,
              "#9c179e"
             ],
             [
              0.4444444444444444,
              "#bd3786"
             ],
             [
              0.5555555555555556,
              "#d8576b"
             ],
             [
              0.6666666666666666,
              "#ed7953"
             ],
             [
              0.7777777777777778,
              "#fb9f3a"
             ],
             [
              0.8888888888888888,
              "#fdca26"
             ],
             [
              1.0,
              "#f0f921"
             ]
            ]
           }
          ],
          "choropleth": [
           {
            "type": "choropleth",
            "colorbar": {
             "outlinewidth": 0,
             "ticks": ""
            }
           }
          ],
          "histogram2d": [
           {
            "type": "histogram2d",
            "colorbar": {
             "outlinewidth": 0,
             "ticks": ""
            },
            "colorscale": [
             [
              0.0,
              "#0d0887"
             ],
             [
              0.1111111111111111,
              "#46039f"
             ],
             [
              0.2222222222222222,
              "#7201a8"
             ],
             [
              0.3333333333333333,
              "#9c179e"
             ],
             [
              0.4444444444444444,
              "#bd3786"
             ],
             [
              0.5555555555555556,
              "#d8576b"
             ],
             [
              0.6666666666666666,
              "#ed7953"
             ],
             [
              0.7777777777777778,
              "#fb9f3a"
             ],
             [
              0.8888888888888888,
              "#fdca26"
             ],
             [
              1.0,
              "#f0f921"
             ]
            ]
           }
          ],
          "heatmap": [
           {
            "type": "heatmap",
            "colorbar": {
             "outlinewidth": 0,
             "ticks": ""
            },
            "colorscale": [
             [
              0.0,
              "#0d0887"
             ],
             [
              0.1111111111111111,
              "#46039f"
             ],
             [
              0.2222222222222222,
              "#7201a8"
             ],
             [
              0.3333333333333333,
              "#9c179e"
             ],
             [
              0.4444444444444444,
              "#bd3786"
             ],
             [
              0.5555555555555556,
              "#d8576b"
             ],
             [
              0.6666666666666666,
              "#ed7953"
             ],
             [
              0.7777777777777778,
              "#fb9f3a"
             ],
             [
              0.8888888888888888,
              "#fdca26"
             ],
             [
              1.0,
              "#f0f921"
             ]
            ]
           }
          ],
          "heatmapgl": [
           {
            "type": "heatmapgl",
            "colorbar": {
             "outlinewidth": 0,
             "ticks": ""
            },
            "colorscale": [
             [
              0.0,
              "#0d0887"
             ],
             [
              0.1111111111111111,
              "#46039f"
             ],
             [
              0.2222222222222222,
              "#7201a8"
             ],
             [
              0.3333333333333333,
              "#9c179e"
             ],
             [
              0.4444444444444444,
              "#bd3786"
             ],
             [
              0.5555555555555556,
              "#d8576b"
             ],
             [
              0.6666666666666666,
              "#ed7953"
             ],
             [
              0.7777777777777778,
              "#fb9f3a"
             ],
             [
              0.8888888888888888,
              "#fdca26"
             ],
             [
              1.0,
              "#f0f921"
             ]
            ]
           }
          ],
          "contourcarpet": [
           {
            "type": "contourcarpet",
            "colorbar": {
             "outlinewidth": 0,
             "ticks": ""
            }
           }
          ],
          "contour": [
           {
            "type": "contour",
            "colorbar": {
             "outlinewidth": 0,
             "ticks": ""
            },
            "colorscale": [
             [
              0.0,
              "#0d0887"
             ],
             [
              0.1111111111111111,
              "#46039f"
             ],
             [
              0.2222222222222222,
              "#7201a8"
             ],
             [
              0.3333333333333333,
              "#9c179e"
             ],
             [
              0.4444444444444444,
              "#bd3786"
             ],
             [
              0.5555555555555556,
              "#d8576b"
             ],
             [
              0.6666666666666666,
              "#ed7953"
             ],
             [
              0.7777777777777778,
              "#fb9f3a"
             ],
             [
              0.8888888888888888,
              "#fdca26"
             ],
             [
              1.0,
              "#f0f921"
             ]
            ]
           }
          ],
          "surface": [
           {
            "type": "surface",
            "colorbar": {
             "outlinewidth": 0,
             "ticks": ""
            },
            "colorscale": [
             [
              0.0,
              "#0d0887"
             ],
             [
              0.1111111111111111,
              "#46039f"
             ],
             [
              0.2222222222222222,
              "#7201a8"
             ],
             [
              0.3333333333333333,
              "#9c179e"
             ],
             [
              0.4444444444444444,
              "#bd3786"
             ],
             [
              0.5555555555555556,
              "#d8576b"
             ],
             [
              0.6666666666666666,
              "#ed7953"
             ],
             [
              0.7777777777777778,
              "#fb9f3a"
             ],
             [
              0.8888888888888888,
              "#fdca26"
             ],
             [
              1.0,
              "#f0f921"
             ]
            ]
           }
          ],
          "mesh3d": [
           {
            "type": "mesh3d",
            "colorbar": {
             "outlinewidth": 0,
             "ticks": ""
            }
           }
          ],
          "scatter": [
           {
            "marker": {
             "line": {
              "color": "#283442"
             }
            },
            "type": "scatter"
           }
          ],
          "parcoords": [
           {
            "type": "parcoords",
            "line": {
             "colorbar": {
              "outlinewidth": 0,
              "ticks": ""
             }
            }
           }
          ],
          "scatterpolargl": [
           {
            "type": "scatterpolargl",
            "marker": {
             "colorbar": {
              "outlinewidth": 0,
              "ticks": ""
             }
            }
           }
          ],
          "bar": [
           {
            "error_x": {
             "color": "#f2f5fa"
            },
            "error_y": {
             "color": "#f2f5fa"
            },
            "marker": {
             "line": {
              "color": "rgb(17,17,17)",
              "width": 0.5
             },
             "pattern": {
              "fillmode": "overlay",
              "size": 10,
              "solidity": 0.2
             }
            },
            "type": "bar"
           }
          ],
          "scattergeo": [
           {
            "type": "scattergeo",
            "marker": {
             "colorbar": {
              "outlinewidth": 0,
              "ticks": ""
             }
            }
           }
          ],
          "scatterpolar": [
           {
            "type": "scatterpolar",
            "marker": {
             "colorbar": {
              "outlinewidth": 0,
              "ticks": ""
             }
            }
           }
          ],
          "histogram": [
           {
            "marker": {
             "pattern": {
              "fillmode": "overlay",
              "size": 10,
              "solidity": 0.2
             }
            },
            "type": "histogram"
           }
          ],
          "scattergl": [
           {
            "marker": {
             "line": {
              "color": "#283442"
             }
            },
            "type": "scattergl"
           }
          ],
          "scatter3d": [
           {
            "type": "scatter3d",
            "line": {
             "colorbar": {
              "outlinewidth": 0,
              "ticks": ""
             }
            },
            "marker": {
             "colorbar": {
              "outlinewidth": 0,
              "ticks": ""
             }
            }
           }
          ],
          "scattermapbox": [
           {
            "type": "scattermapbox",
            "marker": {
             "colorbar": {
              "outlinewidth": 0,
              "ticks": ""
             }
            }
           }
          ],
          "scatterternary": [
           {
            "type": "scatterternary",
            "marker": {
             "colorbar": {
              "outlinewidth": 0,
              "ticks": ""
             }
            }
           }
          ],
          "scattercarpet": [
           {
            "type": "scattercarpet",
            "marker": {
             "colorbar": {
              "outlinewidth": 0,
              "ticks": ""
             }
            }
           }
          ],
          "carpet": [
           {
            "aaxis": {
             "endlinecolor": "#A2B1C6",
             "gridcolor": "#506784",
             "linecolor": "#506784",
             "minorgridcolor": "#506784",
             "startlinecolor": "#A2B1C6"
            },
            "baxis": {
             "endlinecolor": "#A2B1C6",
             "gridcolor": "#506784",
             "linecolor": "#506784",
             "minorgridcolor": "#506784",
             "startlinecolor": "#A2B1C6"
            },
            "type": "carpet"
           }
          ],
          "table": [
           {
            "cells": {
             "fill": {
              "color": "#506784"
             },
             "line": {
              "color": "rgb(17,17,17)"
             }
            },
            "header": {
             "fill": {
              "color": "#2a3f5f"
             },
             "line": {
              "color": "rgb(17,17,17)"
             }
            },
            "type": "table"
           }
          ],
          "barpolar": [
           {
            "marker": {
             "line": {
              "color": "rgb(17,17,17)",
              "width": 0.5
             },
             "pattern": {
              "fillmode": "overlay",
              "size": 10,
              "solidity": 0.2
             }
            },
            "type": "barpolar"
           }
          ],
          "pie": [
           {
            "automargin": true,
            "type": "pie"
           }
          ]
         },
         "layout": {
          "autotypenumbers": "strict",
          "colorway": [
           "#636efa",
           "#EF553B",
           "#00cc96",
           "#ab63fa",
           "#FFA15A",
           "#19d3f3",
           "#FF6692",
           "#B6E880",
           "#FF97FF",
           "#FECB52"
          ],
          "font": {
           "color": "#f2f5fa"
          },
          "hovermode": "closest",
          "hoverlabel": {
           "align": "left"
          },
          "paper_bgcolor": "rgb(17,17,17)",
          "plot_bgcolor": "rgb(17,17,17)",
          "polar": {
           "bgcolor": "rgb(17,17,17)",
           "angularaxis": {
            "gridcolor": "#506784",
            "linecolor": "#506784",
            "ticks": ""
           },
           "radialaxis": {
            "gridcolor": "#506784",
            "linecolor": "#506784",
            "ticks": ""
           }
          },
          "ternary": {
           "bgcolor": "rgb(17,17,17)",
           "aaxis": {
            "gridcolor": "#506784",
            "linecolor": "#506784",
            "ticks": ""
           },
           "baxis": {
            "gridcolor": "#506784",
            "linecolor": "#506784",
            "ticks": ""
           },
           "caxis": {
            "gridcolor": "#506784",
            "linecolor": "#506784",
            "ticks": ""
           }
          },
          "coloraxis": {
           "colorbar": {
            "outlinewidth": 0,
            "ticks": ""
           }
          },
          "colorscale": {
           "sequential": [
            [
             0.0,
             "#0d0887"
            ],
            [
             0.1111111111111111,
             "#46039f"
            ],
            [
             0.2222222222222222,
             "#7201a8"
            ],
            [
             0.3333333333333333,
             "#9c179e"
            ],
            [
             0.4444444444444444,
             "#bd3786"
            ],
            [
             0.5555555555555556,
             "#d8576b"
            ],
            [
             0.6666666666666666,
             "#ed7953"
            ],
            [
             0.7777777777777778,
             "#fb9f3a"
            ],
            [
             0.8888888888888888,
             "#fdca26"
            ],
            [
             1.0,
             "#f0f921"
            ]
           ],
           "sequentialminus": [
            [
             0.0,
             "#0d0887"
            ],
            [
             0.1111111111111111,
             "#46039f"
            ],
            [
             0.2222222222222222,
             "#7201a8"
            ],
            [
             0.3333333333333333,
             "#9c179e"
            ],
            [
             0.4444444444444444,
             "#bd3786"
            ],
            [
             0.5555555555555556,
             "#d8576b"
            ],
            [
             0.6666666666666666,
             "#ed7953"
            ],
            [
             0.7777777777777778,
             "#fb9f3a"
            ],
            [
             0.8888888888888888,
             "#fdca26"
            ],
            [
             1.0,
             "#f0f921"
            ]
           ],
           "diverging": [
            [
             0,
             "#8e0152"
            ],
            [
             0.1,
             "#c51b7d"
            ],
            [
             0.2,
             "#de77ae"
            ],
            [
             0.3,
             "#f1b6da"
            ],
            [
             0.4,
             "#fde0ef"
            ],
            [
             0.5,
             "#f7f7f7"
            ],
            [
             0.6,
             "#e6f5d0"
            ],
            [
             0.7,
             "#b8e186"
            ],
            [
             0.8,
             "#7fbc41"
            ],
            [
             0.9,
             "#4d9221"
            ],
            [
             1,
             "#276419"
            ]
           ]
          },
          "xaxis": {
           "gridcolor": "#283442",
           "linecolor": "#506784",
           "ticks": "",
           "title": {
            "standoff": 15
           },
           "zerolinecolor": "#283442",
           "automargin": true,
           "zerolinewidth": 2
          },
          "yaxis": {
           "gridcolor": "#283442",
           "linecolor": "#506784",
           "ticks": "",
           "title": {
            "standoff": 15
           },
           "zerolinecolor": "#283442",
           "automargin": true,
           "zerolinewidth": 2
          },
          "scene": {
           "xaxis": {
            "backgroundcolor": "rgb(17,17,17)",
            "gridcolor": "#506784",
            "linecolor": "#506784",
            "showbackground": true,
            "ticks": "",
            "zerolinecolor": "#C8D4E3",
            "gridwidth": 2
           },
           "yaxis": {
            "backgroundcolor": "rgb(17,17,17)",
            "gridcolor": "#506784",
            "linecolor": "#506784",
            "showbackground": true,
            "ticks": "",
            "zerolinecolor": "#C8D4E3",
            "gridwidth": 2
           },
           "zaxis": {
            "backgroundcolor": "rgb(17,17,17)",
            "gridcolor": "#506784",
            "linecolor": "#506784",
            "showbackground": true,
            "ticks": "",
            "zerolinecolor": "#C8D4E3",
            "gridwidth": 2
           }
          },
          "shapedefaults": {
           "line": {
            "color": "#f2f5fa"
           }
          },
          "annotationdefaults": {
           "arrowcolor": "#f2f5fa",
           "arrowhead": 0,
           "arrowwidth": 1
          },
          "geo": {
           "bgcolor": "rgb(17,17,17)",
           "landcolor": "rgb(17,17,17)",
           "subunitcolor": "#506784",
           "showland": true,
           "showlakes": true,
           "lakecolor": "rgb(17,17,17)"
          },
          "title": {
           "x": 0.05
          },
          "updatemenudefaults": {
           "bgcolor": "#506784",
           "borderwidth": 0
          },
          "sliderdefaults": {
           "bgcolor": "#C8D4E3",
           "borderwidth": 1,
           "bordercolor": "rgb(17,17,17)",
           "tickwidth": 0
          },
          "mapbox": {
           "style": "dark"
          }
         }
        },
        "xaxis": {
         "anchor": "y",
         "domain": [
          0.0,
          1.0
         ],
         "title": {
          "text": "Tag name"
         }
        },
        "yaxis": {
         "anchor": "x",
         "domain": [
          0.0,
          1.0
         ],
         "title": {
          "text": "Average score"
         }
        },
        "legend": {
         "tracegroupgap": 0
        },
        "margin": {
         "t": 60
        },
        "barmode": "relative",
        "title": {
         "text": "Average score for top scoring tags (post count ≥ 1000)",
         "x": 0.5
        },
        "showlegend": false
       },
       "config": {
        "plotlyServerURL": "https://plot.ly"
       }
      },
      "text/html": "<div>                            <div id=\"323b8af6-e39c-4c8a-bec7-b8156fd8d731\" class=\"plotly-graph-div\" style=\"height:525px; width:100%;\"></div>            <script type=\"text/javascript\">                require([\"plotly\"], function(Plotly) {                    window.PLOTLYENV=window.PLOTLYENV || {};                                    if (document.getElementById(\"323b8af6-e39c-4c8a-bec7-b8156fd8d731\")) {                    Plotly.newPlot(                        \"323b8af6-e39c-4c8a-bec7-b8156fd8d731\",                        [{\"alignmentgroup\":\"True\",\"hovertemplate\":\"name=%{x}<br>score=%{y}<extra></extra>\",\"legendgroup\":\"\",\"marker\":{\"color\":\"#636efa\",\"pattern\":{\"shape\":\"\"}},\"name\":\"\",\"offsetgroup\":\"\",\"orientation\":\"v\",\"showlegend\":false,\"textposition\":\"auto\",\"x\":[\"m-da_s-tarou\",\"patreon_reward\",\"optionaltypo\",\"paid_reward\",\"audible_speech\",\"cutesexyrobutts\",\"prone_bone\",\"fanbox_reward\",\"hews\",\"sound\",\"yd_(orange_maru)\",\"moaning\",\"fumihiko_(fu_mihi_ko)\",\"anus_peek\",\"standing_sex\",\"deep_penetration\",\"clitoral_hood\",\"pointless_condom\",\"has_bad_revision\",\"irrumatio\",\"deepthroat\",\"after_vaginal\",\"internal_cumshot\",\"mushoku_tensei\",\"squatting_cowgirl_position\",\"take_your_pick\",\"mona_(genshin_impact)\",\"backboob\",\"null_(nyanpyoun)\",\"uterus\",\"pussy_juice_trail\",\"satin\",\"spread_ass\",\"ass_focus\",\"asutora\",\"pillow_grab\",\"neocoill\",\"penis_awe\",\"st._louis_(azur_lane)\",\"ffm_threesome\",\"multiple_fellatio\",\"mating_press\",\"uzaki-chan_wa_asobitai!\",\"used_tissue\",\"after_fellatio\",\"impregnation\",\"yomu_(sgt_epper)\",\"asanagi\",\"sincos\",\"sex_from_behind\"],\"xaxis\":\"x\",\"y\":[89.8985051140834,72.29125744646595,71.98721730580138,68.57860262008734,67.01558654634947,66.99196141479099,66.13418079096046,65.67982832618026,61.81066945606695,60.04464538005086,59.800908402725206,57.92489568845619,56.88715953307393,54.82201834862385,54.103068634340595,52.886711281070745,52.72195121951219,51.51647373107747,51.15935626380562,50.899059871350815,50.851010101010104,50.76999252615845,49.95090361445783,49.4225621414914,49.3227002967359,49.24140857021638,48.98414434117004,48.80952380952381,48.80524017467249,48.26455172413793,48.119477006311996,47.571148184494604,47.500375657400454,47.1188576714071,46.8056338028169,46.557120500782474,46.09148264984227,45.94531672983216,45.78525868178597,45.68635992376804,45.384192439862545,45.2127808988764,45.13927125506073,45.04035433070866,44.921471718835804,44.250791139240505,44.077511961722486,43.981101068200495,43.85727611940298,43.7841031522608],\"yaxis\":\"y\",\"type\":\"bar\"}],                        {\"template\":{\"data\":{\"histogram2dcontour\":[{\"type\":\"histogram2dcontour\",\"colorbar\":{\"outlinewidth\":0,\"ticks\":\"\"},\"colorscale\":[[0.0,\"#0d0887\"],[0.1111111111111111,\"#46039f\"],[0.2222222222222222,\"#7201a8\"],[0.3333333333333333,\"#9c179e\"],[0.4444444444444444,\"#bd3786\"],[0.5555555555555556,\"#d8576b\"],[0.6666666666666666,\"#ed7953\"],[0.7777777777777778,\"#fb9f3a\"],[0.8888888888888888,\"#fdca26\"],[1.0,\"#f0f921\"]]}],\"choropleth\":[{\"type\":\"choropleth\",\"colorbar\":{\"outlinewidth\":0,\"ticks\":\"\"}}],\"histogram2d\":[{\"type\":\"histogram2d\",\"colorbar\":{\"outlinewidth\":0,\"ticks\":\"\"},\"colorscale\":[[0.0,\"#0d0887\"],[0.1111111111111111,\"#46039f\"],[0.2222222222222222,\"#7201a8\"],[0.3333333333333333,\"#9c179e\"],[0.4444444444444444,\"#bd3786\"],[0.5555555555555556,\"#d8576b\"],[0.6666666666666666,\"#ed7953\"],[0.7777777777777778,\"#fb9f3a\"],[0.8888888888888888,\"#fdca26\"],[1.0,\"#f0f921\"]]}],\"heatmap\":[{\"type\":\"heatmap\",\"colorbar\":{\"outlinewidth\":0,\"ticks\":\"\"},\"colorscale\":[[0.0,\"#0d0887\"],[0.1111111111111111,\"#46039f\"],[0.2222222222222222,\"#7201a8\"],[0.3333333333333333,\"#9c179e\"],[0.4444444444444444,\"#bd3786\"],[0.5555555555555556,\"#d8576b\"],[0.6666666666666666,\"#ed7953\"],[0.7777777777777778,\"#fb9f3a\"],[0.8888888888888888,\"#fdca26\"],[1.0,\"#f0f921\"]]}],\"heatmapgl\":[{\"type\":\"heatmapgl\",\"colorbar\":{\"outlinewidth\":0,\"ticks\":\"\"},\"colorscale\":[[0.0,\"#0d0887\"],[0.1111111111111111,\"#46039f\"],[0.2222222222222222,\"#7201a8\"],[0.3333333333333333,\"#9c179e\"],[0.4444444444444444,\"#bd3786\"],[0.5555555555555556,\"#d8576b\"],[0.6666666666666666,\"#ed7953\"],[0.7777777777777778,\"#fb9f3a\"],[0.8888888888888888,\"#fdca26\"],[1.0,\"#f0f921\"]]}],\"contourcarpet\":[{\"type\":\"contourcarpet\",\"colorbar\":{\"outlinewidth\":0,\"ticks\":\"\"}}],\"contour\":[{\"type\":\"contour\",\"colorbar\":{\"outlinewidth\":0,\"ticks\":\"\"},\"colorscale\":[[0.0,\"#0d0887\"],[0.1111111111111111,\"#46039f\"],[0.2222222222222222,\"#7201a8\"],[0.3333333333333333,\"#9c179e\"],[0.4444444444444444,\"#bd3786\"],[0.5555555555555556,\"#d8576b\"],[0.6666666666666666,\"#ed7953\"],[0.7777777777777778,\"#fb9f3a\"],[0.8888888888888888,\"#fdca26\"],[1.0,\"#f0f921\"]]}],\"surface\":[{\"type\":\"surface\",\"colorbar\":{\"outlinewidth\":0,\"ticks\":\"\"},\"colorscale\":[[0.0,\"#0d0887\"],[0.1111111111111111,\"#46039f\"],[0.2222222222222222,\"#7201a8\"],[0.3333333333333333,\"#9c179e\"],[0.4444444444444444,\"#bd3786\"],[0.5555555555555556,\"#d8576b\"],[0.6666666666666666,\"#ed7953\"],[0.7777777777777778,\"#fb9f3a\"],[0.8888888888888888,\"#fdca26\"],[1.0,\"#f0f921\"]]}],\"mesh3d\":[{\"type\":\"mesh3d\",\"colorbar\":{\"outlinewidth\":0,\"ticks\":\"\"}}],\"scatter\":[{\"marker\":{\"line\":{\"color\":\"#283442\"}},\"type\":\"scatter\"}],\"parcoords\":[{\"type\":\"parcoords\",\"line\":{\"colorbar\":{\"outlinewidth\":0,\"ticks\":\"\"}}}],\"scatterpolargl\":[{\"type\":\"scatterpolargl\",\"marker\":{\"colorbar\":{\"outlinewidth\":0,\"ticks\":\"\"}}}],\"bar\":[{\"error_x\":{\"color\":\"#f2f5fa\"},\"error_y\":{\"color\":\"#f2f5fa\"},\"marker\":{\"line\":{\"color\":\"rgb(17,17,17)\",\"width\":0.5},\"pattern\":{\"fillmode\":\"overlay\",\"size\":10,\"solidity\":0.2}},\"type\":\"bar\"}],\"scattergeo\":[{\"type\":\"scattergeo\",\"marker\":{\"colorbar\":{\"outlinewidth\":0,\"ticks\":\"\"}}}],\"scatterpolar\":[{\"type\":\"scatterpolar\",\"marker\":{\"colorbar\":{\"outlinewidth\":0,\"ticks\":\"\"}}}],\"histogram\":[{\"marker\":{\"pattern\":{\"fillmode\":\"overlay\",\"size\":10,\"solidity\":0.2}},\"type\":\"histogram\"}],\"scattergl\":[{\"marker\":{\"line\":{\"color\":\"#283442\"}},\"type\":\"scattergl\"}],\"scatter3d\":[{\"type\":\"scatter3d\",\"line\":{\"colorbar\":{\"outlinewidth\":0,\"ticks\":\"\"}},\"marker\":{\"colorbar\":{\"outlinewidth\":0,\"ticks\":\"\"}}}],\"scattermapbox\":[{\"type\":\"scattermapbox\",\"marker\":{\"colorbar\":{\"outlinewidth\":0,\"ticks\":\"\"}}}],\"scatterternary\":[{\"type\":\"scatterternary\",\"marker\":{\"colorbar\":{\"outlinewidth\":0,\"ticks\":\"\"}}}],\"scattercarpet\":[{\"type\":\"scattercarpet\",\"marker\":{\"colorbar\":{\"outlinewidth\":0,\"ticks\":\"\"}}}],\"carpet\":[{\"aaxis\":{\"endlinecolor\":\"#A2B1C6\",\"gridcolor\":\"#506784\",\"linecolor\":\"#506784\",\"minorgridcolor\":\"#506784\",\"startlinecolor\":\"#A2B1C6\"},\"baxis\":{\"endlinecolor\":\"#A2B1C6\",\"gridcolor\":\"#506784\",\"linecolor\":\"#506784\",\"minorgridcolor\":\"#506784\",\"startlinecolor\":\"#A2B1C6\"},\"type\":\"carpet\"}],\"table\":[{\"cells\":{\"fill\":{\"color\":\"#506784\"},\"line\":{\"color\":\"rgb(17,17,17)\"}},\"header\":{\"fill\":{\"color\":\"#2a3f5f\"},\"line\":{\"color\":\"rgb(17,17,17)\"}},\"type\":\"table\"}],\"barpolar\":[{\"marker\":{\"line\":{\"color\":\"rgb(17,17,17)\",\"width\":0.5},\"pattern\":{\"fillmode\":\"overlay\",\"size\":10,\"solidity\":0.2}},\"type\":\"barpolar\"}],\"pie\":[{\"automargin\":true,\"type\":\"pie\"}]},\"layout\":{\"autotypenumbers\":\"strict\",\"colorway\":[\"#636efa\",\"#EF553B\",\"#00cc96\",\"#ab63fa\",\"#FFA15A\",\"#19d3f3\",\"#FF6692\",\"#B6E880\",\"#FF97FF\",\"#FECB52\"],\"font\":{\"color\":\"#f2f5fa\"},\"hovermode\":\"closest\",\"hoverlabel\":{\"align\":\"left\"},\"paper_bgcolor\":\"rgb(17,17,17)\",\"plot_bgcolor\":\"rgb(17,17,17)\",\"polar\":{\"bgcolor\":\"rgb(17,17,17)\",\"angularaxis\":{\"gridcolor\":\"#506784\",\"linecolor\":\"#506784\",\"ticks\":\"\"},\"radialaxis\":{\"gridcolor\":\"#506784\",\"linecolor\":\"#506784\",\"ticks\":\"\"}},\"ternary\":{\"bgcolor\":\"rgb(17,17,17)\",\"aaxis\":{\"gridcolor\":\"#506784\",\"linecolor\":\"#506784\",\"ticks\":\"\"},\"baxis\":{\"gridcolor\":\"#506784\",\"linecolor\":\"#506784\",\"ticks\":\"\"},\"caxis\":{\"gridcolor\":\"#506784\",\"linecolor\":\"#506784\",\"ticks\":\"\"}},\"coloraxis\":{\"colorbar\":{\"outlinewidth\":0,\"ticks\":\"\"}},\"colorscale\":{\"sequential\":[[0.0,\"#0d0887\"],[0.1111111111111111,\"#46039f\"],[0.2222222222222222,\"#7201a8\"],[0.3333333333333333,\"#9c179e\"],[0.4444444444444444,\"#bd3786\"],[0.5555555555555556,\"#d8576b\"],[0.6666666666666666,\"#ed7953\"],[0.7777777777777778,\"#fb9f3a\"],[0.8888888888888888,\"#fdca26\"],[1.0,\"#f0f921\"]],\"sequentialminus\":[[0.0,\"#0d0887\"],[0.1111111111111111,\"#46039f\"],[0.2222222222222222,\"#7201a8\"],[0.3333333333333333,\"#9c179e\"],[0.4444444444444444,\"#bd3786\"],[0.5555555555555556,\"#d8576b\"],[0.6666666666666666,\"#ed7953\"],[0.7777777777777778,\"#fb9f3a\"],[0.8888888888888888,\"#fdca26\"],[1.0,\"#f0f921\"]],\"diverging\":[[0,\"#8e0152\"],[0.1,\"#c51b7d\"],[0.2,\"#de77ae\"],[0.3,\"#f1b6da\"],[0.4,\"#fde0ef\"],[0.5,\"#f7f7f7\"],[0.6,\"#e6f5d0\"],[0.7,\"#b8e186\"],[0.8,\"#7fbc41\"],[0.9,\"#4d9221\"],[1,\"#276419\"]]},\"xaxis\":{\"gridcolor\":\"#283442\",\"linecolor\":\"#506784\",\"ticks\":\"\",\"title\":{\"standoff\":15},\"zerolinecolor\":\"#283442\",\"automargin\":true,\"zerolinewidth\":2},\"yaxis\":{\"gridcolor\":\"#283442\",\"linecolor\":\"#506784\",\"ticks\":\"\",\"title\":{\"standoff\":15},\"zerolinecolor\":\"#283442\",\"automargin\":true,\"zerolinewidth\":2},\"scene\":{\"xaxis\":{\"backgroundcolor\":\"rgb(17,17,17)\",\"gridcolor\":\"#506784\",\"linecolor\":\"#506784\",\"showbackground\":true,\"ticks\":\"\",\"zerolinecolor\":\"#C8D4E3\",\"gridwidth\":2},\"yaxis\":{\"backgroundcolor\":\"rgb(17,17,17)\",\"gridcolor\":\"#506784\",\"linecolor\":\"#506784\",\"showbackground\":true,\"ticks\":\"\",\"zerolinecolor\":\"#C8D4E3\",\"gridwidth\":2},\"zaxis\":{\"backgroundcolor\":\"rgb(17,17,17)\",\"gridcolor\":\"#506784\",\"linecolor\":\"#506784\",\"showbackground\":true,\"ticks\":\"\",\"zerolinecolor\":\"#C8D4E3\",\"gridwidth\":2}},\"shapedefaults\":{\"line\":{\"color\":\"#f2f5fa\"}},\"annotationdefaults\":{\"arrowcolor\":\"#f2f5fa\",\"arrowhead\":0,\"arrowwidth\":1},\"geo\":{\"bgcolor\":\"rgb(17,17,17)\",\"landcolor\":\"rgb(17,17,17)\",\"subunitcolor\":\"#506784\",\"showland\":true,\"showlakes\":true,\"lakecolor\":\"rgb(17,17,17)\"},\"title\":{\"x\":0.05},\"updatemenudefaults\":{\"bgcolor\":\"#506784\",\"borderwidth\":0},\"sliderdefaults\":{\"bgcolor\":\"#C8D4E3\",\"borderwidth\":1,\"bordercolor\":\"rgb(17,17,17)\",\"tickwidth\":0},\"mapbox\":{\"style\":\"dark\"}}},\"xaxis\":{\"anchor\":\"y\",\"domain\":[0.0,1.0],\"title\":{\"text\":\"Tag name\"}},\"yaxis\":{\"anchor\":\"x\",\"domain\":[0.0,1.0],\"title\":{\"text\":\"Average score\"}},\"legend\":{\"tracegroupgap\":0},\"margin\":{\"t\":60},\"barmode\":\"relative\",\"title\":{\"text\":\"Average score for top scoring tags (post count \\u2265 1000)\",\"x\":0.5},\"showlegend\":false},                        {\"responsive\": true}                    ).then(function(){\n                            \nvar gd = document.getElementById('323b8af6-e39c-4c8a-bec7-b8156fd8d731');\nvar x = new MutationObserver(function (mutations, observer) {{\n        var display = window.getComputedStyle(gd).display;\n        if (!display || display === 'none') {{\n            console.log([gd, 'removed!']);\n            Plotly.purge(gd);\n            observer.disconnect();\n        }}\n}});\n\n// Listen for the removal of the full notebook cells\nvar notebookContainer = gd.closest('#notebook-container');\nif (notebookContainer) {{\n    x.observe(notebookContainer, {childList: true});\n}}\n\n// Listen for the clearing of the current output cell\nvar outputEl = gd.closest('.output');\nif (outputEl) {{\n    x.observe(outputEl, {childList: true});\n}}\n\n                        })                };                });            </script>        </div>"
     },
     "metadata": {},
     "output_type": "display_data"
    }
   ],
   "source": [
    "tags_with_average_score_df = pd.DataFrame(tags_with_average_score_sorted[:50])\n",
    "plot(\"tags_with_average_score\", px.bar(tags_with_average_score_df, x=\"name\", y=\"score\").update_layout(\n",
    "    title=\"Average score for top scoring tags (post count ≥ 1000)\",\n",
    "    xaxis_title=\"Tag name\",\n",
    "    yaxis_title=\"Average score\",\n",
    "    showlegend=False,\n",
    "))"
   ],
   "metadata": {
    "collapsed": false
   }
  },
  {
   "cell_type": "code",
   "execution_count": null,
   "outputs": [],
   "source": [],
   "metadata": {
    "collapsed": false
   }
  }
 ],
 "metadata": {
  "kernelspec": {
   "display_name": "Python 3",
   "language": "python",
   "name": "python3"
  },
  "language_info": {
   "codemirror_mode": {
    "name": "ipython",
    "version": 2
   },
   "file_extension": ".py",
   "mimetype": "text/x-python",
   "name": "python",
   "nbconvert_exporter": "python",
   "pygments_lexer": "ipython2",
   "version": "2.7.6"
  }
 },
 "nbformat": 4,
 "nbformat_minor": 0
}
